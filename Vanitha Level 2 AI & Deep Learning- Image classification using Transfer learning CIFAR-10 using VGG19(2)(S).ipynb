{
 "cells": [
  {
   "cell_type": "code",
   "execution_count": 1,
   "metadata": {
    "colab": {
     "base_uri": "https://localhost:8080/"
    },
    "executionInfo": {
     "elapsed": 30536,
     "status": "ok",
     "timestamp": 1695226734774,
     "user": {
      "displayName": "V B",
      "userId": "06474613093394507000"
     },
     "user_tz": -330
    },
    "id": "EKJSPkHoihM_",
    "outputId": "949271ca-d161-44d2-fb22-5f16ac0d8e84"
   },
   "outputs": [
    {
     "name": "stdout",
     "output_type": "stream",
     "text": [
      "Mounted at /content/drive\n"
     ]
    }
   ],
   "source": [
    "from google.colab import drive\n",
    "drive.mount('/content/drive')"
   ]
  },
  {
   "cell_type": "code",
   "execution_count": 2,
   "metadata": {
    "colab": {
     "base_uri": "https://localhost:8080/"
    },
    "executionInfo": {
     "elapsed": 1675,
     "status": "ok",
     "timestamp": 1695226738475,
     "user": {
      "displayName": "V B",
      "userId": "06474613093394507000"
     },
     "user_tz": -330
    },
    "id": "YhpcAK2DEU4z",
    "outputId": "8a864499-4c85-4796-f8c9-2671274b55ce"
   },
   "outputs": [
    {
     "name": "stdout",
     "output_type": "stream",
     "text": [
      "Requirement already satisfied: tensorflow in /usr/local/lib/python3.10/dist-packages (2.13.0)\n",
      "Collecting tensorflow.gpu\n",
      "  Downloading tensorflow-gpu-2.12.0.tar.gz (2.6 kB)\n",
      "  \u001b[1;31merror\u001b[0m: \u001b[1msubprocess-exited-with-error\u001b[0m\n",
      "  \n",
      "  \u001b[31m×\u001b[0m \u001b[32mpython setup.py egg_info\u001b[0m did not run successfully.\n",
      "  \u001b[31m│\u001b[0m exit code: \u001b[1;36m1\u001b[0m\n",
      "  \u001b[31m╰─>\u001b[0m See above for output.\n",
      "  \n",
      "  \u001b[1;35mnote\u001b[0m: This error originates from a subprocess, and is likely not a problem with pip.\n",
      "  Preparing metadata (setup.py) ... \u001b[?25l\u001b[?25herror\n",
      "\u001b[1;31merror\u001b[0m: \u001b[1mmetadata-generation-failed\u001b[0m\n",
      "\n",
      "\u001b[31m×\u001b[0m Encountered error while generating package metadata.\n",
      "\u001b[31m╰─>\u001b[0m See above for output.\n",
      "\n",
      "\u001b[1;35mnote\u001b[0m: This is an issue with the package mentioned above, not pip.\n",
      "\u001b[1;36mhint\u001b[0m: See above for details.\n"
     ]
    }
   ],
   "source": [
    "!pip install tensorflow tensorflow.gpu opencv-python matplotlib"
   ]
  },
  {
   "cell_type": "code",
   "execution_count": 3,
   "metadata": {
    "executionInfo": {
     "elapsed": 8647,
     "status": "ok",
     "timestamp": 1695226760337,
     "user": {
      "displayName": "V B",
      "userId": "06474613093394507000"
     },
     "user_tz": -330
    },
    "id": "SnynfyXiEjLN"
   },
   "outputs": [],
   "source": [
    "\n",
    "import os\n",
    "import tensorflow as tf\n",
    "from tensorflow import keras\n",
    "from tensorflow.keras.preprocessing.image import ImageDataGenerator\n",
    "from tensorflow.keras.preprocessing import image\n",
    "from tensorflow.keras import layers\n",
    "import os\n",
    "import numpy as np\n",
    "import matplotlib.pyplot as plt\n",
    "import matplotlib.image as implt\n",
    "import seaborn as sns\n",
    "sns.set_style(\"whitegrid\")"
   ]
  },
  {
   "cell_type": "code",
   "execution_count": 10,
   "metadata": {
    "executionInfo": {
     "elapsed": 545,
     "status": "ok",
     "timestamp": 1695227120786,
     "user": {
      "displayName": "V B",
      "userId": "06474613093394507000"
     },
     "user_tz": -330
    },
    "id": "eHc_x27RZCDP"
   },
   "outputs": [],
   "source": [
    "train_path = '/kaggle/input/horses-or-humans-dataset/horse-or-human/train'\n",
    "val_path = '/kaggle/input/horses-or-humans-dataset/horse-or-human/validation'"
   ]
  },
  {
   "cell_type": "code",
   "execution_count": 13,
   "metadata": {
    "colab": {
     "base_uri": "https://localhost:8080/"
    },
    "executionInfo": {
     "elapsed": 4313058,
     "status": "ok",
     "timestamp": 1695232389458,
     "user": {
      "displayName": "V B",
      "userId": "06474613093394507000"
     },
     "user_tz": -330
    },
    "id": "XCpfCns6bC_z",
    "outputId": "1132a78c-ae46-4722-a77d-85cfe6c7416f"
   },
   "outputs": [
    {
     "metadata": {
      "tags": null
     },
     "name": "stdout",
     "output_type": "stream",
     "text": [
      "Downloading data from https://www.cs.toronto.edu/~kriz/cifar-10-python.tar.gz\n",
      "170498071/170498071 [==============================] - 2s 0us/step\n",
      "Downloading data from https://storage.googleapis.com/tensorflow/keras-applications/vgg19/vgg19_weights_tf_dim_ordering_tf_kernels_notop.h5\n",
      "80134624/80134624 [==============================] - 0s 0us/step\n"
     ]
    },
    {
     "metadata": {
      "tags": null
     },
     "name": "stderr",
     "output_type": "stream",
     "text": [
      "WARNING:absl:`lr` is deprecated in Keras optimizer, please use `learning_rate` or use the legacy optimizer, e.g.,tf.keras.optimizers.legacy.Adam.\n"
     ]
    },
    {
     "name": "stdout",
     "output_type": "stream",
     "text": [
      "Epoch 1/10\n",
      "665/665 [==============================] - 507s 761ms/step - loss: 1.5832 - accuracy: 0.4416 - val_loss: 1.3326 - val_accuracy: 0.5273\n",
      "Epoch 2/10\n",
      "665/665 [==============================] - 492s 739ms/step - loss: 1.3857 - accuracy: 0.5110 - val_loss: 1.2661 - val_accuracy: 0.5509\n",
      "Epoch 3/10\n",
      "665/665 [==============================] - 482s 725ms/step - loss: 1.3189 - accuracy: 0.5365 - val_loss: 1.2357 - val_accuracy: 0.5629\n",
      "Epoch 4/10\n",
      "665/665 [==============================] - 482s 725ms/step - loss: 1.2863 - accuracy: 0.5477 - val_loss: 1.2114 - val_accuracy: 0.5625\n",
      "Epoch 5/10\n",
      "665/665 [==============================] - 493s 742ms/step - loss: 1.2544 - accuracy: 0.5596 - val_loss: 1.1921 - val_accuracy: 0.5760\n",
      "Epoch 6/10\n",
      "665/665 [==============================] - 482s 725ms/step - loss: 1.2361 - accuracy: 0.5662 - val_loss: 1.2093 - val_accuracy: 0.5717\n",
      "Epoch 7/10\n",
      "665/665 [==============================] - 492s 740ms/step - loss: 1.2128 - accuracy: 0.5730 - val_loss: 1.1806 - val_accuracy: 0.5849\n",
      "Epoch 8/10\n",
      "665/665 [==============================] - 492s 740ms/step - loss: 1.2014 - accuracy: 0.5792 - val_loss: 1.1648 - val_accuracy: 0.5856\n",
      "Epoch 9/10\n",
      "665/665 [==============================] - 481s 724ms/step - loss: 1.1871 - accuracy: 0.5839 - val_loss: 1.1607 - val_accuracy: 0.5893\n",
      "Epoch 10/10\n",
      "665/665 [==============================] - 481s 723ms/step - loss: 1.1741 - accuracy: 0.5880 - val_loss: 1.1507 - val_accuracy: 0.5940\n",
      "313/313 [==============================] - 99s 316ms/step - loss: 1.1659 - accuracy: 0.5913\n",
      "Test accuracy: 0.5913000106811523\n"
     ]
    }
   ],
   "source": [
    "import tensorflow as tf\n",
    "from tensorflow.keras.datasets import cifar10\n",
    "from tensorflow.keras.applications import VGG19\n",
    "from tensorflow.keras.layers import Dense, Flatten, Dropout\n",
    "from tensorflow.keras.models import Model\n",
    "from tensorflow.keras.optimizers import Adam\n",
    "from tensorflow.keras.utils import to_categorical\n",
    "\n",
    "# Load CIFAR-10 dataset\n",
    "(train_images, train_labels), (test_images, test_labels) = cifar10.load_data()\n",
    "\n",
    "# Normalize pixel values to between 0 and 1\n",
    "train_images = train_images / 255.0\n",
    "test_images = test_images / 255.0\n",
    "\n",
    "# One-hot encode labels\n",
    "train_labels = to_categorical(train_labels, num_classes=10)\n",
    "test_labels = to_categorical(test_labels, num_classes=10)\n",
    "\n",
    "# Load VGG19 pretrained on ImageNet\n",
    "base_model = VGG19(weights='imagenet', include_top=False, input_shape=(32, 32, 3))\n",
    "\n",
    "# Add custom classification layers on top\n",
    "x = Flatten()(base_model.output)\n",
    "x = Dense(256, activation='relu')(x)\n",
    "x = Dropout(0.5)(x)\n",
    "predictions = Dense(10, activation='softmax')(x)\n",
    "\n",
    "# Create the model\n",
    "model = Model(inputs=base_model.input, outputs=predictions)\n",
    "\n",
    "# Freeze the layers of the pretrained model\n",
    "for layer in base_model.layers:\n",
    "    layer.trainable = False\n",
    "\n",
    "# Compile the model\n",
    "model.compile(optimizer=Adam(lr=0.0001), loss='categorical_crossentropy', metrics=['accuracy'])\n",
    "\n",
    "# Train the model\n",
    "model.fit(train_images, train_labels, batch_size=64, epochs=10, validation_split=0.15)\n",
    "\n",
    "# Evaluate the model on the test dataset\n",
    "test_loss, test_acc = model.evaluate(test_images, test_labels)\n",
    "print(\"Test accuracy:\", test_acc)"
   ]
  },
  {
   "cell_type": "code",
   "execution_count": 14,
   "metadata": {
    "colab": {
     "base_uri": "https://localhost:8080/",
     "height": 616
    },
    "executionInfo": {
     "elapsed": 2876,
     "status": "ok",
     "timestamp": 1695232576143,
     "user": {
      "displayName": "V B",
      "userId": "06474613093394507000"
     },
     "user_tz": -330
    },
    "id": "okfL79N3bDH6",
    "outputId": "1d4a3870-e68a-44a7-cdce-05278795092e"
   },
   "outputs": [
    {
     "data": {
      "image/png": "[encoded data removed]",
      "text/plain": [
       "<Figure size 1000x600 with 1 Axes>"
      ]
     },
     "metadata": {},
     "output_type": "display_data"
    }
   ],
   "source": [
    "import numpy as np\n",
    "import matplotlib.pyplot as plt\n",
    "\n",
    "# Load CIFAR-10 dataset\n",
    "(train_images, train_labels), (_, _) = cifar10.load_data()\n",
    "\n",
    "# Define class names for CIFAR-10\n",
    "class_names = ['airplane', 'automobile', 'bird', 'cat', 'deer', 'dog', 'frog', 'horse', 'ship', 'truck']\n",
    "\n",
    "# Calculate the number of images per class\n",
    "num_images_per_class = [np.sum(train_labels == i) for i in range(10)]\n",
    "\n",
    "# Plot a bar chart to visualize the distribution of classes\n",
    "plt.figure(figsize=(10, 6))\n",
    "plt.bar(class_names, num_images_per_class)\n",
    "plt.xlabel('Class')\n",
    "plt.ylabel('Number of Images')\n",
    "plt.title('Distribution of Classes in CIFAR-10')\n",
    "plt.xticks(rotation=45)\n",
    "plt.show()"
   ]
  },
  {
   "cell_type": "code",
   "execution_count": null,
   "metadata": {
    "id": "y6e6tCuXbDNl"
   },
   "outputs": [],
   "source": []
  }
 ],
 "metadata": {
  "colab": {
   "authorship_tag": "ABX9TyOdEw8Mn6YqAnHBlxCIouIt",
   "mount_file_id": "14RKvLl8EMSNSFdfN6I4Qy5J-i-kJU5As",
   "provenance": []
  },
  "kernelspec": {
   "display_name": "Python 3 (ipykernel)",
   "language": "python",
   "name": "python3"
  },
  "language_info": {
   "codemirror_mode": {
    "name": "ipython",
    "version": 3
   },
   "file_extension": ".py",
   "mimetype": "text/x-python",
   "name": "python",
   "nbconvert_exporter": "python",
   "pygments_lexer": "ipython3",
   "version": "3.11.4"
  }
 },
 "nbformat": 4,
 "nbformat_minor": 1
}
