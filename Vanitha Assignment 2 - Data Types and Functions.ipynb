{
 "cells": [
  {
   "cell_type": "markdown",
   "id": "5fad3b2a",
   "metadata": {
    "id": "5fad3b2a"
   },
   "source": [
    "# Assessment - 2 Gradable\n",
    "\n",
    "- Each question carries 3 marks\n",
    "- Marks will be assigned in terms of:\n",
    "    \n",
    "    **1. Expected output**\n",
    "    \n",
    "    **2. Quality and Explainability of code**\n",
    "\n",
    "    ***Go back through the script and type a comment above each line explaining in English what it does.***\n",
    "\n",
    "    **3. Copied code, if found, will result in 0 marks for that question. To avoid this make as much comments in the code to explain the approach**"
   ]
  },
  {
   "cell_type": "markdown",
   "id": "03363a58",
   "metadata": {
    "id": "03363a58"
   },
   "source": [
    "### 1.\n",
    "\n",
    "Write a Python program to get a list, sorted in increasing order by the last element in each tuple from a given list of non-empty tuples.\n",
    "\n",
    "Sample List : [(2, 5), (1, 2), (4, 4), (2, 3), (2, 1)]\n",
    "Expected Result : [(2, 1), (1, 2), (2, 3), (4, 4), (2, 5)]"
   ]
  },
  {
   "cell_type": "code",
   "execution_count": 3,
   "id": "73d7418b",
   "metadata": {
    "id": "73d7418b"
   },
   "outputs": [
    {
     "name": "stdout",
     "output_type": "stream",
     "text": [
      "[(7, 5), (4, 2), (6, 4), (8, 3), (5, 1)]\n",
      "\n",
      "[(4, 2), (5, 1), (6, 4), (7, 5), (8, 3)]\n",
      "\n"
     ]
    }
   ],
   "source": [
    "# The sort() method sorts the list ascending order.\n",
    "\n",
    "tuple1 = [(7, 5), (4, 2), (6, 4), (8, 3), (5, 1)]\n",
    "print (tuple1)\n",
    "print ()\n",
    "\n",
    "tuple1.sort() # (ascending) sorted in increasing order\n",
    "print (tuple1)\n",
    "print ()\n",
    "\n",
    "# tuple1.sort(reverse=True) # formula for descending\n",
    "# print (tuple1)\n"
   ]
  },
  {
   "cell_type": "markdown",
   "id": "3d5efe73",
   "metadata": {
    "id": "3d5efe73"
   },
   "source": [
    "### 2. \n",
    "\n",
    "Grab ``StarAgile`` from the following Dictionaries\n",
    "\n",
    "d_difficult = {'k1':[{'nest_key':['this is deep',['StarAgile']]}]}\n",
    "\n",
    "d_irritating = {'k1':[1,2,{'k2':['this is not easy',{'VeryIrriating':[1,2,['StarAgile']]}]}]}"
   ]
  },
  {
   "cell_type": "code",
   "execution_count": 21,
   "id": "9fb35ce9",
   "metadata": {
    "id": "9fb35ce9"
   },
   "outputs": [
    {
     "name": "stdout",
     "output_type": "stream",
     "text": [
      "{'k1': [{'nest_key': ['this is deep', ['StarAgile']]}]}\n",
      "\n"
     ]
    },
    {
     "data": {
      "text/plain": [
       "'StarAgile'"
      ]
     },
     "execution_count": 21,
     "metadata": {},
     "output_type": "execute_result"
    }
   ],
   "source": [
    "d_difficult = {'k1':[{'nest_key':['this is deep',['StarAgile']]}]}\n",
    "print(d_difficult)\n",
    "print()\n",
    "d_difficult['k1'][-1]['nest_key'][-1][-1]\n",
    "# all the elements is a value of 'k1' key so first have to run d_difficult['k1'] next the value of ['nest_key'] have to run, \n",
    "# we will get output of 'nest_key' -['this is deep', ['StarAgile'] in this we need to grab 'StarAgile' as it is last element,\n",
    "# we can use -1 and -1 to remove list.\n"
   ]
  },
  {
   "cell_type": "code",
   "execution_count": 24,
   "id": "c5f69b05",
   "metadata": {},
   "outputs": [
    {
     "name": "stdout",
     "output_type": "stream",
     "text": [
      "{'k1': [1, 2, {'k2': ['this is not easy', {'VeryIrriating': [1, 2, ['StarAgile']]}]}]}\n",
      "\n"
     ]
    },
    {
     "data": {
      "text/plain": [
       "'StarAgile'"
      ]
     },
     "execution_count": 24,
     "metadata": {},
     "output_type": "execute_result"
    }
   ],
   "source": [
    "d_irritating = {'k1':[1,2,{'k2':['this is not easy',{'VeryIrriating':[1,2,['StarAgile']]}]}]}\n",
    "print(d_irritating)\n",
    "print()\n",
    "d_irritating['k1'][-1]['k2'][-1]['VeryIrriating'][-1][-1]\n",
    "# all the elements is a value of 'k1' key so first have to run d_irritating to define -1 to remove list,next set k2 need to grab\n",
    "# and -1 to remove k2 key value and last key is 'VeryIrriating' in that 'StarAgile' is last element,\n",
    "# we can use -1 and -1 to remove list."
   ]
  },
  {
   "cell_type": "markdown",
   "id": "0540a188",
   "metadata": {
    "id": "0540a188"
   },
   "source": [
    "### 3.\n",
    "\n",
    "Write a program to accept a string from the user and display characters that are present at an even index number.\n",
    "\n",
    "For example, str = \"judgemental\" so you should display ‘j’, ‘d’, ‘e’, ‘e’, ‘t’, ‘l’."
   ]
  },
  {
   "cell_type": "code",
   "execution_count": 15,
   "id": "21f5b9dd",
   "metadata": {
    "id": "21f5b9dd"
   },
   "outputs": [
    {
     "name": "stdout",
     "output_type": "stream",
     "text": [
      "jdeetl\n",
      "\n",
      "['j', 'd', 'e', 'e', 't', 'l']\n"
     ]
    }
   ],
   "source": [
    "# Printing 2nd index of \"judgemental\" by using :: and index number\n",
    "str =\"judgemental\"\n",
    "print(str[::2])\n",
    "print()\n",
    "aList = list(str)\n",
    "print (aList[::2]) # converting str in to aList and entered program to find 2nd index"
   ]
  },
  {
   "cell_type": "code",
   "execution_count": 9,
   "id": "44743d59",
   "metadata": {},
   "outputs": [
    {
     "name": "stdout",
     "output_type": "stream",
     "text": [
      "judgemental\n",
      "['j', 'u', 'd', 'g', 'e', 'm', 'e', 'n', 't', 'a', 'l']\n",
      "List =  ['j', 'u', 'd', 'g', 'e', 'm', 'e', 'n', 't', 'a', 'l']\n",
      "\n",
      "u\n",
      "\n",
      "List =  ['j', 'd', 'g', 'e', 'm', 'e', 'n', 't', 'a', 'l']\n",
      "\n",
      "m\n",
      "\n",
      "List =  ['j', 'd', 'g', 'e', 'e', 'n', 't', 'a', 'l']\n",
      "\n",
      "g\n",
      "\n",
      "List =  ['j', 'd', 'e', 'e', 'n', 't', 'a', 'l']\n",
      "\n",
      "n\n",
      "\n",
      "List =  ['j', 'd', 'e', 'e', 't', 'a', 'l']\n",
      "\n",
      "a\n",
      "\n",
      "List =  ['j', 'd', 'e', 'e', 't', 'l']\n",
      "\n",
      "['j', 'd', 'e', 'e', 't', 'l']\n"
     ]
    }
   ],
   "source": [
    "# OTHER WAY TO SOLVE THIS OPTIONAL\n",
    "# j u d g e m e n t a l\n",
    "# 0 1 2 3 4 5 6 7 8 9 10\n",
    "\n",
    "str = \"judgemental\"\n",
    "print (str)\n",
    "\n",
    "aList = list(str)\n",
    "print (aList)\n",
    "\n",
    "aList = ['j', 'u', 'd', 'g', 'e', 'm', 'e', 'n', 't', 'a', 'l']\n",
    "print ('List = ', aList)\n",
    "print ()\n",
    "\n",
    "print (aList.pop(1)) # print the element or value which will be removed\n",
    "print ()\n",
    "print ('List = ', aList)\n",
    "print ()\n",
    "\n",
    "print (aList.pop(4)) # print the element or value which will be removed\n",
    "print ()\n",
    "print ('List = ', aList)\n",
    "print ()\n",
    "\n",
    "print (aList.pop(2)) # print the element or value which will be removed\n",
    "print ()\n",
    "print ('List = ', aList)\n",
    "print ()\n",
    "\n",
    "print (aList.pop(4)) # print the element or value which will be removed\n",
    "print ()\n",
    "print ('List = ', aList)\n",
    "print ()\n",
    "\n",
    "print (aList.pop(5)) # print the element or value which will be removed\n",
    "print ()\n",
    "print ('List = ', aList)\n",
    "print ()\n",
    "\n",
    "print(aList)\n",
    "\n",
    "\n"
   ]
  },
  {
   "cell_type": "markdown",
   "id": "e0884cde",
   "metadata": {
    "id": "e0884cde"
   },
   "source": [
    "### 4. \n",
    "\n",
    "Convert the Float Value of '3.8' into Integer, Complex, Binary and Hexidecimal format"
   ]
  },
  {
   "cell_type": "code",
   "execution_count": 4,
   "id": "99555c16",
   "metadata": {
    "id": "99555c16"
   },
   "outputs": [
    {
     "name": "stdout",
     "output_type": "stream",
     "text": [
      "3.8\n",
      "\n",
      "convert 3\n",
      "\n",
      "Binary = 0b11\n"
     ]
    }
   ],
   "source": [
    "Floatvalue = 3.8\n",
    "print(Floatvalue)\n",
    "print()\n",
    "Floatvalue = int(Floatvalue) # converted in to integer\n",
    "print(\"convert\",Floatvalue)\n",
    "print()\n",
    "Floatvalue = bin(Floatvalue) # converted in to Binary\n",
    "print(\"Binary =\",Floatvalue)\n"
   ]
  },
  {
   "cell_type": "code",
   "execution_count": 5,
   "id": "e7f77ff3",
   "metadata": {},
   "outputs": [
    {
     "name": "stdout",
     "output_type": "stream",
     "text": [
      "3.8\n",
      "\n",
      "convert 3\n",
      "\n",
      "Complex = (3+0j)\n",
      "\n"
     ]
    }
   ],
   "source": [
    "Floatvalue = 3.8\n",
    "print(Floatvalue)\n",
    "print()\n",
    "Floatvalue = int(Floatvalue) # converted in to integer\n",
    "print(\"convert\",Floatvalue)\n",
    "print()\n",
    "Floatvalue = complex(Floatvalue) # converted in to Complex\n",
    "print(\"Complex =\",Floatvalue)\n",
    "print()"
   ]
  },
  {
   "cell_type": "code",
   "execution_count": 6,
   "id": "64da71ac",
   "metadata": {},
   "outputs": [
    {
     "name": "stdout",
     "output_type": "stream",
     "text": [
      "3.8\n",
      "\n",
      "convert 3\n",
      "\n",
      "Hexidecimal = 0x3\n",
      "\n"
     ]
    }
   ],
   "source": [
    "Floatvalue = 3.8\n",
    "print(Floatvalue)\n",
    "print()\n",
    "Floatvalue = int(Floatvalue) # converted in to integer\n",
    "print(\"convert\",Floatvalue)\n",
    "print()\n",
    "Floatvalue = hex(Floatvalue) # converted in to Hexidecimal\n",
    "print(\"Hexidecimal =\",Floatvalue)\n",
    "print()"
   ]
  },
  {
   "cell_type": "markdown",
   "id": "25187f2c",
   "metadata": {
    "id": "25187f2c"
   },
   "source": [
    "### 5. \n",
    "\n",
    "Write a program to accept five names from the user and store it in a Tuple 'T1'"
   ]
  },
  {
   "cell_type": "code",
   "execution_count": 2,
   "id": "7e9e98e3",
   "metadata": {
    "id": "7e9e98e3"
   },
   "outputs": [
    {
     "name": "stdout",
     "output_type": "stream",
     "text": [
      "Enter name to store in a order :PYTHON\n",
      "Enter name to store in a order :TUPLE\n",
      "Enter name to store in a order :LIST\n",
      "Enter name to store in a order :FLOAT\n",
      "Enter name to store in a order :STRING\n",
      "('PYTHON', 'TUPLE', 'LIST', 'FLOAT', 'STRING')\n"
     ]
    }
   ],
   "source": [
    "VList = []\n",
    "for i in range(1,6):\n",
    "    store = input('Enter name to store in a order :')\n",
    "    VList.append(store)\n",
    "tuplestore = tuple(VList)\n",
    "print(tuplestore)"
   ]
  },
  {
   "cell_type": "code",
   "execution_count": 33,
   "id": "a2735210",
   "metadata": {},
   "outputs": [
    {
     "name": "stdout",
     "output_type": "stream",
     "text": [
      "enter any name=PYTHON\n",
      "('PYTHON',)\n",
      "enter any name=TUPLE\n",
      "('PYTHON', 'TUPLE')\n",
      "enter any name=LIST\n",
      "('PYTHON', 'TUPLE', 'LIST')\n",
      "enter any name=FLOAT\n",
      "('PYTHON', 'TUPLE', 'LIST', 'FLOAT')\n",
      "enter any name=STRING\n",
      "('PYTHON', 'TUPLE', 'LIST', 'FLOAT', 'STRING')\n",
      "T1 = ('PYTHON', 'TUPLE', 'LIST', 'FLOAT', 'STRING')\n",
      "\n"
     ]
    }
   ],
   "source": [
    "# OTHER WAY TO SOLVE 5th QUESTION BY USING WHILE LOOPS\n",
    "T1 =()\n",
    "i=0\n",
    "while(i<5):   # as i gave 5 here it will ask names 5 times beacuse T1 is empty, i is less than 5 its false\n",
    "    num=input(\"enter any name=\")\n",
    "    T1 = (T1+(num,))\n",
    "    i=i+1\n",
    "    print(T1)\n",
    "\n",
    "string =('PYTHON', 'TUPLE', 'LIST', 'FLOAT', 'STRING')\n",
    "string =str(string) # converted in to STRING\n",
    "print(\"T1 =\",string) # to get T1 = output i applied this.\n",
    "print()"
   ]
  },
  {
   "cell_type": "code",
   "execution_count": 1,
   "id": "d47de789",
   "metadata": {},
   "outputs": [
    {
     "name": "stdout",
     "output_type": "stream",
     "text": [
      "Enter any name =PYTHON TUPLE LIST FLOAT STRING\n",
      "['PYTHON', 'TUPLE', 'LIST', 'FLOAT', 'STRING']\n",
      "\n",
      "('PYTHON', 'TUPLE', 'LIST', 'FLOAT', 'STRING')\n"
     ]
    }
   ],
   "source": [
    "# OTHER WAY TO SOLVE 5th QUESTION\n",
    "A = input(\"Enter any name =\")\n",
    "B = A.split()\n",
    "type(B)\n",
    "\n",
    "print(B)\n",
    "\n",
    "print()\n",
    "aList =['PYTHON','TUPLE','LIST','FLOAT','STRING']\n",
    "\n",
    "T1 = tuple(aList) # converting list in to tuple\n",
    "print (T1)\n",
    "# Please check other way i applied by using while loop below"
   ]
  },
  {
   "cell_type": "code",
   "execution_count": null,
   "id": "348a385d",
   "metadata": {},
   "outputs": [],
   "source": []
  }
 ],
 "metadata": {
  "colab": {
   "provenance": []
  },
  "kernelspec": {
   "display_name": "Python 3 (ipykernel)",
   "language": "python",
   "name": "python3"
  },
  "language_info": {
   "codemirror_mode": {
    "name": "ipython",
    "version": 3
   },
   "file_extension": ".py",
   "mimetype": "text/x-python",
   "name": "python",
   "nbconvert_exporter": "python",
   "pygments_lexer": "ipython3",
   "version": "3.9.13"
  }
 },
 "nbformat": 4,
 "nbformat_minor": 5
}
