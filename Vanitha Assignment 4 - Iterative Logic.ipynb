{
 "cells": [
  {
   "cell_type": "markdown",
   "id": "9acd52dd",
   "metadata": {
    "id": "9acd52dd"
   },
   "source": [
    "# Assessment - 4 Gradable\n",
    "\n",
    "- Each question carries 5 marks\n",
    "- Marks will be assigned in terms of:\n",
    "    \n",
    "    **1. Expected output**\n",
    "    \n",
    "    **2. Quality and Explainability of code**\n",
    "\n",
    "    ***Go back through the script and type a comment above each line explaining in English what it does.***\n",
    "\n",
    "    **3. Copied code, if found, will result in 0 marks for that question. To avoid this make as much comments in the code to explain the approach**"
   ]
  },
  {
   "cell_type": "markdown",
   "id": "1dd6b730",
   "metadata": {
    "id": "1dd6b730"
   },
   "source": [
    "### 1. \n",
    "\n",
    "Write a function ``clap_tap`` that prints the integers from 1 to 100. But for multiples of three print \"Clap\" instead of the number, and for the multiples of five print \"Tap\". For numbers which are multiples of both three and five print \"ClapTap\"."
   ]
  },
  {
   "cell_type": "code",
   "execution_count": 6,
   "id": "c17cf72a",
   "metadata": {
    "id": "04ae6248"
   },
   "outputs": [
    {
     "name": "stdout",
     "output_type": "stream",
     "text": [
      "[1, 2, 3, 4, 5, 6, 7, 8, 9, 10, 11, 12, 13, 14, 15, 16, 17, 18, 19, 20, 21, 22, 23, 24, 25, 26, 27, 28, 29, 30, 31, 32, 33, 34, 35, 36, 37, 38, 39, 40, 41, 42, 43, 44, 45, 46, 47, 48, 49, 50, 51, 52, 53, 54, 55, 56, 57, 58, 59, 60, 61, 62, 63, 64, 65, 66, 67, 68, 69, 70, 71, 72, 73, 74, 75, 76, 77, 78, 79, 80, 81, 82, 83, 84, 85, 86, 87, 88, 89, 90, 91, 92, 93, 94, 95, 96, 97, 98, 99, 100]\n",
      "\n",
      "1\n",
      "2\n",
      "Clap\n",
      "4\n",
      "5 Tap\n",
      "Clap\n",
      "7\n",
      "8\n",
      "Clap\n",
      "10 Tap\n",
      "11\n",
      "Clap\n",
      "13\n",
      "14\n",
      "Claptap\n",
      "16\n",
      "17\n",
      "Clap\n",
      "19\n",
      "20 Tap\n",
      "Clap\n",
      "22\n",
      "23\n",
      "Clap\n",
      "25 Tap\n",
      "26\n",
      "Clap\n",
      "28\n",
      "29\n",
      "Claptap\n",
      "31\n",
      "32\n",
      "Clap\n",
      "34\n",
      "35 Tap\n",
      "Clap\n",
      "37\n",
      "38\n",
      "Clap\n",
      "40 Tap\n",
      "41\n",
      "Clap\n",
      "43\n",
      "44\n",
      "Claptap\n",
      "46\n",
      "47\n",
      "Clap\n",
      "49\n",
      "50 Tap\n",
      "Clap\n",
      "52\n",
      "53\n",
      "Clap\n",
      "55 Tap\n",
      "56\n",
      "Clap\n",
      "58\n",
      "59\n",
      "Claptap\n",
      "61\n",
      "62\n",
      "Clap\n",
      "64\n",
      "65 Tap\n",
      "Clap\n",
      "67\n",
      "68\n",
      "Clap\n",
      "70 Tap\n",
      "71\n",
      "Clap\n",
      "73\n",
      "74\n",
      "Claptap\n",
      "76\n",
      "77\n",
      "Clap\n",
      "79\n",
      "80 Tap\n",
      "Clap\n",
      "82\n",
      "83\n",
      "Clap\n",
      "85 Tap\n",
      "86\n",
      "Clap\n",
      "88\n",
      "89\n",
      "Claptap\n",
      "91\n",
      "92\n",
      "Clap\n",
      "94\n",
      "95 Tap\n",
      "Clap\n",
      "97\n",
      "98\n",
      "Clap\n",
      "100 Tap\n"
     ]
    }
   ],
   "source": [
    "# used if,elif,else and range functions\n",
    "mylist = list(range(1,101))\n",
    "print (mylist)\n",
    "print()\n",
    "for i in mylist:\n",
    "    if (i%3)==0 and (i%5)==0:\n",
    "        print(\"Claptap\")\n",
    "    elif (i%5)==0:\n",
    "        print(i,\"Tap\")\n",
    "    elif (i%3)==0:\n",
    "        print(\"Clap\")\n",
    "    else:\n",
    "        print (i)   "
   ]
  },
  {
   "cell_type": "markdown",
   "id": "ffc26930",
   "metadata": {
    "id": "ffc26930"
   },
   "source": [
    "### 2. \n",
    "\n",
    "ANIMAL CRACKERS: Write a function takes a two-word string and returns True if both words begin with same letter and returns False if both words begin with different letter\n",
    "- animal_crackers('Levelheaded Lion') --> True\n",
    "- animal_crackers('Cute Kangaroo') --> False"
   ]
  },
  {
   "cell_type": "code",
   "execution_count": 9,
   "id": "dbaf2f2a",
   "metadata": {
    "id": "dbaf2f2a"
   },
   "outputs": [
    {
     "name": "stdout",
     "output_type": "stream",
     "text": [
      "Levelheaded Lion\n"
     ]
    },
    {
     "data": {
      "text/plain": [
       "True"
      ]
     },
     "execution_count": 9,
     "metadata": {},
     "output_type": "execute_result"
    }
   ],
   "source": [
    "# used split function to know 2 sentence begin with same letter or not, we got out put bool value as both letter same\n",
    "string = \"Levelheaded Lion\"\n",
    "s1, s2 = string.split(\" \")\n",
    "print (s1, s2)\n",
    "s1[0]\n",
    "s2[0]\n",
    "\n",
    "s1[0] == s2[0]"
   ]
  },
  {
   "cell_type": "code",
   "execution_count": 7,
   "id": "04698bc3",
   "metadata": {},
   "outputs": [
    {
     "name": "stdout",
     "output_type": "stream",
     "text": [
      "Cute Kangaroo\n"
     ]
    },
    {
     "data": {
      "text/plain": [
       "False"
      ]
     },
     "execution_count": 7,
     "metadata": {},
     "output_type": "execute_result"
    }
   ],
   "source": [
    "string = \"Cute Kangaroo\"\n",
    "s1, s2 = string.split(\" \")\n",
    "print (s1, s2)\n",
    "s1[0]\n",
    "s2[0]\n",
    "\n",
    "s1[0] == s2[0]"
   ]
  },
  {
   "cell_type": "markdown",
   "id": "eec7fc6c",
   "metadata": {
    "id": "eec7fc6c"
   },
   "source": [
    "### 3. \n",
    "\n",
    "Create a function ``shout_out`` Given a string, return a string where:\n",
    "#### for every character in the original there are three characters\n",
    "\n",
    "    - shout_out('character') --> 'ccchhhaaarrraaacccttteeerrr'\n",
    "    - shout_out('original') --> 'ooorrriiigggiiinnnaaalll'"
   ]
  },
  {
   "cell_type": "code",
   "execution_count": 8,
   "id": "2b428cef",
   "metadata": {},
   "outputs": [
    {
     "name": "stdout",
     "output_type": "stream",
     "text": [
      "Enter a  string : character\n",
      "ccchhhaaarrraaacccttteeerrr\n"
     ]
    }
   ],
   "source": [
    "str = input(\"Enter a  string : \")\n",
    "new_str = \"\"\n",
    "\n",
    "for i in range(0,len(str)):\n",
    "    new_str += str[i] * 3 # entered 3 to repeat letters 3 times.\n",
    "    \n",
    "print(new_str)"
   ]
  },
  {
   "cell_type": "code",
   "execution_count": 10,
   "id": "0b839f9b",
   "metadata": {},
   "outputs": [
    {
     "name": "stdout",
     "output_type": "stream",
     "text": [
      "ooorrriiigggiiinnnaaalll\n"
     ]
    }
   ],
   "source": [
    "str =\"original\"\n",
    "new_str = \"\"\n",
    "\n",
    "for i in range(0,len(str)):\n",
    "    new_str += str[i] * 3\n",
    "    \n",
    "print(new_str)"
   ]
  },
  {
   "cell_type": "markdown",
   "id": "cbf4fb3c",
   "metadata": {},
   "source": [
    "### 4. \n",
    "\n",
    "Create a function ``ignore_6_to_9`` that returns the sum of the numbers in the array, except ignore sections of numbers starting with a 6 and extending to the next 9 (every 6 will be followed by at least one 9). Return 0 for no numbers.\n",
    " \n",
    "- ignore_6_to_9([1, 3, 5]) --> 9\n",
    "- ignore_6_to_9([4, 5, 6, 7, 8, 9]) --> 9\n",
    "- ignore_6_to_9([2, 1, 6, 9, 11]) --> 14"
   ]
  },
  {
   "cell_type": "code",
   "execution_count": 5,
   "id": "7c720878",
   "metadata": {},
   "outputs": [
    {
     "data": {
      "text/plain": [
       "9"
      ]
     },
     "execution_count": 5,
     "metadata": {},
     "output_type": "execute_result"
    }
   ],
   "source": [
    "def sum_num(*num):\n",
    "    sum = 0\n",
    "    for n in num:\n",
    "        if n == 6 or n == 7 or n == 8 or n == 9:\n",
    "            continue\n",
    "        sum = sum+n\n",
    "    return sum\n",
    "\n",
    "sum_num(1, 3, 5)"
   ]
  },
  {
   "cell_type": "code",
   "execution_count": 8,
   "id": "a46d7b02",
   "metadata": {},
   "outputs": [
    {
     "data": {
      "text/plain": [
       "9"
      ]
     },
     "execution_count": 8,
     "metadata": {},
     "output_type": "execute_result"
    }
   ],
   "source": [
    "def sum_num(*num):\n",
    "    sum = 0\n",
    "    for n in num:\n",
    "        if n == 6 or n == 7 or n == 8 or n == 9:\n",
    "            continue\n",
    "        sum = sum+n\n",
    "    return sum\n",
    "\n",
    "sum_num(4, 5, 6, 7, 8, 9)"
   ]
  },
  {
   "cell_type": "code",
   "execution_count": 9,
   "id": "5c6c70d8",
   "metadata": {},
   "outputs": [
    {
     "data": {
      "text/plain": [
       "14"
      ]
     },
     "execution_count": 9,
     "metadata": {},
     "output_type": "execute_result"
    }
   ],
   "source": [
    "def sum_num(*num):\n",
    "    sum = 0\n",
    "    for n in num:\n",
    "        if n == 6 or n == 7 or n == 8 or n == 9:\n",
    "            continue\n",
    "        sum = sum+n\n",
    "    return sum\n",
    "\n",
    "sum_num(2, 1, 6, 9, 11)"
   ]
  },
  {
   "cell_type": "markdown",
   "id": "af46e819",
   "metadata": {
    "id": "af46e819"
   },
   "source": [
    "### 5.\n",
    "\n",
    "Write a program to iterate the first 10 numbers and in each iteration, print the sum of the current and previous number.\n",
    "\n",
    "- Current Number 0 Previous Number  0  Sum:  0\n",
    "- Current Number 1 Previous Number  0  Sum:  1 and so on"
   ]
  },
  {
   "cell_type": "code",
   "execution_count": 1,
   "id": "936a81d6",
   "metadata": {},
   "outputs": [
    {
     "name": "stdout",
     "output_type": "stream",
     "text": [
      "At 1 iterations Current Number 1 Previous Number 0 --->Sum = 1\n",
      "At 2 iterations Current Number 1 Previous Number 1 --->Sum = 2\n",
      "At 3 iterations Current Number 2 Previous Number 1 --->Sum = 3\n",
      "At 4 iterations Current Number 3 Previous Number 2 --->Sum = 5\n",
      "At 5 iterations Current Number 5 Previous Number 3 --->Sum = 8\n",
      "At 6 iterations Current Number 8 Previous Number 5 --->Sum = 13\n",
      "At 7 iterations Current Number 13 Previous Number 8 --->Sum = 21\n",
      "At 8 iterations Current Number 21 Previous Number 13 --->Sum = 34\n",
      "At 9 iterations Current Number 34 Previous Number 21 --->Sum = 55\n",
      "At 10 iterations Current Number 55 Previous Number 34 --->Sum = 89\n"
     ]
    }
   ],
   "source": [
    "# used while loop\n",
    "def Fibbonaci_10_number():#Fibbonaci_10_number is a user defined functions to generate and display 10 the fibbonaci number\n",
    "    first_number=0\n",
    "    second_number=1\n",
    "    n=1\n",
    "    while(n<=10):#loop to generate 10 iterations\n",
    "        Sum=first_number+second_number\n",
    "        print(f\"At {n} iterations Current Number {second_number} Previous Number {first_number} --->Sum = {Sum}\")\n",
    "        n=n+1\n",
    "        first_number=second_number\n",
    "        second_number=Sum\n",
    "\n",
    "Fibbonaci_10_number()#function"
   ]
  },
  {
   "cell_type": "code",
   "execution_count": 2,
   "id": "4407da77",
   "metadata": {},
   "outputs": [
    {
     "name": "stdout",
     "output_type": "stream",
     "text": [
      "Current Number  0 Previous Number 0 is 0\n",
      "Current Number  1 Previous Number 0 is 1\n",
      "Current Number  2 Previous Number 1 is 3\n",
      "Current Number  3 Previous Number 2 is 5\n",
      "Current Number  4 Previous Number 3 is 7\n",
      "Current Number  5 Previous Number 4 is 9\n",
      "Current Number  6 Previous Number 5 is 11\n",
      "Current Number  7 Previous Number 6 is 13\n",
      "Current Number  8 Previous Number 7 is 15\n",
      "Current Number  9 Previous Number 8 is 17\n"
     ]
    }
   ],
   "source": [
    "# otherway to solve this by using for\n",
    "\n",
    "num = list(range(10))\n",
    "previousnum = 0\n",
    "for i in num:\n",
    "    sum = previousnum+ i\n",
    "    print('Current Number  '+ str(i) + ' Previous Number ' + str(previousnum)+ ' is ' + str(sum))\n",
    "    previousnum=i"
   ]
  }
 ],
 "metadata": {
  "colab": {
   "provenance": []
  },
  "kernelspec": {
   "display_name": "Python 3 (ipykernel)",
   "language": "python",
   "name": "python3"
  },
  "language_info": {
   "codemirror_mode": {
    "name": "ipython",
    "version": 3
   },
   "file_extension": ".py",
   "mimetype": "text/x-python",
   "name": "python",
   "nbconvert_exporter": "python",
   "pygments_lexer": "ipython3",
   "version": "3.9.13"
  }
 },
 "nbformat": 4,
 "nbformat_minor": 5
}
