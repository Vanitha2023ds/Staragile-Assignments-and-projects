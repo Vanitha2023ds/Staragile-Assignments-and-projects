{
 "cells": [
  {
   "cell_type": "code",
   "execution_count": 28,
   "id": "0c0014f9",
   "metadata": {},
   "outputs": [],
   "source": [
    "import mysql.connector\n",
    "from mysql.connector import Error\n",
    "import pandas as pd"
   ]
  },
  {
   "cell_type": "code",
   "execution_count": 29,
   "id": "4bbce178",
   "metadata": {},
   "outputs": [],
   "source": [
    "# Define Server Connection Function\n",
    "def create_server_connection(host_name, user_name, user_password):\n",
    "    connection = None\n",
    "    try:\n",
    "        connection = mysql.connector.connect(\n",
    "            host=host_name,\n",
    "            user=user_name,\n",
    "            passwd=user_password\n",
    "        )\n",
    "        print(\"MySQL Database connection successful\")\n",
    "    except Error as err:\n",
    "        print(f\"Error: '{err}'\")\n",
    "\n",
    "    return connection\n",
    "\n",
    "pw = \"Vanithabm$7\" # IMPORTANT! Put your MySQL Terminal password here.\n",
    "db = \"Vanitha\" # This is the name of the database we will create in the next step - call it whatever you like."
   ]
  },
  {
   "cell_type": "code",
   "execution_count": 30,
   "id": "61ba1125",
   "metadata": {},
   "outputs": [
    {
     "name": "stdout",
     "output_type": "stream",
     "text": [
      "MySQL Database connection successful\n"
     ]
    }
   ],
   "source": [
    "connection = create_server_connection(\"localhost\", \"root\", pw)"
   ]
  },
  {
   "cell_type": "code",
   "execution_count": 31,
   "id": "71d2c3fe",
   "metadata": {},
   "outputs": [
    {
     "name": "stdout",
     "output_type": "stream",
     "text": [
      "Database created successfully\n"
     ]
    }
   ],
   "source": [
    "# Create a New Database\n",
    "\n",
    "def create_database(connection, query):\n",
    "    cursor = connection.cursor()\n",
    "    try:\n",
    "        cursor.execute(query)\n",
    "        print(\"Database created successfully\")\n",
    "    except Error as err:\n",
    "        print(f\"Error: '{err}'\")\n",
    "\n",
    "create_database_query = \"CREATE DATABASE Vanitha\"\n",
    "create_database(connection, create_database_query)"
   ]
  },
  {
   "cell_type": "code",
   "execution_count": 32,
   "id": "d9d8781e",
   "metadata": {},
   "outputs": [],
   "source": [
    "# Modify Server Connection Function, Create Database Connection Function\n",
    "\n",
    "def create_db_connection(host_name, user_name, user_password, db_name):\n",
    "    connection = None\n",
    "    try:\n",
    "        connection = mysql.connector.connect(\n",
    "            host=host_name,\n",
    "            user=user_name,\n",
    "            passwd=user_password,\n",
    "            database=db_name\n",
    "        )\n",
    "        print(\"MySQL Database connection successful\")\n",
    "    except Error as err:\n",
    "        print(f\"Error: '{err}'\")\n",
    "\n",
    "    return connection"
   ]
  },
  {
   "cell_type": "code",
   "execution_count": 33,
   "id": "140c9b60",
   "metadata": {},
   "outputs": [],
   "source": [
    "# Define Query Execution Function - is to create a function which will allow us to execute queries written in SQL.\n",
    "\n",
    "def execute_query(connection, query):\n",
    "    cursor = connection.cursor()\n",
    "    try:\n",
    "        cursor.execute(query)\n",
    "        connection.commit()\n",
    "        print(\"Query successful\")\n",
    "    except Error as err:\n",
    "        print(f\"Error: '{err}'\")"
   ]
  },
  {
   "cell_type": "code",
   "execution_count": 34,
   "id": "112c3a23",
   "metadata": {},
   "outputs": [
    {
     "name": "stdout",
     "output_type": "stream",
     "text": [
      "MySQL Database connection successful\n",
      "Query successful\n"
     ]
    }
   ],
   "source": [
    "# Create Teacher Table\n",
    "# Assign our SQL command to a python variable using triple quotes to create a multi-line string\n",
    "\n",
    "create_teacher_table= \"\"\"\n",
    "CREATE TABLE student_scores (\n",
    "student_id INT PRIMARY KEY,\n",
    "student_name VARCHAR(255) NOT NULL,\n",
    "assignment_1 INT NOT NULL,\n",
    "assignment_2 INT NOT NULL,\n",
    "assignment_3 INT NOT NULL,\n",
    "assignment_4 INT NOT NULL,\n",
    "assignment_5 INT NOT NULL);\n",
    "\"\"\"\n",
    "\n",
    "\n",
    "\n",
    "connection = create_db_connection(\"localhost\", \"root\", pw, db) # Connect to the Database\n",
    "execute_query(connection, create_teacher_table) # Execute our defined query"
   ]
  },
  {
   "cell_type": "code",
   "execution_count": 35,
   "id": "a8a8b287",
   "metadata": {},
   "outputs": [
    {
     "name": "stdout",
     "output_type": "stream",
     "text": [
      "MySQL Database connection successful\n",
      "Query successful\n"
     ]
    }
   ],
   "source": [
    "# Populate Teacher Table\n",
    "\n",
    "pop_teacher = \"\"\"\n",
    "INSERT INTO student_scores VALUES\n",
    "(1, 'John Doe', 90, 80, 70, 85, 95),\n",
    "(2, 'Jane Doe', 85, 90, 85, 90, 90),\n",
    "(3, 'Michael Smith', 80, 75, 80, 85, 85),\n",
    "(4, 'Mary Johnson', 75, 70, 75, 80, 80),\n",
    "(5, 'David Williams', 70, 65, 70, 75, 75),\n",
    "(6, 'Susan Brown', 65, 60, 65, 70, 70);\n",
    "\"\"\"\n",
    "\n",
    "connection = create_db_connection(\"localhost\", \"root\", pw, db)\n",
    "execute_query(connection, pop_teacher)\n",
    "# Insert the employee related data of 6 employees to the employee table"
   ]
  },
  {
   "cell_type": "code",
   "execution_count": 39,
   "id": "dbfcfa34",
   "metadata": {},
   "outputs": [],
   "source": [
    "# Define Data Reading Function\n",
    "def read_query(connection, query):\n",
    "    cursor = connection.cursor()\n",
    "    result = None\n",
    "    try:\n",
    "        cursor.execute(query)\n",
    "        result = cursor.fetchall()\n",
    "        return result\n",
    "    except Error as err:\n",
    "        print(f\"Error: '{err}'\")"
   ]
  },
  {
   "cell_type": "code",
   "execution_count": 47,
   "id": "3c06472c",
   "metadata": {},
   "outputs": [
    {
     "name": "stdout",
     "output_type": "stream",
     "text": [
      "MySQL Database connection successful\n",
      "\n",
      "(1, 'John Smith', 95, 85, 80, 90, 95)\n",
      "(2, 'Jane Doe', 85, 90, 85, 90, 90)\n",
      "(3, 'Michael Smith', 80, 75, 80, 85, 85)\n",
      "(4, 'Mary Johnson', 75, 70, 75, 80, 80)\n",
      "(5, 'David Williams', 70, 65, 70, 75, 75)\n",
      "(6, 'Susan Brown', 65, 60, 65, 70, 70)\n"
     ]
    }
   ],
   "source": [
    "# Read Data from Database\n",
    "# Display teacher table\n",
    "q1 = \"\"\"\n",
    "SELECT *\n",
    "FROM student_scores;\n",
    "\"\"\"\n",
    "\n",
    "connection = create_db_connection(\"localhost\", \"root\", pw, db)\n",
    "results = read_query(connection, q1)\n",
    "# print (results)\n",
    "print ()\n",
    "for result in results:\n",
    "  print(result)"
   ]
  },
  {
   "cell_type": "code",
   "execution_count": 44,
   "id": "7f9b5216",
   "metadata": {},
   "outputs": [
    {
     "name": "stdout",
     "output_type": "stream",
     "text": [
      "MySQL Database connection successful\n",
      "Query successful\n"
     ]
    }
   ],
   "source": [
    "# Updating Client Address\n",
    "\n",
    "# The School receives notification that the Big Business Federation has moved office, \n",
    "# and now they are located at 23 Fingiertweg, 14534 Berlin. We can change that in our database like so:\n",
    "\n",
    "update = \"\"\"\n",
    "UPDATE student_scores SET\n",
    "student_name = 'John Smith',\n",
    "assignment_1 = 95,\n",
    "assignment_2 = 85,\n",
    "assignment_3 = 80,\n",
    "assignment_4 = 90,\n",
    "assignment_5 = 95\n",
    "WHERE student_id = 1;\n",
    "\"\"\"\n",
    "\n",
    "connection = create_db_connection(\"localhost\", \"root\", pw, db)\n",
    "execute_query(connection, update)"
   ]
  },
  {
   "cell_type": "code",
   "execution_count": 45,
   "id": "aab0162c",
   "metadata": {},
   "outputs": [
    {
     "name": "stdout",
     "output_type": "stream",
     "text": [
      "MySQL Database connection successful\n"
     ]
    }
   ],
   "source": [
    "# Deleting a Course\n",
    "q1 = \"\"\"\n",
    "DELETE FROM student_scores WHERE student_id = 6;\n",
    "\"\"\"\n",
    "\n",
    "connection = create_db_connection(\"localhost\", \"root\", pw, db)\n",
    "results = read_query(connection, q1)\n",
    "\n",
    "from_db = []\n",
    "\n",
    "for result in results:\n",
    "  print(result)"
   ]
  },
  {
   "cell_type": "code",
   "execution_count": null,
   "id": "84653bc3",
   "metadata": {},
   "outputs": [],
   "source": []
  },
  {
   "cell_type": "code",
   "execution_count": null,
   "id": "0543630b",
   "metadata": {},
   "outputs": [],
   "source": []
  }
 ],
 "metadata": {
  "kernelspec": {
   "display_name": "Python 3 (ipykernel)",
   "language": "python",
   "name": "python3"
  },
  "language_info": {
   "codemirror_mode": {
    "name": "ipython",
    "version": 3
   },
   "file_extension": ".py",
   "mimetype": "text/x-python",
   "name": "python",
   "nbconvert_exporter": "python",
   "pygments_lexer": "ipython3",
   "version": "3.9.13"
  }
 },
 "nbformat": 4,
 "nbformat_minor": 5
}
