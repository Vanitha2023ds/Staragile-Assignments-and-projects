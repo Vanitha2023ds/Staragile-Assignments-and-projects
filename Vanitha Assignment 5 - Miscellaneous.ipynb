{
 "cells": [
  {
   "cell_type": "markdown",
   "id": "d72f8ceb",
   "metadata": {
    "id": "d72f8ceb"
   },
   "source": [
    "# Assessment - 5 Gradable\n",
    "\n",
    "- Each question carries 5 or 4 marks\n",
    "- Marks will be assigned in terms of:\n",
    "    \n",
    "    **1. Expected output**\n",
    "    \n",
    "    **2. Quality and Explainability of code**\n",
    "\n",
    "    ***Go back through the script and type a comment above each line explaining in English what it does.***\n",
    "\n",
    "    **3. Copied code, if found, will result in 0 marks for that question. To avoid this make as much comments in the code to explain the approach**"
   ]
  },
  {
   "cell_type": "markdown",
   "id": "e5819cc0",
   "metadata": {
    "id": "e5819cc0"
   },
   "source": [
    "### 1. \n",
    "\n",
    "Write a Python function that prints out the first n rows of Pascal's triangle.\n",
    "\n",
    "- Input : 5\n",
    "- Output: \n",
    "          1\n",
    "         1 1\n",
    "        1 2 1\n",
    "       1 3 3 1\n",
    "      1 4 6 4 1\n",
    "\n",
    "**Very interesting video on PASCAL TRIANGLE (must watch if you are interested to know more about pascal Triangle)**\n",
    "- https://www.youtube.com/watch?v=0iMtlus-afo&t=668s&ab_channel=Numberphile"
   ]
  },
  {
   "cell_type": "code",
   "execution_count": 22,
   "id": "88e3b5b4",
   "metadata": {
    "id": "88e3b5b4"
   },
   "outputs": [
    {
     "name": "stdout",
     "output_type": "stream",
     "text": [
      "[1]\n",
      "[1, 1]\n",
      "[1, 2, 1]\n",
      "[1, 3, 3, 1]\n",
      "[1, 4, 6, 4, 1]\n"
     ]
    }
   ],
   "source": [
    "#For Loop\n",
    "\n",
    "import math\n",
    "\n",
    "# pascals_tri_formula = [] # don't collect in a global variable.\n",
    "\n",
    "def combination(n, r): # correct calculation of combinations, n choose k\n",
    "    return int((math.factorial(n)) / ((math.factorial(r)) * math.factorial(n - r)))\n",
    "\n",
    "def for_test(x, y): \n",
    "    for y in range(x):\n",
    "        return combination(x, y)\n",
    "\n",
    "def pascals_triangle(rows):\n",
    "    result = [] # need something to collect our results in\n",
    "    # count = 0 # avoidable! better to use a for loop, \n",
    "    # while count <= rows:  \n",
    "    for count in range(rows): # start at 0, \n",
    "       \n",
    "        row = [] # need a row element to collect the row in\n",
    "        for element in range(count + 1): \n",
    "            \n",
    "            # [pascals_tri_formula.append(combination(count, element))]\n",
    "            row.append(combination(count, element))\n",
    "        result.append(row)\n",
    "        \n",
    "    return result\n",
    "\n",
    "# now we can print a result:\n",
    "for row in pascals_triangle(5): # 5 line results we need so entered 5\n",
    "    print(row)\n",
    "    \n",
    "    #print(pascals_triangle)\n"
   ]
  },
  {
   "cell_type": "markdown",
   "id": "6b3f11fd",
   "metadata": {
    "id": "6b3f11fd"
   },
   "source": [
    "### 2. \n",
    "\n",
    "Write a function to print following pattern\n",
    "\n",
    "    1  \n",
    "    2  4  \n",
    "    3  6  9  \n",
    "    4  8  12  16  \n",
    "    5  10  15  20  25  \n",
    "    6  12  18  24  30  36  \n",
    "    7  14  21  28  35  42  49  \n",
    "    8  16  24  32  40  48  56  64  "
   ]
  },
  {
   "cell_type": "code",
   "execution_count": 39,
   "id": "15e45ae3",
   "metadata": {
    "id": "15e45ae3"
   },
   "outputs": [
    {
     "name": "stdout",
     "output_type": "stream",
     "text": [
      "Enter number of rows:8\n",
      "1 \n",
      "2 4 \n",
      "3 6 9 \n",
      "4 8 12 16 \n",
      "5 10 15 20 25 \n",
      "6 12 18 24 30 36 \n",
      "7 14 21 28 35 42 49 \n",
      "8 16 24 32 40 48 56 64 \n"
     ]
    }
   ],
   "source": [
    "#For Loop\n",
    "\n",
    "rows = int(input(\"Enter number of rows:\")) # need to enter 8 input as above pattern multiplication number is 8\n",
    "for i in range(1, rows+1): # stats from 1 and add +1 untill the output number gaven\n",
    "    for j in range(1, i+1):\n",
    "        print(j*i,end=' ')\n",
    "    print()\n"
   ]
  },
  {
   "cell_type": "markdown",
   "id": "42453e7d",
   "metadata": {
    "id": "42453e7d"
   },
   "source": [
    "### 3. \n",
    "\n",
    "Write a function ``how_many_primes`` that returns the number of prime numbers that exist up to and including a given number\n",
    "\n",
    "- how_many_primes(100) --> 25"
   ]
  },
  {
   "cell_type": "code",
   "execution_count": 51,
   "id": "f2e53d82",
   "metadata": {},
   "outputs": [
    {
     "name": "stdout",
     "output_type": "stream",
     "text": [
      "How many primes:25\n",
      " 25 is a Prime\n"
     ]
    }
   ],
   "source": [
    "primes = int(input(\"How many primes:\"))\n",
    "count = 0\n",
    "\n",
    "for i in range(100,(primes//2 + 1)):\n",
    "    if(primes % i == 0):\n",
    "        count = count +1\n",
    "        break\n",
    "if (count == 0 and primes !=1):\n",
    "    print(\" %d is a Prime\" %primes)\n",
    "else:\n",
    "    print(\" %d is not\" %primes)"
   ]
  },
  {
   "cell_type": "markdown",
   "id": "2b5f6f63",
   "metadata": {
    "id": "2b5f6f63"
   },
   "source": [
    "### 4. \n",
    "\n",
    "b = open(\"assignment.txt\")\n",
    "\n",
    "Consider the code given above and write the answers to the following :\n",
    "\n",
    "- Identify the name of the file : \n",
    "- Identify the name of the function used above : \n",
    "- What is 'b' in above code :\n",
    "- The above statement will  ____________ file in ___________ mode."
   ]
  },
  {
   "cell_type": "code",
   "execution_count": 69,
   "id": "5385195e",
   "metadata": {},
   "outputs": [],
   "source": [
    "b = open(\"C:\\\\Users\\\\Admin\\\\Documents\\\\assignment.txt\")"
   ]
  },
  {
   "cell_type": "code",
   "execution_count": 70,
   "id": "f677e825",
   "metadata": {},
   "outputs": [
    {
     "data": {
      "text/plain": [
       "'assignment.txt'"
      ]
     },
     "execution_count": 70,
     "metadata": {},
     "output_type": "execute_result"
    }
   ],
   "source": [
    "#Identify the name of the file :\n",
    "import os\n",
    "os.path.basename(\"C:\\\\Users\\\\Admin\\\\Documents\\\\assignment.txt\") # pasted path where i saved"
   ]
  },
  {
   "cell_type": "code",
   "execution_count": 74,
   "id": "4aa3422a",
   "metadata": {},
   "outputs": [
    {
     "data": {
      "text/plain": [
       "<_io.TextIOWrapper name='C:\\\\Users\\\\Admin\\\\Documents\\\\assignment.txt' mode='r' encoding='cp1252'>"
      ]
     },
     "execution_count": 74,
     "metadata": {},
     "output_type": "execute_result"
    }
   ],
   "source": [
    "#Identify the name of the function used above :\n",
    "open(\"C:\\\\Users\\\\Admin\\\\Documents\\\\assignment.txt\") # name of the function is open()function"
   ]
  },
  {
   "cell_type": "code",
   "execution_count": 8,
   "id": "c0104ad5",
   "metadata": {
    "scrolled": true
   },
   "outputs": [
    {
     "name": "stdout",
     "output_type": "stream",
     "text": [
      "<_io.TextIOWrapper name='C:\\\\Users\\\\Admin\\\\Documents\\\\assignment.txt' mode='r' encoding='cp1252'>\n",
      "\n",
      "Name of the file : assignment.txt\n",
      "closed or not : True\n",
      "Opening mode : w+\n"
     ]
    }
   ],
   "source": [
    "# What is 'b' in above code : object stored in b\n",
    "b = open(\"C:\\\\Users\\\\Admin\\\\Documents\\\\assignment.txt\")\n",
    "print(b)\n",
    "print()\n",
    "with open('assignment.txt', 'w+') as b:\n",
    "    b.write('assignment.txt\\n')\n",
    "    b.seek(0)  # Important: return to the top of the file before reading, \n",
    "    data = b.read() \n",
    "print(\"Name of the file :\", b.name)\n",
    "print(\"closed or not :\", b.closed) #read data that you write after this point\n",
    "print(\"Opening mode :\", b.mode)"
   ]
  },
  {
   "cell_type": "code",
   "execution_count": 6,
   "id": "ec93dbab",
   "metadata": {},
   "outputs": [
    {
     "data": {
      "text/plain": [
       "['Sample file created as \"assignment.txt\"']"
      ]
     },
     "execution_count": 6,
     "metadata": {},
     "output_type": "execute_result"
    }
   ],
   "source": [
    "# The above statement will ____ file in ___ mode.\n",
    "open(\"C:\\\\Users\\\\Admin\\\\Documents\\\\assignment.txt\")\n",
    "\n",
    "b = open(\"C:\\\\Users\\\\Admin\\\\Documents\\\\assignment.txt\") # reading file text as i saved line by line \\n us next line\n",
    "b.readlines()"
   ]
  },
  {
   "cell_type": "markdown",
   "id": "6c9eb680",
   "metadata": {
    "id": "6c9eb680"
   },
   "source": [
    "### 5.\n",
    "\n",
    "Accept five hobbies from the user and write in a file 'hobby.txt'. Then Read the file to list out all the 5 hobbies from the user."
   ]
  },
  {
   "cell_type": "code",
   "execution_count": 61,
   "id": "e0ab7979",
   "metadata": {},
   "outputs": [],
   "source": [
    "myfile = open(\"C:\\\\Users\\\\Admin\\\\Documents\\\\hobby.txt.txt\") # just opened file by using path"
   ]
  },
  {
   "cell_type": "code",
   "execution_count": 62,
   "id": "f07ce615",
   "metadata": {},
   "outputs": [
    {
     "data": {
      "text/plain": [
       "'C:\\\\Users\\\\Admin\\\\Downloads'"
      ]
     },
     "execution_count": 62,
     "metadata": {},
     "output_type": "execute_result"
    }
   ],
   "source": [
    "pwd() # this is path names"
   ]
  },
  {
   "cell_type": "code",
   "execution_count": 63,
   "id": "f6909f72",
   "metadata": {},
   "outputs": [
    {
     "data": {
      "text/plain": [
       "'1.Reading books\\n2.Listening songs\\n3.Painting\\n4.Dance\\n5.Collecting coins'"
      ]
     },
     "execution_count": 63,
     "metadata": {},
     "output_type": "execute_result"
    }
   ],
   "source": [
    "myfile = open(\"C:\\\\Users\\\\Admin\\\\Documents\\\\hobby.txt.txt\") # reading full file text\n",
    "myfile.read()"
   ]
  },
  {
   "cell_type": "code",
   "execution_count": 64,
   "id": "28f77ea3",
   "metadata": {},
   "outputs": [
    {
     "data": {
      "text/plain": [
       "['1.Reading books\\n',\n",
       " '2.Listening songs\\n',\n",
       " '3.Painting\\n',\n",
       " '4.Dance\\n',\n",
       " '5.Collecting coins']"
      ]
     },
     "execution_count": 64,
     "metadata": {},
     "output_type": "execute_result"
    }
   ],
   "source": [
    "myfile = open(\"C:\\\\Users\\\\Admin\\\\Documents\\\\hobby.txt.txt\") # reading file text as i saved line by line \\n next line.\n",
    "myfile.readlines()"
   ]
  }
 ],
 "metadata": {
  "colab": {
   "provenance": []
  },
  "kernelspec": {
   "display_name": "Python 3 (ipykernel)",
   "language": "python",
   "name": "python3"
  },
  "language_info": {
   "codemirror_mode": {
    "name": "ipython",
    "version": 3
   },
   "file_extension": ".py",
   "mimetype": "text/x-python",
   "name": "python",
   "nbconvert_exporter": "python",
   "pygments_lexer": "ipython3",
   "version": "3.9.13"
  }
 },
 "nbformat": 4,
 "nbformat_minor": 5
}
