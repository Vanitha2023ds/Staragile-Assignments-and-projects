{
 "cells": [
  {
   "cell_type": "markdown",
   "id": "8a30d880",
   "metadata": {
    "id": "8a30d880"
   },
   "source": [
    "# Assessment - 6 Gradable\n",
    "\n",
    "- Each question carries 5 or 4 marks\n",
    "- Marks will be assigned in terms of:\n",
    "    \n",
    "    **1. Expected output**\n",
    "    \n",
    "    **2. Quality and Explainability of code**\n",
    "\n",
    "    ***Go back through the script and type a comment above each line explaining in English what it does.***\n",
    "\n",
    "    **3. Copied code, if found, will result in 0 marks for that question. To avoid this make as much comments in the code to explain the approach**"
   ]
  },
  {
   "cell_type": "markdown",
   "id": "86255064",
   "metadata": {
    "id": "86255064"
   },
   "source": [
    "### 1. \n",
    "\n",
    "Write a Program to create a class 'Company' and using the class instance and print all the writable attributes of that object such as age, gender, salary, profession and designation. We take atleast 5 employees of an organization"
   ]
  },
  {
   "cell_type": "code",
   "execution_count": 48,
   "id": "14f237f4",
   "metadata": {},
   "outputs": [
    {
     "name": "stdout",
     "output_type": "stream",
     "text": [
      "Name: Tom, Age: 36, Gender: Male, Salary: 1000, Profession: Python Developer, Designation: Full Stack\n",
      "Name: Shyla, Age: 28, Gender: Female, Salary: 2000, Profession: Data Analyst, Designation: Data Science\n",
      "Name: Ram, Age: 42, Gender: Male, Salary: 1500, Profession: Manager, Designation: Maintains staff \n",
      "Name: Samna, Age: 45, Gender: Female, Salary: 3600, Profession: Marketing Specialist, Designation: Marketing\n",
      "Name: Jhon, Age: 32, Gender: Male, Salary: 4000, Profession: Designer, Designation: Digital market\n"
     ]
    }
   ],
   "source": [
    "class Company:\n",
    "    def __init__(self, name, age, gender, salary, profession, designation):\n",
    "        self.name = name\n",
    "        self.age = age\n",
    "        self.gender = gender\n",
    "        self.salary = salary\n",
    "        self.profession = profession\n",
    "        self.designation = designation\n",
    "        \n",
    "emp1 = Company(\"Tom\", 36, \"Male\", 1000, \"Python Developer\", \"Full Stack\")\n",
    "emp2 = Company(\"Shyla\", 28, \"Female\", 2000, \"Data Analyst\", \"Data Science\")\n",
    "emp3 = Company(\"Ram\", 42, \"Male\", 1500, \"Manager\", \"Maintains staff \")\n",
    "emp4 = Company(\"Samna\", 45, \"Female\", 3600, \"Marketing Specialist\", \"Marketing\")\n",
    "emp5 = Company(\"Jhon\", 32, \"Male\", 4000, \"Designer\", \"Digital market\")\n",
    "\n",
    "print(f\"Name: {emp1.name}, Age: {emp1.age}, Gender: {emp1.gender}, Salary: {emp1.salary}, Profession: {emp1.profession}, Designation: {emp1.designation}\")\n",
    "print(f\"Name: {emp2.name}, Age: {emp2.age}, Gender: {emp2.gender}, Salary: {emp2.salary}, Profession: {emp2.profession}, Designation: {emp2.designation}\")\n",
    "print(f\"Name: {emp3.name}, Age: {emp3.age}, Gender: {emp3.gender}, Salary: {emp3.salary}, Profession: {emp3.profession}, Designation: {emp3.designation}\")\n",
    "print(f\"Name: {emp4.name}, Age: {emp4.age}, Gender: {emp4.gender}, Salary: {emp4.salary}, Profession: {emp4.profession}, Designation: {emp4.designation}\")\n",
    "print(f\"Name: {emp5.name}, Age: {emp5.age}, Gender: {emp5.gender}, Salary: {emp5.salary}, Profession: {emp5.profession}, Designation: {emp5.designation}\")"
   ]
  },
  {
   "cell_type": "code",
   "execution_count": 13,
   "id": "4a098962",
   "metadata": {
    "id": "4a098962"
   },
   "outputs": [],
   "source": [
    "class Company:\n",
    "    def company_name(self):\n",
    "        return \"Google\"\n",
    "\n",
    "class Employee(Company):\n",
    "    def info(self):\n",
    "        c_name = super().company_name()\n",
    "        print (\"Jessa works at\", c_name)\n",
    "\n",
    "# creating attributes for age, gender, salary, profession and designation\n",
    "\n",
    "class Employee:\n",
    "    def __init__(self, name, emp_id, salary, department):\n",
    "        self.name = name\n",
    "        self.id = emp_id\n",
    "        self.salary = salary\n",
    "        self.department = department\n",
    "        employee1 = Employee(\"ADAMS\", \"E7876\", 50000, \"ACCOUNTING\")"
   ]
  },
  {
   "cell_type": "code",
   "execution_count": 18,
   "id": "6092f8cb",
   "metadata": {},
   "outputs": [],
   "source": [
    "class Company:\n",
    "    def company_name(self):\n",
    "        return \"Google\"\n",
    "\n",
    "class Employee(Company):\n",
    "    def info(self):\n",
    "        c_name = super().company_name()\n",
    "        print (\"Jessa works at\", c_name)\n",
    "        "
   ]
  },
  {
   "cell_type": "code",
   "execution_count": 19,
   "id": "6b229ad0",
   "metadata": {},
   "outputs": [
    {
     "name": "stdout",
     "output_type": "stream",
     "text": [
      "Jessa works at Google\n"
     ]
    }
   ],
   "source": [
    "emp = Employee()\n",
    "emp.info()\n"
   ]
  },
  {
   "cell_type": "markdown",
   "id": "df5c6917",
   "metadata": {
    "id": "df5c6917"
   },
   "source": [
    "### 2. \n",
    "\n",
    "Write a program to store details of 6 customers in a text file with features of Unique Customer Id, Name, Location, Phone Number, Last Purchase Date for an ecommerce website that can be considered for future records"
   ]
  },
  {
   "cell_type": "code",
   "execution_count": 50,
   "id": "dcd0b72f",
   "metadata": {},
   "outputs": [],
   "source": [
    "import csv\n",
    "\n",
    "\n",
    "customers = [\n",
    "    {\n",
    "        \"ID\": 1,\n",
    "        \"name\": \"Shyla\",\n",
    "        \"location\": \"Odisha\",\n",
    "        \"phone_number\": \"111-111-1111\",\n",
    "        \"last_purchase_date\": \"2022-01-05\"\n",
    "    },\n",
    "    {\n",
    "        \"ID\": 2,\n",
    "        \"name\": \"Jhon\",\n",
    "        \"location\": \"Rajasthan\",\n",
    "        \"phone_number\": \"222-222-2222\",\n",
    "        \"last_purchase_date\": \"2021-12-04\"\n",
    "    },\n",
    "    {\n",
    "        \"ID\": 3,\n",
    "        \"name\": \"Tom\",\n",
    "        \"location\": \"Goa\",\n",
    "        \"phone_number\": \"333-333-3333\",\n",
    "        \"last_purchase_date\": \"2021-12-03\"\n",
    "    },\n",
    "    {\n",
    "        \"ID\": 4,\n",
    "        \"name\": \"Sam\",\n",
    "        \"location\": \"Punjab\",\n",
    "        \"phone_number\": \"444-444-4444\",\n",
    "        \"last_purchase_date\": \"2021-12-02\"\n",
    "    },\n",
    "    {\n",
    "        \"ID\": 5,\n",
    "        \"name\": \"Sham\",\n",
    "        \"location\": \"Maharashtra\",\n",
    "        \"phone_number\": \"555-555-5555\",\n",
    "        \"last_purchase_date\": \"2021-12-01\"\n",
    "    },\n",
    "    {\n",
    "        \"ID\": 6,\n",
    "        \"name\": \"Ram\",\n",
    "        \"location\": \"Karnataka\",\n",
    "        \"phone_number\": \"666-666-6666\",\n",
    "        \"last_purchase_date\": \"2021-11-11\"\n",
    "    }\n",
    "]\n",
    "with open(\"customers.txt\", \"w\") as file:\n",
    "    writer = csv.writer(file)\n",
    "    writer.writerow([\"ID\", \"name\", \"location\", \"phone_number\", \"last_purchase_date\"])\n",
    "    for customer in customers:\n",
    "        writer.writerow([customer[\"ID\"], customer[\"name\"], customer[\"location\"], customer[\"phone_number\"], customer[\"last_purchase_date\"]])\n",
    "        \n",
    "        \n",
    "#list of 6 customers and stores their details in a text file named \"customers.txt\" using the csv module   "
   ]
  },
  {
   "cell_type": "code",
   "execution_count": 51,
   "id": "c2fbb3d8",
   "metadata": {},
   "outputs": [
    {
     "name": "stdout",
     "output_type": "stream",
     "text": [
      "<__main__.Employee object at 0x0000023F2E832CD0>\n"
     ]
    }
   ],
   "source": [
    "class Employee:\n",
    "    def __init__(self, name, emp_id, salary, department):\n",
    "        self.name = name\n",
    "        self.id = emp_id\n",
    "        self.salary = salary\n",
    "        self.department = department\n",
    "\n",
    "employee1 = Employee(\"ADAMS\", \"E7876\", 50000, \"ACCOUNTING\")\n",
    "print(employee1)\n"
   ]
  },
  {
   "cell_type": "code",
   "execution_count": 46,
   "id": "9dd158fe",
   "metadata": {},
   "outputs": [
    {
     "name": "stdout",
     "output_type": "stream",
     "text": [
      "<built-in method writerow of _csv.writer object at 0x0000023F2E1EB9A0>\n"
     ]
    }
   ],
   "source": [
    "print(writer.writerow)\n"
   ]
  },
  {
   "cell_type": "markdown",
   "id": "51f22264",
   "metadata": {
    "id": "51f22264"
   },
   "source": [
    "### 3. \n",
    "\n",
    "Build a Simple Calculator using Exception Handling (try, except) that solves 4 arithmetic operations like Addition, Subtraction, Multiplication and Division.\n"
   ]
  },
  {
   "cell_type": "code",
   "execution_count": 12,
   "id": "5b52eb5c",
   "metadata": {
    "id": "5b52eb5c"
   },
   "outputs": [
    {
     "name": "stdout",
     "output_type": "stream",
     "text": [
      "Select operation\n",
      "1.Add\n",
      "2.subtract\n",
      "3.Multiply\n",
      "4.Divide\n",
      "Enter choice(1/2/3/4): 2\n",
      "Enter first number: 1\n",
      "Enter Second number: 2\n",
      "1.0 - 2.0 = -1.0\n",
      "Let's do next calculation? (yes/no): yes\n",
      "Invalid Input\n",
      "Enter choice(1/2/3/4): 3\n",
      "Enter first number: 4\n",
      "Enter Second number: 23\n",
      "4.0 * 23.0 = 92.0\n",
      "Let's do next calculation? (yes/no): yes\n",
      "Invalid Input\n",
      "Enter choice(1/2/3/4): 3\n",
      "Enter first number: 10023\n",
      "Enter Second number: 30045\n",
      "10023.0 * 30045.0 = 301141035.0\n",
      "Let's do next calculation? (yes/no): 1\n",
      "Invalid Input\n",
      "Enter choice(1/2/3/4): 1\n",
      "Enter first number: 290823927474\n",
      "Enter Second number: 2847294131\n",
      "290823927474.0 + 2847294131.0 = 293671221605.0\n",
      "Let's do next calculation? (yes/no): yes\n",
      "Invalid Input\n",
      "Enter choice(1/2/3/4): 4\n",
      "Enter first number: 46466464\n",
      "Enter Second number: 019282\n",
      "46466464.0 / 19282.0 = 2409.8363240327767\n",
      "Let's do next calculation? (yes/no): y\n",
      "Invalid Input\n",
      "Enter choice(1/2/3/4): 1\n",
      "Enter first number: 3737\n",
      "Enter Second number: 8484\n",
      "3737.0 + 8484.0 = 12221.0\n",
      "Let's do next calculation? (yes/no): no\n"
     ]
    }
   ],
   "source": [
    "# def 4 functions  Addition, Subtraction, Multiplication and Division. with x and y\n",
    "# then write a loop for the operation with if elif and else also will need to work with break if working with whie loop\n",
    "\n",
    "\n",
    "def add(x,y):\n",
    "    return x + y\n",
    "\n",
    "def subtract(x,y):\n",
    "    return x - y\n",
    "\n",
    "def multiply(x,y):\n",
    "    return x * y\n",
    "\n",
    "def divide(x,y):\n",
    "    return x / y\n",
    "\n",
    "print(\"Select operation\")\n",
    "print(\"1.Add\")\n",
    "print(\"2.subtract\")\n",
    "print(\"3.Multiply\")\n",
    "print(\"4.Divide\")\n",
    "\n",
    "while True:\n",
    "    choice = input(\"Enter choice(1/2/3/4): \")\n",
    "    \n",
    "    if choice in ('1','2','3','4'):\n",
    "        try:\n",
    "            num1 = float(input(\"Enter first number: \"))\n",
    "            num2 = float(input(\"Enter Second number: \"))\n",
    "        except ValueError:\n",
    "            print(\"Invalid input. Please enter a number.\")\n",
    "            continue\n",
    "            \n",
    "        if choice == '1':\n",
    "            print(num1, \"+\", num2, \"=\", add(num1, num2))\n",
    "            \n",
    "        elif choice == '2':\n",
    "            print(num1, \"-\", num2, \"=\", subtract(num1, num2))\n",
    "            \n",
    "        elif choice == '3':\n",
    "            print(num1, \"*\", num2, \"=\", multiply(num1, num2))\n",
    "            \n",
    "        elif choice == '4':\n",
    "            print(num1, \"/\", num2, \"=\", divide(num1, num2))\n",
    "            \n",
    "        next_calculation = input(\"Let's do next calculation? (yes/no): \")\n",
    "        if next_calculation == \"no\":\n",
    "            break\n",
    "        else:\n",
    "            print(\"Invalid Input\")"
   ]
  },
  {
   "cell_type": "code",
   "execution_count": null,
   "id": "883d3d6d",
   "metadata": {},
   "outputs": [],
   "source": []
  }
 ],
 "metadata": {
  "colab": {
   "provenance": []
  },
  "kernelspec": {
   "display_name": "Python 3 (ipykernel)",
   "language": "python",
   "name": "python3"
  },
  "language_info": {
   "codemirror_mode": {
    "name": "ipython",
    "version": 3
   },
   "file_extension": ".py",
   "mimetype": "text/x-python",
   "name": "python",
   "nbconvert_exporter": "python",
   "pygments_lexer": "ipython3",
   "version": "3.9.13"
  }
 },
 "nbformat": 4,
 "nbformat_minor": 5
}
