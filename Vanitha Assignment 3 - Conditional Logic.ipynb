{
 "cells": [
  {
   "cell_type": "markdown",
   "id": "c6ec5c42",
   "metadata": {},
   "source": [
    "# Assessment - 3 Gradable\n",
    "\n",
    "- Each question carries 3 or 4 marks\n",
    "- Marks will be assigned in terms of:\n",
    "    \n",
    "    **1. Expected output**\n",
    "    \n",
    "    **2. Quality and Explainability of code**\n",
    "\n",
    "    ***Go back through the script and type a comment above each line explaining in English what it does.***\n",
    "\n",
    "    **3. Copied code, if found, will result in 0 marks for that question. To avoid this make as much comments in the code to explain the approach**"
   ]
  },
  {
   "cell_type": "markdown",
   "id": "8698053e",
   "metadata": {},
   "source": [
    "### 1.\n",
    "\n",
    "Go through the string below and if the length of a word is even print \"even!\"\n",
    "\n",
    "string = 'I know how to print every word in this sentence that has an even number of letters'"
   ]
  },
  {
   "cell_type": "code",
   "execution_count": 19,
   "id": "4dec28a9",
   "metadata": {},
   "outputs": [
    {
     "data": {
      "text/plain": [
       "('EVEN', 'string')"
      ]
     },
     "execution_count": 19,
     "metadata": {},
     "output_type": "execute_result"
    }
   ],
   "source": [
    "# length of a word is even string is even and print EVEN otherwise print the string as its able to div by 2\n",
    "\n",
    "def string_split(mystring):\n",
    "    if len(mystring)%2 == 0:\n",
    "        return (\"EVEN\", mystring)\n",
    "    else:\n",
    "        return (\"ODD\", mystring)\n",
    "string_split(\"string\")"
   ]
  },
  {
   "cell_type": "code",
   "execution_count": 28,
   "id": "9c0e9e7f",
   "metadata": {},
   "outputs": [
    {
     "data": {
      "text/plain": [
       "[('ODD', 'I'),\n",
       " ('EVEN', 'know'),\n",
       " ('ODD', 'how'),\n",
       " ('EVEN', 'to'),\n",
       " ('ODD', 'print'),\n",
       " ('ODD', 'every'),\n",
       " ('EVEN', 'word'),\n",
       " ('EVEN', 'in'),\n",
       " ('EVEN', 'this'),\n",
       " ('EVEN', 'sentence'),\n",
       " ('EVEN', 'that'),\n",
       " ('ODD', 'has'),\n",
       " ('EVEN', 'an'),\n",
       " ('EVEN', 'even'),\n",
       " ('EVEN', 'number'),\n",
       " ('EVEN', 'of'),\n",
       " ('ODD', 'letters')]"
      ]
     },
     "execution_count": 28,
     "metadata": {},
     "output_type": "execute_result"
    }
   ],
   "source": [
    "# Applied MAP specified iterable and return map object and split\n",
    "alist = ['I','know','how','to','print','every','word','in','this','sentence','that','has','an','even','number','of','letters']\n",
    "string_split(alist)\n",
    "list(map(string_split, alist)) # to know the above full sentence odd/even. "
   ]
  },
  {
   "cell_type": "code",
   "execution_count": 13,
   "id": "59bb2046",
   "metadata": {},
   "outputs": [
    {
     "name": "stdout",
     "output_type": "stream",
     "text": [
      "know - This is Even sentence\n",
      "to - This is Even sentence\n",
      "word - This is Even sentence\n",
      "in - This is Even sentence\n",
      "this - This is Even sentence\n",
      "sentence - This is Even sentence\n",
      "that - This is Even sentence\n",
      "an - This is Even sentence\n",
      "even - This is Even sentence\n",
      "number - This is Even sentence\n",
      "of - This is Even sentence\n"
     ]
    }
   ],
   "source": [
    "# Applied split and according to length of the sentence by using %2 which can be div by 2 considered to know only even sentence\n",
    "string = 'I know how to print every word in this sentence that has an even number of letters'\n",
    "s=string.split()\n",
    "for i in s:\n",
    "    if len(i)%2==0:\n",
    "        print(i,\"- This is Even sentence\") #  in above sentence how many only even.  "
   ]
  },
  {
   "cell_type": "markdown",
   "id": "8569bc4e",
   "metadata": {},
   "source": [
    "### 2. \n",
    "\n",
    "Create a function ``lets_find_88`` Given a list of ints, return True if the array contains a 8 next to a 8 somewhere.\n",
    "- lets_find_88([1, 8, 8]) → True\n",
    "- lets_find_88([1, 8, 1, 8]) → False\n",
    "- lets_find_88([8, 1, 8]) → False"
   ]
  },
  {
   "cell_type": "code",
   "execution_count": 2,
   "id": "9ccfca15",
   "metadata": {},
   "outputs": [
    {
     "data": {
      "text/plain": [
       "True"
      ]
     },
     "execution_count": 2,
     "metadata": {},
     "output_type": "execute_result"
    }
   ],
   "source": [
    "def lets_find_88(arg1):\n",
    "    if arg1[-1]==arg1[-2]:\n",
    "        return True\n",
    "    else:\n",
    "        return False\n",
    "lets_find_88([1,8,8]) # first statement contains a 8 next to a 8 so we got bool value True."
   ]
  },
  {
   "cell_type": "code",
   "execution_count": 3,
   "id": "8e1f3217",
   "metadata": {},
   "outputs": [
    {
     "data": {
      "text/plain": [
       "False"
      ]
     },
     "execution_count": 3,
     "metadata": {},
     "output_type": "execute_result"
    }
   ],
   "source": [
    "lets_find_88([1, 8, 1, 8]) # 2nd statement is not contains a 8 next to a 8 so we got bool value False."
   ]
  },
  {
   "cell_type": "code",
   "execution_count": 4,
   "id": "022f0cfc",
   "metadata": {},
   "outputs": [
    {
     "data": {
      "text/plain": [
       "False"
      ]
     },
     "execution_count": 4,
     "metadata": {},
     "output_type": "execute_result"
    }
   ],
   "source": [
    "lets_find_88([8, 1, 8]) # # 2nd statement is not contains a 8 next to a 8 so we got bool value False."
   ]
  },
  {
   "cell_type": "markdown",
   "id": "40759409",
   "metadata": {},
   "source": [
    "### 3.\n",
    "\n",
    " Calculate and display the sum of all the numbers divisible by 7 between 18 and 534.\n",
    " \n",
    " Hint: One way to do this is to loop over a 'range' using 'for' loop and use an 'if' statement inside it."
   ]
  },
  {
   "cell_type": "code",
   "execution_count": 1,
   "id": "f7409469",
   "metadata": {},
   "outputs": [
    {
     "name": "stdout",
     "output_type": "stream",
     "text": [
      "sum of all the numbers divisible by 7 between 18 and 534 is 20461.\n"
     ]
    }
   ],
   "source": [
    "# used while loop and if statement\n",
    "Value= 0\n",
    "S = 18 # between 18\n",
    "\n",
    "while S<534: # end value need to get\n",
    "    if not S%7: # divided by 7\n",
    "        Value+=S\n",
    "    S+=1\n",
    "print('sum of all the numbers divisible by 7 between 18 and 534 is {}.'.format(Value))        "
   ]
  },
  {
   "cell_type": "markdown",
   "id": "0dd3847a",
   "metadata": {},
   "source": [
    "### 4. \n",
    "\n",
    "Create a list containing the following 3 elements:\n",
    "\n",
    "- Subject person had taken\n",
    "- Marks Achieved\n",
    "- a boolean value showing previous programming experience\n",
    "\n",
    "and Complete the following 'print' and 'if' statements by accessing the appropriate elements from my_list."
   ]
  },
  {
   "cell_type": "code",
   "execution_count": 44,
   "id": "5c87efcb",
   "metadata": {},
   "outputs": [
    {
     "name": "stdout",
     "output_type": "stream",
     "text": [
      "Total subjects : ('Kannada', 'English', 'Hindi', 'Social')\n",
      "Total Marks : (99, 88, 77, 66)\n",
      "Yes have previous programming experience\n"
     ]
    }
   ],
   "source": [
    "taken_sub = 'Kannada','English','Hindi','Social' # Total subjects\n",
    "Marks = 99,88,77,66\n",
    "programming_experience= True # bool value True is telling that student have programming experience\n",
    "\n",
    "num = [taken_sub, Marks, programming_experience] # to define num created this\n",
    "\n",
    "print(\"Total subjects :\",taken_sub)\n",
    "print(\"Total Marks :\",Marks)\n",
    "\n",
    "if num:\n",
    "        print(\"Yes have previous programming experience\")       \n",
    "else:\n",
    "    print(\"No i don't have previous programming experience\") # if else statement to get expected output student have prog exp"
   ]
  },
  {
   "cell_type": "markdown",
   "id": "a54510f0",
   "metadata": {},
   "source": [
    "### 5.\n",
    "\n",
    "Write a function to return True if the first and last number of a given list is same. If numbers are different then return False.\n",
    "\n",
    "- [11, 13, 17, 19, 11] --> True\n",
    "- [24, 36, 12, 31, 42] --> False"
   ]
  },
  {
   "cell_type": "code",
   "execution_count": 16,
   "id": "5d53ba1f",
   "metadata": {},
   "outputs": [
    {
     "name": "stdout",
     "output_type": "stream",
     "text": [
      "[11, 13, 17, 19, 11]\n",
      "True\n",
      "\n"
     ]
    }
   ],
   "source": [
    "# Used return statement to know bool value of above list\n",
    "list77 = [11, 13, 17, 19, 11]\n",
    "print(list77)\n",
    "def store(list77):\n",
    "    print(list77[0]== list77[-1])\n",
    "    return store\n",
    "\n",
    "list77 = [11, 13, 17, 19, 11] #first and last number of a given list is same we will get Bool value True\n",
    "store(list77)\n",
    "print()"
   ]
  },
  {
   "cell_type": "code",
   "execution_count": 17,
   "id": "9657bca0",
   "metadata": {},
   "outputs": [
    {
     "name": "stdout",
     "output_type": "stream",
     "text": [
      "[24, 36, 12, 31, 42]\n",
      "False\n",
      "\n"
     ]
    }
   ],
   "source": [
    "list88 = [24, 36, 12, 31, 42]\n",
    "print(list88)\n",
    "def estore(list88):\n",
    "    print(list88[0]== list88[-1])\n",
    "    return estore\n",
    "\n",
    "list88 = [24, 36, 12, 31, 42] #first and last number of a given list is not same we will get Bool value False\n",
    "estore(list88)\n",
    "print()"
   ]
  }
 ],
 "metadata": {
  "kernelspec": {
   "display_name": "Python 3 (ipykernel)",
   "language": "python",
   "name": "python3"
  },
  "language_info": {
   "codemirror_mode": {
    "name": "ipython",
    "version": 3
   },
   "file_extension": ".py",
   "mimetype": "text/x-python",
   "name": "python",
   "nbconvert_exporter": "python",
   "pygments_lexer": "ipython3",
   "version": "3.9.13"
  }
 },
 "nbformat": 4,
 "nbformat_minor": 5
}
