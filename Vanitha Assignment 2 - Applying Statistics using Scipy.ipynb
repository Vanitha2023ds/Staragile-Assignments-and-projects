{
 "cells": [
  {
   "cell_type": "raw",
   "id": "b85b6a56",
   "metadata": {},
   "source": [
    "1.Explain what is the Central Limit Theorem to a non-technical audience?"
   ]
  },
  {
   "cell_type": "raw",
   "id": "165e0848",
   "metadata": {},
   "source": [
    "Answer :\n",
    "\n",
    "The central limit theorem says that the sampling distribution of the mean will always be normally distributed, as long as the sample size is large enough. Regardless of whether the population has a normal, Poisson, binomial, or any other distribution, the sampling distribution of the mean will be normal."
   ]
  },
  {
   "cell_type": "raw",
   "id": "b2d41342",
   "metadata": {},
   "source": [
    "2.What is Sampling and following techniques required to gather sample data? "
   ]
  },
  {
   "cell_type": "raw",
   "id": "e94836f7",
   "metadata": {},
   "source": [
    "Answer :\n",
    "\n",
    "Probability sampling methods include simple random sampling, systematic sampling, stratified sampling, and cluster sampling. What is non-probability sampling? In non-probability sampling, the sample is selected based on non-random criteria, and not every member of the population has a chance of being included.\n",
    "\n",
    "Sampling is a technique of selecting individual members or a subset of the population to make statistical inferences from them and estimate the characteristics of the whole population.\n",
    "\n",
    "There are three methods of sampling in research: Random/Probability Sampling. Non-random/Non-probability Sampling. 'Mixed' Sampling."
   ]
  },
  {
   "cell_type": "raw",
   "id": "5cc3a1a9",
   "metadata": {},
   "source": [
    "3.Describe the Hypothesis Testing and why do we conduct it?"
   ]
  },
  {
   "cell_type": "raw",
   "id": "58e354cf",
   "metadata": {},
   "source": [
    "Answer :\n",
    "\n",
    "Hypothesis testing is the process used to evaluate the strength of evidence from the sample and provides a framework for making determinations related to the population, ie, it provides a method for understanding how reliably one can extrapolate observed findings in a sample under study to the larger population\n",
    "\n",
    "Hypothesis testing is a formal procedure for investigating our ideas about the world using statistics. It is used by scientists to test specific predictions, called hypotheses, by calculating how likely it is that a pattern or relationship between variables could have arisen by chance.\n",
    "\n",
    "A hypothesis enables researchers not only to discover a relationship between variables, but also to predict a relationship based on theoretical guidelines and/or empirical evidence. Developing a hypothesis requires a comprehensive understanding of the research topic and an exhaustive review of previous literature."
   ]
  },
  {
   "cell_type": "raw",
   "id": "a31296aa",
   "metadata": {},
   "source": [
    "4.Define and briefly elaborate Central Tendency using measures with examples?"
   ]
  },
  {
   "cell_type": "raw",
   "id": "77f59de7",
   "metadata": {},
   "source": [
    "Answer :\n",
    "\n",
    "Measures of central tendency are summary statistics that represent the center point or typical value of a dataset. Examples of these measures include the mean, median, and mode. These statistics indicate where most values in a distribution fall and are also referred to as the central location of a distribution.\n",
    "\n",
    "Mean, median and mode are the measure of central tendencies.\n",
    "\n",
    "Measures that indicate the approximate center of a distribution are called measures of central tendency. Measures that describe the spread of the data are measures of dispersion. These measures include the mean, median, mode, range, upper and lower quartiles, variance, and standard deviation."
   ]
  },
  {
   "cell_type": "raw",
   "id": "2445c466",
   "metadata": {},
   "source": [
    "5.What’s a ROC Curve? How do you differentiate Point Estimate and Confidence Interval Estimate?"
   ]
  },
  {
   "cell_type": "raw",
   "id": "8c3891ca",
   "metadata": {},
   "source": [
    "Answer :\n",
    "\n",
    "An ROC curve (receiver operating characteristic curve) is a graph showing the performance of a classification model at all classification thresholds. This curve plots two parameters: True Positive Rate. False Positive Rate.\n",
    "Classifiers that give curves closer to the top-left corner indicate a better performance. As a baseline, a random classifier is expected to give points lying along the diagonal (FPR = TPR). The closer the curve comes to the 45-degree diagonal of the ROC space, the less accurate the test.\n",
    "\n",
    "-A point estimate is a single value estimate of a parameter. For instance, a sample mean is a point estimate of a population mean.\n",
    "-An interval estimate gives you a range of values where the parameter is expected to lie. A confidence interval is the most common type of interval estimate.\n",
    "\n",
    "Both types of estimates are important for gathering a clear idea of where a parameter is likely to lie."
   ]
  },
  {
   "cell_type": "raw",
   "id": "f275f160",
   "metadata": {},
   "source": [
    "6.What’s the difference between Correlation and Covariance in Statistics? What are the goals of A/B Testing? "
   ]
  },
  {
   "cell_type": "raw",
   "id": "acf83711",
   "metadata": {},
   "source": [
    "Answer :\n",
    "\n",
    "Covariance is an indicator of the extent to which 2 random variables are dependent on each other. A higher number denotes higher dependency. Correlation is a statistical measure that indicates how strongly two variables are related. The value of covariance lies in the range of -∞ and +∞.\n",
    "\n",
    "Covariance reveals how two variables change together while correlation determines how closely two variables are related to each other. Both covariance and correlation measure the relationship and the dependency between two variables. Covariance indicates the direction of the linear relationship between variables.\n",
    "\n",
    "Correlation analysis is used to quantify the degree to which two variables are related. Through the correlation analysis, you evaluate correlation coefficient that tells you how much one variable changes when the other one does. Correlation analysis provides you with a linear relationship between two variables.\n",
    "\n",
    "\n",
    "A/B testing allows individuals, teams and companies to make careful changes to their user experiences while collecting data on the impact it makes. This allows them to construct hypotheses and to learn what elements and optimizations of their experiences impact user behavior the most.\n",
    "\n",
    "A/B testing, also known as split testing, is a marketing technique that involves comparing two versions of a web page or application to see which performs better. These variations, known as A and B, are presented randomly to users. A portion of them will be directed to the first version, and the rest to the second."
   ]
  },
  {
   "cell_type": "raw",
   "id": "d261725b",
   "metadata": {},
   "source": [
    "7.How would you build and test a metric to compare two user’s ranked lists of movie/tv show preferences?"
   ]
  },
  {
   "cell_type": "raw",
   "id": "48938221",
   "metadata": {},
   "source": [
    "Answer :\n",
    "\n",
    "1) Develop a list of shows/movies that are representative of different taste categries (more on this later)\n",
    "2) Obtain ranking of the items in the list from 2 users\n",
    "3) Use Spearman's rho (or other test that works with rankings) to assess dependence/conguence between the 2 people's rankings.\n",
    "\n",
    "Look at the mean average precision of the movies that the users watch out of the rankings. So if out of 10 recommended movies one user prefers the third and the other user prefers the sixth, the recommendation engine of the user who preferred the third would be better."
   ]
  },
  {
   "cell_type": "raw",
   "id": "b982945e",
   "metadata": {},
   "source": [
    "8.Find the probability of P(x<400) given that mean is = 1000 variance is =100"
   ]
  },
  {
   "cell_type": "raw",
   "id": "88526c80",
   "metadata": {},
   "source": [
    "Answer :\n",
    "\n",
    "Let X~Normal (μ = 1000, σ² = 100)\n",
    "\n",
    "A new population is formed from the sample means of the above population.\n",
    "\n",
    "Let the sample means be xbar.\n",
    "\n",
    "Sample size n = 400\n",
    "\n",
    "a. The mean of the new population-\n",
    "\n",
    "μ’ = μ = 1000\n",
    "\n",
    "----------------------------------------------------------------------------------------------------------------------------\n",
    "\n",
    "The variance of the new population-\n",
    "\n",
    "σ’² = σ² /n\n",
    "\n",
    "= 100/400\n",
    "\n",
    "= 0.25\n",
    "\n"
   ]
  },
  {
   "cell_type": "raw",
   "id": "6cd0908d",
   "metadata": {},
   "source": [
    "9.Provide a proper description as to when to apply Ztest, t-test, Chi-Square and annova, with examples."
   ]
  },
  {
   "cell_type": "raw",
   "id": "b6748275",
   "metadata": {},
   "source": [
    "Answer :\n",
    "\n",
    "Ztest :\n",
    "If the standard deviation of the population is unknown and the sample size is greater than or equal to 30, then the assumption of the sample variance equaling the population variance should be made using the z-test.\n",
    "\n",
    "\"Testing the population mean - One Sample and Two Sample\n",
    "If the standard deviation of the population is unknown and the sample size is greater than or equal to 30, then the assumption of the sample variance equaling the population variance should be made using the z-test.\n",
    "\n",
    "The one-sample Z test is used when we want to know whether our sample comes from a particular population.\n",
    "\n",
    "A two-sample z-test for means is used to determine if the means of two populations are equal.\"\n",
    "\n",
    "\n",
    "t-test :\n",
    "\n",
    "A t test can only be used when comparing the means of two groups (a.k.a. pairwise comparison). If you want to compare more than two groups, or if you want to do multiple pairwise comparisons, use an ANOVA test or a post-hoc test\n",
    "\n",
    "\"1 when the population std is not provided/is not available\n",
    "2 when the sample size is less than 30\n",
    "\n",
    "One sample t test - is used to test the statistical difference between a sample mean and a known or assumed/hypothesized value of the mean in the population. \n",
    "\n",
    "Two sample t test - is used to understand if there is difference between the two means.\n",
    "\n",
    "Paired T-Test - is used to determine whether the mean difference between two sets of observations is zero. \"\n",
    "\n",
    "\n",
    "Chi-Square :\n",
    "You want to test a hypothesis about one or more categorical variables.\n",
    "The sample was randomly selected from the population.\n",
    "There are a minimum of five observations expected in each group or combination of groups.\n",
    "\n",
    "\"To check whether two CATEGORICAL random variables are independent\n",
    "The level of measurement of all the variables is nominal or ordinal.\"\n",
    "\n",
    "\n",
    "ANOVA :\n",
    "Use a one-way ANOVA when you have collected data about one categorical independent variable and one quantitative dependent variable. The independent variable should have at least three levels \n",
    "\n",
    "\"ANOVA is helpful for testing three or more variables. It is similar to multiple two-sample t-tests. It is appropriate for a range of issues. ANOVA groups differences by comparing the means of each group.\n",
    "\n",
    "Use a one-way ANOVA when you have collected data about one categorical independent variable and one quantitative dependent variable.\"\n",
    "\n",
    "\n",
    "We use a t-test to compare the mean of two given samples but we use the chi-square test to compare categorical variables.\n",
    "A one-way ANOVA analysis is used to compare means of more than two groups, while a chi-square test is used to explore the relationship between two categorical variables.\n",
    "z-test/t-test assess whether mean of two groups are statistically different from each other or not. whereas ANOVA assesses whether the average of more than two groups is statistically different."
   ]
  },
  {
   "cell_type": "code",
   "execution_count": null,
   "id": "a88f0195",
   "metadata": {},
   "outputs": [],
   "source": []
  }
 ],
 "metadata": {
  "kernelspec": {
   "display_name": "Python 3 (ipykernel)",
   "language": "python",
   "name": "python3"
  },
  "language_info": {
   "codemirror_mode": {
    "name": "ipython",
    "version": 3
   },
   "file_extension": ".py",
   "mimetype": "text/x-python",
   "name": "python",
   "nbconvert_exporter": "python",
   "pygments_lexer": "ipython3",
   "version": "3.9.13"
  }
 },
 "nbformat": 4,
 "nbformat_minor": 5
}
