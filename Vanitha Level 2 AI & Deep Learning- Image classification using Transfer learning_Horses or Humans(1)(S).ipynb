{
 "cells": [
  {
   "cell_type": "code",
   "execution_count": 1,
   "metadata": {
    "colab": {
     "base_uri": "https://localhost:8080/"
    },
    "executionInfo": {
     "elapsed": 23529,
     "status": "ok",
     "timestamp": 1695227657848,
     "user": {
      "displayName": "V B",
      "userId": "06474613093394507000"
     },
     "user_tz": -330
    },
    "id": "EKJSPkHoihM_",
    "outputId": "a0f3d4e8-ed7f-4ab8-e70d-d676322ecfe3"
   },
   "outputs": [
    {
     "name": "stdout",
     "output_type": "stream",
     "text": [
      "Mounted at /content/drive\n"
     ]
    }
   ],
   "source": [
    "from google.colab import drive\n",
    "drive.mount('/content/drive')"
   ]
  },
  {
   "cell_type": "code",
   "execution_count": 2,
   "metadata": {
    "colab": {
     "base_uri": "https://localhost:8080/"
    },
    "executionInfo": {
     "elapsed": 2235,
     "status": "ok",
     "timestamp": 1695227798888,
     "user": {
      "displayName": "V B",
      "userId": "06474613093394507000"
     },
     "user_tz": -330
    },
    "id": "YhpcAK2DEU4z",
    "outputId": "06d14348-f8d5-4891-80fb-f89218eb0fac"
   },
   "outputs": [
    {
     "name": "stdout",
     "output_type": "stream",
     "text": [
      "Requirement already satisfied: tensorflow in /usr/local/lib/python3.10/dist-packages (2.13.0)\n",
      "Collecting tensorflow.gpu\n",
      "  Downloading tensorflow-gpu-2.12.0.tar.gz (2.6 kB)\n",
      "  \u001b[1;31merror\u001b[0m: \u001b[1msubprocess-exited-with-error\u001b[0m\n",
      "  \n",
      "  \u001b[31m×\u001b[0m \u001b[32mpython setup.py egg_info\u001b[0m did not run successfully.\n",
      "  \u001b[31m│\u001b[0m exit code: \u001b[1;36m1\u001b[0m\n",
      "  \u001b[31m╰─>\u001b[0m See above for output.\n",
      "  \n",
      "  \u001b[1;35mnote\u001b[0m: This error originates from a subprocess, and is likely not a problem with pip.\n",
      "  Preparing metadata (setup.py) ... \u001b[?25l\u001b[?25herror\n",
      "\u001b[1;31merror\u001b[0m: \u001b[1mmetadata-generation-failed\u001b[0m\n",
      "\n",
      "\u001b[31m×\u001b[0m Encountered error while generating package metadata.\n",
      "\u001b[31m╰─>\u001b[0m See above for output.\n",
      "\n",
      "\u001b[1;35mnote\u001b[0m: This is an issue with the package mentioned above, not pip.\n",
      "\u001b[1;36mhint\u001b[0m: See above for details.\n"
     ]
    }
   ],
   "source": [
    "!pip install tensorflow tensorflow.gpu opencv-python matplotlib"
   ]
  },
  {
   "cell_type": "code",
   "execution_count": 4,
   "metadata": {
    "colab": {
     "base_uri": "https://localhost:8080/"
    },
    "executionInfo": {
     "elapsed": 5417265,
     "status": "ok",
     "timestamp": 1695235626139,
     "user": {
      "displayName": "V B",
      "userId": "06474613093394507000"
     },
     "user_tz": -330
    },
    "id": "8NE9b0Gpcbbe",
    "outputId": "f46c34b0-fb77-40b7-fde1-7f7acf668035"
   },
   "outputs": [
    {
     "name": "stdout",
     "output_type": "stream",
     "text": [
      "Found 1027 images belonging to 2 classes.\n",
      "Found 256 images belonging to 2 classes.\n",
      "Downloading data from https://storage.googleapis.com/tensorflow/keras-applications/vgg19/vgg19_weights_tf_dim_ordering_tf_kernels_notop.h5\n",
      "80134624/80134624 [==============================] - 0s 0us/step\n"
     ]
    },
    {
     "name": "stderr",
     "output_type": "stream",
     "text": [
      "WARNING:absl:`lr` is deprecated in Keras optimizer, please use `learning_rate` or use the legacy optimizer, e.g.,tf.keras.optimizers.legacy.Adam.\n"
     ]
    },
    {
     "name": "stdout",
     "output_type": "stream",
     "text": [
      "Epoch 1/10\n",
      "33/33 [==============================] - 520s 16s/step - loss: 0.6311 - accuracy: 0.7205 - val_loss: 0.2488 - val_accuracy: 0.9023\n",
      "Epoch 2/10\n",
      "33/33 [==============================] - 524s 16s/step - loss: 0.2034 - accuracy: 0.9289 - val_loss: 0.1418 - val_accuracy: 0.9336\n",
      "Epoch 3/10\n",
      "33/33 [==============================] - 444s 14s/step - loss: 0.1811 - accuracy: 0.9270 - val_loss: 0.1064 - val_accuracy: 0.9531\n",
      "Epoch 4/10\n",
      "33/33 [==============================] - 499s 15s/step - loss: 0.1431 - accuracy: 0.9426 - val_loss: 0.0522 - val_accuracy: 0.9727\n",
      "Epoch 5/10\n",
      "33/33 [==============================] - 496s 15s/step - loss: 0.1366 - accuracy: 0.9523 - val_loss: 0.0734 - val_accuracy: 0.9609\n",
      "Epoch 6/10\n",
      "33/33 [==============================] - 498s 15s/step - loss: 0.1093 - accuracy: 0.9552 - val_loss: 0.0781 - val_accuracy: 0.9570\n",
      "Epoch 7/10\n",
      "33/33 [==============================] - 499s 15s/step - loss: 0.1038 - accuracy: 0.9611 - val_loss: 0.1764 - val_accuracy: 0.9219\n",
      "Epoch 8/10\n",
      "33/33 [==============================] - 504s 15s/step - loss: 0.1008 - accuracy: 0.9620 - val_loss: 0.0528 - val_accuracy: 0.9648\n",
      "Epoch 9/10\n",
      "33/33 [==============================] - 507s 15s/step - loss: 0.0907 - accuracy: 0.9669 - val_loss: 0.1090 - val_accuracy: 0.9570\n",
      "Epoch 10/10\n",
      "33/33 [==============================] - 509s 16s/step - loss: 0.0868 - accuracy: 0.9698 - val_loss: 0.0323 - val_accuracy: 0.9883\n",
      "8/8 [==============================] - 91s 11s/step - loss: 0.0323 - accuracy: 0.9883\n",
      "Test accuracy: 0.98828125\n"
     ]
    }
   ],
   "source": [
    "import tensorflow as tf\n",
    "from tensorflow.keras.preprocessing.image import ImageDataGenerator\n",
    "from tensorflow.keras.applications import VGG19\n",
    "from tensorflow.keras.layers import Dense, Flatten, Dropout\n",
    "from tensorflow.keras.models import Model\n",
    "from tensorflow.keras.optimizers import Adam\n",
    "\n",
    "# Define paths to the training and validation datasets\n",
    "train_dir = '/content/drive/MyDrive/Colab Notebooks/train'\n",
    "validation_dir = '/content/drive/MyDrive/Colab Notebooks/validation'\n",
    "\n",
    "# Create data generators with data augmentation\n",
    "train_datagen = ImageDataGenerator(\n",
    "    rescale=1.0/255.0,\n",
    "    rotation_range=40,\n",
    "    width_shift_range=0.2,\n",
    "    height_shift_range=0.2,\n",
    "    shear_range=0.2,\n",
    "    zoom_range=0.2,\n",
    "    horizontal_flip=True,\n",
    "    fill_mode='nearest')\n",
    "\n",
    "validation_datagen = ImageDataGenerator(rescale=1.0/255.0)\n",
    "\n",
    "# Create data generators\n",
    "train_generator = train_datagen.flow_from_directory(\n",
    "    train_dir,\n",
    "    target_size=(150, 150),\n",
    "    batch_size=32,\n",
    "    class_mode='binary')\n",
    "\n",
    "validation_generator = validation_datagen.flow_from_directory(\n",
    "    validation_dir,\n",
    "    target_size=(150, 150),\n",
    "    batch_size=32,\n",
    "    class_mode='binary')\n",
    "\n",
    "# Load VGG19 pretrained on ImageNet\n",
    "base_model = VGG19(weights='imagenet', include_top=False, input_shape=(150, 150, 3))\n",
    "\n",
    "# Add custom classification layers on top\n",
    "x = Flatten()(base_model.output)\n",
    "x = Dense(256, activation='relu')(x)\n",
    "x = Dropout(0.5)(x)\n",
    "predictions = Dense(1, activation='sigmoid')(x)\n",
    "\n",
    "# Create the model\n",
    "model = Model(inputs=base_model.input, outputs=predictions)\n",
    "\n",
    "# Freeze the layers of the pretrained model\n",
    "for layer in base_model.layers:\n",
    "    layer.trainable = False\n",
    "\n",
    "# Compile the model\n",
    "model.compile(optimizer=Adam(lr=0.0001), loss='binary_crossentropy', metrics=['accuracy'])\n",
    "\n",
    "# Train the model\n",
    "history = model.fit(\n",
    "    train_generator,\n",
    "    steps_per_epoch=len(train_generator),\n",
    "    epochs=10,\n",
    "    validation_data=validation_generator,\n",
    "    validation_steps=len(validation_generator))\n",
    "\n",
    "# Evaluate the model\n",
    "test_loss, test_acc = model.evaluate(validation_generator, steps=len(validation_generator))\n",
    "print(\"Test accuracy:\", test_acc)"
   ]
  },
  {
   "cell_type": "code",
   "execution_count": 5,
   "metadata": {
    "colab": {
     "base_uri": "https://localhost:8080/",
     "height": 599
    },
    "executionInfo": {
     "elapsed": 2074,
     "status": "ok",
     "timestamp": 1695235779434,
     "user": {
      "displayName": "V B",
      "userId": "06474613093394507000"
     },
     "user_tz": -330
    },
    "id": "J2vzRwbqoQZO",
    "outputId": "18ccaa8f-d94b-49c9-88ad-27c2c5c0dbe5"
   },
   "outputs": [
    {
     "data": {
      "image/png": "[encoded data removed]",
      "text/plain": [
       "<Figure size 800x600 with 1 Axes>"
      ]
     },
     "metadata": {},
     "output_type": "display_data"
    }
   ],
   "source": [
    "import os\n",
    "import matplotlib.pyplot as plt\n",
    "import seaborn as sns\n",
    "import pandas as pd\n",
    "\n",
    "# Define the path to the dataset directory\n",
    "dataset_dir = '/content/drive/MyDrive/Colab Notebooks/train'\n",
    "\n",
    "# List the classes (assuming 'horses' and 'humans')\n",
    "classes = os.listdir(dataset_dir)\n",
    "\n",
    "# Count the number of images in each class\n",
    "num_images_per_class = {}\n",
    "for class_name in classes:\n",
    "    class_dir = os.path.join(dataset_dir, class_name)\n",
    "    num_images = len(os.listdir(class_dir))\n",
    "    num_images_per_class[class_name] = num_images\n",
    "\n",
    "# Create a DataFrame for EDA\n",
    "eda_df = pd.DataFrame(num_images_per_class.values(), index=num_images_per_class.keys(), columns=['Number of Images'])\n",
    "\n",
    "# Plot a bar chart to visualize the distribution of classes\n",
    "plt.figure(figsize=(8, 6))\n",
    "sns.barplot(x=eda_df.index, y=eda_df['Number of Images'])\n",
    "plt.xlabel('Class')\n",
    "plt.ylabel('Number of Images')\n",
    "plt.title('Distribution of Classes')\n",
    "plt.xticks(rotation=45)\n",
    "plt.show()"
   ]
  },
  {
   "cell_type": "code",
   "execution_count": null,
   "metadata": {
    "id": "RYZnIO3eoQcy"
   },
   "outputs": [],
   "source": []
  }
 ],
 "metadata": {
  "colab": {
   "authorship_tag": "ABX9TyPZyKQY6t9ZeWFBgGczJk09",
   "mount_file_id": "14RKvLl8EMSNSFdfN6I4Qy5J-i-kJU5As",
   "provenance": []
  },
  "kernelspec": {
   "display_name": "Python 3 (ipykernel)",
   "language": "python",
   "name": "python3"
  },
  "language_info": {
   "codemirror_mode": {
    "name": "ipython",
    "version": 3
   },
   "file_extension": ".py",
   "mimetype": "text/x-python",
   "name": "python",
   "nbconvert_exporter": "python",
   "pygments_lexer": "ipython3",
   "version": "3.11.4"
  }
 },
 "nbformat": 4,
 "nbformat_minor": 1
}
