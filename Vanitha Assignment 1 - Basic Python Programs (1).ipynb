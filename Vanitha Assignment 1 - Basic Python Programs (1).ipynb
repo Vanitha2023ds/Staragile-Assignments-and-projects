{
 "cells": [
  {
   "cell_type": "markdown",
   "id": "fd8a397e",
   "metadata": {
    "id": "fd8a397e"
   },
   "source": [
    "# Assessment - 1 Gradable\n",
    "\n",
    "- Each question carries 2 marks\n",
    "- Marks will be assigned in terms of:\n",
    "    \n",
    "    **1. Expected output**\n",
    "    \n",
    "    **2. Quality and Explainability of code**\n",
    "\n",
    "    ***Go back through the script and type a comment above each line explaining in English what it does.***\n",
    "\n",
    "    **3. Copied code, if found, will result in 0 marks for that question. To avoid this make as much comments in the code to explain the approach**"
   ]
  },
  {
   "cell_type": "markdown",
   "id": "b71e4d6e",
   "metadata": {
    "id": "b71e4d6e"
   },
   "source": [
    "### 1.\n",
    "\n",
    "Write a program to Find the Factorial of a given input Number"
   ]
  },
  {
   "cell_type": "code",
   "execution_count": 2,
   "id": "5fdfd2dd",
   "metadata": {
    "id": "5fdfd2dd"
   },
   "outputs": [
    {
     "name": "stdout",
     "output_type": "stream",
     "text": [
      "Enter value for number7\n",
      "loop\n",
      "The Factorial of number7 is 5040\n"
     ]
    }
   ],
   "source": [
    "# Factorial the number is multiplied with all the intergers that lie between 1 and the number itself\n",
    "\n",
    "number = int(input(\"Enter value for number\"))\n",
    "if number ==0:\n",
    "    print(\"Factorial of zero is 1\")\n",
    "elif number <0:\n",
    "    print(\"Factorial cannot be computed for less than zero\")\n",
    "else:\n",
    "    print(\"loop\")\n",
    "    fact=1\n",
    "for i in range(1,number+1):\n",
    "        fact*=i\n",
    "print(\"The Factorial of number{0} is {1}\".format(number,fact))\n",
    "# answer for the input 7 is 7*6*5*4*3*2*1 = 5040        "
   ]
  },
  {
   "cell_type": "markdown",
   "id": "19219461",
   "metadata": {
    "id": "19219461"
   },
   "source": [
    "### 2. \n",
    "\n",
    "Write a program to check if the given year is a Leap Year or not"
   ]
  },
  {
   "cell_type": "code",
   "execution_count": 11,
   "id": "ea1f3f35",
   "metadata": {
    "id": "ea1f3f35"
   },
   "outputs": [
    {
     "name": "stdout",
     "output_type": "stream",
     "text": [
      "Enter year2000\n",
      "\n",
      "not leap year\n"
     ]
    }
   ],
   "source": [
    "year =int(input(\"Enter year\")) # Example for not leap year\n",
    "print()\n",
    "if(year %4 ==0) and (year %100 !=0):\n",
    "    print(\"this is leap year\")\n",
    "else:\n",
    "    print(\"not leap year\")"
   ]
  },
  {
   "cell_type": "code",
   "execution_count": 13,
   "id": "2f18821e",
   "metadata": {},
   "outputs": [
    {
     "name": "stdout",
     "output_type": "stream",
     "text": [
      "Enter year2028\n",
      "\n",
      "this is leap year\n"
     ]
    }
   ],
   "source": [
    "year =int(input (\"Enter year\")) # Example for leap year\n",
    "print()\n",
    "if(year %4 ==0) and (year %100 !=0):\n",
    "    print(\"this is leap year\")\n",
    "else:\n",
    "    print(\"not leap year\")\n",
    "    "
   ]
  },
  {
   "cell_type": "code",
   "execution_count": 3,
   "id": "55c503e2",
   "metadata": {},
   "outputs": [
    {
     "name": "stdout",
     "output_type": "stream",
     "text": [
      "this is leap year\n"
     ]
    }
   ],
   "source": [
    "#other way to know leap year \n",
    "\n",
    "year =2024\n",
    "if(year %4 ==0) and (year %100 !=0): \n",
    "    print(\"this is leap year\")\n",
    "else:\n",
    "    print(\"not leap year\")"
   ]
  },
  {
   "cell_type": "markdown",
   "id": "58bb969b",
   "metadata": {
    "id": "58bb969b"
   },
   "source": [
    "### 3.\n",
    "\n",
    "Write a program to convert from Celsius To Fahrenheit"
   ]
  },
  {
   "cell_type": "code",
   "execution_count": 14,
   "id": "d09b33c6",
   "metadata": {
    "id": "d09b33c6"
   },
   "outputs": [
    {
     "name": "stdout",
     "output_type": "stream",
     "text": [
      "Enter temprature a celsius 7\n",
      "\n",
      "the converted value is 38.9 fahrenheit\n"
     ]
    }
   ],
   "source": [
    "celsius = int(input(\"Enter temprature a celsius \")) # 7 has been entered\n",
    "\n",
    "fahrenheit=(celsius*(1.7))+27 # fahrenheit has defined as (7 multiply by 1.7 add 27 (1.7*7+27)\n",
    "\n",
    "print()\n",
    "print(\"the converted value is\",fahrenheit,\"fahrenheit\")\n",
    "\n",
    "#7 multiply by 1.7 add 27 (1.7*7+27)\n"
   ]
  },
  {
   "cell_type": "markdown",
   "id": "8658a415",
   "metadata": {
    "id": "8658a415"
   },
   "source": [
    "### 4.\n",
    "\n",
    "Write a program to check if the given number is a palindrome number.\n",
    "\n",
    "A palindrome number is a number that is same after reverse. For example, 121 is a palindrome number."
   ]
  },
  {
   "cell_type": "code",
   "execution_count": 15,
   "id": "a0974be7",
   "metadata": {
    "id": "a0974be7"
   },
   "outputs": [
    {
     "name": "stdout",
     "output_type": "stream",
     "text": [
      "enter a number121\n",
      "\n",
      "The number is palindrome\n"
     ]
    }
   ],
   "source": [
    "# palindrome means if the reverse of the string is the same as the string\n",
    "number = int(input(\"enter a number\"))\n",
    "print()\n",
    "temp = number\n",
    "reverse_num=0\n",
    "while(number>0):\n",
    "    digit=number%10\n",
    "    reverse_num=reverse_num*10+digit\n",
    "    number=number//10\n",
    "if(temp==reverse_num):\n",
    "    print(\"The number is palindrome\")\n",
    "else:\n",
    "    print(\"Not a palindrome\")"
   ]
  },
  {
   "cell_type": "code",
   "execution_count": 16,
   "id": "bf5b3130",
   "metadata": {},
   "outputs": [
    {
     "name": "stdout",
     "output_type": "stream",
     "text": [
      "amar\n",
      "\n",
      "not palindrom\n"
     ]
    }
   ],
   "source": [
    "# Example for not palindrome,if we see the word 'rama' from reverse its not same output so, this will consider as not palindrome\n",
    "\n",
    "string = \"rama\"\n",
    "string1 = string[::-1]\n",
    "print(string1)\n",
    "print()\n",
    "def pali(string):\n",
    "    if string == string1:\n",
    "        print(\"this string is palindrom\")\n",
    "    else:\n",
    "        print(\"not palindrom\")\n",
    "pali(string) "
   ]
  },
  {
   "cell_type": "markdown",
   "id": "0b487dc1",
   "metadata": {
    "id": "0b487dc1"
   },
   "source": [
    "### 5. \n",
    "\n",
    "Write a program to Generate a Random Number from 1 to 100 and check if it's even or odd number"
   ]
  },
  {
   "cell_type": "code",
   "execution_count": 7,
   "id": "32d2205e",
   "metadata": {
    "id": "32d2205e"
   },
   "outputs": [
    {
     "name": "stdout",
     "output_type": "stream",
     "text": [
      "[71, 80, 10, 10, 11, 67, 80, 90, 38, 22, 95, 24, 50, 12, 19, 69, 42, 6, 67, 20, 15, 7, 73, 1, 94, 81, 48, 1, 28, 5, 40, 26, 34, 81, 3, 75, 99, 56, 7, 62, 2, 73, 31, 24, 77, 95, 53, 36, 62, 38, 19, 14, 65, 78, 53, 41, 100, 12, 12, 71, 47, 23, 81, 8, 77, 64, 40, 70, 8, 31, 24, 29, 42, 10, 96, 38, 23, 85, 19, 85, 60, 79, 28, 69, 77, 91, 63, 29, 88, 67, 26, 29, 81, 99, 77, 9, 38, 35, 15, 5]\n",
      "\n",
      "[80, 10, 10, 80, 90, 38, 22, 24, 50, 12, 42, 6, 20, 94, 48, 28, 40, 26, 34, 56, 62, 2, 24, 36, 62, 38, 14, 78, 100, 12, 12, 8, 64, 40, 70, 8, 24, 42, 10, 96, 38, 60, 28, 88, 26, 38]\n",
      "\n",
      "[71, 11, 67, 95, 19, 69, 67, 15, 7, 73, 1, 81, 1, 5, 81, 3, 75, 99, 7, 73, 31, 77, 95, 53, 19, 65, 53, 41, 71, 47, 23, 81, 77, 31, 29, 23, 85, 19, 85, 79, 69, 77, 91, 63, 29, 67, 29, 81, 99, 77, 9, 35, 15, 5]\n"
     ]
    }
   ],
   "source": [
    "import random\n",
    "\n",
    "numberList = [] # create an empty list, to add 100 random ints to\n",
    "for i in range(100):\n",
    "    numberList.append(random.randint(1,100))\n",
    "print (numberList)\n",
    "\n",
    "EvenList = [] \n",
    "OddList = []\n",
    "\n",
    "print()\n",
    "\n",
    "for i in numberList:   \n",
    "    if (i%2) == 0:     # % will give remainder of the division == check for if the number is even\n",
    "        EvenList.append(i)# Evenlist append with 'i' now 'i' is numberlist evenlist program will take even number from numberlist\n",
    "    else:\n",
    "        OddList.append(i)\n",
    "        \n",
    "print (EvenList)\n",
    "print ()\n",
    "print (OddList) # 3 list we got first is random number, 2nd is random even list,3rd random oddlist"
   ]
  },
  {
   "cell_type": "code",
   "execution_count": null,
   "id": "5a3641f4",
   "metadata": {},
   "outputs": [],
   "source": []
  }
 ],
 "metadata": {
  "colab": {
   "provenance": []
  },
  "kernelspec": {
   "display_name": "Python 3 (ipykernel)",
   "language": "python",
   "name": "python3"
  },
  "language_info": {
   "codemirror_mode": {
    "name": "ipython",
    "version": 3
   },
   "file_extension": ".py",
   "mimetype": "text/x-python",
   "name": "python",
   "nbconvert_exporter": "python",
   "pygments_lexer": "ipython3",
   "version": "3.9.13"
  }
 },
 "nbformat": 4,
 "nbformat_minor": 5
}
