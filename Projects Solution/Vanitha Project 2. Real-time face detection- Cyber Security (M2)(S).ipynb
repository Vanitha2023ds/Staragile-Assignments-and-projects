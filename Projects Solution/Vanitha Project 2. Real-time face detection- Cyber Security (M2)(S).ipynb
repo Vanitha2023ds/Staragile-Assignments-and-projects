{
 "cells": [
  {
   "cell_type": "code",
   "execution_count": 1,
   "metadata": {},
   "outputs": [],
   "source": [
    "import os\n",
    "import time\n",
    "import uuid\n",
    "import cv2"
   ]
  },
  {
   "cell_type": "code",
   "execution_count": 2,
   "metadata": {},
   "outputs": [],
   "source": [
    "IMAGES_PATH = os.path.join('data','images')\n",
    "number_images = 30"
   ]
  },
  {
   "cell_type": "code",
   "execution_count": 3,
   "metadata": {},
   "outputs": [
    {
     "name": "stdout",
     "output_type": "stream",
     "text": [
      "Collecting image 0\n",
      "Collecting image 1\n",
      "Collecting image 2\n",
      "Collecting image 3\n",
      "Collecting image 4\n",
      "Collecting image 5\n",
      "Collecting image 6\n",
      "Collecting image 7\n",
      "Collecting image 8\n",
      "Collecting image 9\n",
      "Collecting image 10\n",
      "Collecting image 11\n",
      "Collecting image 12\n",
      "Collecting image 13\n",
      "Collecting image 14\n",
      "Collecting image 15\n",
      "Collecting image 16\n",
      "Collecting image 17\n",
      "Collecting image 18\n",
      "Collecting image 19\n",
      "Collecting image 20\n",
      "Collecting image 21\n",
      "Collecting image 22\n",
      "Collecting image 23\n",
      "Collecting image 24\n",
      "Collecting image 25\n"
     ]
    }
   ],
   "source": [
    "cap = cv2.VideoCapture(0)\n",
    "for imgnum in range(number_images):\n",
    "    print('Collecting image {}'.format(imgnum))\n",
    "    ret, frame = cap.read()\n",
    "    imgname = os.path.join('C:/Users/Admin/Downloads/data images',f'{str(uuid.uuid1())}.jpg')\n",
    "    cv2.imwrite(imgname, frame)\n",
    "    cv2.imshow('frame', frame)\n",
    "    time.sleep(0.5)\n",
    "\n",
    "    if cv2.waitKey(1) & 0xFF == ord('q'):\n",
    "        break\n",
    "cap.release()\n",
    "cv2.destroyAllWindows()"
   ]
  },
  {
   "cell_type": "code",
   "execution_count": 4,
   "metadata": {},
   "outputs": [
    {
     "name": "stderr",
     "output_type": "stream",
     "text": [
      "C:\\Users\\Admin\\anaconda3\\Lib\\site-packages\\paramiko\\transport.py:219: CryptographyDeprecationWarning: Blowfish has been deprecated\n",
      "  \"class\": algorithms.Blowfish,\n",
      "[INFO   ] __init__:get_config:70 - Loading config file from: C:\\Users\\Admin\\.labelmerc\n"
     ]
    }
   ],
   "source": [
    "!labelme"
   ]
  },
  {
   "cell_type": "code",
   "execution_count": 5,
   "metadata": {},
   "outputs": [],
   "source": [
    "# Import TF and Deps\n",
    "\n",
    "import tensorflow as tf\n",
    "import json\n",
    "import numpy as np\n",
    "from matplotlib import pyplot as plt"
   ]
  },
  {
   "cell_type": "code",
   "execution_count": 6,
   "metadata": {},
   "outputs": [],
   "source": [
    "# Avoid OOM errors by setting GPU Memory Consumption Growth\n",
    "gpus = tf.config.experimental.list_physical_devices('GPU')\n",
    "for gpu in gpus: \n",
    "    tf.config.experimental.set_memory_growth(gpu, True)"
   ]
  },
  {
   "cell_type": "code",
   "execution_count": 7,
   "metadata": {},
   "outputs": [],
   "source": [
    "IMAGES_PATH = os.path.join('data', 'images')\n",
    "number_images = 30\n",
    "\n",
    "cap = cv2.VideoCapture(0)\n",
    "\n",
    "for imgnum in range(number_images):\n",
    "    # ...\n",
    "    imgname = os.path.join('C:/Users/Admin/Downloads/data images', f'{str(uuid.uuid1())}.jpg')\n",
    "    cv2.imwrite(imgname, frame)    \n",
    "# \"C:\\Users\\Admin\\Downloads\\data images\"    "
   ]
  },
  {
   "cell_type": "code",
   "execution_count": 8,
   "metadata": {},
   "outputs": [
    {
     "data": {
      "text/plain": [
       "[]"
      ]
     },
     "execution_count": 8,
     "metadata": {},
     "output_type": "execute_result"
    }
   ],
   "source": [
    "tf.config.list_physical_devices('GPU')"
   ]
  },
  {
   "cell_type": "code",
   "execution_count": 9,
   "metadata": {},
   "outputs": [],
   "source": [
    "# Load Image into TF Data Pipeline\n",
    "images = tf.data.Dataset.list_files('C:/Users/Admin/Downloads/data images')"
   ]
  },
  {
   "cell_type": "code",
   "execution_count": 10,
   "metadata": {},
   "outputs": [
    {
     "name": "stdout",
     "output_type": "stream",
     "text": [
      "C:\\Users\\Admin\\Downloads\n"
     ]
    }
   ],
   "source": [
    "import os\n",
    "print(os.getcwd())"
   ]
  },
  {
   "cell_type": "code",
   "execution_count": 11,
   "metadata": {},
   "outputs": [
    {
     "name": "stdout",
     "output_type": "stream",
     "text": [
      "['3c4c4eb0-5f8a-11ee-b9b7-8c16455bd4ce.jpg', '3c4c4eb1-5f8a-11ee-9db5-8c16455bd4ce.jpg', '3c4eb0e1-5f8a-11ee-ba63-8c16455bd4ce.jpg', '3c51148e-5f8a-11ee-8f57-8c16455bd4ce.jpg', '3c51148f-5f8a-11ee-9b55-8c16455bd4ce.jpg', '3c53754e-5f8a-11ee-b4ea-8c16455bd4ce.jpg', '3c548719-5f8a-11ee-ba65-8c16455bd4ce.jpg', '3c55e708-5f8a-11ee-a8d1-8c16455bd4ce.jpg', '3c55e709-5f8a-11ee-a858-8c16455bd4ce.jpg', '3c584aaa-5f8a-11ee-a057-8c16455bd4ce.jpg', '3c584aab-5f8a-11ee-ad7d-8c16455bd4ce.jpg', '3c5aabb6-5f8a-11ee-93af-8c16455bd4ce.jpg', '3c5d0ddb-5f8a-11ee-9c61-8c16455bd4ce.jpg', '3c5d0ddc-5f8a-11ee-ba0d-8c16455bd4ce.jpg', '3c5f7150-5f8a-11ee-8cd2-8c16455bd4ce.jpg', '3c61d3e9-5f8a-11ee-b6a9-8c16455bd4ce.jpg', '3c6447ff-5f8a-11ee-af5e-8c16455bd4ce.jpg', '3c644800-5f8a-11ee-a01e-8c16455bd4ce.jpg', '3c66abc1-5f8a-11ee-956d-8c16455bd4ce.jpg', '3c66abc2-5f8a-11ee-894e-8c16455bd4ce.jpg', '3c690dfe-5f8a-11ee-a605-8c16455bd4ce.jpg', '3c690dff-5f8a-11ee-a58e-8c16455bd4ce.jpg', '3c6b7136-5f8a-11ee-9a1c-8c16455bd4ce.jpg', '3c6dd25d-5f8a-11ee-9f6e-8c16455bd4ce.jpg', '3c6dd25e-5f8a-11ee-bffe-8c16455bd4ce.jpg', '3c7034ad-5f8a-11ee-ba49-8c16455bd4ce.jpg', '3c7034ae-5f8a-11ee-a3a8-8c16455bd4ce.jpg', '3c731fbf-5f8a-11ee-9a9a-8c16455bd4ce.jpg', '3c731fc0-5f8a-11ee-bbe2-8c16455bd4ce.jpg', '3c7509bf-5f8a-11ee-94bf-8c16455bd4ce.jpg', '3e4aadd0-5e40-11ee-96dc-8c16455bd4ce.jpg', '3e9e5928-5e40-11ee-893e-8c16455bd4ce.jpg', '3eeddf68-5e40-11ee-9af3-8c16455bd4ce.jpg', '3f3f317f-5e40-11ee-8a33-8c16455bd4ce.jpg', '3f8eb003-5e40-11ee-8068-8c16455bd4ce.jpg', '3fdda5d7-5e40-11ee-bee5-8c16455bd4ce.jpg', '402d4c2b-5e40-11ee-9894-8c16455bd4ce.jpg', '407bdd6c-5e40-11ee-8d65-8c16455bd4ce.jpg', '40cac4f6-5e40-11ee-ae6e-8c16455bd4ce.jpg', '411ccb21-5e40-11ee-a072-8c16455bd4ce.jpg', '82b3eff1-5f89-11ee-b98e-8c16455bd4ce.jpg', '830f9e5c-5f89-11ee-830e-8c16455bd4ce.jpg', '8361fbea-5f89-11ee-aa9a-8c16455bd4ce.jpg', '83b6debb-5f89-11ee-8dd9-8c16455bd4ce.jpg', '840acd6c-5f89-11ee-85fb-8c16455bd4ce.jpg', '845d8078-5f89-11ee-b229-8c16455bd4ce.jpg', '84ad19d3-5f89-11ee-8fd0-8c16455bd4ce.jpg', '84fcd168-5f89-11ee-8fac-8c16455bd4ce.jpg', '854e5834-5f89-11ee-aa73-8c16455bd4ce.jpg', '85a5dbe5-5f89-11ee-bd01-8c16455bd4ce.jpg', '85fe31c6-5f89-11ee-95c1-8c16455bd4ce.jpg', '8650f1dc-5f89-11ee-ab7c-8c16455bd4ce.jpg', '86a4f4f3-5f89-11ee-af3c-8c16455bd4ce.jpg', '86f60e5d-5f89-11ee-828a-8c16455bd4ce.jpg', '874d90e9-5f89-11ee-9cc8-8c16455bd4ce.jpg', '879d228b-5f89-11ee-8016-8c16455bd4ce.jpg', '87f10a0c-5f89-11ee-9f27-8c16455bd4ce.jpg', '8847fbb9-5f89-11ee-92bc-8c16455bd4ce.jpg', '88975eab-5f89-11ee-a30b-8c16455bd4ce.jpg', '88e8857f-5f89-11ee-bf32-8c16455bd4ce.jpg', '89399881-5f89-11ee-999c-8c16455bd4ce.jpg', '898dc300-5f89-11ee-b054-8c16455bd4ce.jpg', '89df9ed1-5f89-11ee-bbed-8c16455bd4ce.jpg', '8a3023e8-5f89-11ee-80a8-8c16455bd4ce.jpg', '8a8190b1-5f89-11ee-a1e9-8c16455bd4ce.jpg', '8ad4fe6a-5f89-11ee-9fa9-8c16455bd4ce.jpg']\n"
     ]
    }
   ],
   "source": [
    "import os\n",
    "\n",
    "image_files = [f for f in os.listdir(\"C:/Users/Admin/Downloads/data images\") if f.endswith('.jpg')]\n",
    "print(image_files)"
   ]
  },
  {
   "cell_type": "code",
   "execution_count": 12,
   "metadata": {},
   "outputs": [
    {
     "data": {
      "text/plain": [
       "b'C:\\\\Users\\\\Admin\\\\Downloads\\\\data images'"
      ]
     },
     "execution_count": 12,
     "metadata": {},
     "output_type": "execute_result"
    }
   ],
   "source": [
    "images.as_numpy_iterator().next()"
   ]
  },
  {
   "cell_type": "code",
   "execution_count": 13,
   "metadata": {},
   "outputs": [],
   "source": [
    "import tensorflow as tf\n",
    "\n",
    "# Define the file pattern and create a dataset\n",
    "file_pattern = 'C:/Users/Admin/Downloads/data images'\n",
    "images = tf.data.Dataset.list_files(file_pattern)\n",
    "\n",
    "# can use `images`\n",
    "first_image_path = next(iter(images))"
   ]
  },
  {
   "cell_type": "code",
   "execution_count": 14,
   "metadata": {},
   "outputs": [],
   "source": [
    "def load_image(x): \n",
    "    byte_img = tf.io.read_file(x)\n",
    "    img = tf.io.decode_jpeg(byte_img)\n",
    "    return img"
   ]
  },
  {
   "cell_type": "code",
   "execution_count": 15,
   "metadata": {},
   "outputs": [],
   "source": [
    "images = images.map(load_image)"
   ]
  },
  {
   "cell_type": "code",
   "execution_count": 16,
   "metadata": {},
   "outputs": [],
   "source": [
    "\n",
    "import tensorflow as tf\n",
    "\n",
    "file_pattern = 'C:/Users/Admin/Downloads/data images'\n",
    "images = tf.data.Dataset.list_files(file_pattern)\n",
    "\n",
    "# use `images`\n",
    "first_image_path = next(iter(images))"
   ]
  },
  {
   "cell_type": "code",
   "execution_count": 17,
   "metadata": {},
   "outputs": [
    {
     "data": {
      "text/plain": [
       "tensorflow.python.data.ops.shuffle_op._ShuffleDataset"
      ]
     },
     "execution_count": 17,
     "metadata": {},
     "output_type": "execute_result"
    }
   ],
   "source": [
    "type(images)"
   ]
  },
  {
   "cell_type": "code",
   "execution_count": 18,
   "metadata": {},
   "outputs": [],
   "source": [
    "image_generator = images.batch(4).as_numpy_iterator()"
   ]
  },
  {
   "cell_type": "code",
   "execution_count": 20,
   "metadata": {},
   "outputs": [
    {
     "name": "stdout",
     "output_type": "stream",
     "text": [
      "End of dataset.\n"
     ]
    }
   ],
   "source": [
    "try:\n",
    "    plot_images = next(image_generator)\n",
    "    \n",
    "    fig, ax = plt.subplots(ncols=len(plot_images), figsize=(20, 20))\n",
    "    for idx, image in enumerate(plot_images):\n",
    "        ax[idx].imshow(image)\n",
    "    \n",
    "    plt.show()\n",
    "\n",
    "except StopIteration:\n",
    "    print(\"End of dataset.\")"
   ]
  },
  {
   "cell_type": "code",
   "execution_count": 21,
   "metadata": {},
   "outputs": [],
   "source": [
    "# Move the Matching Labels\n",
    "for folder in ['train','test','val']:\n",
    "    for file in os.listdir(os.path.join('C:/Users/Admin/Downloads/data images')):\n",
    "        \n",
    "        filename = file.split('.')[0]+'.json'\n",
    "        existing_filepath = os.path.join('data','labels', filename)\n",
    "        if os.path.exists(existing_filepath): \n",
    "            new_filepath = os.path.join('data',folder,'labels',filename)\n",
    "            os.replace(existing_filepath, new_filepath)      "
   ]
  },
  {
   "cell_type": "code",
   "execution_count": 22,
   "metadata": {},
   "outputs": [
    {
     "name": "stderr",
     "output_type": "stream",
     "text": [
      "C:\\Users\\Admin\\anaconda3\\Lib\\site-packages\\paramiko\\transport.py:219: CryptographyDeprecationWarning: Blowfish has been deprecated\n",
      "  \"class\": algorithms.Blowfish,\n"
     ]
    }
   ],
   "source": [
    "# Setup Albumentations Transform Pipeline\n",
    "import albumentations as alb"
   ]
  },
  {
   "cell_type": "code",
   "execution_count": 23,
   "metadata": {},
   "outputs": [],
   "source": [
    "augmentor = alb.Compose([alb.RandomCrop(width=450, height=450), \n",
    "                         alb.HorizontalFlip(p=0.5), \n",
    "                         alb.RandomBrightnessContrast(p=0.2),\n",
    "                         alb.RandomGamma(p=0.2), \n",
    "                         alb.RGBShift(p=0.2), \n",
    "                         alb.VerticalFlip(p=0.5)], \n",
    "                       bbox_params=alb.BboxParams(format='albumentations', \n",
    "                                                  label_fields=['class_labels']))"
   ]
  },
  {
   "cell_type": "code",
   "execution_count": 24,
   "metadata": {},
   "outputs": [],
   "source": [
    "img = cv2.imread(os.path.join('data', 'train', 'images', r'C:\\Users\\Admin\\Downloads\\data images\\89399881-5f89-11ee-999c-8c16455bd4ce.jpg'))"
   ]
  },
  {
   "cell_type": "code",
   "execution_count": 26,
   "metadata": {},
   "outputs": [],
   "source": [
    "img = cv2.imread(os.path.join('data', 'train', 'images', 'C:/Users/Admin/Downloads/data images/89399881-5f89-11ee-999c-8c16455bd4ce.jpg'))"
   ]
  },
  {
   "cell_type": "code",
   "execution_count": 27,
   "metadata": {},
   "outputs": [],
   "source": [
    "import cv2\n",
    "\n",
    "image_path = 'data/train/labels/C:/Users/Admin/Downloads/data images/89399881-5f89-11ee-999c-8c16455bd4ce.jpg'\n",
    "\n",
    "label = cv2.imread('C:/Users/Admin/Downloads/data images/89399881-5f89-11ee-999c-8c16455bd4ce.jpg')"
   ]
  },
  {
   "cell_type": "code",
   "execution_count": 28,
   "metadata": {},
   "outputs": [
    {
     "name": "stdout",
     "output_type": "stream",
     "text": [
      "[[[120 144 162]\n",
      "  [123 147 165]\n",
      "  [123 144 165]\n",
      "  ...\n",
      "  [158 193 227]\n",
      "  [159 194 228]\n",
      "  [160 195 229]]\n",
      "\n",
      " [[120 144 162]\n",
      "  [121 145 163]\n",
      "  [122 143 164]\n",
      "  ...\n",
      "  [160 195 229]\n",
      "  [162 197 231]\n",
      "  [162 197 231]]\n",
      "\n",
      " [[127 153 170]\n",
      "  [125 151 168]\n",
      "  [121 145 165]\n",
      "  ...\n",
      "  [160 197 231]\n",
      "  [161 199 231]\n",
      "  [162 200 232]]\n",
      "\n",
      " ...\n",
      "\n",
      " [[143 106  72]\n",
      "  [150 113  79]\n",
      "  [137 100  66]\n",
      "  ...\n",
      "  [ 25  38  40]\n",
      "  [ 25  35  35]\n",
      "  [ 21  31  31]]\n",
      "\n",
      " [[137  99  64]\n",
      "  [145 107  72]\n",
      "  [136 100  64]\n",
      "  ...\n",
      "  [ 26  39  41]\n",
      "  [ 26  36  36]\n",
      "  [ 22  32  32]]\n",
      "\n",
      " [[138 101  63]\n",
      "  [145 108  70]\n",
      "  [141 105  69]\n",
      "  ...\n",
      "  [ 31  44  46]\n",
      "  [ 31  41  41]\n",
      "  [ 27  37  37]]]\n"
     ]
    }
   ],
   "source": [
    "print(label)"
   ]
  },
  {
   "cell_type": "code",
   "execution_count": 29,
   "metadata": {},
   "outputs": [
    {
     "name": "stdout",
     "output_type": "stream",
     "text": [
      "C:\\Users\\Admin\\Downloads\n"
     ]
    }
   ],
   "source": [
    "import os\n",
    "print(os.getcwd())"
   ]
  },
  {
   "cell_type": "code",
   "execution_count": 30,
   "metadata": {},
   "outputs": [],
   "source": [
    "import numpy as np\n",
    "import cv2\n",
    "\n",
    "# Load the image from the file\n",
    "image_path = 'C:/Users/Admin/Downloads/data images/89399881-5f89-11ee-999c-8c16455bd4ce.jpg'\n",
    "image_data = cv2.imread(image_path)\n",
    "\n",
    "if image_data is not None:\n",
    "    cv2.imshow('Image', image_data)\n",
    "    cv2.waitKey(0)\n",
    "    cv2.destroyAllWindows()\n",
    "else:\n",
    "    print(f\"Failed to load image from {image_path}\")"
   ]
  },
  {
   "cell_type": "code",
   "execution_count": 31,
   "metadata": {},
   "outputs": [
    {
     "name": "stdout",
     "output_type": "stream",
     "text": [
      "Points: [[173, 186], [172, 186], [172, 186]]\n"
     ]
    }
   ],
   "source": [
    "import json\n",
    "\n",
    "label = {\n",
    "    'shapes': [\n",
    "        {\n",
    "            'points': [[173, 186], [172, 186], [172, 186]]\n",
    "        }\n",
    "    ]\n",
    "}\n",
    "\n",
    "if 'shapes' in label and len(label['shapes']) > 0:\n",
    "    points = label['shapes'][0]['points']\n",
    "    print(\"Points:\", points)\n",
    "else:\n",
    "    print(\"No shapes found in label.\")"
   ]
  },
  {
   "cell_type": "code",
   "execution_count": 32,
   "metadata": {},
   "outputs": [
    {
     "data": {
      "text/plain": [
       "[[173, 186], [172, 186], [172, 186]]"
      ]
     },
     "execution_count": 32,
     "metadata": {},
     "output_type": "execute_result"
    }
   ],
   "source": [
    "label['shapes'][0]['points']"
   ]
  },
  {
   "cell_type": "code",
   "execution_count": 33,
   "metadata": {},
   "outputs": [],
   "source": [
    "coords = [0,0,0,0]\n",
    "coords[0] = label['shapes'][0]['points'][0][0]\n",
    "coords[1] = label['shapes'][0]['points'][0][1]\n",
    "coords[2] = label['shapes'][0]['points'][1][0]\n",
    "coords[3] = label['shapes'][0]['points'][1][1]"
   ]
  },
  {
   "cell_type": "code",
   "execution_count": 34,
   "metadata": {},
   "outputs": [
    {
     "data": {
      "text/plain": [
       "[173, 186, 172, 186]"
      ]
     },
     "execution_count": 34,
     "metadata": {},
     "output_type": "execute_result"
    }
   ],
   "source": [
    "coords"
   ]
  },
  {
   "cell_type": "code",
   "execution_count": 35,
   "metadata": {},
   "outputs": [],
   "source": [
    "coords = list(np.divide(coords, [640,480,640,480]))"
   ]
  },
  {
   "cell_type": "code",
   "execution_count": 36,
   "metadata": {},
   "outputs": [
    {
     "data": {
      "text/plain": [
       "[0.2703125, 0.3875, 0.26875, 0.3875]"
      ]
     },
     "execution_count": 36,
     "metadata": {},
     "output_type": "execute_result"
    }
   ],
   "source": [
    "coords"
   ]
  },
  {
   "cell_type": "code",
   "execution_count": 42,
   "metadata": {},
   "outputs": [],
   "source": [
    "coords = [x_min, y_min, x_max, y_max, 'face']"
   ]
  },
  {
   "cell_type": "code",
   "execution_count": 43,
   "metadata": {
    "scrolled": true
   },
   "outputs": [],
   "source": [
    "# Augmentations and View Results\n",
    "augmented = augmentor(image=img, bboxes=[coords], class_labels=['face'])"
   ]
  },
  {
   "cell_type": "code",
   "execution_count": 40,
   "metadata": {},
   "outputs": [],
   "source": [
    "bounding_box = [x_min, y_min, x_max, y_max]\n",
    "\n",
    "\n",
    "bounding_box = [0.2, 0.3, 0.6, 0.7]"
   ]
  },
  {
   "cell_type": "code",
   "execution_count": 39,
   "metadata": {},
   "outputs": [],
   "source": [
    "x_min = 0.2\n",
    "y_min = 0.3\n",
    "x_max = 0.6\n",
    "y_max = 0.7\n",
    "\n",
    "bounding_box = [x_min, y_min, x_max, y_max]\n",
    "\n",
    "augmented = augmentor(image=img, bboxes=[bounding_box], class_labels=['face'])"
   ]
  },
  {
   "cell_type": "code",
   "execution_count": 44,
   "metadata": {},
   "outputs": [],
   "source": [
    "import cv2\n",
    "import numpy as np\n",
    "\n",
    "image_path = 'C:/Users/Admin/Downloads/data images/89399881-5f89-11ee-999c-8c16455bd4ce.jpg'\n",
    "img = cv2.imread('C:/Users/Admin/Downloads/data images/89399881-5f89-11ee-999c-8c16455bd4ce.jpg')\n",
    "\n",
    "if img is not None:\n",
    "    # Convert the image to a NumPy array\n",
    "    img = np.array(img)\n",
    "\n",
    "    augmented = augmentor(image=img, bboxes=[coords], class_labels=['face'])\n",
    "else:\n",
    "    print(\"Failed to load the image.\")"
   ]
  },
  {
   "cell_type": "code",
   "execution_count": 45,
   "metadata": {},
   "outputs": [
    {
     "data": {
      "text/plain": [
       "(0.6244444444444445, 0.7111111111111111, 'face')"
      ]
     },
     "execution_count": 45,
     "metadata": {},
     "output_type": "execute_result"
    }
   ],
   "source": [
    "augmented['bboxes'][0][2:]"
   ]
  },
  {
   "cell_type": "code",
   "execution_count": 46,
   "metadata": {},
   "outputs": [
    {
     "data": {
      "text/plain": [
       "[(0.05555555555555555,\n",
       "  0.28444444444444444,\n",
       "  0.6244444444444445,\n",
       "  0.7111111111111111,\n",
       "  'face')]"
      ]
     },
     "execution_count": 46,
     "metadata": {},
     "output_type": "execute_result"
    }
   ],
   "source": [
    "augmented['bboxes']"
   ]
  },
  {
   "cell_type": "code",
   "execution_count": 47,
   "metadata": {},
   "outputs": [
    {
     "data": {
      "image/png": "[encoded data removed]",
      "text/plain": [
       "<Figure size 640x480 with 1 Axes>"
      ]
     },
     "metadata": {},
     "output_type": "display_data"
    }
   ],
   "source": [
    "import cv2\n",
    "import matplotlib.pyplot as plt\n",
    "import numpy as np\n",
    "\n",
    "augmented = {\n",
    "    'image': np.zeros((450, 450, 3), dtype=np.uint8),  \n",
    "    'bboxes': [(0.2, 0.3, 0.6, 0.7)],  \n",
    "}\n",
    "\n",
    "x_min, y_min, x_max, y_max = augmented['bboxes'][0]\n",
    "\n",
    "image_height, image_width, _ = augmented['image'].shape\n",
    "x1 = int(x_min * image_width)\n",
    "y1 = int(y_min * image_height)\n",
    "x2 = int(x_max * image_width)\n",
    "y2 = int(y_max * image_height)\n",
    "\n",
    "bbox_coordinates = (x1, y1, x2, y2)\n",
    "\n",
    "# Draw the rectangle on the image\n",
    "cv2.rectangle(augmented['image'], (x1, y1), (x2, y2), (255, 0, 0), 2)\n",
    "\n",
    "# Display the augmented image\n",
    "plt.imshow(cv2.cvtColor(augmented['image'], cv2.COLOR_BGR2RGB))\n",
    "plt.show()"
   ]
  },
  {
   "cell_type": "code",
   "execution_count": 48,
   "metadata": {},
   "outputs": [
    {
     "data": {
      "text/plain": [
       "<matplotlib.image.AxesImage at 0x178f2b020d0>"
      ]
     },
     "execution_count": 48,
     "metadata": {},
     "output_type": "execute_result"
    },
    {
     "data": {
      "image/png": "[encoded data removed]",
      "text/plain": [
       "<Figure size 640x480 with 1 Axes>"
      ]
     },
     "metadata": {},
     "output_type": "display_data"
    }
   ],
   "source": [
    "cv2.rectangle(augmented['image'], \n",
    "              tuple(np.multiply(augmented['bboxes'][0][:2], [450,450]).astype(int)),\n",
    "              tuple(np.multiply(augmented['bboxes'][0][2:], [450,450]).astype(int)), \n",
    "                    (255,0,0), 2)\n",
    "\n",
    "plt.imshow(augmented['image'])"
   ]
  },
  {
   "cell_type": "code",
   "execution_count": 49,
   "metadata": {},
   "outputs": [
    {
     "name": "stdout",
     "output_type": "stream",
     "text": [
      "image must be numpy array type\n",
      "image must be numpy array type\n",
      "image must be numpy array type\n",
      "image must be numpy array type\n",
      "image must be numpy array type\n",
      "image must be numpy array type\n",
      "image must be numpy array type\n",
      "image must be numpy array type\n",
      "image must be numpy array type\n",
      "image must be numpy array type\n",
      "image must be numpy array type\n",
      "image must be numpy array type\n",
      "image must be numpy array type\n",
      "image must be numpy array type\n",
      "image must be numpy array type\n",
      "image must be numpy array type\n",
      "image must be numpy array type\n",
      "image must be numpy array type\n",
      "image must be numpy array type\n",
      "image must be numpy array type\n",
      "image must be numpy array type\n",
      "image must be numpy array type\n",
      "image must be numpy array type\n",
      "image must be numpy array type\n",
      "image must be numpy array type\n",
      "image must be numpy array type\n",
      "image must be numpy array type\n",
      "image must be numpy array type\n",
      "image must be numpy array type\n",
      "image must be numpy array type\n",
      "image must be numpy array type\n",
      "image must be numpy array type\n",
      "image must be numpy array type\n",
      "image must be numpy array type\n",
      "image must be numpy array type\n",
      "image must be numpy array type\n",
      "image must be numpy array type\n",
      "image must be numpy array type\n",
      "image must be numpy array type\n",
      "image must be numpy array type\n",
      "image must be numpy array type\n",
      "image must be numpy array type\n",
      "image must be numpy array type\n",
      "image must be numpy array type\n",
      "image must be numpy array type\n",
      "image must be numpy array type\n",
      "image must be numpy array type\n",
      "image must be numpy array type\n",
      "image must be numpy array type\n",
      "image must be numpy array type\n",
      "image must be numpy array type\n",
      "image must be numpy array type\n",
      "image must be numpy array type\n",
      "image must be numpy array type\n",
      "image must be numpy array type\n",
      "image must be numpy array type\n",
      "image must be numpy array type\n",
      "image must be numpy array type\n",
      "image must be numpy array type\n",
      "image must be numpy array type\n",
      "image must be numpy array type\n",
      "image must be numpy array type\n",
      "image must be numpy array type\n",
      "image must be numpy array type\n",
      "image must be numpy array type\n",
      "image must be numpy array type\n",
      "image must be numpy array type\n",
      "image must be numpy array type\n",
      "image must be numpy array type\n",
      "image must be numpy array type\n",
      "image must be numpy array type\n",
      "image must be numpy array type\n",
      "image must be numpy array type\n",
      "image must be numpy array type\n",
      "image must be numpy array type\n",
      "image must be numpy array type\n",
      "image must be numpy array type\n",
      "image must be numpy array type\n",
      "image must be numpy array type\n",
      "image must be numpy array type\n",
      "image must be numpy array type\n",
      "image must be numpy array type\n",
      "image must be numpy array type\n",
      "image must be numpy array type\n",
      "image must be numpy array type\n",
      "image must be numpy array type\n",
      "image must be numpy array type\n",
      "image must be numpy array type\n",
      "image must be numpy array type\n",
      "image must be numpy array type\n",
      "image must be numpy array type\n",
      "image must be numpy array type\n",
      "image must be numpy array type\n",
      "image must be numpy array type\n",
      "image must be numpy array type\n",
      "image must be numpy array type\n",
      "image must be numpy array type\n",
      "image must be numpy array type\n",
      "image must be numpy array type\n",
      "image must be numpy array type\n",
      "image must be numpy array type\n",
      "image must be numpy array type\n",
      "image must be numpy array type\n",
      "image must be numpy array type\n",
      "image must be numpy array type\n",
      "image must be numpy array type\n",
      "image must be numpy array type\n",
      "image must be numpy array type\n",
      "image must be numpy array type\n",
      "image must be numpy array type\n",
      "image must be numpy array type\n",
      "image must be numpy array type\n",
      "image must be numpy array type\n",
      "image must be numpy array type\n",
      "image must be numpy array type\n",
      "image must be numpy array type\n",
      "image must be numpy array type\n",
      "image must be numpy array type\n",
      "image must be numpy array type\n",
      "image must be numpy array type\n",
      "image must be numpy array type\n",
      "image must be numpy array type\n",
      "image must be numpy array type\n",
      "image must be numpy array type\n",
      "image must be numpy array type\n",
      "image must be numpy array type\n",
      "image must be numpy array type\n",
      "image must be numpy array type\n",
      "image must be numpy array type\n",
      "image must be numpy array type\n",
      "image must be numpy array type\n",
      "image must be numpy array type\n",
      "image must be numpy array type\n",
      "image must be numpy array type\n",
      "image must be numpy array type\n",
      "image must be numpy array type\n",
      "image must be numpy array type\n",
      "image must be numpy array type\n",
      "image must be numpy array type\n",
      "image must be numpy array type\n",
      "image must be numpy array type\n",
      "image must be numpy array type\n",
      "image must be numpy array type\n",
      "image must be numpy array type\n",
      "image must be numpy array type\n",
      "image must be numpy array type\n",
      "image must be numpy array type\n",
      "image must be numpy array type\n",
      "image must be numpy array type\n",
      "image must be numpy array type\n",
      "image must be numpy array type\n",
      "image must be numpy array type\n",
      "image must be numpy array type\n",
      "image must be numpy array type\n",
      "image must be numpy array type\n",
      "image must be numpy array type\n",
      "image must be numpy array type\n",
      "image must be numpy array type\n",
      "image must be numpy array type\n",
      "image must be numpy array type\n",
      "image must be numpy array type\n",
      "image must be numpy array type\n",
      "image must be numpy array type\n",
      "image must be numpy array type\n",
      "image must be numpy array type\n",
      "image must be numpy array type\n",
      "image must be numpy array type\n",
      "image must be numpy array type\n",
      "image must be numpy array type\n",
      "image must be numpy array type\n",
      "image must be numpy array type\n",
      "image must be numpy array type\n",
      "image must be numpy array type\n",
      "image must be numpy array type\n",
      "image must be numpy array type\n",
      "image must be numpy array type\n",
      "image must be numpy array type\n",
      "image must be numpy array type\n",
      "image must be numpy array type\n",
      "image must be numpy array type\n",
      "image must be numpy array type\n",
      "image must be numpy array type\n",
      "image must be numpy array type\n",
      "image must be numpy array type\n",
      "image must be numpy array type\n",
      "image must be numpy array type\n",
      "image must be numpy array type\n",
      "image must be numpy array type\n",
      "image must be numpy array type\n",
      "image must be numpy array type\n",
      "image must be numpy array type\n",
      "image must be numpy array type\n",
      "image must be numpy array type\n",
      "image must be numpy array type\n",
      "image must be numpy array type\n",
      "image must be numpy array type\n",
      "image must be numpy array type\n",
      "image must be numpy array type\n"
     ]
    }
   ],
   "source": [
    "# Run Augmentation Pipeline\n",
    "for partition in ['train','test','val']: \n",
    "    for image in os.listdir(os.path.join('C:/Users/Admin/Downloads/data images')):\n",
    "        img = cv2.imread(os.path.join('data', partition, 'images', image))\n",
    "\n",
    "        coords = [0,0,0.00001,0.00001]\n",
    "        label_path = os.path.join('data', partition, 'labels', f'{image.split(\".\")[0]}.json')\n",
    "        if os.path.exists(label_path):\n",
    "            with open(label_path, 'r') as f:\n",
    "                label = json.load(f)\n",
    "\n",
    "            coords[0] = label['shapes'][0]['points'][0][0]\n",
    "            coords[1] = label['shapes'][0]['points'][0][1]\n",
    "            coords[2] = label['shapes'][0]['points'][1][0]\n",
    "            coords[3] = label['shapes'][0]['points'][1][1]\n",
    "            coords = list(np.divide(coords, [640,480,640,480]))\n",
    "\n",
    "        try: \n",
    "            for x in range(60):\n",
    "                augmented = augmentor(image=img, bboxes=[coords], class_labels=['face'])\n",
    "                cv2.imwrite(os.path.join('aug_data', partition, 'images', f'{image.split(\".\")[0]}.{x}.jpg'), augmented['image'])\n",
    "\n",
    "                annotation = {}\n",
    "                annotation['image'] = image\n",
    "\n",
    "                if os.path.exists(label_path):\n",
    "                    if len(augmented['bboxes']) == 0: \n",
    "                        annotation['bbox'] = [0,0,0,0]\n",
    "                        annotation['class'] = 0 \n",
    "                    else: \n",
    "                        annotation['bbox'] = augmented['bboxes'][0]\n",
    "                        annotation['class'] = 1\n",
    "                else: \n",
    "                    annotation['bbox'] = [0,0,0,0]\n",
    "                    annotation['class'] = 0 \n",
    "\n",
    "\n",
    "                with open(os.path.join('aug_data', partition, 'labels', f'{image.split(\".\")[0]}.{x}.json'), 'w') as f:\n",
    "                    json.dump(annotation, f)\n",
    "\n",
    "        except Exception as e:\n",
    "            print(e)"
   ]
  },
  {
   "cell_type": "code",
   "execution_count": 66,
   "metadata": {},
   "outputs": [],
   "source": [
    "# Load Augmented Images to Tensorflow Dataset\n",
    "train_images = tf.data.Dataset.list_files('C:/Users/Admin/Downloads/data images/89399881-5f89-11ee-999c-8c16455bd4ce.jpg', shuffle=False)\n",
    "train_images = train_images.map(load_image)\n",
    "train_images = train_images.map(lambda x: tf.image.resize(x, (120,120)))\n",
    "train_images = train_images.map(lambda x: x/255)"
   ]
  },
  {
   "cell_type": "code",
   "execution_count": 67,
   "metadata": {},
   "outputs": [],
   "source": [
    "test_images = tf.data.Dataset.list_files('C:/Users/Admin/Downloads/data images/411ccb21-5e40-11ee-a072-8c16455bd4ce.jpg', shuffle=False)\n",
    "test_images = test_images.map(load_image)\n",
    "test_images = test_images.map(lambda x: tf.image.resize(x, (120,120)))\n",
    "test_images = test_images.map(lambda x: x/255)"
   ]
  },
  {
   "cell_type": "code",
   "execution_count": 68,
   "metadata": {},
   "outputs": [],
   "source": [
    "val_images = tf.data.Dataset.list_files('C:/Users/Admin/Downloads/data images/898dc300-5f89-11ee-b054-8c16455bd4ce.jpg', shuffle=False)\n",
    "val_images = val_images.map(load_image)\n",
    "val_images = val_images.map(lambda x: tf.image.resize(x, (120,120)))\n",
    "val_images = val_images.map(lambda x: x/255)"
   ]
  },
  {
   "cell_type": "code",
   "execution_count": 70,
   "metadata": {
    "scrolled": true
   },
   "outputs": [
    {
     "data": {
      "text/plain": [
       "array([[[0.64411765, 0.5656863 , 0.46960783],\n",
       "        [0.62941176, 0.5539216 , 0.46470588],\n",
       "        [0.6137255 , 0.55490196, 0.44117647],\n",
       "        ...,\n",
       "        [0.8571896 , 0.75163406, 0.63464046],\n",
       "        [0.8833333 , 0.75490195, 0.6254902 ],\n",
       "        [0.89673233, 0.7692814 , 0.6261441 ]],\n",
       "\n",
       "       [[0.64705884, 0.57058823, 0.45882353],\n",
       "        [0.6186274 , 0.54607844, 0.44215685],\n",
       "        [0.59640527, 0.53758174, 0.4238562 ],\n",
       "        ...,\n",
       "        [0.86470586, 0.7627451 , 0.6215686 ],\n",
       "        [0.88039213, 0.7627451 , 0.61470586],\n",
       "        [0.90163404, 0.7800654 , 0.62908506]],\n",
       "\n",
       "       [[0.64411765, 0.5735294 , 0.45588234],\n",
       "        [0.6215686 , 0.5588235 , 0.44313726],\n",
       "        [0.5866013 , 0.52777773, 0.40620914],\n",
       "        ...,\n",
       "        [0.87058824, 0.76862746, 0.63529414],\n",
       "        [0.8813726 , 0.7735294 , 0.64215684],\n",
       "        [0.8879086 , 0.7800654 , 0.6486929 ]],\n",
       "\n",
       "       ...,\n",
       "\n",
       "       [[0.27320263, 0.4163399 , 0.56339866],\n",
       "        [0.2637255 , 0.39607844, 0.53333336],\n",
       "        [0.3127451 , 0.42124185, 0.5539216 ],\n",
       "        ...,\n",
       "        [0.13202623, 0.15032671, 0.09869265],\n",
       "        [0.14117648, 0.15196079, 0.10196079],\n",
       "        [0.13398677, 0.1464049 , 0.09117623]],\n",
       "\n",
       "       [[0.2866013 , 0.40882352, 0.5598039 ],\n",
       "        [0.27254903, 0.40784314, 0.5568628 ],\n",
       "        [0.19901961, 0.3245098 , 0.48137254],\n",
       "        ...,\n",
       "        [0.14869277, 0.16895428, 0.11862757],\n",
       "        [0.14705883, 0.16666667, 0.11568628],\n",
       "        [0.15686275, 0.16568652, 0.11895441]],\n",
       "\n",
       "       [[0.24346405, 0.3872549 , 0.5287582 ],\n",
       "        [0.3509804 , 0.47745097, 0.6117647 ],\n",
       "        [0.39281046, 0.5026144 , 0.6222222 ],\n",
       "        ...,\n",
       "        [0.21960737, 0.19640502, 0.11307181],\n",
       "        [0.15588236, 0.16862746, 0.10686275],\n",
       "        [0.14869241, 0.15261398, 0.09771202]]], dtype=float32)"
      ]
     },
     "execution_count": 70,
     "metadata": {},
     "output_type": "execute_result"
    }
   ],
   "source": [
    "train_images.as_numpy_iterator().next()"
   ]
  },
  {
   "cell_type": "code",
   "execution_count": 73,
   "metadata": {},
   "outputs": [],
   "source": [
    "# Build Label Loading Function\n",
    "def load_labels(label_path):\n",
    "    with open(label_path.numpy(), 'r', encoding = \"utf-8\") as f:\n",
    "        label = json.load(f)\n",
    "        \n",
    "    return [label['class']], label['bbox']"
   ]
  },
  {
   "cell_type": "code",
   "execution_count": 74,
   "metadata": {},
   "outputs": [],
   "source": [
    "# Load Labels to Tensorflow Dataset\n",
    "train_labels = tf.data.Dataset.list_files('C:\\\\Users\\\\Admin\\\\Downloads\\\\data images\\\\89399881-5f89-11ee-999c-8c16455bd4ce.jpg', shuffle=False)\n",
    "train_labels = train_labels.map(lambda x: tf.py_function(load_labels, [x], [tf.uint8, tf.float16]))"
   ]
  },
  {
   "cell_type": "code",
   "execution_count": 75,
   "metadata": {},
   "outputs": [],
   "source": [
    "train_labels = tf.data.Dataset.list_files('C:\\\\Users\\\\Admin\\\\Downloads\\\\data images\\\\89399881-5f89-11ee-999c-8c16455bd4ce.jpg', shuffle=False)"
   ]
  },
  {
   "cell_type": "code",
   "execution_count": 76,
   "metadata": {},
   "outputs": [],
   "source": [
    "test_labels = tf.data.Dataset.list_files('C:\\\\Users\\\\Admin\\\\Downloads\\\\data images\\\\411ccb21-5e40-11ee-a072-8c16455bd4ce.jpg', shuffle=False)\n",
    "test_labels = test_labels.map(lambda x: tf.py_function(load_labels, [x], [tf.uint8, tf.float16]))"
   ]
  },
  {
   "cell_type": "code",
   "execution_count": 77,
   "metadata": {},
   "outputs": [],
   "source": [
    "val_labels = tf.data.Dataset.list_files('C:\\\\Users\\\\Admin\\\\Downloads\\\\data images\\\\898dc300-5f89-11ee-b054-8c16455bd4ce.jpg', shuffle=False)\n",
    "val_labels = val_labels.map(lambda x: tf.py_function(load_labels, [x], [tf.uint8, tf.float16]))"
   ]
  },
  {
   "cell_type": "code",
   "execution_count": 79,
   "metadata": {},
   "outputs": [
    {
     "data": {
      "text/plain": [
       "b'C:\\\\Users\\\\Admin\\\\Downloads\\\\data images\\\\89399881-5f89-11ee-999c-8c16455bd4ce.jpg'"
      ]
     },
     "execution_count": 79,
     "metadata": {},
     "output_type": "execute_result"
    }
   ],
   "source": [
    "train_labels.as_numpy_iterator().next()"
   ]
  },
  {
   "cell_type": "code",
   "execution_count": 80,
   "metadata": {},
   "outputs": [
    {
     "data": {
      "text/plain": [
       "(1, 1, 1, 1, 1, 1)"
      ]
     },
     "execution_count": 80,
     "metadata": {},
     "output_type": "execute_result"
    }
   ],
   "source": [
    "# Check Partition Lengths\n",
    "len(train_images), len(train_labels), len(test_images), len(test_labels), len(val_images), len(val_labels)"
   ]
  },
  {
   "cell_type": "code",
   "execution_count": 81,
   "metadata": {},
   "outputs": [],
   "source": [
    "# Create Final Datasets (Images/Labels)\n",
    "\n",
    "train = tf.data.Dataset.zip((train_images, train_labels))\n",
    "train = train.shuffle(5000)\n",
    "train = train.batch(8)\n",
    "train = train.prefetch(4)"
   ]
  },
  {
   "cell_type": "code",
   "execution_count": 82,
   "metadata": {},
   "outputs": [],
   "source": [
    "test = tf.data.Dataset.zip((test_images, test_labels))\n",
    "test = test.shuffle(1300)\n",
    "test = test.batch(8)\n",
    "test = test.prefetch(4)"
   ]
  },
  {
   "cell_type": "code",
   "execution_count": 83,
   "metadata": {},
   "outputs": [],
   "source": [
    "val = tf.data.Dataset.zip((val_images, val_labels))\n",
    "val = val.shuffle(1000)\n",
    "val = val.batch(8)\n",
    "val = val.prefetch(4)"
   ]
  },
  {
   "cell_type": "code",
   "execution_count": 84,
   "metadata": {},
   "outputs": [
    {
     "data": {
      "text/plain": [
       "array([b'C:\\\\Users\\\\Admin\\\\Downloads\\\\data images\\\\89399881-5f89-11ee-999c-8c16455bd4ce.jpg'],\n",
       "      dtype=object)"
      ]
     },
     "execution_count": 84,
     "metadata": {},
     "output_type": "execute_result"
    }
   ],
   "source": [
    "train.as_numpy_iterator().next()[1]"
   ]
  },
  {
   "cell_type": "code",
   "execution_count": 85,
   "metadata": {},
   "outputs": [],
   "source": [
    "# View Images and Annotations\n",
    "\n",
    "data_samples = train.as_numpy_iterator()"
   ]
  },
  {
   "cell_type": "code",
   "execution_count": 86,
   "metadata": {},
   "outputs": [],
   "source": [
    "res = data_samples.next()"
   ]
  },
  {
   "cell_type": "code",
   "execution_count": 87,
   "metadata": {},
   "outputs": [],
   "source": [
    "sample_coords = res[0][0][idx]"
   ]
  },
  {
   "cell_type": "code",
   "execution_count": 152,
   "metadata": {},
   "outputs": [],
   "source": [
    "import numpy as np\n",
    "\n",
    "# Assuming sample_coords is a 2x3 matrix with numerical values\n",
    "sample_coords = np.array([[1.0, 2.0, 3.0],\n",
    "                          [4.0, 5.0, 6.0]])\n",
    "\n",
    "# Create a 2x2 matrix to multiply with\n",
    "scaling_factor = np.array([120, 120])\n",
    "\n",
    "# Perform element-wise multiplication\n",
    "result = tuple(np.multiply(sample_coords[:, :2], scaling_factor).astype(int))\n"
   ]
  },
  {
   "cell_type": "code",
   "execution_count": 156,
   "metadata": {},
   "outputs": [
    {
     "name": "stdout",
     "output_type": "stream",
     "text": [
      "(2, 3)\n"
     ]
    }
   ],
   "source": [
    "print(sample_coords[:2].shape)"
   ]
  },
  {
   "cell_type": "code",
   "execution_count": 157,
   "metadata": {},
   "outputs": [],
   "source": [
    "# Import Layers and Base Network\n",
    "\n",
    "from tensorflow.keras.models import Model\n",
    "from tensorflow.keras.layers import Input, Conv2D, Dense, GlobalMaxPooling2D\n",
    "from tensorflow.keras.applications import VGG16"
   ]
  },
  {
   "cell_type": "code",
   "execution_count": 158,
   "metadata": {},
   "outputs": [],
   "source": [
    "vgg = VGG16(include_top=False)"
   ]
  },
  {
   "cell_type": "code",
   "execution_count": 159,
   "metadata": {},
   "outputs": [
    {
     "name": "stdout",
     "output_type": "stream",
     "text": [
      "Model: \"vgg16\"\n",
      "_________________________________________________________________\n",
      " Layer (type)                Output Shape              Param #   \n",
      "=================================================================\n",
      " input_6 (InputLayer)        [(None, None, None, 3)]   0         \n",
      "                                                                 \n",
      " block1_conv1 (Conv2D)       (None, None, None, 64)    1792      \n",
      "                                                                 \n",
      " block1_conv2 (Conv2D)       (None, None, None, 64)    36928     \n",
      "                                                                 \n",
      " block1_pool (MaxPooling2D)  (None, None, None, 64)    0         \n",
      "                                                                 \n",
      " block2_conv1 (Conv2D)       (None, None, None, 128)   73856     \n",
      "                                                                 \n",
      " block2_conv2 (Conv2D)       (None, None, None, 128)   147584    \n",
      "                                                                 \n",
      " block2_pool (MaxPooling2D)  (None, None, None, 128)   0         \n",
      "                                                                 \n",
      " block3_conv1 (Conv2D)       (None, None, None, 256)   295168    \n",
      "                                                                 \n",
      " block3_conv2 (Conv2D)       (None, None, None, 256)   590080    \n",
      "                                                                 \n",
      " block3_conv3 (Conv2D)       (None, None, None, 256)   590080    \n",
      "                                                                 \n",
      " block3_pool (MaxPooling2D)  (None, None, None, 256)   0         \n",
      "                                                                 \n",
      " block4_conv1 (Conv2D)       (None, None, None, 512)   1180160   \n",
      "                                                                 \n",
      " block4_conv2 (Conv2D)       (None, None, None, 512)   2359808   \n",
      "                                                                 \n",
      " block4_conv3 (Conv2D)       (None, None, None, 512)   2359808   \n",
      "                                                                 \n",
      " block4_pool (MaxPooling2D)  (None, None, None, 512)   0         \n",
      "                                                                 \n",
      " block5_conv1 (Conv2D)       (None, None, None, 512)   2359808   \n",
      "                                                                 \n",
      " block5_conv2 (Conv2D)       (None, None, None, 512)   2359808   \n",
      "                                                                 \n",
      " block5_conv3 (Conv2D)       (None, None, None, 512)   2359808   \n",
      "                                                                 \n",
      " block5_pool (MaxPooling2D)  (None, None, None, 512)   0         \n",
      "                                                                 \n",
      "=================================================================\n",
      "Total params: 14714688 (56.13 MB)\n",
      "Trainable params: 14714688 (56.13 MB)\n",
      "Non-trainable params: 0 (0.00 Byte)\n",
      "_________________________________________________________________\n"
     ]
    }
   ],
   "source": [
    "vgg.summary()"
   ]
  },
  {
   "cell_type": "code",
   "execution_count": 160,
   "metadata": {},
   "outputs": [],
   "source": [
    "def build_model(): \n",
    "    input_layer = Input(shape=(120,120,3))\n",
    "    \n",
    "    vgg = VGG16(include_top=False)(input_layer)\n",
    "\n",
    "    # Classification Model  \n",
    "    f1 = GlobalMaxPooling2D()(vgg)\n",
    "    class1 = Dense(2048, activation='relu')(f1)\n",
    "    class2 = Dense(1, activation='sigmoid')(class1)\n",
    "    \n",
    "    # Bounding box model\n",
    "    f2 = GlobalMaxPooling2D()(vgg)\n",
    "    regress1 = Dense(2048, activation='relu')(f2)\n",
    "    regress2 = Dense(4, activation='sigmoid')(regress1)\n",
    "    \n",
    "    facetracker = Model(inputs=input_layer, outputs=[class2, regress2])\n",
    "    return facetracker"
   ]
  },
  {
   "cell_type": "code",
   "execution_count": 161,
   "metadata": {},
   "outputs": [],
   "source": [
    "facetracker = build_model()"
   ]
  },
  {
   "cell_type": "code",
   "execution_count": 162,
   "metadata": {},
   "outputs": [
    {
     "name": "stdout",
     "output_type": "stream",
     "text": [
      "Model: \"model_1\"\n",
      "__________________________________________________________________________________________________\n",
      " Layer (type)                Output Shape                 Param #   Connected to                  \n",
      "==================================================================================================\n",
      " input_7 (InputLayer)        [(None, 120, 120, 3)]        0         []                            \n",
      "                                                                                                  \n",
      " vgg16 (Functional)          (None, None, None, 512)      1471468   ['input_7[0][0]']             \n",
      "                                                          8                                       \n",
      "                                                                                                  \n",
      " global_max_pooling2d_2 (Gl  (None, 512)                  0         ['vgg16[0][0]']               \n",
      " obalMaxPooling2D)                                                                                \n",
      "                                                                                                  \n",
      " global_max_pooling2d_3 (Gl  (None, 512)                  0         ['vgg16[0][0]']               \n",
      " obalMaxPooling2D)                                                                                \n",
      "                                                                                                  \n",
      " dense_11 (Dense)            (None, 2048)                 1050624   ['global_max_pooling2d_2[0][0]\n",
      "                                                                    ']                            \n",
      "                                                                                                  \n",
      " dense_13 (Dense)            (None, 2048)                 1050624   ['global_max_pooling2d_3[0][0]\n",
      "                                                                    ']                            \n",
      "                                                                                                  \n",
      " dense_12 (Dense)            (None, 1)                    2049      ['dense_11[0][0]']            \n",
      "                                                                                                  \n",
      " dense_14 (Dense)            (None, 4)                    8196      ['dense_13[0][0]']            \n",
      "                                                                                                  \n",
      "==================================================================================================\n",
      "Total params: 16826181 (64.19 MB)\n",
      "Trainable params: 16826181 (64.19 MB)\n",
      "Non-trainable params: 0 (0.00 Byte)\n",
      "__________________________________________________________________________________________________\n"
     ]
    }
   ],
   "source": [
    "facetracker.summary()"
   ]
  },
  {
   "cell_type": "code",
   "execution_count": 163,
   "metadata": {},
   "outputs": [],
   "source": [
    "X, y = train.as_numpy_iterator().next()"
   ]
  },
  {
   "cell_type": "code",
   "execution_count": 164,
   "metadata": {},
   "outputs": [
    {
     "data": {
      "text/plain": [
       "(1, 120, 120, 3)"
      ]
     },
     "execution_count": 164,
     "metadata": {},
     "output_type": "execute_result"
    }
   ],
   "source": [
    "X.shape"
   ]
  },
  {
   "cell_type": "code",
   "execution_count": 165,
   "metadata": {},
   "outputs": [
    {
     "name": "stdout",
     "output_type": "stream",
     "text": [
      "1/1 [==============================] - 0s 340ms/step\n"
     ]
    }
   ],
   "source": [
    "classes, coords = facetracker.predict(X)"
   ]
  },
  {
   "cell_type": "code",
   "execution_count": 166,
   "metadata": {},
   "outputs": [
    {
     "data": {
      "text/plain": [
       "(array([[0.55971175]], dtype=float32),\n",
       " array([[0.4604284, 0.6103365, 0.5220184, 0.504769 ]], dtype=float32))"
      ]
     },
     "execution_count": 166,
     "metadata": {},
     "output_type": "execute_result"
    }
   ],
   "source": [
    "classes, coords"
   ]
  },
  {
   "cell_type": "code",
   "execution_count": 167,
   "metadata": {},
   "outputs": [],
   "source": [
    "# Define Optimizer and LR\n",
    "batches_per_epoch = len(train)\n",
    "lr_decay = (1./0.75 -1)/batches_per_epoch"
   ]
  },
  {
   "cell_type": "code",
   "execution_count": 168,
   "metadata": {},
   "outputs": [],
   "source": [
    "opt = tf.keras.optimizers.Adam(learning_rate=0.0001, weight_decay=lr_decay)"
   ]
  },
  {
   "cell_type": "code",
   "execution_count": 169,
   "metadata": {},
   "outputs": [],
   "source": [
    "def localization_loss(y_true, yhat):            \n",
    "    delta_coord = tf.reduce_sum(tf.square(y_true[:,:2] - yhat[:,:2]))\n",
    "                  \n",
    "    h_true = y_true[:,3] - y_true[:,1] \n",
    "    w_true = y_true[:,2] - y_true[:,0] \n",
    "\n",
    "    h_pred = yhat[:,3] - yhat[:,1] \n",
    "    w_pred = yhat[:,2] - yhat[:,0] \n",
    "    \n",
    "    delta_size = tf.reduce_sum(tf.square(w_true - w_pred) + tf.square(h_true-h_pred))\n",
    "    \n",
    "    return delta_coord + delta_size"
   ]
  },
  {
   "cell_type": "code",
   "execution_count": 170,
   "metadata": {},
   "outputs": [],
   "source": [
    "classloss = tf.keras.losses.BinaryCrossentropy()\n",
    "regressloss = localization_loss"
   ]
  },
  {
   "cell_type": "code",
   "execution_count": 171,
   "metadata": {},
   "outputs": [
    {
     "name": "stdout",
     "output_type": "stream",
     "text": [
      "Localization Loss: 0.5\n"
     ]
    }
   ],
   "source": [
    "import tensorflow as tf\n",
    "\n",
    "# Define your localization loss function\n",
    "def localization_loss(y_true, yhat):            \n",
    "    delta_coord = tf.reduce_sum(tf.square(y_true[:, :2] - yhat[:, :2]))\n",
    "    h_true = y_true[:, 3] - y_true[:, 1] \n",
    "    w_true = y_true[:, 2] - y_true[:, 0] \n",
    "    h_pred = yhat[:, 3] - yhat[:, 1] \n",
    "    w_pred = yhat[:, 2] - yhat[:, 0] \n",
    "    delta_size = tf.reduce_sum(tf.square(w_true - w_pred) + tf.square(h_true - h_pred))\n",
    "    return delta_coord + delta_size\n",
    "\n",
    "# Define sample values for y_true and coords\n",
    "y_true = tf.constant([[1.0, 2.0, 5.0, 7.0]], dtype=tf.float32)\n",
    "coords = tf.constant([[0.5, 1.5, 4.5, 6.5]], dtype=tf.float32)\n",
    "\n",
    "# Calculate localization loss\n",
    "loss = localization_loss(y_true, coords)\n",
    "\n",
    "# Now you can use the 'loss' variable\n",
    "print(\"Localization Loss:\", loss.numpy())"
   ]
  },
  {
   "cell_type": "code",
   "execution_count": 172,
   "metadata": {},
   "outputs": [
    {
     "name": "stdout",
     "output_type": "stream",
     "text": [
      "Shape using tf.shape: (2, 3)\n",
      "Shape using .shape attribute: (2, 3)\n",
      "Number of rows: tf.Tensor(2, shape=(), dtype=int32)\n",
      "Number of columns: tf.Tensor(3, shape=(), dtype=int32)\n"
     ]
    }
   ],
   "source": [
    "import tensorflow as tf\n",
    "\n",
    "# Creating a sample tensor\n",
    "sample_tensor = tf.constant([[1, 2, 3], [4, 5, 6]])\n",
    "\n",
    "# Get the shape of the tensor\n",
    "shape = tf.shape(sample_tensor)\n",
    "\n",
    "# Access the shape dimensions\n",
    "num_rows = shape[0]\n",
    "num_columns = shape[1]\n",
    "\n",
    "shape = sample_tensor.shape\n",
    "\n",
    "print(\"Shape using tf.shape:\", shape)\n",
    "print(\"Shape using .shape attribute:\", shape)\n",
    "print(\"Number of rows:\", num_rows)\n",
    "print(\"Number of columns:\", num_columns)"
   ]
  },
  {
   "cell_type": "code",
   "execution_count": 173,
   "metadata": {},
   "outputs": [
    {
     "name": "stdout",
     "output_type": "stream",
     "text": [
      "Data type: <dtype: 'float32'>\n"
     ]
    }
   ],
   "source": [
    "import tensorflow as tf\n",
    "\n",
    "# Creating a sample tensor\n",
    "sample_tensor = tf.constant([1.0, 2.0, 3.0])\n",
    "\n",
    "# Get the data type of the tensor\n",
    "data_type = sample_tensor.dtype\n",
    "\n",
    "print(\"Data type:\", data_type)"
   ]
  },
  {
   "cell_type": "code",
   "execution_count": 174,
   "metadata": {},
   "outputs": [
    {
     "name": "stdout",
     "output_type": "stream",
     "text": [
      "Tensor:\n",
      "tf.Tensor(\n",
      "[[1 2 3]\n",
      " [4 5 6]], shape=(2, 3), dtype=int32)\n"
     ]
    }
   ],
   "source": [
    "import tensorflow as tf\n",
    "\n",
    "# Creating a sample tensor\n",
    "sample_tensor = tf.constant([[1, 2, 3], [4, 5, 6]])\n",
    "\n",
    "# Print the tensor\n",
    "print(\"Tensor:\")\n",
    "print(sample_tensor)"
   ]
  },
  {
   "cell_type": "code",
   "execution_count": 383,
   "metadata": {},
   "outputs": [],
   "source": [
    "import tensorflow as tf\n",
    "\n",
    "# Define y_true and yhat with valid shapes\n",
    "y_true = tf.constant([[x1, y1, x2, y2]], dtype=tf.float32)  \n",
    "yhat = tf.constant([[x1_pred, y1_pred, x2_pred, y2_pred]], dtype=tf.float32)\n",
    "\n",
    "# Calculate localization loss\n",
    "loss = localization_loss(y_true, yhat)"
   ]
  },
  {
   "cell_type": "code",
   "execution_count": 176,
   "metadata": {},
   "outputs": [
    {
     "name": "stdout",
     "output_type": "stream",
     "text": [
      "Localization Loss: 54965.0\n"
     ]
    }
   ],
   "source": [
    "import tensorflow as tf\n",
    "\n",
    "# Define your localization loss function\n",
    "def localization_loss(y_true, yhat):            \n",
    "    delta_coord = tf.reduce_sum(tf.square(y_true[:, :2] - yhat[:, :2]))\n",
    "    h_true = y_true[:, 3] - y_true[:, 1] \n",
    "    w_true = y_true[:, 2] - y_true[:, 0] \n",
    "    h_pred = yhat[:, 3] - yhat[:, 1] \n",
    "    w_pred = yhat[:, 2] - yhat[:, 0] \n",
    "    delta_size = tf.reduce_sum(tf.square(w_true - w_pred) + tf.square(h_true - h_pred))\n",
    "    return delta_coord + delta_size\n",
    "\n",
    "# Define y_true with valid shape\n",
    "y_true = tf.constant([[x1, y1, x2, y2]], dtype=tf.float32)  \n",
    "\n",
    "x1_pred = 12.0\n",
    "y1_pred = 22.0\n",
    "x2_pred = 48.0\n",
    "y2_pred = 78.0\n",
    "\n",
    "yhat = tf.constant([[x1_pred, y1_pred, x2_pred, y2_pred]], dtype=tf.float32)\n",
    "\n",
    "# Calculate localization loss\n",
    "loss = localization_loss(y_true, yhat)\n",
    "\n",
    "print(\"Localization Loss:\", loss.numpy())"
   ]
  },
  {
   "cell_type": "code",
   "execution_count": 177,
   "metadata": {},
   "outputs": [],
   "source": [
    "import tensorflow as tf\n",
    "\n",
    "def localization_loss(y_true, yhat):            \n",
    "    delta_coord = tf.reduce_sum(tf.square(y_true[:, :2] - yhat[:, :2]))\n",
    "    h_true = y_true[:, 3] - y_true[:, 1] \n",
    "    w_true = y_true[:, 2] - y_true[:, 0]\n",
    "    \n",
    "    return loss"
   ]
  },
  {
   "cell_type": "code",
   "execution_count": 189,
   "metadata": {},
   "outputs": [],
   "source": [
    "# Create Custom Model Class\n",
    "\n",
    "class FaceTracker(Model): \n",
    "    def __init__(self, eyetracker,  **kwargs): \n",
    "        super().__init__(**kwargs)\n",
    "        self.model = eyetracker\n",
    "\n",
    "    def compile(self, opt, classloss, localizationloss, **kwargs):\n",
    "        super().compile(**kwargs)\n",
    "        self.closs = classloss\n",
    "        self.lloss = localizationloss\n",
    "        self.opt = opt\n",
    "    \n",
    "    def train_step(self, batch, **kwargs): \n",
    "        \n",
    "        X, y = batch\n",
    "        \n",
    "        with tf.GradientTape() as tape: \n",
    "            classes, coords = self.model(X, training=True)\n",
    "            \n",
    "            batch_classloss = self.closs(y[0], classes)\n",
    "            batch_localizationloss = self.lloss(tf.cast(y[1], tf.float32), coords)\n",
    "            \n",
    "            total_loss = batch_localizationloss+0.5*batch_classloss\n",
    "            \n",
    "            grad = tape.gradient(total_loss, self.model.trainable_variables)\n",
    "        \n",
    "        opt.apply_gradients(zip(grad, self.model.trainable_variables))\n",
    "        \n",
    "        return {\"total_loss\":total_loss, \"class_loss\":batch_classloss, \"regress_loss\":batch_localizationloss}\n",
    "    \n",
    "    def test_step(self, batch, **kwargs): \n",
    "        X, y = batch\n",
    "        \n",
    "        classes, coords = self.model(X, training=False)\n",
    "        \n",
    "        batch_classloss = self.closs(y[0], classes)\n",
    "        batch_localizationloss = self.lloss(tf.cast(y[1], tf.float32), coords)\n",
    "        total_loss = batch_localizationloss+0.5*batch_classloss\n",
    "        \n",
    "        return {\"total_loss\":total_loss, \"class_loss\":batch_classloss, \"regress_loss\":batch_localizationloss}\n",
    "        \n",
    "    def call(self, X, **kwargs): \n",
    "        return self.model(X, **kwargs)"
   ]
  },
  {
   "cell_type": "code",
   "execution_count": 190,
   "metadata": {},
   "outputs": [],
   "source": [
    "model = FaceTracker(facetracker)"
   ]
  },
  {
   "cell_type": "code",
   "execution_count": 191,
   "metadata": {},
   "outputs": [],
   "source": [
    "model.compile(opt, classloss, regressloss)"
   ]
  },
  {
   "cell_type": "code",
   "execution_count": 192,
   "metadata": {},
   "outputs": [],
   "source": [
    "logdir='logs'"
   ]
  },
  {
   "cell_type": "code",
   "execution_count": 193,
   "metadata": {},
   "outputs": [],
   "source": [
    "tensorboard_callback = tf.keras.callbacks.TensorBoard(log_dir=logdir)"
   ]
  },
  {
   "cell_type": "code",
   "execution_count": 211,
   "metadata": {},
   "outputs": [],
   "source": [
    "model = tf.keras.Sequential([\n",
    "    # ... (other layers)\n",
    "    tf.keras.layers.Dense(1, activation='sigmoid') \n",
    "])"
   ]
  },
  {
   "cell_type": "code",
   "execution_count": 219,
   "metadata": {},
   "outputs": [],
   "source": [
    "import numpy as np\n",
    "\n",
    "# Convert TensorFlow datasets to NumPy arrays\n",
    "train_images = np.array(list(train_images.as_numpy_iterator()))\n",
    "test_images = np.array(list(test_images.as_numpy_iterator()))\n",
    "val_images = np.array(list(val_images.as_numpy_iterator()))\n",
    "\n",
    "# Reshape the NumPy arrays\n",
    "train_images = train_images.reshape(train_images.shape[0], -1)\n",
    "test_images = test_images.reshape(test_images.shape[0], -1)\n",
    "val_images = val_images.reshape(val_images.shape[0], -1)"
   ]
  },
  {
   "cell_type": "code",
   "execution_count": 220,
   "metadata": {},
   "outputs": [],
   "source": [
    "train_images_dataset = tf.data.Dataset.from_tensor_slices(train_images)\n",
    "test_images_dataset = tf.data.Dataset.from_tensor_slices(test_images)\n",
    "val_images_dataset = tf.data.Dataset.from_tensor_slices(val_images)\n",
    "\n",
    "# Combine the reshaped image datasets with the corresponding labels\n",
    "train_dataset = tf.data.Dataset.zip((train_images_dataset, train_labels))\n",
    "test_dataset = tf.data.Dataset.zip((test_images_dataset, test_labels))\n",
    "val_dataset = tf.data.Dataset.zip((val_images_dataset, val_labels))"
   ]
  },
  {
   "cell_type": "code",
   "execution_count": 223,
   "metadata": {},
   "outputs": [],
   "source": [
    "import tensorflow as tf\n",
    "\n",
    "\n",
    "# Create TensorFlow datasets from NumPy arrays\n",
    "train_images_dataset = tf.data.Dataset.from_tensor_slices(train_images)\n",
    "test_images_dataset = tf.data.Dataset.from_tensor_slices(test_images)\n",
    "val_images_dataset = tf.data.Dataset.from_tensor_slices(val_images)\n",
    "\n",
    "# Combine the image datasets with the corresponding labels\n",
    "train_dataset = tf.data.Dataset.zip((train_images_dataset, train_labels))\n",
    "test_dataset = tf.data.Dataset.zip((test_images_dataset, test_labels))\n",
    "val_dataset = tf.data.Dataset.zip((val_images_dataset, val_labels))"
   ]
  },
  {
   "cell_type": "code",
   "execution_count": 250,
   "metadata": {},
   "outputs": [],
   "source": [
    "import tensorflow as tf\n",
    "\n",
    "\n",
    "# preprocess images\n",
    "train_images = tf.data.Dataset.list_files('C:/Users/Admin/Downloads/data images/*.jpg', shuffle=False)\n",
    "train_images = train_images.map(load_image)\n",
    "\n",
    "# Resize the images to the desired shape (e.g., 120x120)\n",
    "desired_image_shape = (120, 120)\n",
    "train_images = train_images.map(lambda x: tf.image.resize(x, desired_image_shape))\n",
    "\n",
    "# Normalize the pixel values to the range [0, 1]\n",
    "train_images = train_images.map(lambda x: x / 255.0)\n",
    "\n",
    "train_images = train_images.map(lambda x: tf.expand_dims(x, axis=-1))\n",
    "\n",
    "\n",
    "train_dataset = tf.data.Dataset.zip((train_images, train_labels))\n",
    "\n",
    "\n"
   ]
  },
  {
   "cell_type": "code",
   "execution_count": 251,
   "metadata": {},
   "outputs": [],
   "source": [
    "# test \n",
    "\n",
    "import tensorflow as tf\n",
    "\n",
    "\n",
    "# Load and preprocess images\n",
    "test_images = tf.data.Dataset.list_files('C:/Users/Admin/Downloads/data images/*.jpg', shuffle=False)\n",
    "test_images = test_images.map(load_image)\n",
    "\n",
    "# Resize the images to the desired shape (e.g., 120x120)\n",
    "desired_image_shape = (120, 120)\n",
    "test_images = test_images.map(lambda x: tf.image.resize(x, desired_image_shape))\n",
    "\n",
    "# Normalize the pixel values to the range [0, 1]\n",
    "test_images = test_images.map(lambda x: x / 255.0)\n",
    "\n",
    "test_images = test_images.map(lambda x: tf.expand_dims(x, axis=-1))\n",
    "\n",
    "\n",
    "test_dataset = tf.data.Dataset.zip((test_images, test_labels))\n"
   ]
  },
  {
   "cell_type": "code",
   "execution_count": 252,
   "metadata": {},
   "outputs": [],
   "source": [
    "# val \n",
    "\n",
    "import tensorflow as tf\n",
    "\n",
    "\n",
    "# Load and preprocess images\n",
    "val_images = tf.data.Dataset.list_files('C:/Users/Admin/Downloads/data images/*.jpg', shuffle=False)\n",
    "val_images = val_images.map(load_image)\n",
    "\n",
    "# Resize the images to the desired shape (e.g., 120x120)\n",
    "desired_image_shape = (120, 120)\n",
    "val_images = val_images.map(lambda x: tf.image.resize(x, desired_image_shape))\n",
    "\n",
    "# Normalize the pixel values to the range [0, 1]\n",
    "val_images = val_images.map(lambda x: x / 255.0)\n",
    "\n",
    "# Add a dimension with a size of 1 to make them compatible with tf.image.resize\n",
    "val_images = val_images.map(lambda x: tf.expand_dims(x, axis=-1))\n",
    "\n",
    "\n",
    "val_dataset = tf.data.Dataset.zip((val_images, val_labels))"
   ]
  },
  {
   "cell_type": "code",
   "execution_count": 253,
   "metadata": {},
   "outputs": [],
   "source": [
    "import tensorflow as tf\n",
    "\n",
    "\n",
    "desired_image_shape = (120, 120)\n",
    "train_images_resized = [tf.image.resize(x, desired_image_shape) for x in train_images]\n",
    "val_images_resized = [tf.image.resize(x, desired_image_shape) for x in val_images]\n",
    "\n",
    "# Flatten the images into 1D arrays\n",
    "train_images_flat = [tf.reshape(x, (-1, 120 * 120)) for x in train_images_resized]\n",
    "val_images_flat = [tf.reshape(x, (-1, 120 * 120)) for x in val_images_resized]\n",
    "\n",
    "# Convert the lists of images to TensorFlow tensors\n",
    "train_images_flat = [tf.convert_to_tensor(x) for x in train_images_flat]\n",
    "val_images_flat = [tf.convert_to_tensor(x) for x in val_images_flat]\n",
    "\n"
   ]
  },
  {
   "cell_type": "code",
   "execution_count": 257,
   "metadata": {},
   "outputs": [],
   "source": [
    "desired_image_shape = (28, 28)  \n",
    "train_images_resized = [tf.image.resize(x, desired_image_shape) for x in train_images]\n",
    "val_images_resized = [tf.image.resize(x, desired_image_shape) for x in val_images]"
   ]
  },
  {
   "cell_type": "code",
   "execution_count": 258,
   "metadata": {},
   "outputs": [],
   "source": [
    "train_images_flat = [tf.reshape(x, (-1, 784)) for x in train_images_resized]\n",
    "val_images_flat = [tf.reshape(x, (-1, 784)) for x in val_images_resized]"
   ]
  },
  {
   "cell_type": "code",
   "execution_count": 259,
   "metadata": {},
   "outputs": [],
   "source": [
    "train_images_flat = [tf.convert_to_tensor(x) for x in train_images_flat]\n",
    "val_images_flat = [tf.convert_to_tensor(x) for x in val_images_flat]"
   ]
  },
  {
   "cell_type": "code",
   "execution_count": 266,
   "metadata": {},
   "outputs": [
    {
     "name": "stdout",
     "output_type": "stream",
     "text": [
      "(66, 120, 784)\n",
      "()\n",
      "(66, 120, 784)\n"
     ]
    }
   ],
   "source": [
    "import numpy as np\n",
    "\n",
    "# Convert them to NumPy arrays\n",
    "train_images_flat = np.array(train_images_flat)\n",
    "train_labels = np.array(train_labels)\n",
    "val_images_flat = np.array(val_images_flat)\n",
    "\n",
    "# Now you can access their shapes\n",
    "print(train_images_flat.shape)\n",
    "print(train_labels.shape)\n",
    "print(val_images_flat.shape)"
   ]
  },
  {
   "cell_type": "code",
   "execution_count": 269,
   "metadata": {},
   "outputs": [],
   "source": [
    "IMAGE_HEIGHT = 28  \n",
    "IMAGE_WIDTH = 28   \n",
    "NUM_CHANNELS = 1   \n",
    "\n",
    "# reshape your data\n",
    "train_images_flat = train_images_flat.reshape((-1, IMAGE_HEIGHT, IMAGE_WIDTH, NUM_CHANNELS))\n",
    "val_images_flat = val_images_flat.reshape((-1, IMAGE_HEIGHT, IMAGE_WIDTH, NUM_CHANNELS))"
   ]
  },
  {
   "cell_type": "code",
   "execution_count": 270,
   "metadata": {},
   "outputs": [],
   "source": [
    "train_images_flat = train_images_flat.reshape((-1, IMAGE_HEIGHT, IMAGE_WIDTH, NUM_CHANNELS))\n",
    "val_images_flat = val_images_flat.reshape((-1, IMAGE_HEIGHT, IMAGE_WIDTH, NUM_CHANNELS))"
   ]
  },
  {
   "cell_type": "code",
   "execution_count": 272,
   "metadata": {},
   "outputs": [],
   "source": [
    "IMAGE_HEIGHT = 28\n",
    "IMAGE_WIDTH = 28\n",
    "NUM_CHANNELS = 1\n",
    "\n",
    "train_images_flat = train_images_flat.reshape((-1, IMAGE_HEIGHT, IMAGE_WIDTH, NUM_CHANNELS))\n",
    "val_images_flat = val_images_flat.reshape((-1, IMAGE_HEIGHT, IMAGE_WIDTH, NUM_CHANNELS))"
   ]
  },
  {
   "cell_type": "code",
   "execution_count": 275,
   "metadata": {},
   "outputs": [],
   "source": [
    "IMAGE_HEIGHT = 28\n",
    "IMAGE_WIDTH = 28\n",
    "NUM_CHANNELS = 1\n",
    "\n",
    "train_images_flat = train_images_flat.reshape((-1, IMAGE_HEIGHT, IMAGE_WIDTH, NUM_CHANNELS))\n",
    "val_images_flat = val_images_flat.reshape((-1, IMAGE_HEIGHT, IMAGE_WIDTH, NUM_CHANNELS))"
   ]
  },
  {
   "cell_type": "code",
   "execution_count": 276,
   "metadata": {},
   "outputs": [],
   "source": [
    "model = Sequential([\n",
    "    Flatten(input_shape=(IMAGE_HEIGHT, IMAGE_WIDTH, NUM_CHANNELS)),  \n",
    "])"
   ]
  },
  {
   "cell_type": "code",
   "execution_count": 278,
   "metadata": {},
   "outputs": [
    {
     "name": "stdout",
     "output_type": "stream",
     "text": [
      "<class 'numpy.ndarray'>\n",
      "<class 'str'>\n"
     ]
    }
   ],
   "source": [
    "train_images = 'C:/Users/Admin/Downloads/data images/89399881-5f89-11ee-999c-8c16455bd4ce.jpg'\n",
    "train_labels = 'C:\\\\Users\\\\Admin\\\\Downloads\\\\data images\\\\89399881-5f89-11ee-999c-8c16455bd4ce.jpg'\n",
    "print(type(train_images_flat))\n",
    "print(type(train_labels))"
   ]
  },
  {
   "cell_type": "code",
   "execution_count": 283,
   "metadata": {},
   "outputs": [
    {
     "name": "stdout",
     "output_type": "stream",
     "text": [
      "['class1', 'class2', 'class3', Ellipsis]\n"
     ]
    }
   ],
   "source": [
    "print(class_labels)\n"
   ]
  },
  {
   "cell_type": "code",
   "execution_count": 285,
   "metadata": {},
   "outputs": [],
   "source": [
    "valid_class_labels = []\n",
    "\n",
    "# Iterate through the original class labels and only keep valid strings\n",
    "for label in class_labels:\n",
    "    if isinstance(label, str) and label.strip():  \n",
    "        valid_class_labels.append(label)\n",
    "\n",
    "from sklearn.preprocessing import LabelEncoder\n",
    "\n",
    "label_encoder = LabelEncoder()\n",
    "label_encoder.fit(valid_class_labels)\n",
    "\n",
    "labels = label_encoder.transform(valid_class_labels)"
   ]
  },
  {
   "cell_type": "code",
   "execution_count": 299,
   "metadata": {},
   "outputs": [],
   "source": [
    "train_image_dir = os.path.abspath('C:/Users/Admin/Downloads/data images/train')\n",
    "test_image_dir = os.path.abspath('C:/Users/Admin/Downloads/data images/test')\n",
    "val_image_dir = os.path.abspath('C:/Users/Admin/Downloads/data images/val')"
   ]
  },
  {
   "cell_type": "code",
   "execution_count": 195,
   "metadata": {},
   "outputs": [],
   "source": [
    "bce_loss = tf.keras.losses.BinaryCrossentropy()\n",
    "\n",
    "batch_classloss = bce_loss(y_true, classes)  # Assuming "
   ]
  },
  {
   "cell_type": "code",
   "execution_count": 196,
   "metadata": {},
   "outputs": [],
   "source": [
    "class FaceTracker(tf.keras.Model):\n",
    "    def __init__(self, model):\n",
    "        super().__init__()\n",
    "        self.model = model\n",
    "\n",
    "    def train_step(self, batch):\n",
    "        X, y = batch\n",
    "\n",
    "        with tf.GradientTape() as tape:\n",
    "            classes, coords = self.model(X, training=True)\n",
    "            bce_loss = tf.keras.losses.BinaryCrossentropy()(y[0], classes)  # Use BinaryCrossentropy loss\n",
    "\n",
    "       \n",
    "\n",
    "        return {\"loss\": total_loss}\n",
    "\n",
    "face_tracker = FaceTracker(model)\n"
   ]
  },
  {
   "cell_type": "code",
   "execution_count": 197,
   "metadata": {},
   "outputs": [],
   "source": [
    "import tensorflow as tf\n",
    "\n",
    "model = tf.keras.Sequential([\n",
    "    \n",
    "    tf.keras.layers.Dense(1, activation='sigmoid')  # activation for binary classification\n",
    "])\n",
    "\n",
    "# loss function for binary classification\n",
    "bce_loss = tf.keras.losses.BinaryCrossentropy()\n",
    "\n",
    "# optimizer\n",
    "optimizer = tf.keras.optimizers.Adam(learning_rate=0.001)\n",
    "\n",
    "# Compile the model\n",
    "model.compile(optimizer=optimizer, loss=bce_loss, metrics=['accuracy'])  \n",
    "\n",
    "class FaceTracker(tf.keras.Model):\n",
    "    def __init__(self, model):\n",
    "        super().__init__()\n",
    "        self.model = model\n",
    "\n",
    "    def train_step(self, batch):\n",
    "        X, y = batch\n",
    "\n",
    "        with tf.GradientTape() as tape:\n",
    "            classes, coords = self.model(X, training=True)\n",
    "            bce_loss_value = bce_loss(y[0], classes)  # Use BinaryCrossentropy loss\n",
    "\n",
    "        \n",
    "\n",
    "        return {\"loss\": bce_loss_value}  \n",
    "\n",
    "face_tracker = FaceTracker(model)\n"
   ]
  },
  {
   "cell_type": "code",
   "execution_count": 198,
   "metadata": {},
   "outputs": [],
   "source": [
    "import tensorflow as tf\n",
    "\n",
    "# model architecture\n",
    "model = tf.keras.Sequential([\n",
    "    \n",
    "    tf.keras.layers.Dense(1, activation='sigmoid')  # sigmoid activation for binary classification\n",
    "])\n",
    "\n",
    "# loss function for binary classification\n",
    "bce_loss = tf.keras.losses.BinaryCrossentropy()\n",
    "\n",
    "# optimizer\n",
    "optimizer = tf.keras.optimizers.Adam(learning_rate=0.001)\n",
    "\n",
    "# Compile the model\n",
    "model.compile(optimizer=optimizer, loss=bce_loss, metrics=['accuracy'])  \n"
   ]
  },
  {
   "cell_type": "code",
   "execution_count": 199,
   "metadata": {},
   "outputs": [],
   "source": [
    "model = tf.keras.Sequential([\n",
    "    tf.keras.layers.Conv2D(32, (3, 3), activation='relu', input_shape=(64, 64, 3)),\n",
    "    tf.keras.layers.MaxPooling2D((2, 2)),\n",
    "    tf.keras.layers.Conv2D(64, (3, 3), activation='relu'),\n",
    "    tf.keras.layers.MaxPooling2D((2, 2)),\n",
    "    tf.keras.layers.Flatten(),\n",
    "    tf.keras.layers.Dense(128, activation='relu'),\n",
    "    tf.keras.layers.Dense(10, activation='softmax')  \n",
    "])"
   ]
  },
  {
   "cell_type": "code",
   "execution_count": 200,
   "metadata": {},
   "outputs": [],
   "source": [
    "optimizer = tf.keras.optimizers.Adam(learning_rate=0.001)"
   ]
  },
  {
   "cell_type": "code",
   "execution_count": 201,
   "metadata": {},
   "outputs": [],
   "source": [
    "loss_function = tf.keras.losses.BinaryCrossentropy()  # For binary classification"
   ]
  },
  {
   "cell_type": "code",
   "execution_count": 202,
   "metadata": {},
   "outputs": [],
   "source": [
    "model.compile(optimizer=optimizer, loss=loss_function, metrics=['accuracy'])"
   ]
  },
  {
   "cell_type": "code",
   "execution_count": 204,
   "metadata": {},
   "outputs": [],
   "source": [
    "model = tf.keras.Sequential([\n",
    "    tf.keras.layers.Conv2D(32, (3, 3), activation='relu', input_shape=(64, 64, 3)),\n",
    "    # ...\n",
    "])"
   ]
  },
  {
   "cell_type": "code",
   "execution_count": 205,
   "metadata": {},
   "outputs": [],
   "source": [
    "model = Sequential()\n",
    "model.add(Input(shape=(64, 64, 3)))  "
   ]
  },
  {
   "cell_type": "code",
   "execution_count": 206,
   "metadata": {},
   "outputs": [],
   "source": [
    "import tensorflow as tf\n",
    "from tensorflow.keras.models import Sequential\n",
    "from tensorflow.keras.layers import Input\n",
    "\n",
    "model = Sequential()\n",
    "model.add(Input(shape=(64, 64, 3)))  "
   ]
  },
  {
   "cell_type": "code",
   "execution_count": 207,
   "metadata": {},
   "outputs": [],
   "source": [
    "model.compile(optimizer='adam', loss='sparse_categorical_crossentropy', metrics=['accuracy'])"
   ]
  },
  {
   "cell_type": "code",
   "execution_count": 382,
   "metadata": {},
   "outputs": [],
   "source": [
    "import cv2\n",
    "import numpy as np\n",
    "from tensorflow.keras.models import Sequential\n",
    "from tensorflow.keras.layers import Input, Conv2D, MaxPooling2D, Flatten, Dense\n",
    "from tensorflow.keras.optimizers import Adam\n",
    "from tensorflow.keras.losses import categorical_crossentropy\n"
   ]
  },
  {
   "cell_type": "code",
   "execution_count": 209,
   "metadata": {},
   "outputs": [],
   "source": [
    "from tensorflow.keras.metrics import Precision, Recall, BinaryAccuracy"
   ]
  },
  {
   "cell_type": "code",
   "execution_count": 317,
   "metadata": {},
   "outputs": [],
   "source": [
    "import cv2\n",
    "import numpy as np\n",
    "\n",
    "\n",
    "# Resize images to 28x28 pixels\n",
    "train_images_resized = np.array([cv2.resize(img, (28, 28)) for img in train_images])\n",
    "val_images_resized = np.array([cv2.resize(img, (28, 28)) for img in val_images])"
   ]
  },
  {
   "cell_type": "code",
   "execution_count": 316,
   "metadata": {},
   "outputs": [],
   "source": [
    "# Normalize pixel values to the [0, 1] range\n",
    "train_images_resized = train_images_resized / 255.0\n",
    "val_images_resized = val_images_resized / 255.0"
   ]
  },
  {
   "cell_type": "code",
   "execution_count": 315,
   "metadata": {},
   "outputs": [],
   "source": [
    "import cv2\n",
    "import numpy as np\n",
    "\n",
    "\n",
    "# Resize images to 28x28 pixels\n",
    "train_images_resized = np.array([cv2.resize(img, (28, 28)) for img in train_images])\n",
    "val_images_resized = np.array([cv2.resize(img, (28, 28)) for img in val_images])\n",
    "\n",
    "train_images_resized = train_images_resized / 255.0\n",
    "val_images_resized = val_images_resized / 255.0"
   ]
  },
  {
   "cell_type": "code",
   "execution_count": 313,
   "metadata": {},
   "outputs": [],
   "source": [
    "import cv2\n",
    "import numpy as np\n",
    "\n",
    "# Load a single image\n",
    "image_path = 'C:/Users/Admin/Downloads/data images/89399881-5f89-11ee-999c-8c16455bd4ce.jpg'\n",
    "img = cv2.imread(image_path)\n",
    "\n",
    "# Resize the image to 28x28 pixels\n",
    "img_resized = cv2.resize(img, (28, 28))\n",
    "\n",
    "# Normalize pixel values to the [0, 1] range\n",
    "img_resized = img_resized / 255.0"
   ]
  },
  {
   "cell_type": "code",
   "execution_count": 322,
   "metadata": {},
   "outputs": [],
   "source": [
    "import cv2\n",
    "import numpy as np\n",
    "\n",
    "train_image_dir = 'C:/Users/Admin/Downloads/data images'\n",
    "val_image_dir = 'C:/Users/Admin/Downloads/data images'\n",
    "\n",
    "train_images_resized = []\n",
    "for image_file in os.listdir(train_image_dir):\n",
    "    image_path = os.path.join(train_image_dir, image_file)\n",
    "    img = cv2.imread(image_path, cv2.IMREAD_GRAYSCALE)  e\n",
    "    img = cv2.resize(img, (28, 28))  # Resize to 28x28 pixels\n",
    "    img = img / 255.0  # Normalize pixel values to [0, 1]\n",
    "    train_images_resized.append(img)\n",
    "\n",
    "# Converted the list of images to a NumPy array\n",
    "train_images_resized = np.array(train_images_resized)\n",
    "\n",
    "val_images_resized = []\n",
    "for image_file in os.listdir(val_image_dir):\n",
    "    image_path = os.path.join(val_image_dir, image_file)\n",
    "    img = cv2.imread(image_path, cv2.IMREAD_GRAYSCALE)\n",
    "    img = cv2.resize(img, (28, 28))\n",
    "    img = img / 255.0\n",
    "    val_images_resized.append(img)\n",
    "\n",
    "val_images_resized = np.array(val_images_resized)"
   ]
  },
  {
   "cell_type": "code",
   "execution_count": 325,
   "metadata": {},
   "outputs": [],
   "source": [
    "import cv2\n",
    "import numpy as np\n",
    "\n",
    "\n",
    "# Resize images to 28x28 pixels\n",
    "train_images_resized = np.array([cv2.resize(img, (28, 28)) for img in train_images])\n",
    "val_images_resized = np.array([cv2.resize(img, (28, 28)) for img in val_images])\n",
    "\n",
    "# Convert images to grayscale (if needed)\n",
    "train_images_resized = np.array([cv2.cvtColor(img, cv2.COLOR_BGR2GRAY) for img in train_images_resized])\n",
    "val_images_resized = np.array([cv2.cvtColor(img, cv2.COLOR_BGR2GRAY) for img in val_images_resized])\n",
    "\n",
    "train_images_resized = train_images_resized / 255.0\n",
    "val_images_resized = val_images_resized / 255.0"
   ]
  },
  {
   "cell_type": "code",
   "execution_count": 327,
   "metadata": {},
   "outputs": [],
   "source": [
    "import cv2\n",
    "import numpy as np\n",
    "\n",
    "\n",
    "train_images_resized = np.array([cv2.resize(cv2.cvtColor(img, cv2.COLOR_BGR2GRAY), (28, 28)) for img in train_images])\n",
    "val_images_resized = np.array([cv2.resize(cv2.cvtColor(img, cv2.COLOR_BGR2GRAY), (28, 28)) for img in val_images])\n",
    "\n",
    "train_images_resized = train_images_resized / 255.0\n",
    "val_images_resized = val_images_resized / 255.0"
   ]
  },
  {
   "cell_type": "code",
   "execution_count": 329,
   "metadata": {},
   "outputs": [],
   "source": [
    "import cv2\n",
    "import numpy as np\n",
    "\n",
    "\n",
    "train_images_resized = np.array([cv2.resize(cv2.cvtColor(img, cv2.COLOR_BGR2GRAY), (28, 28)) for img in train_images])\n",
    "val_images_resized = np.array([cv2.resize(cv2.cvtColor(img, cv2.COLOR_BGR2GRAY), (28, 28)) for img in val_images])\n",
    "\n",
    "train_images_resized = train_images_resized / 255.0\n",
    "val_images_resized = val_images_resized / 255.0"
   ]
  },
  {
   "cell_type": "code",
   "execution_count": 330,
   "metadata": {},
   "outputs": [],
   "source": [
    "model.compile(optimizer='adam',\n",
    "              loss='sparse_categorical_crossentropy',\n",
    "              metrics=['accuracy'])"
   ]
  },
  {
   "cell_type": "code",
   "execution_count": 340,
   "metadata": {},
   "outputs": [],
   "source": [
    "model = Sequential([\n",
    "    Conv2D(32, (3, 3), input_shape=(28, 28, 1), activation='relu'),\n",
    "    \n",
    "    Flatten(),\n",
    "    Dense(10, activation='softmax')\n",
    "])"
   ]
  },
  {
   "cell_type": "code",
   "execution_count": 341,
   "metadata": {},
   "outputs": [],
   "source": [
    "import cv2\n",
    "import numpy as np\n",
    "\n",
    "\n",
    "train_images_resized = np.array([cv2.resize(cv2.cvtColor(img, cv2.COLOR_BGR2GRAY), (28, 28)) for img in train_images])\n",
    "val_images_resized = np.array([cv2.resize(cv2.cvtColor(img, cv2.COLOR_BGR2GRAY), (28, 28)) for img in val_images])\n",
    "\n",
    "train_images_resized = train_images_resized / 255.0\n",
    "val_images_resized = val_images_resized / 255.0"
   ]
  },
  {
   "cell_type": "code",
   "execution_count": 343,
   "metadata": {},
   "outputs": [],
   "source": [
    "model.compile(\n",
    "    optimizer='adam',  \n",
    "    loss='sparse_categorical_crossentropy',  \n",
    "    metrics=['accuracy']  \n",
    ")"
   ]
  },
  {
   "cell_type": "code",
   "execution_count": 346,
   "metadata": {},
   "outputs": [],
   "source": [
    "import numpy as np\n",
    "\n",
    "# Convert your labels to NumPy arrays\n",
    "train_labels = np.array(train_labels)\n",
    "val_labels = np.array(val_labels)\n"
   ]
  },
  {
   "cell_type": "code",
   "execution_count": 348,
   "metadata": {},
   "outputs": [
    {
     "name": "stdout",
     "output_type": "stream",
     "text": [
      "Epoch 1/10\n",
      "4/4 [==============================] - 2s 136ms/step - loss: 2.3108 - accuracy: 0.0900 - val_loss: 2.3073 - val_accuracy: 0.1500\n",
      "Epoch 2/10\n",
      "4/4 [==============================] - 0s 37ms/step - loss: 2.2939 - accuracy: 0.1400 - val_loss: 2.3174 - val_accuracy: 0.1500\n",
      "Epoch 3/10\n",
      "4/4 [==============================] - 0s 34ms/step - loss: 2.2744 - accuracy: 0.1400 - val_loss: 2.3201 - val_accuracy: 0.1000\n",
      "Epoch 4/10\n",
      "4/4 [==============================] - 0s 59ms/step - loss: 2.2662 - accuracy: 0.1400 - val_loss: 2.3324 - val_accuracy: 0.1000\n",
      "Epoch 5/10\n",
      "4/4 [==============================] - 0s 40ms/step - loss: 2.2622 - accuracy: 0.1300 - val_loss: 2.3608 - val_accuracy: 0.1000\n",
      "Epoch 6/10\n",
      "4/4 [==============================] - 0s 41ms/step - loss: 2.2550 - accuracy: 0.1500 - val_loss: 2.3896 - val_accuracy: 0.2000\n",
      "Epoch 7/10\n",
      "4/4 [==============================] - 0s 43ms/step - loss: 2.2560 - accuracy: 0.1900 - val_loss: 2.4024 - val_accuracy: 0.1500\n",
      "Epoch 8/10\n",
      "4/4 [==============================] - 0s 46ms/step - loss: 2.2528 - accuracy: 0.1400 - val_loss: 2.3779 - val_accuracy: 0.2000\n",
      "Epoch 9/10\n",
      "4/4 [==============================] - 0s 42ms/step - loss: 2.2495 - accuracy: 0.1600 - val_loss: 2.3566 - val_accuracy: 0.1000\n",
      "Epoch 10/10\n",
      "4/4 [==============================] - 0s 38ms/step - loss: 2.2509 - accuracy: 0.1400 - val_loss: 2.3387 - val_accuracy: 0.1000\n"
     ]
    }
   ],
   "source": [
    "import tensorflow as tf\n",
    "from tensorflow.keras import layers, models\n",
    "import numpy as np\n",
    "\n",
    "# Train the model\n",
    "history = model.fit(train_images, train_labels, epochs=10, validation_data=(val_images, val_labels))"
   ]
  },
  {
   "cell_type": "code",
   "execution_count": 353,
   "metadata": {},
   "outputs": [
    {
     "data": {
      "text/plain": [
       "{'loss': [2.310764789581299,\n",
       "  2.29390549659729,\n",
       "  2.274362325668335,\n",
       "  2.2661514282226562,\n",
       "  2.2621521949768066,\n",
       "  2.2550106048583984,\n",
       "  2.256030797958374,\n",
       "  2.2527849674224854,\n",
       "  2.2494537830352783,\n",
       "  2.250873565673828],\n",
       " 'accuracy': [0.09000000357627869,\n",
       "  0.14000000059604645,\n",
       "  0.14000000059604645,\n",
       "  0.14000000059604645,\n",
       "  0.12999999523162842,\n",
       "  0.15000000596046448,\n",
       "  0.1899999976158142,\n",
       "  0.14000000059604645,\n",
       "  0.1599999964237213,\n",
       "  0.14000000059604645],\n",
       " 'val_loss': [2.3072681427001953,\n",
       "  2.317351818084717,\n",
       "  2.3200759887695312,\n",
       "  2.332428455352783,\n",
       "  2.3608148097991943,\n",
       "  2.3895926475524902,\n",
       "  2.4023752212524414,\n",
       "  2.377946138381958,\n",
       "  2.356628894805908,\n",
       "  2.3386707305908203],\n",
       " 'val_accuracy': [0.15000000596046448,\n",
       "  0.15000000596046448,\n",
       "  0.10000000149011612,\n",
       "  0.10000000149011612,\n",
       "  0.10000000149011612,\n",
       "  0.20000000298023224,\n",
       "  0.15000000596046448,\n",
       "  0.20000000298023224,\n",
       "  0.10000000149011612,\n",
       "  0.10000000149011612]}"
      ]
     },
     "execution_count": 353,
     "metadata": {},
     "output_type": "execute_result"
    }
   ],
   "source": [
    "history.history"
   ]
  },
  {
   "cell_type": "code",
   "execution_count": 356,
   "metadata": {},
   "outputs": [
    {
     "data": {
      "image/png": "[encoded data removed]",
      "text/plain": [
       "<Figure size 1500x500 with 2 Axes>"
      ]
     },
     "metadata": {},
     "output_type": "display_data"
    }
   ],
   "source": [
    "fig, ax = plt.subplots(ncols=2, figsize=(15, 5))\n",
    "\n",
    "# Plot training & validation loss\n",
    "ax[0].plot(history.history['loss'], color='teal', label='Training Loss')\n",
    "ax[0].plot(history.history['val_loss'], color='orange', label='Validation Loss')\n",
    "ax[0].set_title('Loss')\n",
    "ax[0].legend()\n",
    "\n",
    "# Plot training & validation accuracy (if applicable)\n",
    "if 'accuracy' in history.history:\n",
    "    ax[1].plot(history.history['accuracy'], color='teal', label='Training Accuracy')\n",
    "    ax[1].plot(history.history['val_accuracy'], color='orange', label='Validation Accuracy')\n",
    "    ax[1].set_title('Accuracy')\n",
    "    ax[1].legend()\n",
    "\n",
    "plt.show()"
   ]
  },
  {
   "cell_type": "code",
   "execution_count": 369,
   "metadata": {},
   "outputs": [],
   "source": [
    "test_data = test.as_numpy_iterator()"
   ]
  },
  {
   "cell_type": "code",
   "execution_count": 376,
   "metadata": {},
   "outputs": [],
   "source": [
    "from tensorflow.keras.models import load_model"
   ]
  },
  {
   "cell_type": "code",
   "execution_count": 380,
   "metadata": {},
   "outputs": [],
   "source": [
    "from tensorflow.keras.metrics import Precision, Recall, BinaryAccuracy"
   ]
  },
  {
   "cell_type": "code",
   "execution_count": 381,
   "metadata": {},
   "outputs": [],
   "source": [
    "pre = Precision()\n",
    "re = Recall()\n",
    "acc = BinaryAccuracy()"
   ]
  },
  {
   "cell_type": "code",
   "execution_count": 379,
   "metadata": {},
   "outputs": [
    {
     "name": "stdout",
     "output_type": "stream",
     "text": [
      "1/1 [==============================] - 0s 361ms/step\n",
      "1/1 [==============================] - 0s 116ms/step\n",
      "1/1 [==============================] - 0s 109ms/step\n",
      "1/1 [==============================] - 0s 110ms/step\n",
      "1/1 [==============================] - 0s 94ms/step\n",
      "1/1 [==============================] - 0s 110ms/step\n",
      "1/1 [==============================] - 0s 110ms/step\n",
      "1/1 [==============================] - 0s 104ms/step\n",
      "1/1 [==============================] - 0s 102ms/step\n",
      "1/1 [==============================] - 0s 110ms/step\n",
      "1/1 [==============================] - 0s 110ms/step\n",
      "1/1 [==============================] - 0s 94ms/step\n",
      "1/1 [==============================] - 0s 94ms/step\n",
      "1/1 [==============================] - 0s 92ms/step\n",
      "1/1 [==============================] - 0s 98ms/step\n",
      "1/1 [==============================] - 0s 105ms/step\n",
      "1/1 [==============================] - 0s 110ms/step\n",
      "1/1 [==============================] - 0s 110ms/step\n",
      "1/1 [==============================] - 0s 100ms/step\n",
      "1/1 [==============================] - 0s 100ms/step\n",
      "1/1 [==============================] - 0s 110ms/step\n",
      "1/1 [==============================] - 0s 94ms/step\n",
      "1/1 [==============================] - 0s 94ms/step\n",
      "1/1 [==============================] - 0s 94ms/step\n",
      "1/1 [==============================] - 0s 99ms/step\n",
      "1/1 [==============================] - 0s 103ms/step\n",
      "1/1 [==============================] - 0s 110ms/step\n",
      "1/1 [==============================] - 0s 94ms/step\n",
      "1/1 [==============================] - 0s 94ms/step\n"
     ]
    }
   ],
   "source": [
    "# Real Time Detection\n",
    "\n",
    "cap = cv2.VideoCapture(0)\n",
    "while cap.isOpened():\n",
    "    _ , frame = cap.read()\n",
    "    frame = frame[50:500, 50:500,:]\n",
    "    \n",
    "    rgb = cv2.cvtColor(frame, cv2.COLOR_BGR2RGB)\n",
    "    resized = tf.image.resize(rgb, (120,120))\n",
    "    \n",
    "    yhat = facetracker.predict(np.expand_dims(resized/255,0))\n",
    "    sample_coords = yhat[1][0]\n",
    "    \n",
    "    if yhat[0] > 0.5: \n",
    "        # Controls the main rectangle\n",
    "        cv2.rectangle(frame, \n",
    "                      tuple(np.multiply(sample_coords[:2], [450,450]).astype(int)),\n",
    "                      tuple(np.multiply(sample_coords[2:], [450,450]).astype(int)), \n",
    "                            (255,0,0), 2)\n",
    "        \n",
    "        cv2.rectangle(frame, \n",
    "                      tuple(np.add(np.multiply(sample_coords[:2], [450,450]).astype(int), \n",
    "                                    [0,-30])),\n",
    "                      tuple(np.add(np.multiply(sample_coords[:2], [450,450]).astype(int),\n",
    "                                    [80,0])), \n",
    "                            (255,0,0), -1)\n",
    "        \n",
    "        # Controls the text rendered\n",
    "        cv2.putText(frame, 'face', tuple(np.add(np.multiply(sample_coords[:2], [450,450]).astype(int),\n",
    "                                               [0,-5])),\n",
    "                    cv2.FONT_HERSHEY_SIMPLEX, 1, (255,255,255), 2, cv2.LINE_AA)\n",
    "    \n",
    "    cv2.imshow('EyeTrack', frame)\n",
    "    \n",
    "    if cv2.waitKey(1) & 0xFF == ord('q'):\n",
    "        break\n",
    "cap.release()\n",
    "cv2.destroyAllWindows()"
   ]
  },
  {
   "cell_type": "code",
   "execution_count": null,
   "metadata": {},
   "outputs": [],
   "source": []
  }
 ],
 "metadata": {
  "colab": {
   "authorship_tag": "ABX9TyMqIddJv63EglVNzXbbIohg",
   "provenance": []
  },
  "kernelspec": {
   "display_name": "Python 3 (ipykernel)",
   "language": "python",
   "name": "python3"
  },
  "language_info": {
   "codemirror_mode": {
    "name": "ipython",
    "version": 3
   },
   "file_extension": ".py",
   "mimetype": "text/x-python",
   "name": "python",
   "nbconvert_exporter": "python",
   "pygments_lexer": "ipython3",
   "version": "3.11.4"
  }
 },
 "nbformat": 4,
 "nbformat_minor": 1
}
