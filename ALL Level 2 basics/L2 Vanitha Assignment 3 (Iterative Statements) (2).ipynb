{
 "cells": [
  {
   "cell_type": "markdown",
   "id": "b462dadb",
   "metadata": {
    "id": "b462dadb"
   },
   "source": [
    "# Iterative Statements\n",
    "- Write solution of each question in the cell given below the corresponsing question."
   ]
  },
  {
   "cell_type": "markdown",
   "id": "f5aefe41",
   "metadata": {
    "id": "f5aefe41"
   },
   "source": [
    "#### 1. Tom and Bob are playing a game of dice. Each time a multiple of two comes up Tom gets a point and if a multiple of 3 comes up bob gets a point. If a multiple of both comes up then a point is deducted from both. Write a program to take a list as input consisting of 10 outcomes of the dice throw. Print the scores of both Tom and bob and the winner."
   ]
  },
  {
   "cell_type": "code",
   "execution_count": 5,
   "id": "62bf16f1",
   "metadata": {
    "id": "62bf16f1"
   },
   "outputs": [
    {
     "name": "stdout",
     "output_type": "stream",
     "text": [
      "tom_score:  3\n",
      "bob_score:  1\n",
      "Tom is winner\n"
     ]
    }
   ],
   "source": [
    "dice([1,2,3,4,5,6,7,8,9])\n",
    "def dice(a):\n",
    "  tom_score=0\n",
    "  bob_score=0\n",
    "  for i in range(1,11):\n",
    "    if i%2 == 0 and i%3 == 0:\n",
    "      tom_score=tom_score-1\n",
    "      bob_score=bob_score-1\n",
    "    elif i%2 == 0:\n",
    "      tom_score=tom_score+1\n",
    "    elif i%3 == 0:\n",
    "      bob_score=bob_score+1\n",
    "  print(\"tom_score: \",tom_score)      \n",
    "  print(\"bob_score: \",bob_score)\n",
    "  if (tom_score>bob_score):\n",
    "    print(\"Tom is winner\")\n",
    "  else:\n",
    "    print(\"Bob is winner\")"
   ]
  },
  {
   "cell_type": "markdown",
   "id": "57ec6a53",
   "metadata": {
    "id": "57ec6a53"
   },
   "source": [
    "#### 2. Write a program to take a list of 10 numbers as input in single line and find out the largest element."
   ]
  },
  {
   "cell_type": "code",
   "execution_count": 6,
   "id": "6ebea151",
   "metadata": {
    "id": "6ebea151"
   },
   "outputs": [
    {
     "data": {
      "text/plain": [
       "99"
      ]
     },
     "execution_count": 6,
     "metadata": {},
     "output_type": "execute_result"
    }
   ],
   "source": [
    "a=[11,22,33,44,55,66,77,88,99,12]\n",
    "a.sort()\n",
    "c=a[-1]\n",
    "c"
   ]
  },
  {
   "cell_type": "markdown",
   "id": "ee2cce37",
   "metadata": {
    "id": "ee2cce37"
   },
   "source": [
    "#### 3. Write a program to take a number as input and find out whether it is prime or not."
   ]
  },
  {
   "cell_type": "code",
   "execution_count": 30,
   "id": "b9d9d6d8",
   "metadata": {
    "id": "b9d9d6d8"
   },
   "outputs": [],
   "source": [
    "def num(i):\n",
    "    if i>=1:\n",
    "      for a in range(1, int(i/2) + 1):\n",
    "        if i% a == 0:\n",
    "          print(i,\"not a prime number\")\n",
    "        break\n",
    "      else:\n",
    "        print(i,\"is prime number\")\n",
    "    else:\n",
    "      print(i,\"not a prime number\")      "
   ]
  },
  {
   "cell_type": "code",
   "execution_count": 31,
   "id": "a34bf140",
   "metadata": {},
   "outputs": [
    {
     "name": "stdout",
     "output_type": "stream",
     "text": [
      "1 is prime number\n"
     ]
    }
   ],
   "source": [
    "num(1)"
   ]
  },
  {
   "cell_type": "markdown",
   "id": "07d5a484",
   "metadata": {
    "id": "07d5a484"
   },
   "source": [
    "#### 4. Take a list and a number as input, print all consecutive pairs of two numbers from the list having sum equal to the given number."
   ]
  },
  {
   "cell_type": "code",
   "execution_count": 11,
   "id": "1c7a3c14",
   "metadata": {},
   "outputs": [],
   "source": [
    "def pairs_of_two_numbers(numbers, target_sum):\n",
    "    for i in range(len(numbers) - 1):\n",
    "        for j in range(i + 1, len(numbers)):\n",
    "            if numbers[i] + numbers[j] == target_sum:\n",
    "                print((numbers[i], numbers[j]))"
   ]
  },
  {
   "cell_type": "code",
   "execution_count": 12,
   "id": "3845773d",
   "metadata": {},
   "outputs": [
    {
     "name": "stdout",
     "output_type": "stream",
     "text": [
      "(1, 6)\n",
      "(2, 5)\n",
      "(3, 4)\n"
     ]
    }
   ],
   "source": [
    "numbers = [1, 2, 3, 4, 5, 6, 7, 8, 9]\n",
    "target_sum = 7\n",
    "pairs_of_two_numbers(numbers, target_sum)"
   ]
  },
  {
   "cell_type": "markdown",
   "id": "d2bc68d1",
   "metadata": {
    "id": "d2bc68d1"
   },
   "source": [
    "#### 5. Take a string as input and find out the number of words with even length and number of words with odd length."
   ]
  },
  {
   "cell_type": "code",
   "execution_count": 15,
   "id": "f273ca05",
   "metadata": {
    "id": "f273ca05"
   },
   "outputs": [
    {
     "name": "stdout",
     "output_type": "stream",
     "text": [
      "Odd length:  8\n",
      "Even length:  12\n"
     ]
    }
   ],
   "source": [
    "string = 'string as input and find out the number of words with even length and number of words with odd length' \n",
    "b=string.split()\n",
    "even_count = 0\n",
    "odd_count = 0 \n",
    "for word in b:  \n",
    "  if(len(word)%2==0):\n",
    "    even_count+=1\n",
    "\n",
    "  else:\n",
    "    odd_count+=1\n",
    "print(\"Odd length: \",odd_count)\n",
    "print(\"Even length: \",even_count)"
   ]
  },
  {
   "cell_type": "markdown",
   "id": "9bc04f36",
   "metadata": {
    "id": "9bc04f36"
   },
   "source": [
    "#### 7. Write a program to sort a given list using selection sort algorithm. (study selection sort and implement)"
   ]
  },
  {
   "cell_type": "code",
   "execution_count": 21,
   "id": "3abb8c1e",
   "metadata": {
    "id": "3abb8c1e"
   },
   "outputs": [],
   "source": [
    "def study_selection(arr):\n",
    "    n = len(arr)\n",
    "    for i in range(n):\n",
    "        min_index = i\n",
    "        for j in range(i+1, n):\n",
    "            if arr[j] < arr[min_index]:\n",
    "                min_index = j\n",
    "        arr[i], arr[min_index] = arr[min_index], arr[i]\n",
    "    return arr"
   ]
  },
  {
   "cell_type": "code",
   "execution_count": 23,
   "id": "58AA0C0Kyv15",
   "metadata": {
    "id": "58AA0C0Kyv15"
   },
   "outputs": [
    {
     "name": "stdout",
     "output_type": "stream",
     "text": [
      "Sorted list: [11, 12, 22, 25, 64]\n"
     ]
    }
   ],
   "source": [
    "arr = [64, 25, 12, 22, 11]\n",
    "sorted = study_selection(arr)\n",
    "print(\"Sorted list:\", sorted)"
   ]
  },
  {
   "cell_type": "markdown",
   "id": "d2cf1bab",
   "metadata": {
    "id": "d2cf1bab"
   },
   "source": [
    "#### 8. Write a program to sort a given list using bubble sort algorithm. (Study bubble sort and implement)"
   ]
  },
  {
   "cell_type": "code",
   "execution_count": 24,
   "id": "OJAUtZLmyvMk",
   "metadata": {
    "id": "OJAUtZLmyvMk"
   },
   "outputs": [],
   "source": [
    "def bubble_sort(arr):\n",
    "    n = len(arr)\n",
    "    for i in range(n-1):\n",
    "        for j in range(0, n-i-1):\n",
    "            if arr[j] > arr[j+1]:\n",
    "                arr[j], arr[j+1] = arr[j+1], arr[j]\n",
    "    return arr"
   ]
  },
  {
   "cell_type": "code",
   "execution_count": 25,
   "id": "4869309e",
   "metadata": {
    "id": "4869309e"
   },
   "outputs": [
    {
     "name": "stdout",
     "output_type": "stream",
     "text": [
      "Sorted list: [11, 12, 22, 25, 64]\n"
     ]
    }
   ],
   "source": [
    "arr = [64, 25, 12, 22, 11]\n",
    "sorted = bubble_sort(arr)\n",
    "print(\"Sorted list:\", sorted)"
   ]
  },
  {
   "cell_type": "markdown",
   "id": "1910df79",
   "metadata": {
    "id": "1910df79"
   },
   "source": [
    "#### 9. Take a string and a word and input. Find the frequenecy of occurrence of the word in the given string. (Without using any inbuilt function)"
   ]
  },
  {
   "cell_type": "code",
   "execution_count": 26,
   "id": "c50d4a3c",
   "metadata": {
    "id": "c50d4a3c"
   },
   "outputs": [],
   "source": [
    "def count_word_frequency(string, word):\n",
    "    count = 0\n",
    "    word_length = len(word)\n",
    "    for i in range(len(string) - word_length + 1):\n",
    "        if string[i:i+word_length] == word:\n",
    "            count += 1\n",
    "    return count"
   ]
  },
  {
   "cell_type": "code",
   "execution_count": 27,
   "id": "TfGNjqDj0u4i",
   "metadata": {
    "id": "TfGNjqDj0u4i"
   },
   "outputs": [
    {
     "name": "stdout",
     "output_type": "stream",
     "text": [
      "The word frequency 'sample' in the string is: 2\n"
     ]
    }
   ],
   "source": [
    "string = \"This is a sample string in which we want to count the frequency of the word 'sample'\"\n",
    "word = \"sample\"\n",
    "frequency = count_word_frequency(string, word)\n",
    "print(\"The word frequency '{}' in the string is: {}\".format(word, frequency))"
   ]
  },
  {
   "cell_type": "markdown",
   "id": "66ca0348",
   "metadata": {
    "id": "66ca0348"
   },
   "source": [
    "#### 10. Write a program (nested loops) to print the pyramid pattern."
   ]
  },
  {
   "cell_type": "code",
   "execution_count": 26,
   "id": "472bf64d",
   "metadata": {
    "id": "472bf64d"
   },
   "outputs": [
    {
     "name": "stdout",
     "output_type": "stream",
     "text": [
      "     * \n",
      "    * * \n",
      "   * * * \n",
      "  * * * * \n",
      " * * * * * \n"
     ]
    }
   ],
   "source": [
    "for i in range(1,6):\n",
    "    for j in range(6-i):\n",
    "        print(\" \", end=\"\")\n",
    "    for j in range(i):\n",
    "        print(\"*\", end=\" \")\n",
    "    print()"
   ]
  },
  {
   "cell_type": "markdown",
   "id": "ed75cc00",
   "metadata": {
    "id": "ed75cc00"
   },
   "source": [
    "#### 11. Write a program (nested loops) to print the inverted pyramid."
   ]
  },
  {
   "cell_type": "code",
   "execution_count": 25,
   "id": "ca974535",
   "metadata": {
    "id": "ca974535"
   },
   "outputs": [
    {
     "name": "stdout",
     "output_type": "stream",
     "text": [
      "     2345678901234567890     \n",
      "      56789012345678901      \n",
      "       012345678901234       \n",
      "        7890123456789        \n",
      "         67890123456         \n",
      "          789012345          \n",
      "           0123456           \n",
      "            56789            \n",
      "             234             \n",
      "              1              \n"
     ]
    }
   ],
   "source": [
    "h = 10\n",
    "z = [1, 2, 5, 0, 7, 6, 7, 0, 5, 2]\n",
    "\n",
    "for i in reversed(range(1, h+1)):\n",
    "    s = ''\n",
    "    m = (i % 10) - 1\n",
    "    n = z[m]\n",
    "    \n",
    "    for j in range(i, (i-1)+(2*i)):\n",
    "        s += str(n)\n",
    "        n = n + 1 if n < 9 else 0   \n",
    "    else:\n",
    "        print(f'{s:^{(h-1)+(2*h)}}')\n"
   ]
  },
  {
   "cell_type": "markdown",
   "id": "919d1026",
   "metadata": {
    "id": "919d1026"
   },
   "source": [
    "#### 12. Write a program (nested loops) to print the diamond pattern."
   ]
  },
  {
   "cell_type": "code",
   "execution_count": null,
   "id": "Vem88cD414Jr",
   "metadata": {
    "id": "Vem88cD414Jr"
   },
   "outputs": [],
   "source": [
    "Row1: 4 spaces, 1 star, 4 spaces\n",
    "Row2: 3 spaces, 3 stars, 3 spaces\n",
    "Row3: 2 spaces, 5 stars, 2 spaces\n",
    "Row4: 1 space, 7 stars, 1 space\n",
    "Row5: 0 spaces, 9 stars, 0 spaces\n",
    "Row6: 1 space, 7 stars, 1 space\n",
    "Row7: 2 spaces, 5 stars, 2 spaces\n",
    "Row8: 3 spaces, 3 stars, 3 spaces\n",
    "Row9: 4 spaces, 1 star, 4 spaces"
   ]
  },
  {
   "cell_type": "code",
   "execution_count": 35,
   "id": "52479196",
   "metadata": {},
   "outputs": [
    {
     "name": "stdout",
     "output_type": "stream",
     "text": [
      "Pattern 1\n",
      "    *\n",
      "   ***\n",
      "  *****\n",
      " *******\n",
      "*********\n"
     ]
    }
   ],
   "source": [
    "n = 9\n",
    "print(\"Pattern 1\")\n",
    "for a1 in range(1, (n+1)//2 + 1): #from row 1 to 5\n",
    "    for a2 in range((n+1)//2 - a1):\n",
    "        print(\" \", end = \"\")\n",
    "    for a3 in range((a1*2)-1):\n",
    "        print(\"*\", end = \"\")\n",
    "    print()\n"
   ]
  },
  {
   "cell_type": "code",
   "execution_count": 32,
   "id": "f8b2e6db",
   "metadata": {},
   "outputs": [
    {
     "name": "stdout",
     "output_type": "stream",
     "text": [
      " *******\n",
      "  *****\n",
      "   ***\n",
      "    *\n"
     ]
    }
   ],
   "source": [
    "for a1 in range((n+1)//2 + 1, n + 1): #from row 6 to 9\n",
    "    for a2 in range(a1 - (n+1)//2):\n",
    "        print(\" \", end = \"\")\n",
    "    for a3 in range((n+1 - a1)*2 - 1):\n",
    "        print(\"*\", end = \"\")\n",
    "    print()"
   ]
  },
  {
   "cell_type": "code",
   "execution_count": 3,
   "id": "14f05266",
   "metadata": {},
   "outputs": [
    {
     "name": "stdout",
     "output_type": "stream",
     "text": [
      "height of diamond : 8\n",
      "         *\n",
      "        ***\n",
      "       *****\n",
      "      *******\n",
      "     *********\n",
      "    ***********\n",
      "   *************\n",
      "  ***************\n"
     ]
    }
   ],
   "source": [
    "h = eval(input(\"height of diamond : \"))\n",
    "for i in range (h):\n",
    "    print(\" \"*(h-i),\"*\"*(2*i+1))\n",
    "for i in range(h-2,-1):\n",
    "    print(\" \"*(h-i),\"*\"*(2*i+1))"
   ]
  },
  {
   "cell_type": "markdown",
   "id": "b05f15de",
   "metadata": {
    "id": "b05f15de"
   },
   "source": [
    "#### 13. Write a program to print the following pattern: "
   ]
  },
  {
   "cell_type": "code",
   "execution_count": null,
   "id": "5113af76",
   "metadata": {
    "id": "5113af76"
   },
   "outputs": [],
   "source": [
    "5 4 3 2 1\n",
    "  4 3 2 1\n",
    "    3 2 1\n",
    "      2 1\n",
    "        1\n",
    "'''\n",
    "print()"
   ]
  },
  {
   "cell_type": "code",
   "execution_count": 1,
   "id": "j7lsHqTI1-ZY",
   "metadata": {
    "id": "j7lsHqTI1-ZY"
   },
   "outputs": [
    {
     "name": "stdout",
     "output_type": "stream",
     "text": [
      "5 4 3 2 1 \n",
      "  4 3 2 1 \n",
      "    3 2 1 \n",
      "      2 1 \n",
      "        1 \n"
     ]
    }
   ],
   "source": [
    "n = 5\n",
    "for i in range(n, 0, -1):\n",
    "    for j in range(n - i):\n",
    "        print(\"  \", end=\"\")\n",
    "    for k in range(i, 0, -1):\n",
    "        print(k, end=\" \")\n",
    "    print(\"\")"
   ]
  },
  {
   "cell_type": "markdown",
   "id": "279b94c8",
   "metadata": {
    "id": "279b94c8"
   },
   "source": [
    "#### 14. Write a program to print the following pattern:"
   ]
  },
  {
   "cell_type": "code",
   "execution_count": null,
   "id": "af2c05e5",
   "metadata": {
    "id": "af2c05e5"
   },
   "outputs": [],
   "source": [
    "5 4 3 2 1\n",
    "4 3 2 1\n",
    "3 2 1\n",
    "2 1\n",
    "1\n",
    "'''\n",
    "print()"
   ]
  },
  {
   "cell_type": "code",
   "execution_count": 2,
   "id": "a6502c4f",
   "metadata": {
    "id": "a6502c4f"
   },
   "outputs": [
    {
     "name": "stdout",
     "output_type": "stream",
     "text": [
      "5 4 3 2 1 \n",
      "4 3 2 1 \n",
      "3 2 1 \n",
      "2 1 \n",
      "1 \n"
     ]
    }
   ],
   "source": [
    "for i in range(5, 0, -1):\n",
    "    for j in range(i, 0, -1):\n",
    "        print(j, end=\" \")\n",
    "    print(\"\")"
   ]
  }
 ],
 "metadata": {
  "colab": {
   "provenance": []
  },
  "kernelspec": {
   "display_name": "Python 3 (ipykernel)",
   "language": "python",
   "name": "python3"
  },
  "language_info": {
   "codemirror_mode": {
    "name": "ipython",
    "version": 3
   },
   "file_extension": ".py",
   "mimetype": "text/x-python",
   "name": "python",
   "nbconvert_exporter": "python",
   "pygments_lexer": "ipython3",
   "version": "3.9.13"
  }
 },
 "nbformat": 4,
 "nbformat_minor": 5
}
