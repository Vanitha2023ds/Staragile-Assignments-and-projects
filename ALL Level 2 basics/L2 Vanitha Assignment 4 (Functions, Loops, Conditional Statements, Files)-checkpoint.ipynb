{
 "cells": [
  {
   "cell_type": "markdown",
   "id": "4f1596de",
   "metadata": {
    "id": "4f1596de"
   },
   "source": [
    "# Functions\n",
    "- Write solution of each question in the cell given below the corresponsing question.\n",
    "- Function taking input refers to input as a parameter / argument being passed."
   ]
  },
  {
   "cell_type": "markdown",
   "id": "6f0d9ac3",
   "metadata": {
    "id": "6f0d9ac3"
   },
   "source": [
    "#### 1. Create a function that takes a list of numbers as input and returns the median."
   ]
  },
  {
   "cell_type": "code",
   "execution_count": 2,
   "id": "0a090145",
   "metadata": {
    "id": "0a090145"
   },
   "outputs": [
    {
     "name": "stdout",
     "output_type": "stream",
     "text": [
      "25\n",
      "(28+3j)\n"
     ]
    }
   ],
   "source": [
    "import numbers\n",
    "\n",
    "\n",
    "def number_sum(lst):\n",
    "    def get_numbers(l):\n",
    "        \n",
    "        for e in l:\n",
    "            if isinstance(e, numbers.Number):\n",
    "                yield e\n",
    "            elif isinstance(e, (tuple, list)):\n",
    "                yield from get_numbers(e)\n",
    "\n",
    "    return sum(get_numbers(lst))\n",
    "\n",
    "\n",
    "x1 = [1, 3, 5, 7, 9]\n",
    "x2 = [\"abc\", [3, 5], 3.5, 2 + 3j, 4.5, 10]\n",
    "\n",
    "print(number_sum(x1))\n",
    "print(number_sum(x2))\n"
   ]
  },
  {
   "cell_type": "markdown",
   "id": "18a107c4",
   "metadata": {
    "id": "18a107c4"
   },
   "source": [
    "#### 2. Create a function that takes a list of numbers as input and returns the mean."
   ]
  },
  {
   "cell_type": "code",
   "execution_count": 1,
   "id": "Vy8v3p_hIgsc",
   "metadata": {
    "id": "Vy8v3p_hIgsc"
   },
   "outputs": [
    {
     "name": "stdout",
     "output_type": "stream",
     "text": [
      "28\n"
     ]
    }
   ],
   "source": [
    "def mean(unique_list):\n",
    "    convert = sum(unique_list)\n",
    "    return convert\n",
    "uni = mean([1,2,3,4,5,6,7])\n",
    "print(uni)\n",
    "    # It converts your original list into a set (with only unique values) and converts back into a list and add all in the list"
   ]
  },
  {
   "cell_type": "markdown",
   "id": "34df49cf",
   "metadata": {
    "id": "34df49cf"
   },
   "source": [
    "#### 3. Create a function that takes a list of numbers as input and returns the standard deviation."
   ]
  },
  {
   "cell_type": "code",
   "execution_count": 2,
   "id": "65b51c71",
   "metadata": {},
   "outputs": [
    {
     "data": {
      "text/plain": [
       "10"
      ]
     },
     "execution_count": 2,
     "metadata": {},
     "output_type": "execute_result"
    }
   ],
   "source": [
    "def total(lst):\n",
    "    accum=0\n",
    "    for x in lst:\n",
    "        accum=accum+x\n",
    "    return accum\n",
    "lst=[1,2,3,4]\n",
    "total(lst)"
   ]
  },
  {
   "cell_type": "code",
   "execution_count": 6,
   "id": "bfacd616",
   "metadata": {},
   "outputs": [
    {
     "data": {
      "text/plain": [
       "6"
      ]
     },
     "execution_count": 6,
     "metadata": {},
     "output_type": "execute_result"
    }
   ],
   "source": [
    "def addit(x):\n",
    "    y = x+5\n",
    "    return y\n",
    "\n",
    "def mult(z):\n",
    "    q = z * addit(z)\n",
    "    return q\n",
    "count(x)"
   ]
  },
  {
   "cell_type": "code",
   "execution_count": 8,
   "id": "261f885c",
   "metadata": {},
   "outputs": [
    {
     "name": "stdout",
     "output_type": "stream",
     "text": [
      "8.5\n"
     ]
    }
   ],
   "source": [
    "def divide(x):\n",
    "    return x/2\n",
    "    \n",
    "def sum(y):\n",
    "    return divide(y) +6\n",
    "y = 5\n",
    "x = 1\n",
    "print(sum(y))"
   ]
  },
  {
   "cell_type": "markdown",
   "id": "9cc39352",
   "metadata": {
    "id": "9cc39352"
   },
   "source": [
    "#### 4. Create a function that takes a number as input and return True if the number is prime , False if not."
   ]
  },
  {
   "cell_type": "code",
   "execution_count": 10,
   "id": "722fc2fa",
   "metadata": {
    "id": "722fc2fa"
   },
   "outputs": [
    {
     "name": "stdout",
     "output_type": "stream",
     "text": [
      "True\n"
     ]
    }
   ],
   "source": [
    "def function(num): #Create a function that takes a number as input\n",
    "    if(num<=1):\n",
    "        return False\n",
    "    elif(num==2):\n",
    "        return True # input and return True\n",
    "    else:\n",
    "        for i in range(2,num):\n",
    "            if(num%i==0):\n",
    "                return False\n",
    "            \n",
    "        return True # True if the number is prime\n",
    "print(function(7))"
   ]
  },
  {
   "cell_type": "code",
   "execution_count": 13,
   "id": "a1ad8f82",
   "metadata": {},
   "outputs": [
    {
     "name": "stdout",
     "output_type": "stream",
     "text": [
      "False\n"
     ]
    }
   ],
   "source": [
    "def function(num): #Create a function that takes a number as input\n",
    "    if(num<=1):\n",
    "        return False\n",
    "    elif(num==2):\n",
    "        return True # input and return True/ false\n",
    "    else:\n",
    "        for i in range(2,num):\n",
    "            if(num%i==0):\n",
    "                return False\n",
    "            \n",
    "        return True # true if the number is prime, False if not prime\n",
    "print(function(22))"
   ]
  },
  {
   "cell_type": "markdown",
   "id": "f25ff556",
   "metadata": {
    "id": "4029f3a8"
   },
   "source": [
    "#### 5. Create a function that takes a list of numbers as input and returns the variance."
   ]
  },
  {
   "cell_type": "code",
   "execution_count": 21,
   "id": "83d19248",
   "metadata": {
    "id": "83d19248"
   },
   "outputs": [
    {
     "name": "stdout",
     "output_type": "stream",
     "text": [
      "list of numbers :[1, 2, 3, 4, 5, 6, 7, 8]\n",
      "List returns the variance is : 6.0\n"
     ]
    }
   ],
   "source": [
    "import statistics\n",
    "\n",
    "list_of_numbers = [1,2,3,4,5,6,7,8]\n",
    "print(\"list of numbers :\" + str(list_of_numbers)) # just print this list as it is, takes a list of numbers\n",
    "\n",
    "note = statistics.variance(list_of_numbers) # calculate  input and returns the variance\n",
    "print(\"List returns the variance is : \" + str(note)) # centre of the distribution measured"
   ]
  },
  {
   "cell_type": "markdown",
   "id": "7acad1bf",
   "metadata": {
    "id": "7acad1bf"
   },
   "source": [
    "#### 6. Create a function that takes a number as input and returns the factorial."
   ]
  },
  {
   "cell_type": "code",
   "execution_count": 23,
   "id": "f7c0877a",
   "metadata": {
    "id": "f7c0877a"
   },
   "outputs": [
    {
     "name": "stdout",
     "output_type": "stream",
     "text": [
      "Enter value for number 7\n",
      "loop\n",
      "The Factorial of number7 is 5040\n"
     ]
    }
   ],
   "source": [
    "# Factorial the number is multiplied with all the intergers that lie between 1 and the number itself\n",
    "\n",
    "number = int(input(\"Enter value for number\"))\n",
    "if number ==0:\n",
    "    print(\"Factorial of zero is 1\")\n",
    "elif number <0:\n",
    "    print(\"Factorial cannot be computed for less than zero\")\n",
    "else:\n",
    "    print(\"loop\")\n",
    "    fact=1\n",
    "for i in range(1,number+1):\n",
    "        fact*=i\n",
    "print(\"The Factorial of number{0} is {1}\".format(number,fact))\n",
    "# answer for the input 7 is 7*6*5*4*3*2*1 = 5040 "
   ]
  },
  {
   "cell_type": "markdown",
   "id": "b1e46b1f",
   "metadata": {
    "id": "b1e46b1f"
   },
   "source": [
    "#### 7. Create a function that takes two lists of same length as input and returns a list consisting of larger element at each position after comparing the corresponding elements in the given lists."
   ]
  },
  {
   "cell_type": "code",
   "execution_count": 5,
   "id": "94375a71",
   "metadata": {},
   "outputs": [
    {
     "name": "stdout",
     "output_type": "stream",
     "text": [
      "[1, 3, 5, 11, 22, 33]\n",
      "[2, 4, 6, 44, 55, 66]\n"
     ]
    }
   ],
   "source": [
    "\n",
    "lst1 = [1,11,3,22,5,33]\n",
    "lst2 = [2,44,4,55,6,66]\n",
    "\n",
    "lst1_first = sorted(lst1)\n",
    "lst2_second = sorted(lst2)\n",
    "\n",
    "print(lst1_first)\n",
    "print(lst2_second)\n"
   ]
  },
  {
   "cell_type": "code",
   "execution_count": 33,
   "id": "ec1c9d45",
   "metadata": {},
   "outputs": [
    {
     "name": "stdout",
     "output_type": "stream",
     "text": [
      "984\n"
     ]
    }
   ],
   "source": [
    "# other way\n",
    "import random as r\n",
    "lst = []\n",
    "\n",
    "for i in range(100):\n",
    "    num = r.randint(1, 1000)\n",
    "    lst.append(num)\n",
    "\n",
    "def largest(lst):\n",
    "    \n",
    "    best_value = None\n",
    "    for current_value in lst:\n",
    "        if best_value is None or best_value < current_value:\n",
    "            best_value = current_value\n",
    "    return best_value\n",
    "\n",
    "print(largest(lst))"
   ]
  },
  {
   "cell_type": "markdown",
   "id": "f397889f",
   "metadata": {
    "id": "f397889f"
   },
   "source": [
    "#### 8. Create a function that takes a string and returns a string after joining the words that are having even lengths."
   ]
  },
  {
   "cell_type": "code",
   "execution_count": 47,
   "id": "ebf96e1c",
   "metadata": {
    "id": "ebf96e1c"
   },
   "outputs": [
    {
     "name": "stdout",
     "output_type": "stream",
     "text": [
      "Create - This is Even sentence\n",
      "function - This is Even sentence\n",
      "that - This is Even sentence\n",
      "string - This is Even sentence\n",
      "string - This is Even sentence\n",
      "that - This is Even sentence\n",
      "having - This is Even sentence\n",
      "even - This is Even sentence\n"
     ]
    }
   ],
   "source": [
    "# Applied split and according to length of the sentence by using %2 which can be div by 2 considered to know only even sentence\n",
    "string = 'Create a function that takes a string and returns a string after joining the words that are having even lengths'\n",
    "s=string.split()\n",
    "for i in s:\n",
    "    if len(i)%2==0:\n",
    "        print(i,\"- This is Even sentence\") #  in above sentence how many only even."
   ]
  },
  {
   "cell_type": "markdown",
   "id": "36c6aae1",
   "metadata": {
    "id": "36c6aae1"
   },
   "source": [
    "#### 9. Create a function that takes a string and a character as input and returns a list after splitting the string based on the given character. By Default split based on whitespace. (Create a function similar to the inbuilt split function without using it)."
   ]
  },
  {
   "cell_type": "code",
   "execution_count": 56,
   "id": "869d7244",
   "metadata": {
    "id": "869d7244"
   },
   "outputs": [
    {
     "name": "stdout",
     "output_type": "stream",
     "text": [
      "['ram', 'sham', 'sam']\n",
      "['ram sham sam']\n"
     ]
    }
   ],
   "source": [
    "string = \"ram sham sam\" #Create a function that takes a string\n",
    "print(string.split()) #list after splitting the string\n",
    "print(string.split(\" \",0))"
   ]
  },
  {
   "cell_type": "code",
   "execution_count": 57,
   "id": "f608201c",
   "metadata": {},
   "outputs": [
    {
     "name": "stdout",
     "output_type": "stream",
     "text": [
      "['ram', 'sham', 'sam']\n",
      "['ram', '\\nsham \\nsam']\n"
     ]
    }
   ],
   "source": [
    "string = \"ram \\nsham \\nsam\" #split based on whitespace.\n",
    "print(string.split())\n",
    "print(string.split(\" \",1))"
   ]
  },
  {
   "cell_type": "markdown",
   "id": "b8c01afd",
   "metadata": {
    "id": "b8c01afd"
   },
   "source": [
    "#### 10. Create a function which takes a 2-D list of shape m * n where m is number of elements in the original list and where each element is a list having n integers (A list of m lists having n numbers each, a matrix). The function returns the largest element in the given list."
   ]
  },
  {
   "cell_type": "code",
   "execution_count": 62,
   "id": "adda1366",
   "metadata": {
    "id": "adda1366"
   },
   "outputs": [
    {
     "name": "stdout",
     "output_type": "stream",
     "text": [
      "[[1, 11, 3, 22, 5, 33], [2, 44, 4, 55, 6, 66], [8, 100, 9, 155, 7, 166]]\n",
      "166\n"
     ]
    }
   ],
   "source": [
    "m = [[1,11,3,22,5,33],\n",
    "        [2,44,4,55,6,66],\n",
    "        [8,100,9,155,7,166]]\n",
    "        \n",
    "print(m)\n",
    "\n",
    "max=0\n",
    "for i in m:\n",
    "    for j in i:\n",
    "        if(j>max):\n",
    "            max=j\n",
    "        else:\n",
    "            continue\n",
    "print(max)            "
   ]
  },
  {
   "cell_type": "markdown",
   "id": "d2a2a668",
   "metadata": {
    "id": "d2a2a668"
   },
   "source": [
    "#### 11. Create a function which takes a 2-D list of shape m * n where m is number of elements in the original list and where each element is a list having n integers (A list of m lists having n numbers each). The function also takes a number x as input and returns True is x is in the given 2D list."
   ]
  },
  {
   "cell_type": "code",
   "execution_count": 12,
   "id": "585d5e4b",
   "metadata": {
    "id": "585d5e4b"
   },
   "outputs": [
    {
     "name": "stdout",
     "output_type": "stream",
     "text": [
      "\n",
      " Nope! 15 is NOT a factor of 3\n"
     ]
    }
   ],
   "source": [
    "def is_multiple(n,m):\n",
    "    \"\"\" Checks if n is a factor of m where n <= m \"\"\"\n",
    "    try:\n",
    "        if m%n == 0:\n",
    "            print (\"Yes! {0} is a factor of {1}\".format(n,m))\n",
    "        else:\n",
    "            print(\"\\n Nope! {0} is NOT a factor of {1}\".format(n,m))\n",
    "    except Exception as excpt:\n",
    "        print (\"Error!\", excpt)\n",
    "    return\n",
    "        \n",
    "\n",
    "is_multiple(15,3)"
   ]
  },
  {
   "cell_type": "code",
   "execution_count": 20,
   "id": "bfc75ad4",
   "metadata": {},
   "outputs": [
    {
     "name": "stdout",
     "output_type": "stream",
     "text": [
      "Enter a list of any input > 15\n",
      "1 5\n"
     ]
    }
   ],
   "source": [
    "def minimaxi():\n",
    "    \"\"\" Returns the minimum and maximum from the list \"\"\"\n",
    "    \n",
    "    try:\n",
    "        data = input(\"Enter a list of any input > \")\n",
    "        smally = biggy = data[0]\n",
    "        for n in data:\n",
    "            if n >= biggy:\n",
    "                biggy = n\n",
    "            elif n <= smally:\n",
    "                smally = n\n",
    "            else: pass\n",
    "        print (smally,biggy)\n",
    "    except Exception as excpt:\n",
    "        print (\"\\nBad input found. \", excpt)\n",
    "    return\n",
    "        \n",
    "minimaxi()"
   ]
  },
  {
   "cell_type": "code",
   "execution_count": 22,
   "id": "7e0897dd",
   "metadata": {},
   "outputs": [
    {
     "name": "stdout",
     "output_type": "stream",
     "text": [
      "Enter a number > 15\n",
      "input value must be integer\n"
     ]
    }
   ],
   "source": [
    "def sumsquare():\n",
    "    ''' Returns sum of square of all positive numbers less than n '''\n",
    "    sqrsum = 0\n",
    "    try:\n",
    "        inpdata = input(\"Enter a number > \")\n",
    "        if not isinstance(inpdata,int):\n",
    "            print(\"input value must be integer\")\n",
    "        elif inpdata <= 2:\n",
    "            print (\"Sum of square is 1\")\n",
    "        else:\n",
    "            for k in range(inpdata):\n",
    "                sqrsum += k**2\n",
    "            print(\"\\n\\nSum of square of element < %d is %d \" % (inpdata,sqrsum))\n",
    "    except Exception as excpt:\n",
    "        print (\"Yikees! \", excpt)\n",
    "    return\n",
    "\n",
    "\n",
    "\n",
    "sumsquare()"
   ]
  },
  {
   "cell_type": "markdown",
   "id": "0d889f51",
   "metadata": {
    "id": "0d889f51"
   },
   "source": [
    "#### 12. Create a function which takes a 2-D list of shape m * n where m is number of elements in the original list and where each element is a list having n integers (A list of m lists having n numbers each). The function returns the sum of all rows in the matrix (2 D list)."
   ]
  },
  {
   "cell_type": "code",
   "execution_count": 70,
   "id": "56d82617",
   "metadata": {
    "id": "56d82617"
   },
   "outputs": [
    {
     "name": "stdout",
     "output_type": "stream",
     "text": [
      "Sum of 1row: 21\n",
      "Sum of 2row: 15\n",
      "Sum of 3row: 13\n",
      "Sum of 1cloum: 13\n",
      "Sum of 2cloum: 21\n",
      "Sum of 3cloum: 15\n"
     ]
    }
   ],
   "source": [
    "m = [[6,7,8],\n",
    "    [4,5,6],\n",
    "    [3,9,1]]\n",
    "\n",
    "rows = len(m)\n",
    "cloum = len(m[0])\n",
    "\n",
    "for i in range(0, rows):\n",
    "    sum = 0\n",
    "    for j in range(0, cloum):\n",
    "        sum = sum + m[i][j]\n",
    "    print(\"Sum of \"+ str(i+1)+\"row: \" + str(sum))\n",
    "    \n",
    "for i in range(0, rows):\n",
    "    sumcloum=0\n",
    "    for j in range(0, cloum):\n",
    "        sumcloum = sumcloum + m[j][i]\n",
    "    print(\"Sum of \"+ str(i+1)+\"cloum: \" + str(sumcloum))"
   ]
  },
  {
   "cell_type": "markdown",
   "id": "f89438e1",
   "metadata": {
    "id": "f89438e1"
   },
   "source": [
    "#### 13. Create a function which takes a 2-D list of shape m * n where m is number of elements in the original list and where each element is a list having n integers (A list of m lists having n numbers each). The function also a takes a number x as input and returns a list of all consecutive pairs having sum eaqqual to x."
   ]
  },
  {
   "cell_type": "code",
   "execution_count": 4,
   "id": "c857dfcd",
   "metadata": {
    "id": "c857dfcd"
   },
   "outputs": [
    {
     "name": "stdout",
     "output_type": "stream",
     "text": [
      "[[6, 7, 8], [4, 5, 6]]\n"
     ]
    },
    {
     "data": {
      "text/plain": [
       "2"
      ]
     },
     "execution_count": 4,
     "metadata": {},
     "output_type": "execute_result"
    }
   ],
   "source": [
    "m = [[6,7,8],\n",
    "    [4,5,6]]\n",
    "\n",
    "rows = len(m)\n",
    "cloum = len(m[0])\n",
    "\n",
    "print(m)\n",
    "len(m)"
   ]
  },
  {
   "cell_type": "markdown",
   "id": "976248d9",
   "metadata": {
    "id": "976248d9"
   },
   "source": [
    "#### 14. Create a function that takes a list and a number as input and returns True ifthe number is present in the list otherwise false using Binary search algorithm. (Read about Binary Search)."
   ]
  },
  {
   "cell_type": "code",
   "execution_count": 37,
   "id": "b348dc02",
   "metadata": {},
   "outputs": [
    {
     "name": "stdout",
     "output_type": "stream",
     "text": [
      "4\n",
      "[55, 99, 78, 20]\n",
      "7\n",
      "[55, 2, 3, 99, 78, 20, 1]\n",
      "False\n",
      "False\n"
     ]
    }
   ],
   "source": [
    "def values_greater_than_second(list):\n",
    "    if len(list)<2:\n",
    "        return False\n",
    "    newList = []\n",
    "    # greaterThan = list[1]\n",
    "    for val in list:\n",
    "        if val>list[1]:\n",
    "            newList.append(val)\n",
    "    print(len(newList))    \n",
    "    return newList\n",
    "print(values_greater_than_second([55,6,2,3,99,78,20,1]))\n",
    "print(values_greater_than_second([55,0,2,3,99,78,20,1]))\n",
    "print(values_greater_than_second([4]))\n",
    "print(values_greater_than_second([]))\n"
   ]
  },
  {
   "cell_type": "markdown",
   "id": "f12cc8c9",
   "metadata": {
    "id": "f12cc8c9"
   },
   "source": [
    "#### 15. Create a function which takes a txt filename as input and returns the number of words in that file."
   ]
  },
  {
   "cell_type": "code",
   "execution_count": 64,
   "id": "60ab8b77",
   "metadata": {},
   "outputs": [],
   "source": [
    "myfile = open(\"C:\\\\Users\\\\Admin\\\\Documents\\\\hobby.txt.txt\") "
   ]
  },
  {
   "cell_type": "code",
   "execution_count": 63,
   "id": "585cb090",
   "metadata": {},
   "outputs": [
    {
     "data": {
      "text/plain": [
       "'C:\\\\Users\\\\Admin\\\\Downloads'"
      ]
     },
     "execution_count": 63,
     "metadata": {},
     "output_type": "execute_result"
    }
   ],
   "source": [
    "pwd() # this is path names"
   ]
  },
  {
   "cell_type": "code",
   "execution_count": 77,
   "id": "e981903c",
   "metadata": {},
   "outputs": [
    {
     "name": "stdout",
     "output_type": "stream",
     "text": [
      "1.Reading books\n",
      "2.Listening songs\n",
      "3.Painting\n",
      "4.Dance\n",
      "5.Collecting coins\n",
      "False\n"
     ]
    },
    {
     "data": {
      "text/plain": [
       "38"
      ]
     },
     "execution_count": 77,
     "metadata": {},
     "output_type": "execute_result"
    }
   ],
   "source": [
    "filename = \"C:\\\\Users\\\\Admin\\\\Documents\\\\hobby.txt.txt\"\n",
    "file = open(filename, mode = \"r\")\n",
    "text = file.read()\n",
    "print(text)\n",
    "print(file.closed) # returns boolean value; indicates that the file is closed or not.\n",
    "file.close() # closes the file\n",
    "len(filename)"
   ]
  },
  {
   "cell_type": "markdown",
   "id": "b2666c95",
   "metadata": {
    "id": "b2666c95"
   },
   "source": [
    "#### 16. Create a function which takes a txt filename as input and returns the number of line in the file."
   ]
  },
  {
   "cell_type": "code",
   "execution_count": 74,
   "id": "5ff27d42",
   "metadata": {
    "id": "5ff27d42"
   },
   "outputs": [
    {
     "name": "stdout",
     "output_type": "stream",
     "text": [
      "1.Reading books\n",
      "\n",
      "2.Listening songs\n",
      "\n",
      "3.Painting\n",
      "\n"
     ]
    }
   ],
   "source": [
    "# Read & print the first 3 lines\n",
    "with open(\"C:\\\\Users\\\\Admin\\\\Documents\\\\hobby.txt.txt\")  as file:\n",
    "    print(file.readline())\n",
    "    print(file.readline())\n",
    "    print(file.readline())"
   ]
  },
  {
   "cell_type": "markdown",
   "id": "6722fb75",
   "metadata": {
    "id": "6722fb75"
   },
   "source": [
    "#### 17. Create a function that takes two txt filenames and returns a file after merging the cintents of two given files. (Print the merged content and then return the filename, content of original files should be unchanged)."
   ]
  },
  {
   "cell_type": "code",
   "execution_count": 78,
   "id": "86a4b436",
   "metadata": {
    "id": "86a4b436"
   },
   "outputs": [
    {
     "name": "stdout",
     "output_type": "stream",
     "text": [
      "974\n"
     ]
    }
   ],
   "source": [
    "import random as r\n",
    "lst = []\n",
    "\n",
    "for i in range(100):\n",
    "    num = r.randint(1, 1000)\n",
    "    lst.append(num)\n",
    "\n",
    "def largest(lst):\n",
    "    \"\"\"Returns the maximum value from the list.\"\"\"\n",
    "    # your code here\n",
    "    best_value = None\n",
    "    for current_value in lst:\n",
    "        if best_value is None or best_value < current_value:\n",
    "            best_value = current_value\n",
    "    return best_value\n",
    "\n",
    "print(largest(lst))"
   ]
  },
  {
   "cell_type": "markdown",
   "id": "faf26668",
   "metadata": {
    "id": "faf26668"
   },
   "source": [
    "#### 18. Write a program that takes a string as input and returns a list of all words having even length in that string (Using Map/Filter and Lambda expression)."
   ]
  },
  {
   "cell_type": "code",
   "execution_count": 79,
   "id": "955cd692",
   "metadata": {
    "id": "955cd692"
   },
   "outputs": [],
   "source": [
    "def word_mixer(word_list):\n",
    "    new_words = []\n",
    "    word_list.sort()\n",
    "    while len(word_list) > 5:\n",
    "        new_words.append(word_list.pop(4))\n",
    "        new_words.append(word_list.pop(0))\n",
    "        new_words.append(word_list.pop())\n",
    "    return print (new_words)"
   ]
  },
  {
   "cell_type": "code",
   "execution_count": 80,
   "id": "A1z_AdWcyKJi",
   "metadata": {
    "id": "A1z_AdWcyKJi"
   },
   "outputs": [
    {
     "name": "stdout",
     "output_type": "stream",
     "text": [
      "enter a saying or poem:enter a poem\n",
      "[]\n"
     ]
    }
   ],
   "source": [
    "poem = input(\"enter a saying or poem:\")\n",
    "words_in_poem = poem.split(' ')\n",
    "len_of_words_in_poem = len(words_in_poem)\n",
    "for index in range(0, len_of_words_in_poem):\n",
    "    if len(words_in_poem[index]) <= 3:\n",
    "        words_in_poem[index].lower()\n",
    "    if len(words_in_poem[index]) >= 7:\n",
    "        words_in_poem[index].upper()\n",
    "word_mixer(words_in_poem)"
   ]
  }
 ],
 "metadata": {
  "colab": {
   "provenance": []
  },
  "kernelspec": {
   "display_name": "Python 3 (ipykernel)",
   "language": "python",
   "name": "python3"
  },
  "language_info": {
   "codemirror_mode": {
    "name": "ipython",
    "version": 3
   },
   "file_extension": ".py",
   "mimetype": "text/x-python",
   "name": "python",
   "nbconvert_exporter": "python",
   "pygments_lexer": "ipython3",
   "version": "3.9.13"
  }
 },
 "nbformat": 4,
 "nbformat_minor": 5
}
