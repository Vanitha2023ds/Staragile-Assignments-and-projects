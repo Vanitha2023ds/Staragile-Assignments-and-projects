{
 "cells": [
  {
   "cell_type": "markdown",
   "id": "8bcc8778",
   "metadata": {
    "id": "8bcc8778"
   },
   "source": [
    "#### Create the classes and functions as per following description: \n",
    "- Create a class Person : \n",
    "   - The attributes of the class are name, age, city\n",
    "   - The functions of the class are :\n",
    "       - __init__(self, name, age, city)\n",
    "       - show_details(self)\n",
    "       - update_city(self, new_city)\n",
    "       \n",
    "- Create a class Employee which inherits the class Person:\n",
    "    - The attributes of the class are name , age, city, salary, position, dept\n",
    "    - The functions of the class are : \n",
    "        - __init__(self, name , age, city, salary, position, dept)\n",
    "        - show_details(self)\n",
    "        - update_salary(self, new_salary)\n",
    "        - update_dept(self, new_dept)\n",
    "        - update_position(self, new_pos)\n",
    "        - inc_salary(self)\n",
    "        - dec_salary\n",
    "        \n",
    "- Make use of the super function when necessary\n",
    "- Create objects and Demonstrate working of all the functions"
   ]
  },
  {
   "cell_type": "code",
   "execution_count": 18,
   "id": "ef839681",
   "metadata": {
    "id": "ef839681"
   },
   "outputs": [],
   "source": [
    "class Person:\n",
    "\n",
    "    def __init__(self, name, age, city):\n",
    "        self.name = name\n",
    "        self.age = age\n",
    "        self.city = city\n",
    "        \n",
    "    def show_details(self):\n",
    "        print(\"Hello, my name is \", self.name)\n",
    "        print(\"My age is \",   self.age)\n",
    "        print(\"I reside in \", self.city)\n",
    "\n",
    "    def UpdateCity(self, new_city):\n",
    "        self.city = new_city"
   ]
  },
  {
   "cell_type": "code",
   "execution_count": 19,
   "id": "af055a49",
   "metadata": {},
   "outputs": [
    {
     "name": "stdout",
     "output_type": "stream",
     "text": [
      "Hello, my name is  Vanitha\n",
      "My age is  22\n",
      "I reside in  Bangalore\n"
     ]
    }
   ],
   "source": [
    "a = Person(\"Vanitha\", 22, \"Bangalore\")\n",
    "a.name\n",
    "a.show_details()"
   ]
  },
  {
   "cell_type": "code",
   "execution_count": 16,
   "id": "e70f6acc",
   "metadata": {},
   "outputs": [
    {
     "name": "stdout",
     "output_type": "stream",
     "text": [
      "Vanitha\n",
      "Vanitha@gmail.com\n",
      "22\n"
     ]
    }
   ],
   "source": [
    "import datetime\n",
    "class Person:\n",
    "\n",
    "    def __init__(self, name, surname, birthdate, address, telephone, email):\n",
    "        self.name = name\n",
    "        self.surname = surname\n",
    "        self.birthdate = birthdate\n",
    "\n",
    "        self.address = address\n",
    "        self.telephone = telephone\n",
    "        self.email = email\n",
    "\n",
    "    def age(self):\n",
    "        today = datetime.date.today()\n",
    "        age = today.year - self.birthdate.year\n",
    "\n",
    "        if today < datetime.date(today.year, self.birthdate.month, self.birthdate.day):\n",
    "            age -= 1\n",
    "\n",
    "        return age\n",
    "\n",
    "person = Person(\n",
    "    \"Vanitha\",\n",
    "    \"BM\",\n",
    "    datetime.date(2000, 7, 23), # year, month, day\n",
    "    \"No. 12 Short Street, Greenville\",\n",
    "    \"555 456 0987\",\n",
    "    \"Vanitha@gmail.com\"\n",
    ")\n",
    "\n",
    "print(person.name)\n",
    "print(person.email)\n",
    "print(person.age())"
   ]
  },
  {
   "cell_type": "code",
   "execution_count": 13,
   "id": "e0db9b04",
   "metadata": {},
   "outputs": [
    {
     "name": "stdout",
     "output_type": "stream",
     "text": [
      "Id\t\t: 1\n",
      "Name\t: Ram\n",
      "Gender\t: male\n",
      "City\t: Bangalore\n",
      "Salary\t: 70000\n"
     ]
    }
   ],
   "source": [
    "class Employee:\n",
    "    __id=0\n",
    "    __name=\"\"\n",
    "    __gender=\"\"\n",
    "    __city=\"\"\n",
    "    __salary=0\n",
    "# function to set data \n",
    "    def setData(self,id,name,gender,city,salary):\n",
    "        self.__id=id\n",
    "        self.__name = name\n",
    "        self.__gender = gender\n",
    "        self.__city = city\n",
    "        self.__salary = salary\n",
    "    def showData(self):\n",
    "        print(\"Id\\t\\t:\",self.__id)\n",
    "        print(\"Name\\t:\", self.__name)\n",
    "        print(\"Gender\\t:\", self.__gender)\n",
    "        print(\"City\\t:\", self.__city)\n",
    "        print(\"Salary\\t:\", self.__salary)\n",
    "\n",
    "def main():\n",
    "    #Employee Object\n",
    "    emp=Employee()\n",
    "    emp.setData(1,'Ram','male','Bangalore',70000)\n",
    "    emp.showData()\n",
    "\n",
    "if __name__==\"__main__\":\n",
    "    main()"
   ]
  },
  {
   "cell_type": "code",
   "execution_count": 12,
   "id": "6ae8b438",
   "metadata": {},
   "outputs": [
    {
     "name": "stdout",
     "output_type": "stream",
     "text": [
      "Enter Id\t:1\n",
      "Enter Name\t:Ram\n",
      "Enter Gender:Male\n",
      "Enter City\t:Bangalore\n",
      "Enter Salary:1000\n",
      "Id\t\t: 1\n",
      "Name\t: Ram\n",
      "Gender\t: Male\n",
      "City\t: Bangalore\n",
      "Salary\t: 1000\n"
     ]
    }
   ],
   "source": [
    "class Employee:\n",
    "    id=0\n",
    "    name=\"\"\n",
    "    gender=\"\"\n",
    "    city=\"\"\n",
    "    salary=0\n",
    "    \n",
    "\n",
    "    def setData(self):\n",
    "        self.__id=int(input(\"Enter Id\\t:\"))\n",
    "        self.__name = input(\"Enter Name\\t:\")\n",
    "        self.__gender = input(\"Enter Gender:\")\n",
    "        self.__city = input(\"Enter City\\t:\")\n",
    "        self.__salary = int(input(\"Enter Salary:\"))\n",
    "    def showData(self):\n",
    "        print(\"Id\\t\\t:\",self.__id)\n",
    "        print(\"Name\\t:\", self.__name)\n",
    "        print(\"Gender\\t:\", self.__gender)\n",
    "        print(\"City\\t:\", self.__city)\n",
    "        print(\"Salary\\t:\", self.__salary)\n",
    "\n",
    "\n",
    "def main():\n",
    "    #Employee Object\n",
    "    emp=Employee()\n",
    "    emp.setData()\n",
    "    emp.showData()\n",
    "\n",
    "if __name__==\"__main__\":\n",
    "    main()"
   ]
  },
  {
   "cell_type": "code",
   "execution_count": null,
   "id": "03596e69",
   "metadata": {},
   "outputs": [],
   "source": []
  }
 ],
 "metadata": {
  "colab": {
   "provenance": []
  },
  "kernelspec": {
   "display_name": "Python 3 (ipykernel)",
   "language": "python",
   "name": "python3"
  },
  "language_info": {
   "codemirror_mode": {
    "name": "ipython",
    "version": 3
   },
   "file_extension": ".py",
   "mimetype": "text/x-python",
   "name": "python",
   "nbconvert_exporter": "python",
   "pygments_lexer": "ipython3",
   "version": "3.9.13"
  }
 },
 "nbformat": 4,
 "nbformat_minor": 5
}
