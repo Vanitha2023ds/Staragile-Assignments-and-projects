{
 "cells": [
  {
   "cell_type": "markdown",
   "id": "9cacd9e4",
   "metadata": {
    "id": "9cacd9e4"
   },
   "source": [
    "# Data Types\n",
    "- Write solution of each question in the cell given below the corresponsing question."
   ]
  },
  {
   "cell_type": "markdown",
   "id": "a36a3683",
   "metadata": {
    "id": "a36a3683"
   },
   "source": [
    "#### 1. Write a program to take principal amount, rate and interest as input and calculate simple interest."
   ]
  },
  {
   "cell_type": "code",
   "execution_count": 1,
   "id": "z6EiFHNI8sCg",
   "metadata": {
    "id": "z6EiFHNI8sCg"
   },
   "outputs": [
    {
     "name": "stdout",
     "output_type": "stream",
     "text": [
      "Enter the amount : 7000\n",
      "Enter the rate of interest : 10\n",
      "Enter the year for the interest : 3\n",
      "The simple interest =  2100.0\n"
     ]
    }
   ],
   "source": [
    "amount = int(input('Enter the amount : '))                   \n",
    "rate = int(input('Enter the rate of interest : '))           \n",
    "time = int(input('Enter the year for the interest : '))\n",
    "S = (amount*rate*time)/100                                  \n",
    "\n",
    "print('The simple interest = ', S)"
   ]
  },
  {
   "cell_type": "code",
   "execution_count": 2,
   "id": "1fd30b93",
   "metadata": {},
   "outputs": [
    {
     "name": "stdout",
     "output_type": "stream",
     "text": [
      "enter principle amount 7000\n",
      "enter Rate 10\n",
      "enter number of years for interest 3\n",
      "SI= 2100.0\n"
     ]
    }
   ],
   "source": [
    "amount=int(input('enter principle amount '))\n",
    "\n",
    "rate=float(input('enter Rate '))/100\n",
    "interest=int(input('enter number of years for interest '))\n",
    "\n",
    "a=amount*rate*interest\n",
    "print(\"SI=\",a)\n"
   ]
  },
  {
   "cell_type": "markdown",
   "id": "3a9994e0",
   "metadata": {
    "id": "3a9994e0"
   },
   "source": [
    "#### 2. Write a program that takes a string as input and prints the number of words in the string."
   ]
  },
  {
   "cell_type": "code",
   "execution_count": 3,
   "id": "3lda8Tly8t4M",
   "metadata": {
    "id": "3lda8Tly8t4M"
   },
   "outputs": [
    {
     "name": "stdout",
     "output_type": "stream",
     "text": [
      "Enter the command : i love python\n",
      "Total number of words in the given string:  3\n"
     ]
    }
   ],
   "source": [
    "x = str(input(\"Enter the command : \"))                    \n",
    "Count = 0;  \n",
    "   \n",
    "for i in range(0, len(x)-1):                              \n",
    "\n",
    "    if(x[i] == ' ' and x[i+1].isalpha() and (i > 0)):     \n",
    "        Count = Count + 1;   \n",
    "Count = Count + 1;  \n",
    "    \n",
    "print(\"Total number of words in the given string: \",  str(Count))    "
   ]
  },
  {
   "cell_type": "code",
   "execution_count": 4,
   "id": "be82fc5a",
   "metadata": {},
   "outputs": [
    {
     "name": "stdout",
     "output_type": "stream",
     "text": [
      "enter a sentence: i love python\n",
      "total number of words in the sentence is  3\n"
     ]
    }
   ],
   "source": [
    "a=str(input('enter a sentence: '))\n",
    "b=a.split()\n",
    "print('total number of words in the sentence is ',len(b))"
   ]
  },
  {
   "cell_type": "markdown",
   "id": "8a8d5e27",
   "metadata": {
    "id": "8a8d5e27"
   },
   "source": [
    "#### 3. Write a program to take a list of numbers as input (in a single line) and print the sum, avg, max and min elements."
   ]
  },
  {
   "cell_type": "code",
   "execution_count": 7,
   "id": "0870140e",
   "metadata": {},
   "outputs": [
    {
     "name": "stdout",
     "output_type": "stream",
     "text": [
      "enter numbers :123\n",
      "the sum of the numbers is  6\n",
      "the max of the numbers is  3\n",
      "the min of the numbers is  1\n",
      "the average of the numbers is  2.0\n"
     ]
    }
   ],
   "source": [
    "x=list(input(\"enter numbers :\"))\n",
    "y=[]\n",
    "for i in x:\n",
    "  y.append(int(i))\n",
    "print(\"the sum of the numbers is \",sum(y))\n",
    "print(\"the max of the numbers is \",max(y))\n",
    "print(\"the min of the numbers is \",min(y))\n",
    "print(\"the average of the numbers is \",sum(y)/len(y))\n"
   ]
  },
  {
   "cell_type": "markdown",
   "id": "17dbd6e8",
   "metadata": {
    "id": "17dbd6e8"
   },
   "source": [
    "#### 4. Write a program to take the marks of 3 students in five subjects each as a list (one list for each input) as input and print the average score of each student.."
   ]
  },
  {
   "cell_type": "code",
   "execution_count": 12,
   "id": "Olics1_krMwN",
   "metadata": {
    "id": "Olics1_krMwN"
   },
   "outputs": [
    {
     "name": "stdout",
     "output_type": "stream",
     "text": [
      "enter marks scored by A in five subjects : 99 88 77 66 55\n",
      "enter marks scored by B in five subjects : 55 66 77 88 99\n",
      "enter marks scored by C in five subjects : 45 56 67 78 89\n",
      "Percentage scored by A is:  77.0\n",
      "Percentage scored by B is:  77.0\n",
      "Percentage scored by C is:  67.0\n"
     ]
    }
   ],
   "source": [
    "# MARKS Scord by A - 99 88 77 66 55\n",
    "# MARKS Scord by B - 55 66 77 88 99\n",
    "# MARKS Scord by B - 45 56 67 78 89\n",
    "A=[]\n",
    "B=[]\n",
    "C=[]\n",
    "a=input(\"enter marks scored by A in five subjects : \")\n",
    "b=a.split()\n",
    "for i in b:\n",
    "  A.append(int(i))\n",
    "c=input(\"enter marks scored by B in five subjects : \")\n",
    "d=c.split()\n",
    "for i in d:\n",
    "  B.append(int(i))\n",
    "e=input(\"enter marks scored by C in five subjects : \")\n",
    "f=e.split()\n",
    "for i in f:\n",
    "  C.append(int(i))\n",
    "\n",
    "print(\"Percentage scored by A is: \",sum(A)/5)\n",
    "print(\"Percentage scored by B is: \",sum(B)/5)\n",
    "print(\"Percentage scored by C is: \",sum(C)/5)"
   ]
  },
  {
   "cell_type": "markdown",
   "id": "39fb8526",
   "metadata": {
    "id": "39fb8526"
   },
   "source": [
    "#### 5. Write a program to take a list as input containing results of 10 coin tosses as 'H' or 'T'. Jon gets a point for each 'T' and Tom gets a point for each 'H'. print the points recieved by both."
   ]
  },
  {
   "cell_type": "code",
   "execution_count": 18,
   "id": "83ad7dc6",
   "metadata": {
    "id": "83ad7dc6"
   },
   "outputs": [
    {
     "name": "stdout",
     "output_type": "stream",
     "text": [
      "enter result of 10 coin tosses a A V v a\n",
      "Scored by jon:  3\n",
      "Scored by tom:  2\n"
     ]
    }
   ],
   "source": [
    "a=input('enter result of 10 coin tosses ')\n",
    "b=a.split()\n",
    "results=[]\n",
    "for i in b:\n",
    "  c=str(i)\n",
    "  results.append(c)\n",
    "\n",
    "b=[results.count('a'),results.count('A')]\n",
    "c=[results.count('v'), results.count('V')]\n",
    "\n",
    "print(\"Scored by jon: \",sum(b))\n",
    "print(\"Scored by tom: \",sum(c))"
   ]
  },
  {
   "cell_type": "markdown",
   "id": "4a6dc391",
   "metadata": {
    "id": "4a6dc391"
   },
   "source": [
    "#### 6. Take two numbers as input and print the result after swapping them. (Without using multiple assignment and any extra variable)."
   ]
  },
  {
   "cell_type": "code",
   "execution_count": 20,
   "id": "1bcd0fe3",
   "metadata": {
    "id": "1bcd0fe3"
   },
   "outputs": [
    {
     "name": "stdout",
     "output_type": "stream",
     "text": [
      "1st num : 55\n",
      "1st num : 66\n",
      "A = 55 and B = 66\n",
      "A=66 and B=55\n"
     ]
    }
   ],
   "source": [
    "a=int(input('1st num : '))\n",
    "b=int(input('1st num : '))\n",
    "print(\"A = {} and B = {}\".format(a, b))\n",
    "a=a+b\n",
    "b=a-b\n",
    "a=a-b\n",
    "print(\"A={} and B={}\".format(a,b))\n"
   ]
  },
  {
   "cell_type": "markdown",
   "id": "b0059e36",
   "metadata": {
    "id": "b0059e36"
   },
   "source": [
    "#### 7. Take a list as input in a single line containing 10 numbers as marks out of 100. The even positions in the list are marks of Tom and the odd positions are the marks of Jon. Calculate the average marks of both."
   ]
  },
  {
   "cell_type": "code",
   "execution_count": 21,
   "id": "ef40ed32",
   "metadata": {
    "id": "ef40ed32"
   },
   "outputs": [
    {
     "name": "stdout",
     "output_type": "stream",
     "text": [
      "Marks out of 100 : 50 60 70 80\n",
      "Average marks of tom is:  60.0\n",
      "Average marks of jon is:  30.0\n"
     ]
    }
   ],
   "source": [
    "a=input(\"Marks out of 100 : \")\n",
    "b=a.split()\n",
    "c=[]\n",
    "tom=[]\n",
    "jon=[]\n",
    "for i in b:\n",
    "  c.append(int(i))\n",
    "for i in range(0,len(c)):\n",
    "  if i%2==0:\n",
    "    tom.append(c[i])\n",
    "  if 1%2!=0:\n",
    "    jon.append(c[i])\n",
    "print(\"Average marks of tom is: \",sum(tom)/len(tom))\n",
    "print(\"Average marks of jon is: \",sum(tom)/len(jon))"
   ]
  },
  {
   "cell_type": "markdown",
   "id": "f07dab7c",
   "metadata": {
    "id": "f07dab7c"
   },
   "source": [
    "#### 8. Take a string and a character as input. Print the result having the character between each word of the given string."
   ]
  },
  {
   "cell_type": "code",
   "execution_count": 22,
   "id": "a85ca910",
   "metadata": {
    "colab": {
     "base_uri": "https://localhost:8080/"
    },
    "executionInfo": {
     "elapsed": 8,
     "status": "ok",
     "timestamp": 1675744131872,
     "user": {
      "displayName": "Star Agile",
      "userId": "05958537219244458985"
     },
     "user_tz": -330
    },
    "id": "a85ca910",
    "outputId": "4464ab37-ebb1-4fda-f2c9-204f3c416701"
   },
   "outputs": [
    {
     "name": "stdout",
     "output_type": "stream",
     "text": [
      "sentence: Vanitha B M\n",
      "Character: 6\n"
     ]
    },
    {
     "data": {
      "text/plain": [
       "'Vanitha6B6M'"
      ]
     },
     "execution_count": 22,
     "metadata": {},
     "output_type": "execute_result"
    }
   ],
   "source": [
    "a=str(input(\"sentence: \"))\n",
    "b=input(\"Character: \")\n",
    "a.replace(\" \",b)\n"
   ]
  },
  {
   "cell_type": "markdown",
   "id": "a45320b7",
   "metadata": {
    "id": "a45320b7"
   },
   "source": [
    "#### 9. Create a dictionary having three items. Key of each item is the name of a student, value associated with each key is a list of marks in five subjects. Given this dictionary print the average score of each student."
   ]
  },
  {
   "cell_type": "code",
   "execution_count": 24,
   "id": "2vFaqcGP-MmK",
   "metadata": {
    "id": "2vFaqcGP-MmK"
   },
   "outputs": [
    {
     "name": "stdout",
     "output_type": "stream",
     "text": [
      "average marks of x  77.0\n",
      "average marks of y  63.0\n",
      "average marks of z  33.0\n"
     ]
    }
   ],
   "source": [
    "a={\"x\":[55,66,77,88,99],\"y\":[45,65,75,85,45],\"z\":[22,33,44,55,11]}\n",
    "print(\"average marks of x \",sum(a[\"x\"])/len(a[\"x\"]))\n",
    "print(\"average marks of y \",sum(a[\"y\"])/len(a[\"y\"]))\n",
    "print(\"average marks of z \",sum(a[\"z\"])/len(a[\"z\"]))\n"
   ]
  },
  {
   "cell_type": "markdown",
   "id": "aba63bd1",
   "metadata": {
    "id": "aba63bd1"
   },
   "source": [
    "#### 10. Take a string as input(may contain repetitive words), print a list consisting of unique words from the given string."
   ]
  },
  {
   "cell_type": "code",
   "execution_count": 26,
   "id": "LAcgERg-NDMj",
   "metadata": {
    "id": "LAcgERg-NDMj"
   },
   "outputs": [
    {
     "name": "stdout",
     "output_type": "stream",
     "text": [
      "Sentence: Vanitha Vanitha Vanitha Vanitha \n",
      "['Vanitha']\n"
     ]
    }
   ],
   "source": [
    "a=str(input(\"Sentence: \"))\n",
    "b=a.split()\n",
    "c=[]\n",
    "for i in b:\n",
    "  if i not in c:\n",
    "    c.append(i)\n",
    "print(c)"
   ]
  }
 ],
 "metadata": {
  "colab": {
   "provenance": []
  },
  "kernelspec": {
   "display_name": "Python 3 (ipykernel)",
   "language": "python",
   "name": "python3"
  },
  "language_info": {
   "codemirror_mode": {
    "name": "ipython",
    "version": 3
   },
   "file_extension": ".py",
   "mimetype": "text/x-python",
   "name": "python",
   "nbconvert_exporter": "python",
   "pygments_lexer": "ipython3",
   "version": "3.9.13"
  }
 },
 "nbformat": 4,
 "nbformat_minor": 5
}
