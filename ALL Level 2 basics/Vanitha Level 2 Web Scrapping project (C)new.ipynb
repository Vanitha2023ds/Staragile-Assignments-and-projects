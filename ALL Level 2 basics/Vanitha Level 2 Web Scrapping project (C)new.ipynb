{
 "cells": [
  {
   "cell_type": "code",
   "execution_count": 150,
   "id": "a8a94898",
   "metadata": {},
   "outputs": [],
   "source": [
    "import pandas as pd\n",
    "import numpy as np\n",
    "import matplotlib.pyplot as plt\n",
    "import seaborn as sns\n",
    "import requests\n",
    "\n",
    "from selenium import webdriver\n",
    "from bs4 import BeautifulSoup\n",
    "\n",
    "import time\n",
    "\n",
    "from IPython.core.interactiveshell import InteractiveShell\n",
    "InteractiveShell.ast_node_interactivity = 'all'\n",
    "\n",
    "import requests\n",
    "from bs4 import BeautifulSoup as bs\n",
    "from urllib.request import urlopen\n",
    "import logging"
   ]
  },
  {
   "cell_type": "code",
   "execution_count": 151,
   "id": "d1ebe021",
   "metadata": {},
   "outputs": [],
   "source": [
    "import requests\n",
    "import bs4\n",
    "from bs4 import BeautifulSoup\n",
    "import pandas as pd"
   ]
  },
  {
   "cell_type": "code",
   "execution_count": 212,
   "id": "cd50c0f9",
   "metadata": {},
   "outputs": [
    {
     "name": "stdout",
     "output_type": "stream",
     "text": [
      "Requests version: 2.28.1\n",
      "BeautifulSoup version: 4.11.1\n",
      "Pandas version: 1.4.4\n"
     ]
    }
   ],
   "source": [
    "print('Requests version: {}'.format(requests.__version__))\n",
    "print('BeautifulSoup version: {}'.format(bs4.__version__))\n",
    "print('Pandas version: {}'.format(pd.__version__))"
   ]
  },
  {
   "cell_type": "code",
   "execution_count": 231,
   "id": "fc2750d2",
   "metadata": {},
   "outputs": [],
   "source": [
    "urls = {\n",
    "    'north': 'http://citypopulation.de/en/newzealand/northisland',\n",
    "    'south': 'http://citypopulation.de/en/newzealand/southisland/'\n",
    "}"
   ]
  },
  {
   "cell_type": "code",
   "execution_count": 232,
   "id": "280a4985",
   "metadata": {},
   "outputs": [
    {
     "name": "stdout",
     "output_type": "stream",
     "text": [
      "<Response [200]>\n"
     ]
    }
   ],
   "source": [
    "output = requests.get(urls['north'])\n",
    "print(output)"
   ]
  },
  {
   "cell_type": "code",
   "execution_count": 233,
   "id": "47821679",
   "metadata": {},
   "outputs": [
    {
     "data": {
      "text/plain": [
       "'<!DOCTYPE html>\\r\\n<html lang=\"en\">\\r\\n<head>\\r\\n<meta charset=\"utf-8\">\\r\\n<meta name=\"description\" content=\"North Island (New Zealand): Regions in Settlements with population statistics, charts and maps.\">\\n<'"
      ]
     },
     "execution_count": 233,
     "metadata": {},
     "output_type": "execute_result"
    }
   ],
   "source": [
    "output.text[:200]\n"
   ]
  },
  {
   "cell_type": "code",
   "execution_count": 234,
   "id": "12e3d329",
   "metadata": {},
   "outputs": [
    {
     "name": "stdout",
     "output_type": "stream",
     "text": [
      "245483\n",
      "<class 'str'>\n"
     ]
    }
   ],
   "source": [
    "print(len(output.text))\n",
    "print(type(output.text))"
   ]
  },
  {
   "cell_type": "code",
   "execution_count": 235,
   "id": "aa6ce66a",
   "metadata": {},
   "outputs": [],
   "source": [
    "bs_output = BeautifulSoup(markup=output.text, features=\"html.parser\")\n"
   ]
  },
  {
   "cell_type": "code",
   "execution_count": 236,
   "id": "5403a2b9",
   "metadata": {},
   "outputs": [
    {
     "data": {
      "text/plain": [
       "7"
      ]
     },
     "execution_count": 236,
     "metadata": {},
     "output_type": "execute_result"
    }
   ],
   "source": [
    "len(bs_output.contents)\n"
   ]
  },
  {
   "cell_type": "code",
   "execution_count": 237,
   "id": "2561c322",
   "metadata": {},
   "outputs": [
    {
     "data": {
      "text/plain": [
       "list"
      ]
     },
     "execution_count": 237,
     "metadata": {},
     "output_type": "execute_result"
    }
   ],
   "source": [
    "type(bs_output.contents)\n"
   ]
  },
  {
   "cell_type": "code",
   "execution_count": 238,
   "id": "7e492a98",
   "metadata": {},
   "outputs": [
    {
     "data": {
      "text/plain": [
       "['html', '\\n']"
      ]
     },
     "execution_count": 238,
     "metadata": {},
     "output_type": "execute_result"
    }
   ],
   "source": [
    "bs_output.contents[:2]\n"
   ]
  },
  {
   "cell_type": "code",
   "execution_count": 239,
   "id": "4587c7b2",
   "metadata": {},
   "outputs": [
    {
     "data": {
      "text/plain": [
       "[<a href=\"/\">Home</a>,\n",
       " <a href=\"/Oceania.html\" itemprop=\"url\"><span itemprop=\"name\">Oceania</span></a>,\n",
       " <a href=\"/en/newzealand/\" itemprop=\"url\"><span itemprop=\"name\">New Zealand</span></a>,\n",
       " <a href=\"javascript:cp.changePageLang('en','de')\"><img alt=\"\" src=\"/images/icons/de.svg\" title=\"Deutsch\"/></a>,\n",
       " <a href=\"javascript:openMap()\"><img alt=\"Show Map\" id=\"smap\" src=\"/images/smaps/newzealand-cities.png\" title=\"Show Map\"/></a>]"
      ]
     },
     "execution_count": 239,
     "metadata": {},
     "output_type": "execute_result"
    }
   ],
   "source": [
    "bs_output.find_all('a')[:5]\n"
   ]
  },
  {
   "cell_type": "code",
   "execution_count": 240,
   "id": "da29a16f",
   "metadata": {},
   "outputs": [],
   "source": [
    "table_output = bs_output.find(name='table', attrs={'id': 'ts'})\n"
   ]
  },
  {
   "cell_type": "code",
   "execution_count": 241,
   "id": "3bb36b6d",
   "metadata": {},
   "outputs": [
    {
     "data": {
      "text/plain": [
       "['\\n',\n",
       " <thead>\n",
       " <tr id=\"tsh\"><th class=\"rname\" data-coltype=\"name\" onclick=\"javascript:sort('ts',0,false)\"><a href=\"javascript:sort('ts',0,false)\">Name</a></th>\n",
       " <th class=\"rstatus\" data-coltype=\"status\" onclick=\"javascript:sort('ts',1,false)\"><a href=\"javascript:sort('ts',1,false)\">Status</a></th><th class=\"radm rarea\" data-coltype=\"adm\" onclick=\"javascript:sort('ts',2,false)\"><a href=\"javascript:sort('ts',2,false)\">Region</a></th><th class=\"rpop prio6\" data-coldate=\"1996-06-30\" data-colhead=\"E 1996-06-30\" data-coltype=\"pop\" onclick=\"javascript:sort('ts',3,true)\"><a href=\"javascript:sort('ts',3,true)\">Population</a><br/><span class=\"unit\">Estimate<br/>1996-06-30</span></th><th class=\"rpop prio5\" data-coldate=\"2001-06-30\" data-colhead=\"E 2001-06-30\" data-coltype=\"pop\" onclick=\"javascript:sort('ts',4,true)\"><a href=\"javascript:sort('ts',4,true)\">Population</a><br/><span class=\"unit\">Estimate<br/>2001-06-30</span></th><th class=\"rpop prio4\" data-coldate=\"2006-06-30\" data-colhead=\"E 2006-06-30\" data-coltype=\"pop\" onclick=\"javascript:sort('ts',5,true)\"><a href=\"javascript:sort('ts',5,true)\">Population</a><br/><span class=\"unit\">Estimate<br/>2006-06-30</span></th><th class=\"rpop prio3\" data-coldate=\"2013-06-30\" data-colhead=\"E 2013-06-30\" data-coltype=\"pop\" onclick=\"javascript:sort('ts',6,true)\"><a href=\"javascript:sort('ts',6,true)\">Population</a><br/><span class=\"unit\">Estimate<br/>2013-06-30</span></th><th class=\"rpop prio2\" data-coldate=\"2018-06-30\" data-colhead=\"E 2018-06-30\" data-coltype=\"pop\" onclick=\"javascript:sort('ts',7,true)\"><a href=\"javascript:sort('ts',7,true)\">Population</a><br/><span class=\"unit\">Estimate<br/>2018-06-30</span></th><th class=\"rpop prio1\" data-coldate=\"2022-06-30\" data-colhead=\"E 2022-06-30\" data-coltype=\"pop\" onclick=\"javascript:sort('ts',8,true)\"><a href=\"javascript:sort('ts',8,true)\">Population</a><br/><span class=\"unit\">Estimate<br/>2022-06-30</span></th><th class=\"sc\" data-coltype=\"other\"> </th></tr>\n",
       " </thead>]"
      ]
     },
     "execution_count": 241,
     "metadata": {},
     "output_type": "execute_result"
    }
   ],
   "source": [
    "table_output.contents[:2]"
   ]
  },
  {
   "cell_type": "code",
   "execution_count": 242,
   "id": "77bc4d6e",
   "metadata": {},
   "outputs": [
    {
     "data": {
      "text/plain": [
       "['Name',\n",
       " 'Status',\n",
       " 'Region',\n",
       " 'PopulationEstimate1996-06-30',\n",
       " 'PopulationEstimate2001-06-30',\n",
       " 'PopulationEstimate2006-06-30',\n",
       " 'PopulationEstimate2013-06-30',\n",
       " 'PopulationEstimate2018-06-30',\n",
       " 'PopulationEstimate2022-06-30',\n",
       " '\\xa0']"
      ]
     },
     "execution_count": 242,
     "metadata": {},
     "output_type": "execute_result"
    }
   ],
   "source": [
    "[x.text for x in table_output.find_all('th')] "
   ]
  },
  {
   "cell_type": "code",
   "execution_count": 243,
   "id": "addc6b7c",
   "metadata": {},
   "outputs": [
    {
     "data": {
      "text/plain": [
       "['Name',\n",
       " 'Status',\n",
       " 'Region',\n",
       " 'PopulationEstimate1996-06-30',\n",
       " 'PopulationEstimate2001-06-30',\n",
       " 'PopulationEstimate2006-06-30',\n",
       " 'PopulationEstimate2013-06-30',\n",
       " 'PopulationEstimate2018-06-30',\n",
       " 'PopulationEstimate2022-06-30']"
      ]
     },
     "execution_count": 243,
     "metadata": {},
     "output_type": "execute_result"
    }
   ],
   "source": [
    "#\n",
    "table_columns = [x.get_text() for x in table_output.find_all('th')][:-1]\n",
    "table_columns"
   ]
  },
  {
   "cell_type": "code",
   "execution_count": 244,
   "id": "27bd4ba3",
   "metadata": {},
   "outputs": [],
   "source": [
    "table_body = table_output.find_all('tbody')\n"
   ]
  },
  {
   "cell_type": "code",
   "execution_count": 245,
   "id": "7e9979b2",
   "metadata": {},
   "outputs": [],
   "source": [
    "north_island_output = []\n",
    "for item in table_body:\n",
    "    rows = item.find_all('tr') \n",
    "    for row in rows:\n",
    "        td = row.find_all('td') \n",
    "        td_values = [val.text for val in td] \n",
    "        north_island_output.append(td_values) "
   ]
  },
  {
   "cell_type": "code",
   "execution_count": 246,
   "id": "396c21cc",
   "metadata": {},
   "outputs": [
    {
     "data": {
      "text/plain": [
       "['Algies Bay',\n",
       " 'Rural Settlement',\n",
       " 'Auckland',\n",
       " '550',\n",
       " '690',\n",
       " '800',\n",
       " '870',\n",
       " '1,040',\n",
       " '1,040',\n",
       " '→']"
      ]
     },
     "execution_count": 246,
     "metadata": {},
     "output_type": "execute_result"
    }
   ],
   "source": [
    "north_island_output[1]\n"
   ]
  },
  {
   "cell_type": "code",
   "execution_count": 247,
   "id": "94c80be9",
   "metadata": {},
   "outputs": [],
   "source": [
    "north_island_output = []\n",
    "for item in table_body:\n",
    "    rows = item.find_all('tr') # extracts <tr> elements in <tbody>\n",
    "    for row in rows:\n",
    "        td = row.find_all('td') # extracts <td> elements in each row i.e. <tr>\n",
    "        td_values = [val.text for val in td] # extracts value of each <td>\n",
    "        north_island_output.append(td_values[:-1])"
   ]
  },
  {
   "cell_type": "code",
   "execution_count": 248,
   "id": "37bb556f",
   "metadata": {},
   "outputs": [
    {
     "data": {
      "text/plain": [
       "['Algies Bay',\n",
       " 'Rural Settlement',\n",
       " 'Auckland',\n",
       " '550',\n",
       " '690',\n",
       " '800',\n",
       " '870',\n",
       " '1,040',\n",
       " '1,040']"
      ]
     },
     "execution_count": 248,
     "metadata": {},
     "output_type": "execute_result"
    }
   ],
   "source": [
    "north_island_output[1]\n"
   ]
  },
  {
   "cell_type": "code",
   "execution_count": 249,
   "id": "f6cd2be5",
   "metadata": {},
   "outputs": [
    {
     "data": {
      "text/plain": [
       "['Name',\n",
       " 'Status',\n",
       " 'Region',\n",
       " 'PopulationEstimate1996-06-30',\n",
       " 'PopulationEstimate2001-06-30',\n",
       " 'PopulationEstimate2006-06-30',\n",
       " 'PopulationEstimate2013-06-30',\n",
       " 'PopulationEstimate2018-06-30',\n",
       " 'PopulationEstimate2022-06-30']"
      ]
     },
     "execution_count": 249,
     "metadata": {},
     "output_type": "execute_result"
    }
   ],
   "source": [
    "table_columns\n"
   ]
  },
  {
   "cell_type": "code",
   "execution_count": 250,
   "id": "d1bde080",
   "metadata": {},
   "outputs": [],
   "source": [
    "north_data = pd.DataFrame(\n",
    "    data=north_island_output,\n",
    "    columns=table_columns\n",
    ")\n"
   ]
  },
  {
   "cell_type": "code",
   "execution_count": 251,
   "id": "85363d75",
   "metadata": {},
   "outputs": [
    {
     "data": {
      "text/html": [
       "<div>\n",
       "<style scoped>\n",
       "    .dataframe tbody tr th:only-of-type {\n",
       "        vertical-align: middle;\n",
       "    }\n",
       "\n",
       "    .dataframe tbody tr th {\n",
       "        vertical-align: top;\n",
       "    }\n",
       "\n",
       "    .dataframe thead th {\n",
       "        text-align: right;\n",
       "    }\n",
       "</style>\n",
       "<table border=\"1\" class=\"dataframe\">\n",
       "  <thead>\n",
       "    <tr style=\"text-align: right;\">\n",
       "      <th></th>\n",
       "      <th>Name</th>\n",
       "      <th>Status</th>\n",
       "      <th>Region</th>\n",
       "      <th>PopulationEstimate1996-06-30</th>\n",
       "      <th>PopulationEstimate2001-06-30</th>\n",
       "      <th>PopulationEstimate2006-06-30</th>\n",
       "      <th>PopulationEstimate2013-06-30</th>\n",
       "      <th>PopulationEstimate2018-06-30</th>\n",
       "      <th>PopulationEstimate2022-06-30</th>\n",
       "    </tr>\n",
       "  </thead>\n",
       "  <tbody>\n",
       "    <tr>\n",
       "      <th>0</th>\n",
       "      <td>Ahipara</td>\n",
       "      <td>Rural Settlement</td>\n",
       "      <td>Northland</td>\n",
       "      <td>930</td>\n",
       "      <td>1,050</td>\n",
       "      <td>1,120</td>\n",
       "      <td>1,130</td>\n",
       "      <td>1,270</td>\n",
       "      <td>1,450</td>\n",
       "    </tr>\n",
       "    <tr>\n",
       "      <th>1</th>\n",
       "      <td>Algies Bay</td>\n",
       "      <td>Rural Settlement</td>\n",
       "      <td>Auckland</td>\n",
       "      <td>550</td>\n",
       "      <td>690</td>\n",
       "      <td>800</td>\n",
       "      <td>870</td>\n",
       "      <td>1,040</td>\n",
       "      <td>1,040</td>\n",
       "    </tr>\n",
       "    <tr>\n",
       "      <th>2</th>\n",
       "      <td>Arapuni</td>\n",
       "      <td>Rural Settlement</td>\n",
       "      <td>Waikato</td>\n",
       "      <td>290</td>\n",
       "      <td>260</td>\n",
       "      <td>230</td>\n",
       "      <td>250</td>\n",
       "      <td>300</td>\n",
       "      <td>320</td>\n",
       "    </tr>\n",
       "    <tr>\n",
       "      <th>3</th>\n",
       "      <td>Ashhurst</td>\n",
       "      <td>Small Urban Area</td>\n",
       "      <td>Manawatū-Wanganui</td>\n",
       "      <td>2,530</td>\n",
       "      <td>2,520</td>\n",
       "      <td>2,510</td>\n",
       "      <td>2,750</td>\n",
       "      <td>3,030</td>\n",
       "      <td>3,240</td>\n",
       "    </tr>\n",
       "    <tr>\n",
       "      <th>4</th>\n",
       "      <td>Athenree</td>\n",
       "      <td>Rural Settlement</td>\n",
       "      <td>Bay of Plenty</td>\n",
       "      <td>510</td>\n",
       "      <td>530</td>\n",
       "      <td>630</td>\n",
       "      <td>700</td>\n",
       "      <td>840</td>\n",
       "      <td>900</td>\n",
       "    </tr>\n",
       "  </tbody>\n",
       "</table>\n",
       "</div>"
      ],
      "text/plain": [
       "         Name            Status             Region  \\\n",
       "0     Ahipara  Rural Settlement          Northland   \n",
       "1  Algies Bay  Rural Settlement           Auckland   \n",
       "2     Arapuni  Rural Settlement            Waikato   \n",
       "3    Ashhurst  Small Urban Area  Manawatū-Wanganui   \n",
       "4    Athenree  Rural Settlement      Bay of Plenty   \n",
       "\n",
       "  PopulationEstimate1996-06-30 PopulationEstimate2001-06-30  \\\n",
       "0                          930                        1,050   \n",
       "1                          550                          690   \n",
       "2                          290                          260   \n",
       "3                        2,530                        2,520   \n",
       "4                          510                          530   \n",
       "\n",
       "  PopulationEstimate2006-06-30 PopulationEstimate2013-06-30  \\\n",
       "0                        1,120                        1,130   \n",
       "1                          800                          870   \n",
       "2                          230                          250   \n",
       "3                        2,510                        2,750   \n",
       "4                          630                          700   \n",
       "\n",
       "  PopulationEstimate2018-06-30 PopulationEstimate2022-06-30  \n",
       "0                        1,270                        1,450  \n",
       "1                        1,040                        1,040  \n",
       "2                          300                          320  \n",
       "3                        3,030                        3,240  \n",
       "4                          840                          900  "
      ]
     },
     "execution_count": 251,
     "metadata": {},
     "output_type": "execute_result"
    }
   ],
   "source": [
    "north_data.head()\n"
   ]
  },
  {
   "cell_type": "code",
   "execution_count": 252,
   "id": "a69cb767",
   "metadata": {},
   "outputs": [],
   "source": [
    "import requests\n",
    "from bs4 import BeautifulSoup\n",
    "import pandas as pd\n",
    "\n",
    "# Variables\n",
    "south_island_output = []\n",
    "north_island_output = []\n",
    "table_columns = []\n",
    "\n",
    "urls = {\n",
    "    'north': 'http://citypopulation.de/en/newzealand/northisland',\n",
    "    'south': 'http://citypopulation.de/en/newzealand/southisland/'\n",
    "}\n",
    "\n",
    "def download_data():\n",
    "    \"\"\"\n",
    "    Function extracts td values by looping each child element of the parent.\n",
    "    \n",
    "    Two empty lists south_island_output and north_island_output are initialised.\n",
    "    \n",
    "    A urls dictionary object with north island and south island urls is also initialised.\n",
    "    \n",
    "    Pseudo code:\n",
    "    - for each item in the dictionary\n",
    "        - connect to the url\n",
    "            - if success (response code == 200), then loop through the page data\n",
    "                - for each row_item in body (loop - look for <tr> element):\n",
    "                    - for each row in the row_item (loop and look for <td> element):\n",
    "                        - for each <td> element, extract the text value\n",
    "                            - finally append those text values into output list\n",
    "    \"\"\"    \n",
    "    for url in urls:\n",
    "        print(url, urls[url])\n",
    "        \n",
    "        ## response\n",
    "        response = requests.get(urls[url])\n",
    "        \n",
    "        if response.status_code == 200:\n",
    "            print('Response code is 200. Success!')\n",
    "            try:\n",
    "                ## web scraping\n",
    "                soup = BeautifulSoup(response.text, \"html.parser\")\n",
    "                table = soup.find(name='table', attrs={'id': 'ts'})\n",
    "                table_columns.append([x.get_text() for x in table.find_all('th')][:-1])\n",
    "                body = table.find_all('tbody')\n",
    "                for item in body:\n",
    "                    rows = item.find_all('tr')    \n",
    "                    for row in rows:\n",
    "                        td = row.find_all('td')\n",
    "                        td_values = [val.text for val in td]\n",
    "                        if url == 'north':\n",
    "                            north_island_output.append(td_values[:-1])\n",
    "                        else:\n",
    "                            south_island_output.append(td_values[:-1])\n",
    "            except Exception as ex:\n",
    "                print(str(ex))\n",
    "        else:\n",
    "            print('Oops! {0}'.format(response.status_code))"
   ]
  },
  {
   "cell_type": "code",
   "execution_count": 255,
   "id": "e167a3e0",
   "metadata": {},
   "outputs": [
    {
     "name": "stdout",
     "output_type": "stream",
     "text": [
      "north http://citypopulation.de/en/newzealand/northisland\n",
      "Response code is 200. Success!\n",
      "south http://citypopulation.de/en/newzealand/southisland/\n",
      "Response code is 200. Success!\n"
     ]
    }
   ],
   "source": [
    "download_data()\n"
   ]
  },
  {
   "cell_type": "code",
   "execution_count": 256,
   "id": "82204cf0",
   "metadata": {},
   "outputs": [
    {
     "data": {
      "text/plain": [
       "['Name',\n",
       " 'Status',\n",
       " 'Region',\n",
       " 'PopulationEstimate1996-06-30',\n",
       " 'PopulationEstimate2001-06-30',\n",
       " 'PopulationEstimate2006-06-30',\n",
       " 'PopulationEstimate2013-06-30',\n",
       " 'PopulationEstimate2018-06-30',\n",
       " 'PopulationEstimate2022-06-30']"
      ]
     },
     "execution_count": 256,
     "metadata": {},
     "output_type": "execute_result"
    }
   ],
   "source": [
    "table_columns[0]\n"
   ]
  },
  {
   "cell_type": "code",
   "execution_count": 257,
   "id": "d4835141",
   "metadata": {},
   "outputs": [],
   "source": [
    "north_island_data = pd.DataFrame(data=north_island_output, columns=table_columns[0])\n",
    "south_island_data = pd.DataFrame(data=south_island_output, columns=table_columns[0])"
   ]
  },
  {
   "cell_type": "code",
   "execution_count": 258,
   "id": "d3a87e44",
   "metadata": {},
   "outputs": [
    {
     "data": {
      "text/html": [
       "<div>\n",
       "<style scoped>\n",
       "    .dataframe tbody tr th:only-of-type {\n",
       "        vertical-align: middle;\n",
       "    }\n",
       "\n",
       "    .dataframe tbody tr th {\n",
       "        vertical-align: top;\n",
       "    }\n",
       "\n",
       "    .dataframe thead th {\n",
       "        text-align: right;\n",
       "    }\n",
       "</style>\n",
       "<table border=\"1\" class=\"dataframe\">\n",
       "  <thead>\n",
       "    <tr style=\"text-align: right;\">\n",
       "      <th></th>\n",
       "      <th>Name</th>\n",
       "      <th>Status</th>\n",
       "      <th>Region</th>\n",
       "      <th>PopulationEstimate1996-06-30</th>\n",
       "      <th>PopulationEstimate2001-06-30</th>\n",
       "      <th>PopulationEstimate2006-06-30</th>\n",
       "      <th>PopulationEstimate2013-06-30</th>\n",
       "      <th>PopulationEstimate2018-06-30</th>\n",
       "      <th>PopulationEstimate2022-06-30</th>\n",
       "    </tr>\n",
       "  </thead>\n",
       "  <tbody>\n",
       "    <tr>\n",
       "      <th>0</th>\n",
       "      <td>Ahipara</td>\n",
       "      <td>Rural Settlement</td>\n",
       "      <td>Northland</td>\n",
       "      <td>930</td>\n",
       "      <td>1,050</td>\n",
       "      <td>1,120</td>\n",
       "      <td>1,130</td>\n",
       "      <td>1,270</td>\n",
       "      <td>1,450</td>\n",
       "    </tr>\n",
       "    <tr>\n",
       "      <th>1</th>\n",
       "      <td>Algies Bay</td>\n",
       "      <td>Rural Settlement</td>\n",
       "      <td>Auckland</td>\n",
       "      <td>550</td>\n",
       "      <td>690</td>\n",
       "      <td>800</td>\n",
       "      <td>870</td>\n",
       "      <td>1,040</td>\n",
       "      <td>1,040</td>\n",
       "    </tr>\n",
       "    <tr>\n",
       "      <th>2</th>\n",
       "      <td>Arapuni</td>\n",
       "      <td>Rural Settlement</td>\n",
       "      <td>Waikato</td>\n",
       "      <td>290</td>\n",
       "      <td>260</td>\n",
       "      <td>230</td>\n",
       "      <td>250</td>\n",
       "      <td>300</td>\n",
       "      <td>320</td>\n",
       "    </tr>\n",
       "    <tr>\n",
       "      <th>3</th>\n",
       "      <td>Ashhurst</td>\n",
       "      <td>Small Urban Area</td>\n",
       "      <td>Manawatū-Wanganui</td>\n",
       "      <td>2,530</td>\n",
       "      <td>2,520</td>\n",
       "      <td>2,510</td>\n",
       "      <td>2,750</td>\n",
       "      <td>3,030</td>\n",
       "      <td>3,240</td>\n",
       "    </tr>\n",
       "    <tr>\n",
       "      <th>4</th>\n",
       "      <td>Athenree</td>\n",
       "      <td>Rural Settlement</td>\n",
       "      <td>Bay of Plenty</td>\n",
       "      <td>510</td>\n",
       "      <td>530</td>\n",
       "      <td>630</td>\n",
       "      <td>700</td>\n",
       "      <td>840</td>\n",
       "      <td>900</td>\n",
       "    </tr>\n",
       "  </tbody>\n",
       "</table>\n",
       "</div>"
      ],
      "text/plain": [
       "         Name            Status             Region  \\\n",
       "0     Ahipara  Rural Settlement          Northland   \n",
       "1  Algies Bay  Rural Settlement           Auckland   \n",
       "2     Arapuni  Rural Settlement            Waikato   \n",
       "3    Ashhurst  Small Urban Area  Manawatū-Wanganui   \n",
       "4    Athenree  Rural Settlement      Bay of Plenty   \n",
       "\n",
       "  PopulationEstimate1996-06-30 PopulationEstimate2001-06-30  \\\n",
       "0                          930                        1,050   \n",
       "1                          550                          690   \n",
       "2                          290                          260   \n",
       "3                        2,530                        2,520   \n",
       "4                          510                          530   \n",
       "\n",
       "  PopulationEstimate2006-06-30 PopulationEstimate2013-06-30  \\\n",
       "0                        1,120                        1,130   \n",
       "1                          800                          870   \n",
       "2                          230                          250   \n",
       "3                        2,510                        2,750   \n",
       "4                          630                          700   \n",
       "\n",
       "  PopulationEstimate2018-06-30 PopulationEstimate2022-06-30  \n",
       "0                        1,270                        1,450  \n",
       "1                        1,040                        1,040  \n",
       "2                          300                          320  \n",
       "3                        3,030                        3,240  \n",
       "4                          840                          900  "
      ]
     },
     "execution_count": 258,
     "metadata": {},
     "output_type": "execute_result"
    }
   ],
   "source": [
    "north_island_data.head()\n"
   ]
  },
  {
   "cell_type": "code",
   "execution_count": 259,
   "id": "77ad1a63",
   "metadata": {},
   "outputs": [
    {
     "data": {
      "text/html": [
       "<div>\n",
       "<style scoped>\n",
       "    .dataframe tbody tr th:only-of-type {\n",
       "        vertical-align: middle;\n",
       "    }\n",
       "\n",
       "    .dataframe tbody tr th {\n",
       "        vertical-align: top;\n",
       "    }\n",
       "\n",
       "    .dataframe thead th {\n",
       "        text-align: right;\n",
       "    }\n",
       "</style>\n",
       "<table border=\"1\" class=\"dataframe\">\n",
       "  <thead>\n",
       "    <tr style=\"text-align: right;\">\n",
       "      <th></th>\n",
       "      <th>Name</th>\n",
       "      <th>Status</th>\n",
       "      <th>Region</th>\n",
       "      <th>PopulationEstimate1996-06-30</th>\n",
       "      <th>PopulationEstimate2001-06-30</th>\n",
       "      <th>PopulationEstimate2006-06-30</th>\n",
       "      <th>PopulationEstimate2013-06-30</th>\n",
       "      <th>PopulationEstimate2018-06-30</th>\n",
       "      <th>PopulationEstimate2022-06-30</th>\n",
       "    </tr>\n",
       "  </thead>\n",
       "  <tbody>\n",
       "    <tr>\n",
       "      <th>0</th>\n",
       "      <td>Ahaura</td>\n",
       "      <td>Rural Settlement</td>\n",
       "      <td>West Coast</td>\n",
       "      <td>120</td>\n",
       "      <td>140</td>\n",
       "      <td>110</td>\n",
       "      <td>100</td>\n",
       "      <td>100</td>\n",
       "      <td>110</td>\n",
       "    </tr>\n",
       "    <tr>\n",
       "      <th>1</th>\n",
       "      <td>Akaroa</td>\n",
       "      <td>Rural Settlement</td>\n",
       "      <td>Canterbury</td>\n",
       "      <td>680</td>\n",
       "      <td>610</td>\n",
       "      <td>620</td>\n",
       "      <td>670</td>\n",
       "      <td>770</td>\n",
       "      <td>780</td>\n",
       "    </tr>\n",
       "    <tr>\n",
       "      <th>2</th>\n",
       "      <td>Alexandra</td>\n",
       "      <td>Small Urban Area</td>\n",
       "      <td>Otago</td>\n",
       "      <td>4,690</td>\n",
       "      <td>4,480</td>\n",
       "      <td>4,940</td>\n",
       "      <td>4,920</td>\n",
       "      <td>5,630</td>\n",
       "      <td>6,090</td>\n",
       "    </tr>\n",
       "    <tr>\n",
       "      <th>3</th>\n",
       "      <td>Allanton</td>\n",
       "      <td>Rural Settlement</td>\n",
       "      <td>Otago</td>\n",
       "      <td>220</td>\n",
       "      <td>240</td>\n",
       "      <td>260</td>\n",
       "      <td>260</td>\n",
       "      <td>310</td>\n",
       "      <td>310</td>\n",
       "    </tr>\n",
       "    <tr>\n",
       "      <th>4</th>\n",
       "      <td>Amberley</td>\n",
       "      <td>Small Urban Area</td>\n",
       "      <td>Canterbury</td>\n",
       "      <td>1,050</td>\n",
       "      <td>1,160</td>\n",
       "      <td>1,340</td>\n",
       "      <td>1,620</td>\n",
       "      <td>2,110</td>\n",
       "      <td>2,340</td>\n",
       "    </tr>\n",
       "  </tbody>\n",
       "</table>\n",
       "</div>"
      ],
      "text/plain": [
       "        Name            Status      Region PopulationEstimate1996-06-30  \\\n",
       "0     Ahaura  Rural Settlement  West Coast                          120   \n",
       "1     Akaroa  Rural Settlement  Canterbury                          680   \n",
       "2  Alexandra  Small Urban Area       Otago                        4,690   \n",
       "3   Allanton  Rural Settlement       Otago                          220   \n",
       "4   Amberley  Small Urban Area  Canterbury                        1,050   \n",
       "\n",
       "  PopulationEstimate2001-06-30 PopulationEstimate2006-06-30  \\\n",
       "0                          140                          110   \n",
       "1                          610                          620   \n",
       "2                        4,480                        4,940   \n",
       "3                          240                          260   \n",
       "4                        1,160                        1,340   \n",
       "\n",
       "  PopulationEstimate2013-06-30 PopulationEstimate2018-06-30  \\\n",
       "0                          100                          100   \n",
       "1                          670                          770   \n",
       "2                        4,920                        5,630   \n",
       "3                          260                          310   \n",
       "4                        1,620                        2,110   \n",
       "\n",
       "  PopulationEstimate2022-06-30  \n",
       "0                          110  \n",
       "1                          780  \n",
       "2                        6,090  \n",
       "3                          310  \n",
       "4                        2,340  "
      ]
     },
     "execution_count": 259,
     "metadata": {},
     "output_type": "execute_result"
    }
   ],
   "source": [
    "south_island_data.head()\n"
   ]
  },
  {
   "cell_type": "markdown",
   "id": "f99f9aed",
   "metadata": {},
   "source": [
    "# EDA"
   ]
  },
  {
   "cell_type": "code",
   "execution_count": 260,
   "id": "69504972",
   "metadata": {},
   "outputs": [],
   "source": [
    "north_island_data = north_island_data[['Name', 'Status','Region', 'PopulationEstimate2018-06-30']]\n",
    "south_island_data = south_island_data[['Name', 'Status','Region', 'PopulationEstimate2018-06-30']]"
   ]
  },
  {
   "cell_type": "code",
   "execution_count": 261,
   "id": "bdd916c8",
   "metadata": {},
   "outputs": [
    {
     "data": {
      "text/html": [
       "<div>\n",
       "<style scoped>\n",
       "    .dataframe tbody tr th:only-of-type {\n",
       "        vertical-align: middle;\n",
       "    }\n",
       "\n",
       "    .dataframe tbody tr th {\n",
       "        vertical-align: top;\n",
       "    }\n",
       "\n",
       "    .dataframe thead th {\n",
       "        text-align: right;\n",
       "    }\n",
       "</style>\n",
       "<table border=\"1\" class=\"dataframe\">\n",
       "  <thead>\n",
       "    <tr style=\"text-align: right;\">\n",
       "      <th></th>\n",
       "      <th>Name</th>\n",
       "      <th>Status</th>\n",
       "      <th>Region</th>\n",
       "      <th>PopulationEstimate2018-06-30</th>\n",
       "    </tr>\n",
       "  </thead>\n",
       "  <tbody>\n",
       "    <tr>\n",
       "      <th>0</th>\n",
       "      <td>Ahipara</td>\n",
       "      <td>Rural Settlement</td>\n",
       "      <td>Northland</td>\n",
       "      <td>1,270</td>\n",
       "    </tr>\n",
       "    <tr>\n",
       "      <th>1</th>\n",
       "      <td>Algies Bay</td>\n",
       "      <td>Rural Settlement</td>\n",
       "      <td>Auckland</td>\n",
       "      <td>1,040</td>\n",
       "    </tr>\n",
       "  </tbody>\n",
       "</table>\n",
       "</div>"
      ],
      "text/plain": [
       "         Name            Status     Region PopulationEstimate2018-06-30\n",
       "0     Ahipara  Rural Settlement  Northland                        1,270\n",
       "1  Algies Bay  Rural Settlement   Auckland                        1,040"
      ]
     },
     "execution_count": 261,
     "metadata": {},
     "output_type": "execute_result"
    },
    {
     "data": {
      "text/html": [
       "<div>\n",
       "<style scoped>\n",
       "    .dataframe tbody tr th:only-of-type {\n",
       "        vertical-align: middle;\n",
       "    }\n",
       "\n",
       "    .dataframe tbody tr th {\n",
       "        vertical-align: top;\n",
       "    }\n",
       "\n",
       "    .dataframe thead th {\n",
       "        text-align: right;\n",
       "    }\n",
       "</style>\n",
       "<table border=\"1\" class=\"dataframe\">\n",
       "  <thead>\n",
       "    <tr style=\"text-align: right;\">\n",
       "      <th></th>\n",
       "      <th>Name</th>\n",
       "      <th>Status</th>\n",
       "      <th>Region</th>\n",
       "      <th>PopulationEstimate2018-06-30</th>\n",
       "    </tr>\n",
       "  </thead>\n",
       "  <tbody>\n",
       "    <tr>\n",
       "      <th>0</th>\n",
       "      <td>Ahaura</td>\n",
       "      <td>Rural Settlement</td>\n",
       "      <td>West Coast</td>\n",
       "      <td>100</td>\n",
       "    </tr>\n",
       "    <tr>\n",
       "      <th>1</th>\n",
       "      <td>Akaroa</td>\n",
       "      <td>Rural Settlement</td>\n",
       "      <td>Canterbury</td>\n",
       "      <td>770</td>\n",
       "    </tr>\n",
       "  </tbody>\n",
       "</table>\n",
       "</div>"
      ],
      "text/plain": [
       "     Name            Status      Region PopulationEstimate2018-06-30\n",
       "0  Ahaura  Rural Settlement  West Coast                          100\n",
       "1  Akaroa  Rural Settlement  Canterbury                          770"
      ]
     },
     "execution_count": 261,
     "metadata": {},
     "output_type": "execute_result"
    }
   ],
   "source": [
    "north_island_data.head(2)\n",
    "south_island_data.head(2)\n"
   ]
  },
  {
   "cell_type": "code",
   "execution_count": 262,
   "id": "04dbb904",
   "metadata": {},
   "outputs": [
    {
     "data": {
      "text/plain": [
       "(698, 4)"
      ]
     },
     "execution_count": 262,
     "metadata": {},
     "output_type": "execute_result"
    }
   ],
   "source": [
    "north_island_data.shape\n"
   ]
  },
  {
   "cell_type": "code",
   "execution_count": 263,
   "id": "257321ce",
   "metadata": {},
   "outputs": [
    {
     "data": {
      "text/plain": [
       "Name                            object\n",
       "Status                          object\n",
       "Region                          object\n",
       "PopulationEstimate2018-06-30    object\n",
       "dtype: object"
      ]
     },
     "execution_count": 263,
     "metadata": {},
     "output_type": "execute_result"
    }
   ],
   "source": [
    "north_island_data.dtypes\n"
   ]
  },
  {
   "cell_type": "code",
   "execution_count": 264,
   "id": "47f478c0",
   "metadata": {},
   "outputs": [],
   "source": [
    "north_island_data['PopulationEstimate2018-06-30'] = north_island_data['PopulationEstimate2018-06-30'].str.replace(',', '')\n"
   ]
  },
  {
   "cell_type": "code",
   "execution_count": 265,
   "id": "6f37627c",
   "metadata": {},
   "outputs": [
    {
     "data": {
      "text/html": [
       "<div>\n",
       "<style scoped>\n",
       "    .dataframe tbody tr th:only-of-type {\n",
       "        vertical-align: middle;\n",
       "    }\n",
       "\n",
       "    .dataframe tbody tr th {\n",
       "        vertical-align: top;\n",
       "    }\n",
       "\n",
       "    .dataframe thead th {\n",
       "        text-align: right;\n",
       "    }\n",
       "</style>\n",
       "<table border=\"1\" class=\"dataframe\">\n",
       "  <thead>\n",
       "    <tr style=\"text-align: right;\">\n",
       "      <th></th>\n",
       "      <th>Name</th>\n",
       "      <th>Status</th>\n",
       "      <th>Region</th>\n",
       "      <th>PopulationEstimate2018-06-30</th>\n",
       "    </tr>\n",
       "  </thead>\n",
       "  <tbody>\n",
       "    <tr>\n",
       "      <th>0</th>\n",
       "      <td>Ahipara</td>\n",
       "      <td>Rural Settlement</td>\n",
       "      <td>Northland</td>\n",
       "      <td>1270</td>\n",
       "    </tr>\n",
       "    <tr>\n",
       "      <th>1</th>\n",
       "      <td>Algies Bay</td>\n",
       "      <td>Rural Settlement</td>\n",
       "      <td>Auckland</td>\n",
       "      <td>1040</td>\n",
       "    </tr>\n",
       "    <tr>\n",
       "      <th>2</th>\n",
       "      <td>Arapuni</td>\n",
       "      <td>Rural Settlement</td>\n",
       "      <td>Waikato</td>\n",
       "      <td>300</td>\n",
       "    </tr>\n",
       "    <tr>\n",
       "      <th>3</th>\n",
       "      <td>Ashhurst</td>\n",
       "      <td>Small Urban Area</td>\n",
       "      <td>Manawatū-Wanganui</td>\n",
       "      <td>3030</td>\n",
       "    </tr>\n",
       "    <tr>\n",
       "      <th>4</th>\n",
       "      <td>Athenree</td>\n",
       "      <td>Rural Settlement</td>\n",
       "      <td>Bay of Plenty</td>\n",
       "      <td>840</td>\n",
       "    </tr>\n",
       "  </tbody>\n",
       "</table>\n",
       "</div>"
      ],
      "text/plain": [
       "         Name            Status             Region  \\\n",
       "0     Ahipara  Rural Settlement          Northland   \n",
       "1  Algies Bay  Rural Settlement           Auckland   \n",
       "2     Arapuni  Rural Settlement            Waikato   \n",
       "3    Ashhurst  Small Urban Area  Manawatū-Wanganui   \n",
       "4    Athenree  Rural Settlement      Bay of Plenty   \n",
       "\n",
       "  PopulationEstimate2018-06-30  \n",
       "0                         1270  \n",
       "1                         1040  \n",
       "2                          300  \n",
       "3                         3030  \n",
       "4                          840  "
      ]
     },
     "execution_count": 265,
     "metadata": {},
     "output_type": "execute_result"
    }
   ],
   "source": [
    "north_island_data.head()\n"
   ]
  },
  {
   "cell_type": "code",
   "execution_count": 266,
   "id": "e42a2631",
   "metadata": {},
   "outputs": [],
   "source": [
    "north_island_data['PopulationEstimate2018-06-30'] = pd.to_numeric(north_island_data['PopulationEstimate2018-06-30'])\n"
   ]
  },
  {
   "cell_type": "code",
   "execution_count": 267,
   "id": "9013b538",
   "metadata": {},
   "outputs": [
    {
     "data": {
      "text/plain": [
       "Name                            object\n",
       "Status                          object\n",
       "Region                          object\n",
       "PopulationEstimate2018-06-30     int64\n",
       "dtype: object"
      ]
     },
     "execution_count": 267,
     "metadata": {},
     "output_type": "execute_result"
    }
   ],
   "source": [
    "north_island_data.dtypes\n"
   ]
  },
  {
   "cell_type": "code",
   "execution_count": 268,
   "id": "409fd2ca",
   "metadata": {},
   "outputs": [
    {
     "data": {
      "text/html": [
       "<div>\n",
       "<style scoped>\n",
       "    .dataframe tbody tr th:only-of-type {\n",
       "        vertical-align: middle;\n",
       "    }\n",
       "\n",
       "    .dataframe tbody tr th {\n",
       "        vertical-align: top;\n",
       "    }\n",
       "\n",
       "    .dataframe thead th {\n",
       "        text-align: right;\n",
       "    }\n",
       "</style>\n",
       "<table border=\"1\" class=\"dataframe\">\n",
       "  <thead>\n",
       "    <tr style=\"text-align: right;\">\n",
       "      <th></th>\n",
       "      <th>Name</th>\n",
       "      <th>Status</th>\n",
       "      <th>Region</th>\n",
       "      <th>PopulationEstimate2018</th>\n",
       "    </tr>\n",
       "  </thead>\n",
       "  <tbody>\n",
       "    <tr>\n",
       "      <th>0</th>\n",
       "      <td>Ahipara</td>\n",
       "      <td>Rural Settlement</td>\n",
       "      <td>Northland</td>\n",
       "      <td>1270</td>\n",
       "    </tr>\n",
       "    <tr>\n",
       "      <th>1</th>\n",
       "      <td>Algies Bay</td>\n",
       "      <td>Rural Settlement</td>\n",
       "      <td>Auckland</td>\n",
       "      <td>1040</td>\n",
       "    </tr>\n",
       "  </tbody>\n",
       "</table>\n",
       "</div>"
      ],
      "text/plain": [
       "         Name            Status     Region  PopulationEstimate2018\n",
       "0     Ahipara  Rural Settlement  Northland                    1270\n",
       "1  Algies Bay  Rural Settlement   Auckland                    1040"
      ]
     },
     "execution_count": 268,
     "metadata": {},
     "output_type": "execute_result"
    }
   ],
   "source": [
    "north_island_data = north_island_data.rename(columns={'PopulationEstimate2018-06-30': 'PopulationEstimate2018'})\n",
    "north_island_data.head(2)"
   ]
  },
  {
   "cell_type": "code",
   "execution_count": 269,
   "id": "7c5846f8",
   "metadata": {},
   "outputs": [
    {
     "data": {
      "text/html": [
       "<div>\n",
       "<style scoped>\n",
       "    .dataframe tbody tr th:only-of-type {\n",
       "        vertical-align: middle;\n",
       "    }\n",
       "\n",
       "    .dataframe tbody tr th {\n",
       "        vertical-align: top;\n",
       "    }\n",
       "\n",
       "    .dataframe thead th {\n",
       "        text-align: right;\n",
       "    }\n",
       "</style>\n",
       "<table border=\"1\" class=\"dataframe\">\n",
       "  <thead>\n",
       "    <tr style=\"text-align: right;\">\n",
       "      <th></th>\n",
       "      <th>Name</th>\n",
       "      <th>Status</th>\n",
       "      <th>Region</th>\n",
       "      <th>PopulationEstimate2018</th>\n",
       "    </tr>\n",
       "  </thead>\n",
       "  <tbody>\n",
       "    <tr>\n",
       "      <th>355</th>\n",
       "      <td>Auckland</td>\n",
       "      <td>Major Urban Area</td>\n",
       "      <td>Auckland</td>\n",
       "      <td>1420600</td>\n",
       "    </tr>\n",
       "    <tr>\n",
       "      <th>6</th>\n",
       "      <td>Auckland</td>\n",
       "      <td>Major Urban Area</td>\n",
       "      <td>Auckland</td>\n",
       "      <td>1420600</td>\n",
       "    </tr>\n",
       "    <tr>\n",
       "      <th>681</th>\n",
       "      <td>Wellington</td>\n",
       "      <td>Major Urban Area</td>\n",
       "      <td>Wellington</td>\n",
       "      <td>210200</td>\n",
       "    </tr>\n",
       "    <tr>\n",
       "      <th>332</th>\n",
       "      <td>Wellington</td>\n",
       "      <td>Major Urban Area</td>\n",
       "      <td>Wellington</td>\n",
       "      <td>210200</td>\n",
       "    </tr>\n",
       "    <tr>\n",
       "      <th>45</th>\n",
       "      <td>Hamilton</td>\n",
       "      <td>Major Urban Area</td>\n",
       "      <td>Waikato</td>\n",
       "      <td>168600</td>\n",
       "    </tr>\n",
       "    <tr>\n",
       "      <th>394</th>\n",
       "      <td>Hamilton</td>\n",
       "      <td>Major Urban Area</td>\n",
       "      <td>Waikato</td>\n",
       "      <td>168600</td>\n",
       "    </tr>\n",
       "    <tr>\n",
       "      <th>615</th>\n",
       "      <td>Tauranga</td>\n",
       "      <td>Major Urban Area</td>\n",
       "      <td>Bay of Plenty</td>\n",
       "      <td>142500</td>\n",
       "    </tr>\n",
       "    <tr>\n",
       "      <th>266</th>\n",
       "      <td>Tauranga</td>\n",
       "      <td>Major Urban Area</td>\n",
       "      <td>Bay of Plenty</td>\n",
       "      <td>142500</td>\n",
       "    </tr>\n",
       "    <tr>\n",
       "      <th>104</th>\n",
       "      <td>Lower Hutt</td>\n",
       "      <td>Major Urban Area</td>\n",
       "      <td>Wellington</td>\n",
       "      <td>107500</td>\n",
       "    </tr>\n",
       "    <tr>\n",
       "      <th>453</th>\n",
       "      <td>Lower Hutt</td>\n",
       "      <td>Major Urban Area</td>\n",
       "      <td>Wellington</td>\n",
       "      <td>107500</td>\n",
       "    </tr>\n",
       "  </tbody>\n",
       "</table>\n",
       "</div>"
      ],
      "text/plain": [
       "           Name            Status         Region  PopulationEstimate2018\n",
       "355    Auckland  Major Urban Area       Auckland                 1420600\n",
       "6      Auckland  Major Urban Area       Auckland                 1420600\n",
       "681  Wellington  Major Urban Area     Wellington                  210200\n",
       "332  Wellington  Major Urban Area     Wellington                  210200\n",
       "45     Hamilton  Major Urban Area        Waikato                  168600\n",
       "394    Hamilton  Major Urban Area        Waikato                  168600\n",
       "615    Tauranga  Major Urban Area  Bay of Plenty                  142500\n",
       "266    Tauranga  Major Urban Area  Bay of Plenty                  142500\n",
       "104  Lower Hutt  Major Urban Area     Wellington                  107500\n",
       "453  Lower Hutt  Major Urban Area     Wellington                  107500"
      ]
     },
     "execution_count": 269,
     "metadata": {},
     "output_type": "execute_result"
    }
   ],
   "source": [
    "north_island_data.sort_values(by='PopulationEstimate2018', ascending=False).head(10)\n"
   ]
  },
  {
   "cell_type": "code",
   "execution_count": 270,
   "id": "66440b79",
   "metadata": {},
   "outputs": [
    {
     "data": {
      "text/plain": [
       "<Figure size 1700x600 with 0 Axes>"
      ]
     },
     "execution_count": 270,
     "metadata": {},
     "output_type": "execute_result"
    },
    {
     "data": {
      "text/plain": [
       "<AxesSubplot:xlabel='Name', ylabel='PopulationEstimate2018'>"
      ]
     },
     "execution_count": 270,
     "metadata": {},
     "output_type": "execute_result"
    },
    {
     "data": {
      "text/plain": [
       "Text(0.5, 1.0, 'Top 10 most populated places in North Island NZ')"
      ]
     },
     "execution_count": 270,
     "metadata": {},
     "output_type": "execute_result"
    },
    {
     "data": {
      "image/png": "[encoded data removed]",
      "text/plain": [
       "<Figure size 1700x600 with 1 Axes>"
      ]
     },
     "metadata": {},
     "output_type": "display_data"
    }
   ],
   "source": [
    "top_10 = north_island_data.sort_values(by='PopulationEstimate2018', ascending=False).head(10)\n",
    "\n",
    "plt.figure(figsize=(17, 6))\n",
    "sns.barplot(x='Name', y='PopulationEstimate2018', data=top_10)\n",
    "plt.title(\"Top 10 most populated places in North Island NZ\")\n",
    "plt.show()"
   ]
  },
  {
   "cell_type": "code",
   "execution_count": 271,
   "id": "77b62f8d",
   "metadata": {},
   "outputs": [
    {
     "data": {
      "text/html": [
       "<div>\n",
       "<style scoped>\n",
       "    .dataframe tbody tr th:only-of-type {\n",
       "        vertical-align: middle;\n",
       "    }\n",
       "\n",
       "    .dataframe tbody tr th {\n",
       "        vertical-align: top;\n",
       "    }\n",
       "\n",
       "    .dataframe thead th {\n",
       "        text-align: right;\n",
       "    }\n",
       "</style>\n",
       "<table border=\"1\" class=\"dataframe\">\n",
       "  <thead>\n",
       "    <tr style=\"text-align: right;\">\n",
       "      <th></th>\n",
       "      <th>Name</th>\n",
       "      <th>Status</th>\n",
       "      <th>Region</th>\n",
       "      <th>PopulationEstimate2018</th>\n",
       "    </tr>\n",
       "  </thead>\n",
       "  <tbody>\n",
       "    <tr>\n",
       "      <th>323</th>\n",
       "      <td>Waitangi</td>\n",
       "      <td>Rural Settlement</td>\n",
       "      <td>Northland</td>\n",
       "      <td>50</td>\n",
       "    </tr>\n",
       "    <tr>\n",
       "      <th>672</th>\n",
       "      <td>Waitangi</td>\n",
       "      <td>Rural Settlement</td>\n",
       "      <td>Northland</td>\n",
       "      <td>50</td>\n",
       "    </tr>\n",
       "    <tr>\n",
       "      <th>19</th>\n",
       "      <td>Castlepoint</td>\n",
       "      <td>Rural Settlement</td>\n",
       "      <td>Wellington</td>\n",
       "      <td>60</td>\n",
       "    </tr>\n",
       "    <tr>\n",
       "      <th>368</th>\n",
       "      <td>Castlepoint</td>\n",
       "      <td>Rural Settlement</td>\n",
       "      <td>Wellington</td>\n",
       "      <td>60</td>\n",
       "    </tr>\n",
       "    <tr>\n",
       "      <th>183</th>\n",
       "      <td>Ormondville</td>\n",
       "      <td>Rural Settlement</td>\n",
       "      <td>Manawatū-Wanganui</td>\n",
       "      <td>70</td>\n",
       "    </tr>\n",
       "    <tr>\n",
       "      <th>532</th>\n",
       "      <td>Ormondville</td>\n",
       "      <td>Rural Settlement</td>\n",
       "      <td>Manawatū-Wanganui</td>\n",
       "      <td>70</td>\n",
       "    </tr>\n",
       "    <tr>\n",
       "      <th>233</th>\n",
       "      <td>Raurimu</td>\n",
       "      <td>Rural Settlement</td>\n",
       "      <td>Manawatū-Wanganui</td>\n",
       "      <td>70</td>\n",
       "    </tr>\n",
       "    <tr>\n",
       "      <th>522</th>\n",
       "      <td>Ōnaero Beach</td>\n",
       "      <td>Rural Settlement</td>\n",
       "      <td>Taranaki</td>\n",
       "      <td>70</td>\n",
       "    </tr>\n",
       "    <tr>\n",
       "      <th>582</th>\n",
       "      <td>Raurimu</td>\n",
       "      <td>Rural Settlement</td>\n",
       "      <td>Manawatū-Wanganui</td>\n",
       "      <td>70</td>\n",
       "    </tr>\n",
       "    <tr>\n",
       "      <th>327</th>\n",
       "      <td>Waitōtara</td>\n",
       "      <td>Rural Settlement</td>\n",
       "      <td>Taranaki</td>\n",
       "      <td>70</td>\n",
       "    </tr>\n",
       "  </tbody>\n",
       "</table>\n",
       "</div>"
      ],
      "text/plain": [
       "             Name            Status             Region  PopulationEstimate2018\n",
       "323      Waitangi  Rural Settlement          Northland                      50\n",
       "672      Waitangi  Rural Settlement          Northland                      50\n",
       "19    Castlepoint  Rural Settlement         Wellington                      60\n",
       "368   Castlepoint  Rural Settlement         Wellington                      60\n",
       "183   Ormondville  Rural Settlement  Manawatū-Wanganui                      70\n",
       "532   Ormondville  Rural Settlement  Manawatū-Wanganui                      70\n",
       "233       Raurimu  Rural Settlement  Manawatū-Wanganui                      70\n",
       "522  Ōnaero Beach  Rural Settlement           Taranaki                      70\n",
       "582       Raurimu  Rural Settlement  Manawatū-Wanganui                      70\n",
       "327     Waitōtara  Rural Settlement           Taranaki                      70"
      ]
     },
     "execution_count": 271,
     "metadata": {},
     "output_type": "execute_result"
    }
   ],
   "source": [
    "north_island_data.sort_values(by='PopulationEstimate2018', ascending=True).head(10)\n"
   ]
  },
  {
   "cell_type": "code",
   "execution_count": 272,
   "id": "e755c53a",
   "metadata": {},
   "outputs": [
    {
     "data": {
      "text/plain": [
       "<Figure size 2700x600 with 0 Axes>"
      ]
     },
     "execution_count": 272,
     "metadata": {},
     "output_type": "execute_result"
    },
    {
     "data": {
      "text/plain": [
       "<AxesSubplot:xlabel='Name', ylabel='PopulationEstimate2018'>"
      ]
     },
     "execution_count": 272,
     "metadata": {},
     "output_type": "execute_result"
    },
    {
     "data": {
      "text/plain": [
       "Text(0.5, 1.0, 'Top 10 least populated places in North Island NZ')"
      ]
     },
     "execution_count": 272,
     "metadata": {},
     "output_type": "execute_result"
    },
    {
     "data": {
      "image/png": "[encoded data removed]",
      "text/plain": [
       "<Figure size 2700x600 with 1 Axes>"
      ]
     },
     "metadata": {},
     "output_type": "display_data"
    }
   ],
   "source": [
    "bottom_10 = north_island_data.sort_values(by='PopulationEstimate2018', ascending=True).head(10)\n",
    "\n",
    "plt.figure(figsize=(27, 6))\n",
    "sns.barplot(x='Name', y='PopulationEstimate2018', data=bottom_10)\n",
    "plt.title(\"Top 10 least populated places in North Island NZ\")\n",
    "plt.show()"
   ]
  },
  {
   "cell_type": "code",
   "execution_count": 273,
   "id": "9f690148",
   "metadata": {},
   "outputs": [
    {
     "data": {
      "text/html": [
       "<div>\n",
       "<style scoped>\n",
       "    .dataframe tbody tr th:only-of-type {\n",
       "        vertical-align: middle;\n",
       "    }\n",
       "\n",
       "    .dataframe tbody tr th {\n",
       "        vertical-align: top;\n",
       "    }\n",
       "\n",
       "    .dataframe thead th {\n",
       "        text-align: right;\n",
       "    }\n",
       "</style>\n",
       "<table border=\"1\" class=\"dataframe\">\n",
       "  <thead>\n",
       "    <tr style=\"text-align: right;\">\n",
       "      <th></th>\n",
       "      <th>sum</th>\n",
       "      <th>count</th>\n",
       "    </tr>\n",
       "    <tr>\n",
       "      <th>Region</th>\n",
       "      <th></th>\n",
       "      <th></th>\n",
       "    </tr>\n",
       "  </thead>\n",
       "  <tbody>\n",
       "    <tr>\n",
       "      <th>Auckland</th>\n",
       "      <td>3144000</td>\n",
       "      <td>118</td>\n",
       "    </tr>\n",
       "    <tr>\n",
       "      <th>Bay of Plenty</th>\n",
       "      <td>546640</td>\n",
       "      <td>74</td>\n",
       "    </tr>\n",
       "    <tr>\n",
       "      <th>Gisborne</th>\n",
       "      <td>79560</td>\n",
       "      <td>18</td>\n",
       "    </tr>\n",
       "    <tr>\n",
       "      <th>Hawke's Bay</th>\n",
       "      <td>291280</td>\n",
       "      <td>42</td>\n",
       "    </tr>\n",
       "    <tr>\n",
       "      <th>Manawatū-Wanganui</th>\n",
       "      <td>405120</td>\n",
       "      <td>100</td>\n",
       "    </tr>\n",
       "    <tr>\n",
       "      <th>Northland</th>\n",
       "      <td>225380</td>\n",
       "      <td>116</td>\n",
       "    </tr>\n",
       "    <tr>\n",
       "      <th>Taranaki</th>\n",
       "      <td>189140</td>\n",
       "      <td>44</td>\n",
       "    </tr>\n",
       "    <tr>\n",
       "      <th>Waikato</th>\n",
       "      <td>719220</td>\n",
       "      <td>154</td>\n",
       "    </tr>\n",
       "    <tr>\n",
       "      <th>Wellington</th>\n",
       "      <td>1003920</td>\n",
       "      <td>32</td>\n",
       "    </tr>\n",
       "  </tbody>\n",
       "</table>\n",
       "</div>"
      ],
      "text/plain": [
       "                       sum  count\n",
       "Region                           \n",
       "Auckland           3144000    118\n",
       "Bay of Plenty       546640     74\n",
       "Gisborne             79560     18\n",
       "Hawke's Bay         291280     42\n",
       "Manawatū-Wanganui   405120    100\n",
       "Northland           225380    116\n",
       "Taranaki            189140     44\n",
       "Waikato             719220    154\n",
       "Wellington         1003920     32"
      ]
     },
     "execution_count": 273,
     "metadata": {},
     "output_type": "execute_result"
    }
   ],
   "source": [
    "region_totals = north_island_data.groupby('Region')['PopulationEstimate2018'].agg(['sum', 'count'])\n",
    "region_totals\n"
   ]
  },
  {
   "cell_type": "code",
   "execution_count": 274,
   "id": "e5895faa",
   "metadata": {},
   "outputs": [
    {
     "data": {
      "text/plain": [
       "<Figure size 1700x600 with 0 Axes>"
      ]
     },
     "execution_count": 274,
     "metadata": {},
     "output_type": "execute_result"
    },
    {
     "data": {
      "text/plain": [
       "<AxesSubplot:xlabel='Region', ylabel='sum'>"
      ]
     },
     "execution_count": 274,
     "metadata": {},
     "output_type": "execute_result"
    },
    {
     "data": {
      "image/png": "[encoded data removed]",
      "text/plain": [
       "<Figure size 1700x600 with 1 Axes>"
      ]
     },
     "metadata": {},
     "output_type": "display_data"
    }
   ],
   "source": [
    "plt.figure(figsize=(17, 6))\n",
    "sns.barplot(x=region_totals.index, y='sum', data=region_totals)\n",
    "plt.show()"
   ]
  },
  {
   "cell_type": "code",
   "execution_count": 275,
   "id": "6c985c64",
   "metadata": {},
   "outputs": [
    {
     "data": {
      "text/plain": [
       "(454, 4)"
      ]
     },
     "execution_count": 275,
     "metadata": {},
     "output_type": "execute_result"
    }
   ],
   "source": [
    "south_island_data.shape"
   ]
  },
  {
   "cell_type": "code",
   "execution_count": 276,
   "id": "7728f7ff",
   "metadata": {},
   "outputs": [
    {
     "data": {
      "text/plain": [
       "Name                            object\n",
       "Status                          object\n",
       "Region                          object\n",
       "PopulationEstimate2018-06-30    object\n",
       "dtype: object"
      ]
     },
     "execution_count": 276,
     "metadata": {},
     "output_type": "execute_result"
    }
   ],
   "source": [
    "south_island_data.dtypes"
   ]
  },
  {
   "cell_type": "code",
   "execution_count": 277,
   "id": "6909b0da",
   "metadata": {},
   "outputs": [],
   "source": [
    "south_island_data['PopulationEstimate2018-06-30'] = south_island_data['PopulationEstimate2018-06-30'].str.replace(',', '')\n"
   ]
  },
  {
   "cell_type": "code",
   "execution_count": 278,
   "id": "faed82c5",
   "metadata": {},
   "outputs": [
    {
     "data": {
      "text/html": [
       "<div>\n",
       "<style scoped>\n",
       "    .dataframe tbody tr th:only-of-type {\n",
       "        vertical-align: middle;\n",
       "    }\n",
       "\n",
       "    .dataframe tbody tr th {\n",
       "        vertical-align: top;\n",
       "    }\n",
       "\n",
       "    .dataframe thead th {\n",
       "        text-align: right;\n",
       "    }\n",
       "</style>\n",
       "<table border=\"1\" class=\"dataframe\">\n",
       "  <thead>\n",
       "    <tr style=\"text-align: right;\">\n",
       "      <th></th>\n",
       "      <th>Name</th>\n",
       "      <th>Status</th>\n",
       "      <th>Region</th>\n",
       "      <th>PopulationEstimate2018-06-30</th>\n",
       "    </tr>\n",
       "  </thead>\n",
       "  <tbody>\n",
       "    <tr>\n",
       "      <th>0</th>\n",
       "      <td>Ahaura</td>\n",
       "      <td>Rural Settlement</td>\n",
       "      <td>West Coast</td>\n",
       "      <td>100</td>\n",
       "    </tr>\n",
       "    <tr>\n",
       "      <th>1</th>\n",
       "      <td>Akaroa</td>\n",
       "      <td>Rural Settlement</td>\n",
       "      <td>Canterbury</td>\n",
       "      <td>770</td>\n",
       "    </tr>\n",
       "    <tr>\n",
       "      <th>2</th>\n",
       "      <td>Alexandra</td>\n",
       "      <td>Small Urban Area</td>\n",
       "      <td>Otago</td>\n",
       "      <td>5630</td>\n",
       "    </tr>\n",
       "    <tr>\n",
       "      <th>3</th>\n",
       "      <td>Allanton</td>\n",
       "      <td>Rural Settlement</td>\n",
       "      <td>Otago</td>\n",
       "      <td>310</td>\n",
       "    </tr>\n",
       "    <tr>\n",
       "      <th>4</th>\n",
       "      <td>Amberley</td>\n",
       "      <td>Small Urban Area</td>\n",
       "      <td>Canterbury</td>\n",
       "      <td>2110</td>\n",
       "    </tr>\n",
       "  </tbody>\n",
       "</table>\n",
       "</div>"
      ],
      "text/plain": [
       "        Name            Status      Region PopulationEstimate2018-06-30\n",
       "0     Ahaura  Rural Settlement  West Coast                          100\n",
       "1     Akaroa  Rural Settlement  Canterbury                          770\n",
       "2  Alexandra  Small Urban Area       Otago                         5630\n",
       "3   Allanton  Rural Settlement       Otago                          310\n",
       "4   Amberley  Small Urban Area  Canterbury                         2110"
      ]
     },
     "execution_count": 278,
     "metadata": {},
     "output_type": "execute_result"
    }
   ],
   "source": [
    "south_island_data.head()\n"
   ]
  },
  {
   "cell_type": "code",
   "execution_count": 279,
   "id": "dff95392",
   "metadata": {},
   "outputs": [],
   "source": [
    "south_island_data['PopulationEstimate2018-06-30'] = pd.to_numeric(south_island_data['PopulationEstimate2018-06-30'])\n"
   ]
  },
  {
   "cell_type": "code",
   "execution_count": 280,
   "id": "7775c73c",
   "metadata": {},
   "outputs": [
    {
     "data": {
      "text/plain": [
       "Name                            object\n",
       "Status                          object\n",
       "Region                          object\n",
       "PopulationEstimate2018-06-30     int64\n",
       "dtype: object"
      ]
     },
     "execution_count": 280,
     "metadata": {},
     "output_type": "execute_result"
    }
   ],
   "source": [
    "south_island_data.dtypes\n"
   ]
  },
  {
   "cell_type": "code",
   "execution_count": 281,
   "id": "0bd4efe7",
   "metadata": {},
   "outputs": [
    {
     "data": {
      "text/html": [
       "<div>\n",
       "<style scoped>\n",
       "    .dataframe tbody tr th:only-of-type {\n",
       "        vertical-align: middle;\n",
       "    }\n",
       "\n",
       "    .dataframe tbody tr th {\n",
       "        vertical-align: top;\n",
       "    }\n",
       "\n",
       "    .dataframe thead th {\n",
       "        text-align: right;\n",
       "    }\n",
       "</style>\n",
       "<table border=\"1\" class=\"dataframe\">\n",
       "  <thead>\n",
       "    <tr style=\"text-align: right;\">\n",
       "      <th></th>\n",
       "      <th>Name</th>\n",
       "      <th>Status</th>\n",
       "      <th>Region</th>\n",
       "      <th>PopulationEstimate2018</th>\n",
       "    </tr>\n",
       "  </thead>\n",
       "  <tbody>\n",
       "    <tr>\n",
       "      <th>0</th>\n",
       "      <td>Ahaura</td>\n",
       "      <td>Rural Settlement</td>\n",
       "      <td>West Coast</td>\n",
       "      <td>100</td>\n",
       "    </tr>\n",
       "    <tr>\n",
       "      <th>1</th>\n",
       "      <td>Akaroa</td>\n",
       "      <td>Rural Settlement</td>\n",
       "      <td>Canterbury</td>\n",
       "      <td>770</td>\n",
       "    </tr>\n",
       "  </tbody>\n",
       "</table>\n",
       "</div>"
      ],
      "text/plain": [
       "     Name            Status      Region  PopulationEstimate2018\n",
       "0  Ahaura  Rural Settlement  West Coast                     100\n",
       "1  Akaroa  Rural Settlement  Canterbury                     770"
      ]
     },
     "execution_count": 281,
     "metadata": {},
     "output_type": "execute_result"
    }
   ],
   "source": [
    "south_island_data = south_island_data.rename(columns={'PopulationEstimate2018-06-30': 'PopulationEstimate2018'})\n",
    "south_island_data.head(2)"
   ]
  },
  {
   "cell_type": "code",
   "execution_count": 282,
   "id": "3bf0b2b4",
   "metadata": {},
   "outputs": [
    {
     "data": {
      "text/html": [
       "<div>\n",
       "<style scoped>\n",
       "    .dataframe tbody tr th:only-of-type {\n",
       "        vertical-align: middle;\n",
       "    }\n",
       "\n",
       "    .dataframe tbody tr th {\n",
       "        vertical-align: top;\n",
       "    }\n",
       "\n",
       "    .dataframe thead th {\n",
       "        text-align: right;\n",
       "    }\n",
       "</style>\n",
       "<table border=\"1\" class=\"dataframe\">\n",
       "  <thead>\n",
       "    <tr style=\"text-align: right;\">\n",
       "      <th></th>\n",
       "      <th>Name</th>\n",
       "      <th>Status</th>\n",
       "      <th>Region</th>\n",
       "      <th>PopulationEstimate2018</th>\n",
       "    </tr>\n",
       "  </thead>\n",
       "  <tbody>\n",
       "    <tr>\n",
       "      <th>28</th>\n",
       "      <td>Christchurch</td>\n",
       "      <td>Major Urban Area</td>\n",
       "      <td>Canterbury</td>\n",
       "      <td>372500</td>\n",
       "    </tr>\n",
       "    <tr>\n",
       "      <th>255</th>\n",
       "      <td>Christchurch</td>\n",
       "      <td>Major Urban Area</td>\n",
       "      <td>Canterbury</td>\n",
       "      <td>372500</td>\n",
       "    </tr>\n",
       "    <tr>\n",
       "      <th>40</th>\n",
       "      <td>Dunedin</td>\n",
       "      <td>Major Urban Area</td>\n",
       "      <td>Otago</td>\n",
       "      <td>104200</td>\n",
       "    </tr>\n",
       "    <tr>\n",
       "      <th>267</th>\n",
       "      <td>Dunedin</td>\n",
       "      <td>Major Urban Area</td>\n",
       "      <td>Otago</td>\n",
       "      <td>104200</td>\n",
       "    </tr>\n",
       "    <tr>\n",
       "      <th>352</th>\n",
       "      <td>Nelson</td>\n",
       "      <td>Large Urban Area</td>\n",
       "      <td>Nelson</td>\n",
       "      <td>49800</td>\n",
       "    </tr>\n",
       "    <tr>\n",
       "      <th>125</th>\n",
       "      <td>Nelson</td>\n",
       "      <td>Large Urban Area</td>\n",
       "      <td>Nelson</td>\n",
       "      <td>49800</td>\n",
       "    </tr>\n",
       "    <tr>\n",
       "      <th>72</th>\n",
       "      <td>Invercargill</td>\n",
       "      <td>Large Urban Area</td>\n",
       "      <td>Southland</td>\n",
       "      <td>49100</td>\n",
       "    </tr>\n",
       "    <tr>\n",
       "      <th>299</th>\n",
       "      <td>Invercargill</td>\n",
       "      <td>Large Urban Area</td>\n",
       "      <td>Southland</td>\n",
       "      <td>49100</td>\n",
       "    </tr>\n",
       "    <tr>\n",
       "      <th>422</th>\n",
       "      <td>Timaru</td>\n",
       "      <td>Medium Urban Area</td>\n",
       "      <td>Canterbury</td>\n",
       "      <td>28300</td>\n",
       "    </tr>\n",
       "    <tr>\n",
       "      <th>195</th>\n",
       "      <td>Timaru</td>\n",
       "      <td>Medium Urban Area</td>\n",
       "      <td>Canterbury</td>\n",
       "      <td>28300</td>\n",
       "    </tr>\n",
       "  </tbody>\n",
       "</table>\n",
       "</div>"
      ],
      "text/plain": [
       "             Name             Status      Region  PopulationEstimate2018\n",
       "28   Christchurch   Major Urban Area  Canterbury                  372500\n",
       "255  Christchurch   Major Urban Area  Canterbury                  372500\n",
       "40        Dunedin   Major Urban Area       Otago                  104200\n",
       "267       Dunedin   Major Urban Area       Otago                  104200\n",
       "352        Nelson   Large Urban Area      Nelson                   49800\n",
       "125        Nelson   Large Urban Area      Nelson                   49800\n",
       "72   Invercargill   Large Urban Area   Southland                   49100\n",
       "299  Invercargill   Large Urban Area   Southland                   49100\n",
       "422        Timaru  Medium Urban Area  Canterbury                   28300\n",
       "195        Timaru  Medium Urban Area  Canterbury                   28300"
      ]
     },
     "execution_count": 282,
     "metadata": {},
     "output_type": "execute_result"
    }
   ],
   "source": [
    "south_island_data.sort_values(by='PopulationEstimate2018', ascending=False).head(10)\n"
   ]
  },
  {
   "cell_type": "code",
   "execution_count": 283,
   "id": "a708a248",
   "metadata": {},
   "outputs": [
    {
     "data": {
      "text/plain": [
       "<Figure size 1700x600 with 0 Axes>"
      ]
     },
     "execution_count": 283,
     "metadata": {},
     "output_type": "execute_result"
    },
    {
     "data": {
      "text/plain": [
       "<AxesSubplot:xlabel='Name', ylabel='PopulationEstimate2018'>"
      ]
     },
     "execution_count": 283,
     "metadata": {},
     "output_type": "execute_result"
    },
    {
     "data": {
      "text/plain": [
       "Text(0.5, 1.0, 'Top 10 most populated places in South Island NZ')"
      ]
     },
     "execution_count": 283,
     "metadata": {},
     "output_type": "execute_result"
    },
    {
     "data": {
      "image/png": "[encoded data removed]",
      "text/plain": [
       "<Figure size 1700x600 with 1 Axes>"
      ]
     },
     "metadata": {},
     "output_type": "display_data"
    }
   ],
   "source": [
    "top_10 = south_island_data.sort_values(by='PopulationEstimate2018', ascending=False).head(10)\n",
    "\n",
    "plt.figure(figsize=(17, 6))\n",
    "sns.barplot(x='Name', y='PopulationEstimate2018', data=top_10)\n",
    "plt.title(\"Top 10 most populated places in South Island NZ\")\n",
    "plt.show()"
   ]
  },
  {
   "cell_type": "code",
   "execution_count": 284,
   "id": "9ab186cc",
   "metadata": {},
   "outputs": [
    {
     "data": {
      "text/html": [
       "<div>\n",
       "<style scoped>\n",
       "    .dataframe tbody tr th:only-of-type {\n",
       "        vertical-align: middle;\n",
       "    }\n",
       "\n",
       "    .dataframe tbody tr th {\n",
       "        vertical-align: top;\n",
       "    }\n",
       "\n",
       "    .dataframe thead th {\n",
       "        text-align: right;\n",
       "    }\n",
       "</style>\n",
       "<table border=\"1\" class=\"dataframe\">\n",
       "  <thead>\n",
       "    <tr style=\"text-align: right;\">\n",
       "      <th></th>\n",
       "      <th>Name</th>\n",
       "      <th>Status</th>\n",
       "      <th>Region</th>\n",
       "      <th>PopulationEstimate2018</th>\n",
       "    </tr>\n",
       "  </thead>\n",
       "  <tbody>\n",
       "    <tr>\n",
       "      <th>252</th>\n",
       "      <td>Castle Hill</td>\n",
       "      <td>Rural Settlement</td>\n",
       "      <td>Canterbury</td>\n",
       "      <td>20</td>\n",
       "    </tr>\n",
       "    <tr>\n",
       "      <th>25</th>\n",
       "      <td>Castle Hill</td>\n",
       "      <td>Rural Settlement</td>\n",
       "      <td>Canterbury</td>\n",
       "      <td>20</td>\n",
       "    </tr>\n",
       "    <tr>\n",
       "      <th>377</th>\n",
       "      <td>Pounawea</td>\n",
       "      <td>Rural Settlement</td>\n",
       "      <td>Otago</td>\n",
       "      <td>50</td>\n",
       "    </tr>\n",
       "    <tr>\n",
       "      <th>236</th>\n",
       "      <td>Arthur's Pass</td>\n",
       "      <td>Rural Settlement</td>\n",
       "      <td>Canterbury</td>\n",
       "      <td>50</td>\n",
       "    </tr>\n",
       "    <tr>\n",
       "      <th>150</th>\n",
       "      <td>Pounawea</td>\n",
       "      <td>Rural Settlement</td>\n",
       "      <td>Otago</td>\n",
       "      <td>50</td>\n",
       "    </tr>\n",
       "    <tr>\n",
       "      <th>9</th>\n",
       "      <td>Arthur's Pass</td>\n",
       "      <td>Rural Settlement</td>\n",
       "      <td>Canterbury</td>\n",
       "      <td>50</td>\n",
       "    </tr>\n",
       "    <tr>\n",
       "      <th>127</th>\n",
       "      <td>Ngākuta Bay</td>\n",
       "      <td>Rural Settlement</td>\n",
       "      <td>Marlborough</td>\n",
       "      <td>60</td>\n",
       "    </tr>\n",
       "    <tr>\n",
       "      <th>343</th>\n",
       "      <td>Moana</td>\n",
       "      <td>Rural Settlement</td>\n",
       "      <td>West Coast</td>\n",
       "      <td>60</td>\n",
       "    </tr>\n",
       "    <tr>\n",
       "      <th>354</th>\n",
       "      <td>Ngākuta Bay</td>\n",
       "      <td>Rural Settlement</td>\n",
       "      <td>Marlborough</td>\n",
       "      <td>60</td>\n",
       "    </tr>\n",
       "    <tr>\n",
       "      <th>116</th>\n",
       "      <td>Moana</td>\n",
       "      <td>Rural Settlement</td>\n",
       "      <td>West Coast</td>\n",
       "      <td>60</td>\n",
       "    </tr>\n",
       "  </tbody>\n",
       "</table>\n",
       "</div>"
      ],
      "text/plain": [
       "              Name            Status       Region  PopulationEstimate2018\n",
       "252    Castle Hill  Rural Settlement   Canterbury                      20\n",
       "25     Castle Hill  Rural Settlement   Canterbury                      20\n",
       "377       Pounawea  Rural Settlement        Otago                      50\n",
       "236  Arthur's Pass  Rural Settlement   Canterbury                      50\n",
       "150       Pounawea  Rural Settlement        Otago                      50\n",
       "9    Arthur's Pass  Rural Settlement   Canterbury                      50\n",
       "127    Ngākuta Bay  Rural Settlement  Marlborough                      60\n",
       "343          Moana  Rural Settlement   West Coast                      60\n",
       "354    Ngākuta Bay  Rural Settlement  Marlborough                      60\n",
       "116          Moana  Rural Settlement   West Coast                      60"
      ]
     },
     "execution_count": 284,
     "metadata": {},
     "output_type": "execute_result"
    }
   ],
   "source": [
    "south_island_data.sort_values(by='PopulationEstimate2018', ascending=True).head(10)\n"
   ]
  },
  {
   "cell_type": "code",
   "execution_count": 285,
   "id": "dc9cb592",
   "metadata": {},
   "outputs": [
    {
     "data": {
      "text/plain": [
       "<Figure size 2700x600 with 0 Axes>"
      ]
     },
     "execution_count": 285,
     "metadata": {},
     "output_type": "execute_result"
    },
    {
     "data": {
      "text/plain": [
       "<AxesSubplot:xlabel='Name', ylabel='PopulationEstimate2018'>"
      ]
     },
     "execution_count": 285,
     "metadata": {},
     "output_type": "execute_result"
    },
    {
     "data": {
      "text/plain": [
       "Text(0.5, 1.0, 'Top 10 least populated places in South Island NZ')"
      ]
     },
     "execution_count": 285,
     "metadata": {},
     "output_type": "execute_result"
    },
    {
     "data": {
      "image/png": "[encoded data removed]",
      "text/plain": [
       "<Figure size 2700x600 with 1 Axes>"
      ]
     },
     "metadata": {},
     "output_type": "display_data"
    }
   ],
   "source": [
    "bottom_10 = south_island_data.sort_values(by='PopulationEstimate2018', ascending=True).head(10)\n",
    "\n",
    "plt.figure(figsize=(27, 6))\n",
    "sns.barplot(x='Name', y='PopulationEstimate2018', data=bottom_10)\n",
    "plt.title(\"Top 10 least populated places in South Island NZ\")\n",
    "plt.show()"
   ]
  },
  {
   "cell_type": "code",
   "execution_count": 286,
   "id": "4a7ea7de",
   "metadata": {},
   "outputs": [
    {
     "data": {
      "text/html": [
       "<div>\n",
       "<style scoped>\n",
       "    .dataframe tbody tr th:only-of-type {\n",
       "        vertical-align: middle;\n",
       "    }\n",
       "\n",
       "    .dataframe tbody tr th {\n",
       "        vertical-align: top;\n",
       "    }\n",
       "\n",
       "    .dataframe thead th {\n",
       "        text-align: right;\n",
       "    }\n",
       "</style>\n",
       "<table border=\"1\" class=\"dataframe\">\n",
       "  <thead>\n",
       "    <tr style=\"text-align: right;\">\n",
       "      <th></th>\n",
       "      <th>sum</th>\n",
       "      <th>count</th>\n",
       "    </tr>\n",
       "    <tr>\n",
       "      <th>Region</th>\n",
       "      <th></th>\n",
       "      <th></th>\n",
       "    </tr>\n",
       "  </thead>\n",
       "  <tbody>\n",
       "    <tr>\n",
       "      <th>Canterbury</th>\n",
       "      <td>1089680</td>\n",
       "      <td>174</td>\n",
       "    </tr>\n",
       "    <tr>\n",
       "      <th>Marlborough</th>\n",
       "      <td>78780</td>\n",
       "      <td>34</td>\n",
       "    </tr>\n",
       "    <tr>\n",
       "      <th>Nelson</th>\n",
       "      <td>99600</td>\n",
       "      <td>2</td>\n",
       "    </tr>\n",
       "    <tr>\n",
       "      <th>Otago</th>\n",
       "      <td>409980</td>\n",
       "      <td>116</td>\n",
       "    </tr>\n",
       "    <tr>\n",
       "      <th>Southland</th>\n",
       "      <td>147320</td>\n",
       "      <td>46</td>\n",
       "    </tr>\n",
       "    <tr>\n",
       "      <th>Tasman</th>\n",
       "      <td>73740</td>\n",
       "      <td>38</td>\n",
       "    </tr>\n",
       "    <tr>\n",
       "      <th>West Coast</th>\n",
       "      <td>45580</td>\n",
       "      <td>44</td>\n",
       "    </tr>\n",
       "  </tbody>\n",
       "</table>\n",
       "</div>"
      ],
      "text/plain": [
       "                 sum  count\n",
       "Region                     \n",
       "Canterbury   1089680    174\n",
       "Marlborough    78780     34\n",
       "Nelson         99600      2\n",
       "Otago         409980    116\n",
       "Southland     147320     46\n",
       "Tasman         73740     38\n",
       "West Coast     45580     44"
      ]
     },
     "execution_count": 286,
     "metadata": {},
     "output_type": "execute_result"
    }
   ],
   "source": [
    "region_totals = south_island_data.groupby('Region')['PopulationEstimate2018'].agg(['sum', 'count'])\n",
    "region_totals"
   ]
  },
  {
   "cell_type": "code",
   "execution_count": 287,
   "id": "7470cf8a",
   "metadata": {},
   "outputs": [
    {
     "data": {
      "text/plain": [
       "<Figure size 1700x600 with 0 Axes>"
      ]
     },
     "execution_count": 287,
     "metadata": {},
     "output_type": "execute_result"
    },
    {
     "data": {
      "text/plain": [
       "<AxesSubplot:xlabel='Region', ylabel='sum'>"
      ]
     },
     "execution_count": 287,
     "metadata": {},
     "output_type": "execute_result"
    },
    {
     "data": {
      "image/png": "[encoded data removed]",
      "text/plain": [
       "<Figure size 1700x600 with 1 Axes>"
      ]
     },
     "metadata": {},
     "output_type": "display_data"
    }
   ],
   "source": [
    "plt.figure(figsize=(17, 6))\n",
    "sns.barplot(x=region_totals.index, y='sum', data=region_totals)\n",
    "plt.show()"
   ]
  },
  {
   "cell_type": "code",
   "execution_count": 300,
   "id": "0412f82f",
   "metadata": {},
   "outputs": [
    {
     "data": {
      "text/plain": [
       "<Figure size 1280x960 with 0 Axes>"
      ]
     },
     "execution_count": 300,
     "metadata": {},
     "output_type": "execute_result"
    },
    {
     "data": {
      "text/plain": [
       "<AxesSubplot:xlabel='Name', ylabel='PopulationEstimate2018'>"
      ]
     },
     "execution_count": 300,
     "metadata": {},
     "output_type": "execute_result"
    },
    {
     "data": {
      "text/plain": [
       "(array([0, 1, 2, 3, 4]),\n",
       " [Text(0, 0, 'Castle Hill'),\n",
       "  Text(1, 0, 'Pounawea'),\n",
       "  Text(2, 0, \"Arthur's Pass\"),\n",
       "  Text(3, 0, 'Ngākuta Bay'),\n",
       "  Text(4, 0, 'Moana')])"
      ]
     },
     "execution_count": 300,
     "metadata": {},
     "output_type": "execute_result"
    },
    {
     "data": {
      "image/png": "[encoded data removed]",
      "text/plain": [
       "<Figure size 1280x960 with 1 Axes>"
      ]
     },
     "metadata": {},
     "output_type": "display_data"
    }
   ],
   "source": [
    "plt.figure(dpi = 200)\n",
    "sns.barplot(x='Name', y='PopulationEstimate2018', data=bottom_10);\n",
    "plt.xticks(rotation = 20)"
   ]
  },
  {
   "cell_type": "code",
   "execution_count": null,
   "id": "81e78a4a",
   "metadata": {},
   "outputs": [],
   "source": []
  }
 ],
 "metadata": {
  "kernelspec": {
   "display_name": "Python 3 (ipykernel)",
   "language": "python",
   "name": "python3"
  },
  "language_info": {
   "codemirror_mode": {
    "name": "ipython",
    "version": 3
   },
   "file_extension": ".py",
   "mimetype": "text/x-python",
   "name": "python",
   "nbconvert_exporter": "python",
   "pygments_lexer": "ipython3",
   "version": "3.9.13"
  }
 },
 "nbformat": 4,
 "nbformat_minor": 5
}
