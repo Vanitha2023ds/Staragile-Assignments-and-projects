{
 "cells": [
  {
   "cell_type": "markdown",
   "id": "3a10df7a",
   "metadata": {
    "id": "3a10df7a"
   },
   "source": [
    "# Conditional Statements\n",
    "- Write solution of each question in the cell given below the corresponsing question."
   ]
  },
  {
   "cell_type": "markdown",
   "id": "60c2d89a",
   "metadata": {
    "id": "60c2d89a"
   },
   "source": [
    "#### 1. Take a list of numbers as input. Print whether the average is even or odd."
   ]
  },
  {
   "cell_type": "code",
   "execution_count": 3,
   "id": "74d8f988",
   "metadata": {
    "id": "74d8f988"
   },
   "outputs": [
    {
     "name": "stdout",
     "output_type": "stream",
     "text": [
      "avg:  66.0\n",
      "average is even\n"
     ]
    }
   ],
   "source": [
    "list=[44,55,66,77,88]\n",
    "avg=sum(list)/len(list)\n",
    "print(\"avg: \",avg)\n",
    "if(avg%2==0):\n",
    "  print(\"average is even\")\n",
    "else:\n",
    "  print(\"average is odd\")"
   ]
  },
  {
   "cell_type": "markdown",
   "id": "4846bb19",
   "metadata": {
    "id": "4846bb19"
   },
   "source": [
    "#### 2. Take three strings as input. Calculate the number of words in each string and find out the list having highest number of words."
   ]
  },
  {
   "cell_type": "code",
   "execution_count": 4,
   "id": "e2984a70",
   "metadata": {
    "id": "e2984a70"
   },
   "outputs": [
    {
     "name": "stdout",
     "output_type": "stream",
     "text": [
      "Input of strings: Calculate the number\n",
      "Calculate\n"
     ]
    }
   ],
   "source": [
    "str1=input(\"Input of strings: \")\n",
    "max_len=0\n",
    "c=str1.split()\n",
    "for i in c:\n",
    "  if len(i) > max_len:\n",
    "        max_len = len(i)\n",
    "        ABC = i\n",
    "print(ABC)"
   ]
  },
  {
   "cell_type": "markdown",
   "id": "0e0d8196",
   "metadata": {
    "id": "0e0d8196"
   },
   "source": [
    "#### 3. Take four numbers as input in a single line. Find out the largest number."
   ]
  },
  {
   "cell_type": "code",
   "execution_count": 5,
   "id": "2b724327",
   "metadata": {
    "id": "2b724327"
   },
   "outputs": [
    {
     "data": {
      "text/plain": [
       "99"
      ]
     },
     "execution_count": 5,
     "metadata": {},
     "output_type": "execute_result"
    }
   ],
   "source": [
    "x=[11,22,33,44,55,66,77,88,99]\n",
    "x.sort()\n",
    "x[-1]"
   ]
  },
  {
   "cell_type": "markdown",
   "id": "16c0440a",
   "metadata": {
    "id": "16c0440a"
   },
   "source": [
    "#### 4. Take four numbers as input and find the second largest numer."
   ]
  },
  {
   "cell_type": "code",
   "execution_count": 6,
   "id": "795ee65e",
   "metadata": {
    "id": "795ee65e"
   },
   "outputs": [
    {
     "data": {
      "text/plain": [
       "88"
      ]
     },
     "execution_count": 6,
     "metadata": {},
     "output_type": "execute_result"
    }
   ],
   "source": [
    "x=[11,22,33,44,55,66,77,88,99]\n",
    "x.sort()\n",
    "x[-2]"
   ]
  },
  {
   "cell_type": "markdown",
   "id": "2f6641a4",
   "metadata": {
    "id": "2f6641a4"
   },
   "source": [
    "#### 5. Create a dictionary having three items. Key of each item is the name of a student, value associated with each key is a list of marks in five subjects. Given this dictionary print the top and lowest scorers."
   ]
  },
  {
   "cell_type": "code",
   "execution_count": 7,
   "id": "F5HgtrHdofCn",
   "metadata": {
    "id": "F5HgtrHdofCn"
   },
   "outputs": [
    {
     "name": "stdout",
     "output_type": "stream",
     "text": [
      "top_score:  [66, 77, 88, 99, 11, 22]\n",
      "low_score:  [11, 22, 33, 44, 55]\n"
     ]
    }
   ],
   "source": [
    "students={'x1':[11,22,33,44,55], 'y1':[55,66,77,88,99], 'z1':[66,77,88,99,11,22]}\n",
    "top_score=max(students.values())\n",
    "print(\"top_score: \",top_score)\n",
    "low_score=min(students.values())\n",
    "print(\"low_score: \",low_score)"
   ]
  },
  {
   "cell_type": "markdown",
   "id": "64db0791",
   "metadata": {
    "id": "64db0791"
   },
   "source": [
    "#### 6. Create a dictionary (called data) of having at least 5 items : Usernames as keys and Passwords as values. Write a program that takes a username and a password as input. If the credentials match any iteam in the given dictionary data then print acces granted otherwise print whether username, password or both are wrong."
   ]
  },
  {
   "cell_type": "code",
   "execution_count": 1,
   "id": "1ca5ccba",
   "metadata": {
    "id": "1ca5ccba"
   },
   "outputs": [
    {
     "name": "stdout",
     "output_type": "stream",
     "text": [
      "Name RAM\n",
      "Passwords A\n",
      "acces granted\n"
     ]
    }
   ],
   "source": [
    "dict={'RAM':'A', 'SAM':'B', 'JON':'C', 'TOM':'D', 'SEN':'E'}\n",
    "x=input(\"Name \")\n",
    "y=input(\"Passwords \")\n",
    "if x in dict:\n",
    "  print(\"acces granted\")\n",
    "else:\n",
    "  print(\"whether username, password or both are wrong\")"
   ]
  },
  {
   "cell_type": "markdown",
   "id": "27c56bb8",
   "metadata": {
    "id": "27c56bb8"
   },
   "source": [
    "#### 7. Take a list as input in a single line containing 15 numbers as marks out of 100. The first five numbers in the list are marks of Tom, the middle 5 numbers are marks of Bob and the last 5 are the marks of Jon. Find out the top and lowest scorer."
   ]
  },
  {
   "cell_type": "code",
   "execution_count": 61,
   "id": "6874b0a7",
   "metadata": {},
   "outputs": [
    {
     "name": "stdout",
     "output_type": "stream",
     "text": [
      "Tom marks:  (89, 96, 87, 94, 100)\n",
      "Bob marks:  (71, 56, 76, 87, 84)\n",
      "Jon marks:  (82, 95, 94, 83, 89)\n",
      "avg_tom: 93.2\n",
      "avg_bob: 74.8\n",
      "avg_jon: 88.6\n",
      "top scorer is Tom\n",
      "lowest scorer is Bob\n"
     ]
    }
   ],
   "source": [
    "x=[89,96,87,94,100,71,56,76,87,84,82,95,94,83,89]\n",
    "Tom=x[0],x[1],x[2],x[3],x[4]\n",
    "print(\"Tom marks: \", Tom)\n",
    "Bob=x[5],x[6],x[7],x[8],x[9]\n",
    "print(\"Bob marks: \",Bob)\n",
    "Jon=x[10],x[11],x[12],x[13],x[14]\n",
    "print(\"Jon marks: \",Jon)\n",
    "avg_tom=sum(Tom)/len (Tom)\n",
    "print(\"avg_tom:\", avg_tom)\n",
    "avg_bob=sum(Bob)/len(Bob)\n",
    "print(\"avg_bob:\", avg_bob)\n",
    "avg_jon=sum(Jon)/len(Jon)\n",
    "print(\"avg_jon:\",avg_jon)\n",
    "if avg_bob<avg_tom>avg_jon:\n",
    "    print(\"top scorer is Tom\")\n",
    "elif avg_bob>avg_jon>avg_tom:\n",
    "    print(\"top scorer is Bob\")\n",
    "else:\n",
    "    print(\"top scorer is jon\")\n",
    "\n",
    "if avg_tom<avg_bob<avg_jon:\n",
    "    print(\"lowest scorer is Tom\")\n",
    "elif avg_bob<avg_jon<avg_tom:\n",
    "    print(\"lowest scorer is Bob\")\n",
    "else:\n",
    "    print(\"lowest scorer is jon\")"
   ]
  },
  {
   "cell_type": "markdown",
   "id": "20f59542",
   "metadata": {
    "id": "20f59542"
   },
   "source": [
    "#### 8. Take a number as input and print whether the number is a multiple of 3,5 or both."
   ]
  },
  {
   "cell_type": "code",
   "execution_count": 16,
   "id": "otWg3MXaYing",
   "metadata": {
    "id": "otWg3MXaYing"
   },
   "outputs": [
    {
     "name": "stdout",
     "output_type": "stream",
     "text": [
      "Number: 55\n",
      "multiple of 3 or 5:  55\n"
     ]
    }
   ],
   "source": [
    "n=int(input(\"Number: \"))\n",
    "if (n%3==0) and (n%5==0):\n",
    "  print(\"multiple of 3 and 5: \",n)\n",
    "elif (n%3==0) or (n%5==0):\n",
    "  print(\"multiple of 3 or 5: \",n)\n",
    "else:\n",
    "  print(\" whether the number is a multiple of 3 or 5\")"
   ]
  },
  {
   "cell_type": "markdown",
   "id": "b770e791",
   "metadata": {
    "id": "b770e791"
   },
   "source": [
    "#### 9. Write a program to take three strings as input and print the string having second largest number of words."
   ]
  },
  {
   "cell_type": "code",
   "execution_count": 36,
   "id": "0359e7ef",
   "metadata": {
    "id": "0359e7ef"
   },
   "outputs": [
    {
     "name": "stdout",
     "output_type": "stream",
     "text": [
      "['python', 'class']\n"
     ]
    },
    {
     "data": {
      "text/plain": [
       "2"
      ]
     },
     "execution_count": 36,
     "metadata": {},
     "output_type": "execute_result"
    }
   ],
   "source": [
    "x=[\"python class\",\"tom\",\"happy weekend\"]\n",
    "len(x[2].split())\n",
    "y=x[0].split( )\n",
    "print(y)\n",
    "y1=list(y)\n",
    "len(y1)"
   ]
  },
  {
   "cell_type": "code",
   "execution_count": 35,
   "id": "b81e0bca",
   "metadata": {},
   "outputs": [
    {
     "name": "stdout",
     "output_type": "stream",
     "text": [
      "Enter first word: abcdef\n",
      "Enter second word: xyz\n",
      "Enter third word: jonh\n",
      "False\n"
     ]
    }
   ],
   "source": [
    "first = (input('Enter first word: '))\n",
    "second = (input('Enter second word: '))\n",
    "third = (input('Enter third word: '))\n",
    "if first <= second <= third:\n",
    "    print(True)\n",
    "if first[0] <= second[0] <= third[0]:\n",
    "    print(True)\n",
    "\n",
    "\n",
    "if first.lower() <= second.lower() <= third.lower():\n",
    "    print(True)\n",
    "\n",
    "\n",
    "print(first.lower() <= second.lower() <= third.lower())"
   ]
  },
  {
   "cell_type": "markdown",
   "id": "5a485c8c",
   "metadata": {
    "id": "5a485c8c"
   },
   "source": [
    "#### 10. Write a program to take four strings as input and print the string having third highest number of words."
   ]
  },
  {
   "cell_type": "code",
   "execution_count": 22,
   "id": "72060b96",
   "metadata": {},
   "outputs": [
    {
     "name": "stdout",
     "output_type": "stream",
     "text": [
      "enter string four strings as input\n",
      "['biggest word is{} char long :', '7']\n",
      "[4, 7, 2, 5]\n",
      "3rd biggest word is {}: four\n",
      "3rd biggest word is {}: ['as', 'four']\n"
     ]
    }
   ],
   "source": [
    "def Thirdhighest(strarr):\n",
    "    \n",
    "    words = strarr.split()\n",
    "    sort=[] #length of words\n",
    "    sort2=[]# words\n",
    "    for word in words:\n",
    "        sort2.append(word)\n",
    "        sort.append(len(word))\n",
    "        sort2.sort()\n",
    "    \n",
    "    maxlist= len(max(sort2, key=len))\n",
    "    for word in sort2:\n",
    "        if len(word)== maxlist:\n",
    "            sort2.remove(word)\n",
    "            \n",
    "    maxlist2= len(max(sort2, key=len))\n",
    "    for word in sort2:\n",
    "        if len(word)== maxlist2:\n",
    "            sort2.remove(word)\n",
    "        \n",
    "    maxlist3 = (max(sort2, key=len))\n",
    "    print\n",
    "    print ([\"biggest word is{} char long :\",format(maxlist)])\n",
    "    print (sort)\n",
    "    print (\"3rd biggest word is {}:\",format(maxlist3))\n",
    "    print (\"3rd biggest word is {}:\",format(sort2))\n",
    "Thirdhighest(input(\"enter string\"))        "
   ]
  }
 ],
 "metadata": {
  "colab": {
   "provenance": []
  },
  "kernelspec": {
   "display_name": "Python 3 (ipykernel)",
   "language": "python",
   "name": "python3"
  },
  "language_info": {
   "codemirror_mode": {
    "name": "ipython",
    "version": 3
   },
   "file_extension": ".py",
   "mimetype": "text/x-python",
   "name": "python",
   "nbconvert_exporter": "python",
   "pygments_lexer": "ipython3",
   "version": "3.9.13"
  }
 },
 "nbformat": 4,
 "nbformat_minor": 5
}
