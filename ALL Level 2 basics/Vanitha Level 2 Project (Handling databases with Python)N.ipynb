{
 "cells": [
  {
   "cell_type": "code",
   "execution_count": 52,
   "id": "4e6e1f5d",
   "metadata": {},
   "outputs": [],
   "source": [
    "import mysql.connector\n",
    "from mysql.connector import Error\n",
    "import pandas as pd"
   ]
  },
  {
   "cell_type": "code",
   "execution_count": 53,
   "id": "abcfb9c1",
   "metadata": {},
   "outputs": [],
   "source": [
    "# Define Server Connection Function\n",
    "def create_server_connection(host_name, user_name, user_password):\n",
    "    connection = None\n",
    "    try:\n",
    "        connection = mysql.connector.connect(\n",
    "            host=host_name,\n",
    "            user=user_name,\n",
    "            passwd=user_password\n",
    "        )\n",
    "        print(\"MySQL Database connection successful\")\n",
    "    except Error as err:\n",
    "        print(f\"Error: '{err}'\")\n",
    "\n",
    "    return connection\n",
    "\n",
    "pw = \"Vanithabm$7\" # IMPORTANT! Put your MySQL Terminal password here.\n",
    "db = \"VanDBN\" # This is the name of the database we will create in the next step - call it whatever you like."
   ]
  },
  {
   "cell_type": "code",
   "execution_count": 54,
   "id": "d6e6ac52",
   "metadata": {},
   "outputs": [
    {
     "name": "stdout",
     "output_type": "stream",
     "text": [
      "MySQL Database connection successful\n"
     ]
    }
   ],
   "source": [
    "connection = create_server_connection(\"localhost\", \"root\", pw)"
   ]
  },
  {
   "cell_type": "code",
   "execution_count": 55,
   "id": "892cf137",
   "metadata": {},
   "outputs": [
    {
     "name": "stdout",
     "output_type": "stream",
     "text": [
      "Database created successfully\n"
     ]
    }
   ],
   "source": [
    "# Create a New Database\n",
    "\n",
    "def create_database(connection, query):\n",
    "    cursor = connection.cursor()\n",
    "    try:\n",
    "        cursor.execute(query)\n",
    "        print(\"Database created successfully\")\n",
    "    except Error as err:\n",
    "        print(f\"Error: '{err}'\")\n",
    "\n",
    "create_database_query = \"CREATE DATABASE VanDBN\"\n",
    "create_database(connection, create_database_query)"
   ]
  },
  {
   "cell_type": "code",
   "execution_count": 56,
   "id": "81a43fca",
   "metadata": {},
   "outputs": [],
   "source": [
    "# Modify Server Connection Function, Create Database Connection Function\n",
    "\n",
    "def create_db_connection(host_name, user_name, user_password, db_name):\n",
    "    connection = None\n",
    "    try:\n",
    "        connection = mysql.connector.connect(\n",
    "            host=host_name,\n",
    "            user=user_name,\n",
    "            passwd=user_password,\n",
    "            database=db_name\n",
    "        )\n",
    "        print(\"MySQL Database connection successful\")\n",
    "    except Error as err:\n",
    "        print(f\"Error: '{err}'\")\n",
    "\n",
    "    return connection"
   ]
  },
  {
   "cell_type": "code",
   "execution_count": 57,
   "id": "64a43c9d",
   "metadata": {},
   "outputs": [],
   "source": [
    "# Define Query Execution Function - is to create a function which will allow us to execute queries written in SQL.\n",
    "\n",
    "def execute_query(connection, query):\n",
    "    cursor = connection.cursor()\n",
    "    try:\n",
    "        cursor.execute(query)\n",
    "        connection.commit()\n",
    "        print(\"Query successful\")\n",
    "    except Error as err:\n",
    "        print(f\"Error: '{err}'\")"
   ]
  },
  {
   "cell_type": "code",
   "execution_count": 58,
   "id": "060214ac",
   "metadata": {},
   "outputs": [
    {
     "name": "stdout",
     "output_type": "stream",
     "text": [
      "MySQL Database connection successful\n",
      "Query successful\n"
     ]
    }
   ],
   "source": [
    "# Create Teacher Table\n",
    "# Assign our SQL command to a python variable using triple quotes to create a multi-line string\n",
    "\n",
    "create_teacher_table= \"\"\"\n",
    "CREATE TABLE department (dname varchar(30), dnumber int, mgr_ssn int, primary key(dnumber), index(dnumber));\n",
    "\"\"\"\n",
    "\n",
    "connection = create_db_connection(\"localhost\", \"root\", pw, db) # Connect to the Database\n",
    "execute_query(connection, create_teacher_table) # Execute our defined query"
   ]
  },
  {
   "cell_type": "code",
   "execution_count": 59,
   "id": "5a9771a3",
   "metadata": {},
   "outputs": [
    {
     "name": "stdout",
     "output_type": "stream",
     "text": [
      "MySQL Database connection successful\n",
      "Query successful\n"
     ]
    }
   ],
   "source": [
    "# Create Teacher Table\n",
    "# Assign our SQL command to a python variable using triple quotes to create a multi-line string\n",
    "\n",
    "create_teacher_table= \"\"\"\n",
    "CREATE TABLE employee (fname varchar(50) NOT NULL, LNAME varchar(50) not null, SSN int, bdate date, Address varchar(50), gender varchar(10), salary int, super_ssn int, dno int, primary key(ssn),index(SSN), foreign key (dno)references department(dnumber));\n",
    "\"\"\"\n",
    "\n",
    "connection = create_db_connection(\"localhost\", \"root\", pw, db) # Connect to the Database\n",
    "execute_query(connection, create_teacher_table) # Execute our defined query"
   ]
  },
  {
   "cell_type": "code",
   "execution_count": 60,
   "id": "791499d0",
   "metadata": {},
   "outputs": [
    {
     "name": "stdout",
     "output_type": "stream",
     "text": [
      "MySQL Database connection successful\n",
      "Query successful\n"
     ]
    }
   ],
   "source": [
    "# Create Teacher Table\n",
    "# Assign our SQL command to a python variable using triple quotes to create a multi-line string\n",
    "\n",
    "create_teacher_table= \"\"\"\n",
    "CREATE TABLE dept_location (dnumber int, location varchar(30), index(dnumber), foreign key(dnumber) references department(dnumber));\n",
    "\"\"\"\n",
    "\n",
    "connection = create_db_connection(\"localhost\", \"root\", pw, db) # Connect to the Database\n",
    "execute_query(connection, create_teacher_table) # Execute our defined query"
   ]
  },
  {
   "cell_type": "code",
   "execution_count": 61,
   "id": "d33c0d4c",
   "metadata": {},
   "outputs": [
    {
     "name": "stdout",
     "output_type": "stream",
     "text": [
      "MySQL Database connection successful\n",
      "Query successful\n"
     ]
    }
   ],
   "source": [
    "# Create Teacher Table\n",
    "# Assign our SQL command to a python variable using triple quotes to create a multi-line string\n",
    "\n",
    "create_teacher_table= \"\"\"\n",
    "Create table project(pname varchar(30), pnumber int, plocation varchar(30), dnum int, index(dnum), primary key(pnumber),foreign key(dnum) references department(dnumber));\n",
    "\"\"\"\n",
    "\n",
    "connection = create_db_connection(\"localhost\", \"root\", pw, db) # Connect to the Database\n",
    "execute_query(connection, create_teacher_table) # Execute our defined query"
   ]
  },
  {
   "cell_type": "code",
   "execution_count": 62,
   "id": "f9e40e6d",
   "metadata": {},
   "outputs": [
    {
     "name": "stdout",
     "output_type": "stream",
     "text": [
      "MySQL Database connection successful\n",
      "Query successful\n"
     ]
    }
   ],
   "source": [
    "# Create Teacher Table\n",
    "# Assign our SQL command to a python variable using triple quotes to create a multi-line string\n",
    "\n",
    "create_teacher_table= \"\"\"\n",
    "Create table works_on(essn int, pno int, hours int, index(essn), index(pno), foreign key(essn) references employee(ssn), foreign key(pno) references project(pnumber));\n",
    "\"\"\"\n",
    "\n",
    "connection = create_db_connection(\"localhost\", \"root\", pw, db) # Connect to the Database\n",
    "execute_query(connection, create_teacher_table) # Execute our defined query"
   ]
  },
  {
   "cell_type": "code",
   "execution_count": 63,
   "id": "f18e07c1",
   "metadata": {},
   "outputs": [
    {
     "name": "stdout",
     "output_type": "stream",
     "text": [
      "MySQL Database connection successful\n",
      "Query successful\n"
     ]
    }
   ],
   "source": [
    "# Create Teacher Table\n",
    "# Assign our SQL command to a python variable using triple quotes to create a multi-line string\n",
    "\n",
    "create_teacher_table= \"\"\"\n",
    "Create table dependent(essn int, dependent_name varchar(50), gender varchar(10), bdate date, relationship varchar(20), primary key(essn,dependent_name),index(essn), foreign key(essn) references employee(ssn)); \n",
    "\"\"\"\n",
    "\n",
    "connection = create_db_connection(\"localhost\", \"root\", pw, db) # Connect to the Database\n",
    "execute_query(connection, create_teacher_table) # Execute our defined query"
   ]
  },
  {
   "cell_type": "markdown",
   "id": "25b4227e",
   "metadata": {},
   "source": [
    "# Populate Tables"
   ]
  },
  {
   "cell_type": "code",
   "execution_count": 64,
   "id": "7ca95d11",
   "metadata": {},
   "outputs": [
    {
     "name": "stdout",
     "output_type": "stream",
     "text": [
      "MySQL Database connection successful\n",
      "Query successful\n"
     ]
    }
   ],
   "source": [
    "# Populate Teacher Table\n",
    "\n",
    "pop_teacher = \"\"\"\n",
    "insert into department values('Research',5,333445555),\n",
    "('Administration',4,987654321),\n",
    "('Headquarters',1,888665555);\n",
    "\"\"\"\n",
    "\n",
    "connection = create_db_connection(\"localhost\", \"root\", pw, db)\n",
    "execute_query(connection, pop_teacher)\n",
    "# Insert the employee related data of 6 employees to the employee table"
   ]
  },
  {
   "cell_type": "code",
   "execution_count": 65,
   "id": "6e4c9df9",
   "metadata": {},
   "outputs": [
    {
     "name": "stdout",
     "output_type": "stream",
     "text": [
      "MySQL Database connection successful\n",
      "Query successful\n",
      "Query successful\n",
      "Query successful\n",
      "Query successful\n",
      "Query successful\n"
     ]
    }
   ],
   "source": [
    "# Populate Remaining Tables\n",
    "\n",
    "pop_client = \"\"\"\n",
    "insert into employee values('John','Smith',123456789,'1965-01-09','731, Houston','M', 30000,333445555, 5),\n",
    "('Franklin','Wong',333445555,'1955-12-08','638, Houston','M', 40000,888665555, 5),\n",
    "('Alicia','Zelaya',999887777,'1968-01-19','3321, spring','F',25000,987654321, 4),\n",
    "('Jennifer','Wallace',987654321,'1941-06-20','251, Bellaaire','F', 43000,888665555, 4),\n",
    "('Ramesh','Narayan',666884444,'1962-09-15','975, Humble','M', 38000,333445555, 5),\n",
    "('Joyce','English',453453453,'1972-07-31','5631, Houston','F', 25000,333445555, 5),\n",
    "('Ahmad','Jabbar',987987987,'1969-03-29','980, Houston','M', 25000,987654321, 4),\n",
    "('James','Borg',888665555,'1937-11-10','450, Houston','M', 55000,null, 1);\n",
    "\"\"\"\n",
    "\n",
    "pop_location = \"\"\"\n",
    "insert into dept_location values(1, 'Houston'),\n",
    "(4, 'Stafford'),\n",
    "(5, 'Bellaire'),\n",
    "(5, 'Sugarland'),\n",
    "(5, 'Houston');\n",
    "\"\"\"\n",
    "\n",
    "pop_course = \"\"\"\n",
    "insert into project values('ProductX',1,'Bellaire', 5),\n",
    "('ProductY',2,'Sugarland', 5),\n",
    "('ProductZ',3,'Houston', 5),\n",
    "('Computerisation',10,'Stafford', 4),\n",
    "('Reorganisation',20,'Houston', 1),\n",
    "('Newbenefits',30,'Stafford', 4);\n",
    "\"\"\"\n",
    "\n",
    "pop_takescourse = \"\"\"\n",
    "insert into works_on values(123456789,1,33),\n",
    "(123456789,2, 75),\n",
    "(666884444,3,40),\n",
    "(453453453,1,20),\n",
    "(453453453,2,20),\n",
    "(333445555,2,10),\n",
    "(333445555,3,10),\n",
    "(333445555,10,10),\n",
    "(333445555,20,10),\n",
    "(999887777,30,30),\n",
    "(999887777,10,10),\n",
    "(987987987,10,35),\n",
    "(987987987,30,5),\n",
    "(987654321,30,20),\n",
    "(987654321,20,15);\n",
    "\"\"\"\n",
    "\n",
    "pop_dependent = \"\"\"\n",
    "insert into dependent values(333445555,'Alice','F','1986-04-05','Daughter'),\n",
    "(333445555,'Theodore','M','1983-10-25','Son'),\n",
    "(333445555,'Joy','F','1958-06-03','Spouse'),\n",
    "(987654321,'Abner','M','1942-02-28','Spouse'),\n",
    "(123456789,'Alice','F','1988-12-30','Daughter'),\n",
    "(123456789,'Michael','M','1986-01-04','Son'),\n",
    "(123456789,'Elizabeth','F','1967-05-05','Spouse');\n",
    "\"\"\"\n",
    "\n",
    "connection = create_db_connection(\"localhost\", \"root\", pw, db)\n",
    "execute_query(connection, pop_client)\n",
    "execute_query(connection, pop_location)\n",
    "execute_query(connection, pop_course)\n",
    "execute_query(connection, pop_takescourse)\n",
    "execute_query(connection, pop_dependent)"
   ]
  },
  {
   "cell_type": "code",
   "execution_count": 75,
   "id": "c2198bef",
   "metadata": {},
   "outputs": [
    {
     "name": "stdout",
     "output_type": "stream",
     "text": [
      "MySQL Database connection successful\n",
      "Query successful\n"
     ]
    }
   ],
   "source": [
    "# Create Teacher Table\n",
    "# Assign our SQL command to a python variable using triple quotes to create a multi-line string\n",
    "\n",
    "create_teacher_table= \"\"\"\n",
    "Create table depart(deptid varchar(50),\n",
    "deptname varchar(50)NOT NULL);\n",
    "\"\"\"\n",
    "\n",
    "connection = create_db_connection(\"localhost\", \"root\", pw, db) # Connect to the Database\n",
    "execute_query(connection, create_teacher_table) # Execute our defined query"
   ]
  },
  {
   "cell_type": "code",
   "execution_count": 79,
   "id": "5b7d45e3",
   "metadata": {},
   "outputs": [
    {
     "name": "stdout",
     "output_type": "stream",
     "text": [
      "MySQL Database connection successful\n",
      "Query successful\n"
     ]
    }
   ],
   "source": [
    "# Updating Client Address\n",
    "\n",
    "# The School receives notification that the Big Business Federation has moved office, \n",
    "# and now they are located at 23 Fingiertweg, 14534 Berlin. We can change that in our database like so:\n",
    "\n",
    "update = \"\"\"\n",
    "CREATE TABLE EMPLOYEE_scores (\n",
    "EMPLOYEE_id INT PRIMARY KEY,\n",
    "student_name VARCHAR(255) NOT NULL,\n",
    "emp_1 INT NOT NULL,\n",
    "emp_2 INT NOT NULL,\n",
    "emp_3 INT NOT NULL,\n",
    "emp_4 INT NOT NULL,\n",
    "emp_5 INT NOT NULL);\n",
    "\"\"\"\n",
    "\n",
    "connection = create_db_connection(\"localhost\", \"root\", pw, db)\n",
    "execute_query(connection, update)"
   ]
  },
  {
   "cell_type": "code",
   "execution_count": 80,
   "id": "5a191c0c",
   "metadata": {},
   "outputs": [
    {
     "name": "stdout",
     "output_type": "stream",
     "text": [
      "MySQL Database connection successful\n"
     ]
    }
   ],
   "source": [
    "# Deleting a Course\n",
    "q1 = \"\"\"\n",
    "DELETE FROM EMPLOYEE_scores WHERE EMPLOYEE_id = 5;\n",
    "\"\"\"\n",
    "\n",
    "connection = create_db_connection(\"localhost\", \"root\", pw, db)\n",
    "results = read_query(connection, q1)\n",
    "\n",
    "from_db = []\n",
    "\n",
    "for result in results:\n",
    "  print(result)"
   ]
  },
  {
   "cell_type": "code",
   "execution_count": null,
   "id": "7a10cc7b",
   "metadata": {},
   "outputs": [],
   "source": []
  }
 ],
 "metadata": {
  "kernelspec": {
   "display_name": "Python 3 (ipykernel)",
   "language": "python",
   "name": "python3"
  },
  "language_info": {
   "codemirror_mode": {
    "name": "ipython",
    "version": 3
   },
   "file_extension": ".py",
   "mimetype": "text/x-python",
   "name": "python",
   "nbconvert_exporter": "python",
   "pygments_lexer": "ipython3",
   "version": "3.9.13"
  }
 },
 "nbformat": 4,
 "nbformat_minor": 5
}
