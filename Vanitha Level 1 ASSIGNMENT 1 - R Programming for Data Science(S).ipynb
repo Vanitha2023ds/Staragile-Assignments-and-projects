{
 "cells": [
  {
   "cell_type": "markdown",
   "id": "c316ba63",
   "metadata": {},
   "source": [
    "## Question 1: Write a Program to get the first 6 Fibonacci Numbers using R?"
   ]
  },
  {
   "cell_type": "code",
   "execution_count": 1,
   "id": "71aa8bcd",
   "metadata": {},
   "outputs": [
    {
     "data": {
      "text/html": [
       "<ol class=list-inline>\n",
       "\t<li>0</li>\n",
       "\t<li>1</li>\n",
       "\t<li>1</li>\n",
       "\t<li>2</li>\n",
       "\t<li>3</li>\n",
       "\t<li>5</li>\n",
       "</ol>\n"
      ],
      "text/latex": [
       "\\begin{enumerate*}\n",
       "\\item 0\n",
       "\\item 1\n",
       "\\item 1\n",
       "\\item 2\n",
       "\\item 3\n",
       "\\item 5\n",
       "\\end{enumerate*}\n"
      ],
      "text/markdown": [
       "1. 0\n",
       "2. 1\n",
       "3. 1\n",
       "4. 2\n",
       "5. 3\n",
       "6. 5\n",
       "\n",
       "\n"
      ],
      "text/plain": [
       "[1] 0 1 1 2 3 5"
      ]
     },
     "metadata": {},
     "output_type": "display_data"
    }
   ],
   "source": [
    "fibonacci <- function(n) {\n",
    "  fib <- numeric(n)\n",
    "  fib[1] <- 0\n",
    "  if (n > 1) {\n",
    "    fib[2] <- 1\n",
    "    for (i in 3:n) {\n",
    "      fib[i] <- fib[i-1] + fib[i-2]\n",
    "    }\n",
    "  }\n",
    "  return(fib)\n",
    "}\n",
    "\n",
    "# Get the first 6 Fibonacci numbers\n",
    "n <- 6\n",
    "fib_nums <- fibonacci(n)\n",
    "fib_nums"
   ]
  },
  {
   "cell_type": "markdown",
   "id": "eaeae24b",
   "metadata": {},
   "source": [
    "## Question 2: Count the number of words in a string \"StarAgile\" using R?"
   ]
  },
  {
   "cell_type": "code",
   "execution_count": 2,
   "id": "29706395",
   "metadata": {},
   "outputs": [
    {
     "data": {
      "text/html": [
       "1"
      ],
      "text/latex": [
       "1"
      ],
      "text/markdown": [
       "1"
      ],
      "text/plain": [
       "[1] 1"
      ]
     },
     "metadata": {},
     "output_type": "display_data"
    }
   ],
   "source": [
    "# Input string\n",
    "input_string <- \"StarAgile\"\n",
    "\n",
    "# Split the input string by whitespace and count the words\n",
    "word_count <- length(strsplit(input_string, \"\\\\s+\")[[1]])\n",
    "word_count"
   ]
  },
  {
   "cell_type": "markdown",
   "id": "0b8038c1",
   "metadata": {},
   "source": [
    "## Question 3: Write a program to check if the given number is an Armstrong number or not using R?"
   ]
  },
  {
   "cell_type": "code",
   "execution_count": 4,
   "id": "1c1b8138",
   "metadata": {},
   "outputs": [
    {
     "name": "stdout",
     "output_type": "stream",
     "text": [
      "371 is an Armstrong number."
     ]
    }
   ],
   "source": [
    "# Function to check if a number is an Armstrong number\n",
    "is_armstrong <- function(n) {\n",
    "  digits <- as.numeric(strsplit(as.character(n), \"\")[[1]])\n",
    "  num_digits <- length(digits)\n",
    "  sum_of_cubes <- sum(digits^num_digits)\n",
    "  return(n == sum_of_cubes)\n",
    "}\n",
    "\n",
    "# Input number\n",
    "input_number <- 371  # Change this number to test different inputs\n",
    "\n",
    "# Check if the input number is an Armstrong number\n",
    "result <- is_armstrong(input_number)\n",
    "if (result) {\n",
    "  cat(input_number, \"is an Armstrong number.\")\n",
    "} else {\n",
    "  cat(input_number, \"is not an Armstrong number.\")\n",
    "}"
   ]
  },
  {
   "cell_type": "code",
   "execution_count": null,
   "id": "f1059b0c",
   "metadata": {},
   "outputs": [],
   "source": []
  }
 ],
 "metadata": {
  "kernelspec": {
   "display_name": "R",
   "language": "R",
   "name": "ir"
  },
  "language_info": {
   "codemirror_mode": "r",
   "file_extension": ".r",
   "mimetype": "text/x-r-source",
   "name": "R",
   "pygments_lexer": "r",
   "version": "3.6.1"
  }
 },
 "nbformat": 4,
 "nbformat_minor": 5
}
